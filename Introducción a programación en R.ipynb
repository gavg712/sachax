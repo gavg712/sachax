{
 "cells": [
  {
   "cell_type": "markdown",
   "metadata": {
    "slideshow": {
     "slide_type": "slide"
    }
   },
   "source": [
    "# Introducción a programación en R\n",
    "Algunas ideas para empezar a programar en lenguaje R\n",
    "\n",
    "**IMPORTANTE!** para buscar ayuda de una función se debe escribir *?nombre_de_funcion*. El cógigo se puede comentar usando el simbolo de numeral *'#'*"
   ]
  },
  {
   "cell_type": "code",
   "execution_count": 1,
   "metadata": {
    "collapsed": false,
    "slideshow": {
     "slide_type": "subslide"
    }
   },
   "outputs": [],
   "source": [
    "#Esto es un comentario antes de la línea de código que muestra la ayuda de la función seq() \n",
    "?seq"
   ]
  },
  {
   "cell_type": "markdown",
   "metadata": {
    "slideshow": {
     "slide_type": "slide"
    }
   },
   "source": [
    "## R se puede usar como calculadora"
   ]
  },
  {
   "cell_type": "markdown",
   "metadata": {
    "slideshow": {
     "slide_type": "subslide"
    }
   },
   "source": [
    "La estructura más básica en R es el \"Vector\". A partir de los vectores se pueden crear estructuras más complejas de varias dimensiones. Un número o letra cualquiera en R es tratado como un vector de un elemento. Y con estos vectores se pueden hacer operaciones (matemáticas en el caso de números y de textos en el caso de cadenas). También se pueden declarar asignar los números a variables, más conocidas en R como objetos. Para asignar valores a una variable se realiza por medio del símbolo *\"<-\"* (como una flecha hacia la izquierda) o tan solo con el signo *\"=\"*\n",
    "\n",
    "Por ejemplo: sumemos los números 5 y 2 de tres formas diferentes."
   ]
  },
  {
   "cell_type": "code",
   "execution_count": 2,
   "metadata": {
    "collapsed": false,
    "scrolled": true,
    "slideshow": {
     "slide_type": "slide"
    }
   },
   "outputs": [
    {
     "data": {
      "text/html": [
       "7"
      ],
      "text/latex": [
       "7"
      ],
      "text/markdown": [
       "7"
      ],
      "text/plain": [
       "[1] 7"
      ]
     },
     "execution_count": 2,
     "metadata": {},
     "output_type": "execute_result"
    },
    {
     "data": {
      "text/html": [
       "7"
      ],
      "text/latex": [
       "7"
      ],
      "text/markdown": [
       "7"
      ],
      "text/plain": [
       "[1] 7"
      ]
     },
     "execution_count": 2,
     "metadata": {},
     "output_type": "execute_result"
    },
    {
     "data": {
      "text/html": [
       "7"
      ],
      "text/latex": [
       "7"
      ],
      "text/markdown": [
       "7"
      ],
      "text/plain": [
       "[1] 7"
      ]
     },
     "execution_count": 2,
     "metadata": {},
     "output_type": "execute_result"
    }
   ],
   "source": [
    "# 1. Operaciones directas con números\n",
    "5 + 2\n",
    "\n",
    "# 2. Operaciones con números declarados como variables\n",
    "x <- 5\n",
    "y <- 2\n",
    "x + y\n",
    "\n",
    "# 3. Operación con los dos números almacenados en una sola variable usando una función\n",
    "\n",
    "numeros <- c(5, 2)\n",
    "sum(numeros)"
   ]
  },
  {
   "cell_type": "markdown",
   "metadata": {
    "slideshow": {
     "slide_type": "slide"
    }
   },
   "source": [
    "#### Operadores especiales de R\n",
    "\n",
    "Al igual que otros lenguajes, R dispone de operadores especiales que le permiten interpretar las sentencias que el usuario escribe. \n",
    "\n",
    "\n",
    "R se basa en las operaciones *\"uno a uno\"*; es decir, si tenemos varios elementos e un vector y los queremos multiplicar por otro vector con la misma cantidad de elementos, la operación será: el elemento i del primer vector con el elemento i del segundo vector."
   ]
  },
  {
   "cell_type": "code",
   "execution_count": 3,
   "metadata": {
    "collapsed": false,
    "slideshow": {
     "slide_type": "subslide"
    }
   },
   "outputs": [
    {
     "data": {
      "text/html": [
       "<ol class=list-inline>\n",
       "\t<li>1</li>\n",
       "\t<li>2</li>\n",
       "\t<li>3</li>\n",
       "\t<li>4</li>\n",
       "\t<li>5</li>\n",
       "</ol>\n"
      ],
      "text/latex": [
       "\\begin{enumerate*}\n",
       "\\item 1\n",
       "\\item 2\n",
       "\\item 3\n",
       "\\item 4\n",
       "\\item 5\n",
       "\\end{enumerate*}\n"
      ],
      "text/markdown": [
       "1. 1\n",
       "2. 2\n",
       "3. 3\n",
       "4. 4\n",
       "5. 5\n",
       "\n",
       "\n"
      ],
      "text/plain": [
       "[1] 1 2 3 4 5"
      ]
     },
     "execution_count": 3,
     "metadata": {},
     "output_type": "execute_result"
    },
    {
     "data": {
      "text/html": [
       "<ol class=list-inline>\n",
       "\t<li>5</li>\n",
       "\t<li>4</li>\n",
       "\t<li>3</li>\n",
       "\t<li>2</li>\n",
       "\t<li>1</li>\n",
       "</ol>\n"
      ],
      "text/latex": [
       "\\begin{enumerate*}\n",
       "\\item 5\n",
       "\\item 4\n",
       "\\item 3\n",
       "\\item 2\n",
       "\\item 1\n",
       "\\end{enumerate*}\n"
      ],
      "text/markdown": [
       "1. 5\n",
       "2. 4\n",
       "3. 3\n",
       "4. 2\n",
       "5. 1\n",
       "\n",
       "\n"
      ],
      "text/plain": [
       "[1] 5 4 3 2 1"
      ]
     },
     "execution_count": 3,
     "metadata": {},
     "output_type": "execute_result"
    }
   ],
   "source": [
    "x2 = 1:5 #Esto es un vector de 5 elementos (es creado con la estructura especial i:n de R)\n",
    "y2 = 5:1 #Esto también es un vector de 5 elementos. Si el inicio es mayor, la secuencia es descendente\n",
    "x2\n",
    "y2"
   ]
  },
  {
   "cell_type": "markdown",
   "metadata": {
    "slideshow": {
     "slide_type": "slide"
    }
   },
   "source": [
    "Las operaciones con vectores de varios elementos también se realizan elemento a elmento. Esto permite operar entre vectores cuya longitudes sean múltiplos entre sí. Ejemplo, una multiplicación de un vector de 5 elementos con otro de 10 elementos. En estos casos, se reusan los valores del vector mas pequeño hasta completar el total del vector más grande. Veamos como funciona con la multiplicación de los vectore $x2$ y $y2$:\n",
    " "
   ]
  },
  {
   "cell_type": "code",
   "execution_count": 4,
   "metadata": {
    "collapsed": false,
    "slideshow": {
     "slide_type": "subslide"
    }
   },
   "outputs": [
    {
     "data": {
      "text/html": [
       "<ol class=list-inline>\n",
       "\t<li>1</li>\n",
       "\t<li>2</li>\n",
       "\t<li>3</li>\n",
       "\t<li>4</li>\n",
       "\t<li>5</li>\n",
       "</ol>\n"
      ],
      "text/latex": [
       "\\begin{enumerate*}\n",
       "\\item 1\n",
       "\\item 2\n",
       "\\item 3\n",
       "\\item 4\n",
       "\\item 5\n",
       "\\end{enumerate*}\n"
      ],
      "text/markdown": [
       "1. 1\n",
       "2. 2\n",
       "3. 3\n",
       "4. 4\n",
       "5. 5\n",
       "\n",
       "\n"
      ],
      "text/plain": [
       "[1] 1 2 3 4 5"
      ]
     },
     "execution_count": 4,
     "metadata": {},
     "output_type": "execute_result"
    },
    {
     "data": {
      "text/html": [
       "<ol class=list-inline>\n",
       "\t<li>15</li>\n",
       "\t<li>14</li>\n",
       "\t<li>13</li>\n",
       "\t<li>12</li>\n",
       "\t<li>11</li>\n",
       "\t<li>10</li>\n",
       "\t<li>9</li>\n",
       "\t<li>8</li>\n",
       "\t<li>7</li>\n",
       "\t<li>6</li>\n",
       "\t<li>5</li>\n",
       "\t<li>4</li>\n",
       "\t<li>3</li>\n",
       "\t<li>2</li>\n",
       "\t<li>1</li>\n",
       "</ol>\n"
      ],
      "text/latex": [
       "\\begin{enumerate*}\n",
       "\\item 15\n",
       "\\item 14\n",
       "\\item 13\n",
       "\\item 12\n",
       "\\item 11\n",
       "\\item 10\n",
       "\\item 9\n",
       "\\item 8\n",
       "\\item 7\n",
       "\\item 6\n",
       "\\item 5\n",
       "\\item 4\n",
       "\\item 3\n",
       "\\item 2\n",
       "\\item 1\n",
       "\\end{enumerate*}\n"
      ],
      "text/markdown": [
       "1. 15\n",
       "2. 14\n",
       "3. 13\n",
       "4. 12\n",
       "5. 11\n",
       "6. 10\n",
       "7. 9\n",
       "8. 8\n",
       "9. 7\n",
       "10. 6\n",
       "11. 5\n",
       "12. 4\n",
       "13. 3\n",
       "14. 2\n",
       "15. 1\n",
       "\n",
       "\n"
      ],
      "text/plain": [
       " [1] 15 14 13 12 11 10  9  8  7  6  5  4  3  2  1"
      ]
     },
     "execution_count": 4,
     "metadata": {},
     "output_type": "execute_result"
    },
    {
     "data": {
      "text/html": [
       "<ol class=list-inline>\n",
       "\t<li>15</li>\n",
       "\t<li>28</li>\n",
       "\t<li>39</li>\n",
       "\t<li>48</li>\n",
       "\t<li>55</li>\n",
       "\t<li>10</li>\n",
       "\t<li>18</li>\n",
       "\t<li>24</li>\n",
       "\t<li>28</li>\n",
       "\t<li>30</li>\n",
       "\t<li>5</li>\n",
       "\t<li>8</li>\n",
       "\t<li>9</li>\n",
       "\t<li>8</li>\n",
       "\t<li>5</li>\n",
       "</ol>\n"
      ],
      "text/latex": [
       "\\begin{enumerate*}\n",
       "\\item 15\n",
       "\\item 28\n",
       "\\item 39\n",
       "\\item 48\n",
       "\\item 55\n",
       "\\item 10\n",
       "\\item 18\n",
       "\\item 24\n",
       "\\item 28\n",
       "\\item 30\n",
       "\\item 5\n",
       "\\item 8\n",
       "\\item 9\n",
       "\\item 8\n",
       "\\item 5\n",
       "\\end{enumerate*}\n"
      ],
      "text/markdown": [
       "1. 15\n",
       "2. 28\n",
       "3. 39\n",
       "4. 48\n",
       "5. 55\n",
       "6. 10\n",
       "7. 18\n",
       "8. 24\n",
       "9. 28\n",
       "10. 30\n",
       "11. 5\n",
       "12. 8\n",
       "13. 9\n",
       "14. 8\n",
       "15. 5\n",
       "\n",
       "\n"
      ],
      "text/plain": [
       " [1] 15 28 39 48 55 10 18 24 28 30  5  8  9  8  5"
      ]
     },
     "execution_count": 4,
     "metadata": {},
     "output_type": "execute_result"
    }
   ],
   "source": [
    "x2 = 1:5\n",
    "x2 # Para mostrar el resultado almacenado en la variable x2\n",
    "\n",
    "y3 = 15:1\n",
    "y3 # Para mostrar el resultado almacenado en la variable y3\n",
    "\n",
    "z = x2 * y3\n",
    "z # Para mostrar el resultado almacenado en la variable z"
   ]
  },
  {
   "cell_type": "markdown",
   "metadata": {
    "slideshow": {
     "slide_type": "slide"
    }
   },
   "source": [
    "Cuando los vectores no tienen longitudes múltiplos entre sí, R realiza la operación de igual manera, pero muestra una advertencia diciendo que los vetores no son múltiplos entre sí. Entonces, el resultado de los últimos valores podría no ser el deseado. Aquí va un ejemplo:"
   ]
  },
  {
   "cell_type": "code",
   "execution_count": 5,
   "metadata": {
    "collapsed": false,
    "slideshow": {
     "slide_type": "subslide"
    }
   },
   "outputs": [
    {
     "data": {
      "text/html": [
       "<ol class=list-inline>\n",
       "\t<li>1</li>\n",
       "\t<li>2</li>\n",
       "\t<li>3</li>\n",
       "\t<li>4</li>\n",
       "\t<li>5</li>\n",
       "\t<li>6</li>\n",
       "\t<li>7</li>\n",
       "\t<li>8</li>\n",
       "\t<li>9</li>\n",
       "\t<li>10</li>\n",
       "\t<li>11</li>\n",
       "\t<li>12</li>\n",
       "\t<li>13</li>\n",
       "\t<li>14</li>\n",
       "\t<li>15</li>\n",
       "</ol>\n"
      ],
      "text/latex": [
       "\\begin{enumerate*}\n",
       "\\item 1\n",
       "\\item 2\n",
       "\\item 3\n",
       "\\item 4\n",
       "\\item 5\n",
       "\\item 6\n",
       "\\item 7\n",
       "\\item 8\n",
       "\\item 9\n",
       "\\item 10\n",
       "\\item 11\n",
       "\\item 12\n",
       "\\item 13\n",
       "\\item 14\n",
       "\\item 15\n",
       "\\end{enumerate*}\n"
      ],
      "text/markdown": [
       "1. 1\n",
       "2. 2\n",
       "3. 3\n",
       "4. 4\n",
       "5. 5\n",
       "6. 6\n",
       "7. 7\n",
       "8. 8\n",
       "9. 9\n",
       "10. 10\n",
       "11. 11\n",
       "12. 12\n",
       "13. 13\n",
       "14. 14\n",
       "15. 15\n",
       "\n",
       "\n"
      ],
      "text/plain": [
       " [1]  1  2  3  4  5  6  7  8  9 10 11 12 13 14 15"
      ]
     },
     "execution_count": 5,
     "metadata": {},
     "output_type": "execute_result"
    },
    {
     "name": "stderr",
     "output_type": "stream",
     "text": [
      "Warning message:\n",
      "In x3 * y2: longer object length is not a multiple of shorter object length"
     ]
    },
    {
     "data": {
      "text/html": [
       "<ol class=list-inline>\n",
       "\t<li>1</li>\n",
       "\t<li>4</li>\n",
       "\t<li>9</li>\n",
       "\t<li>16</li>\n",
       "\t<li>5</li>\n",
       "\t<li>12</li>\n",
       "\t<li>21</li>\n",
       "\t<li>32</li>\n",
       "\t<li>9</li>\n",
       "\t<li>20</li>\n",
       "\t<li>33</li>\n",
       "\t<li>48</li>\n",
       "\t<li>13</li>\n",
       "\t<li>28</li>\n",
       "\t<li>45</li>\n",
       "</ol>\n"
      ],
      "text/latex": [
       "\\begin{enumerate*}\n",
       "\\item 1\n",
       "\\item 4\n",
       "\\item 9\n",
       "\\item 16\n",
       "\\item 5\n",
       "\\item 12\n",
       "\\item 21\n",
       "\\item 32\n",
       "\\item 9\n",
       "\\item 20\n",
       "\\item 33\n",
       "\\item 48\n",
       "\\item 13\n",
       "\\item 28\n",
       "\\item 45\n",
       "\\end{enumerate*}\n"
      ],
      "text/markdown": [
       "1. 1\n",
       "2. 4\n",
       "3. 9\n",
       "4. 16\n",
       "5. 5\n",
       "6. 12\n",
       "7. 21\n",
       "8. 32\n",
       "9. 9\n",
       "10. 20\n",
       "11. 33\n",
       "12. 48\n",
       "13. 13\n",
       "14. 28\n",
       "15. 45\n",
       "\n",
       "\n"
      ],
      "text/plain": [
       " [1]  1  4  9 16  5 12 21 32  9 20 33 48 13 28 45"
      ]
     },
     "execution_count": 5,
     "metadata": {},
     "output_type": "execute_result"
    }
   ],
   "source": [
    "# Operaciones con vectores de diferente longitud pero no múltiplos entre ellos.\n",
    "x3 = 1:15\n",
    "x3\n",
    "y2 = 1:4\n",
    "x3 * y2 "
   ]
  },
  {
   "cell_type": "markdown",
   "metadata": {
    "slideshow": {
     "slide_type": "slide"
    }
   },
   "source": [
    "Los textos también se pueden almacenar como vectores y asignar a variables. El tipo de dato en este caso será un *character* (Ya veremos los diferentes tipos de datos usados en R)."
   ]
  },
  {
   "cell_type": "code",
   "execution_count": 6,
   "metadata": {
    "collapsed": false,
    "slideshow": {
     "slide_type": "subslide"
    }
   },
   "outputs": [
    {
     "data": {
      "text/html": [
       "'Elefante se balanceaba sobre la tela de una araña'"
      ],
      "text/latex": [
       "'Elefante se balanceaba sobre la tela de una araña'"
      ],
      "text/markdown": [
       "'Elefante se balanceaba sobre la tela de una araña'"
      ],
      "text/plain": [
       "[1] \"Elefante se balanceaba sobre la tela de una araña\""
      ]
     },
     "execution_count": 6,
     "metadata": {},
     "output_type": "execute_result"
    }
   ],
   "source": [
    "#esto es una cadena\n",
    "cadena = 'Elefante se balanceaba sobre la tela de una araña'\n",
    "cadena"
   ]
  },
  {
   "cell_type": "markdown",
   "metadata": {
    "slideshow": {
     "slide_type": "slide"
    }
   },
   "source": [
    "Existen funciones con las cuales también se puede ejecutar tareas con vectores de caracteres. Por ejemplo si a cada valor de la variable $x3$ le queremos agregar el contenido de la variable $cadena$ se puede usar la función paste, lo cual daría como resultado lo siguiente:"
   ]
  },
  {
   "cell_type": "code",
   "execution_count": 7,
   "metadata": {
    "collapsed": false,
    "slideshow": {
     "slide_type": "subslide"
    }
   },
   "outputs": [
    {
     "data": {
      "text/html": [
       "<ol class=list-inline>\n",
       "\t<li>'1 Elefante se balanceaba sobre la tela de una araña'</li>\n",
       "\t<li>'2 Elefante se balanceaba sobre la tela de una araña'</li>\n",
       "\t<li>'3 Elefante se balanceaba sobre la tela de una araña'</li>\n",
       "\t<li>'4 Elefante se balanceaba sobre la tela de una araña'</li>\n",
       "\t<li>'5 Elefante se balanceaba sobre la tela de una araña'</li>\n",
       "\t<li>'6 Elefante se balanceaba sobre la tela de una araña'</li>\n",
       "\t<li>'7 Elefante se balanceaba sobre la tela de una araña'</li>\n",
       "\t<li>'8 Elefante se balanceaba sobre la tela de una araña'</li>\n",
       "\t<li>'9 Elefante se balanceaba sobre la tela de una araña'</li>\n",
       "\t<li>'10 Elefante se balanceaba sobre la tela de una araña'</li>\n",
       "\t<li>'11 Elefante se balanceaba sobre la tela de una araña'</li>\n",
       "\t<li>'12 Elefante se balanceaba sobre la tela de una araña'</li>\n",
       "\t<li>'13 Elefante se balanceaba sobre la tela de una araña'</li>\n",
       "\t<li>'14 Elefante se balanceaba sobre la tela de una araña'</li>\n",
       "\t<li>'15 Elefante se balanceaba sobre la tela de una araña'</li>\n",
       "</ol>\n"
      ],
      "text/latex": [
       "\\begin{enumerate*}\n",
       "\\item '1 Elefante se balanceaba sobre la tela de una araña'\n",
       "\\item '2 Elefante se balanceaba sobre la tela de una araña'\n",
       "\\item '3 Elefante se balanceaba sobre la tela de una araña'\n",
       "\\item '4 Elefante se balanceaba sobre la tela de una araña'\n",
       "\\item '5 Elefante se balanceaba sobre la tela de una araña'\n",
       "\\item '6 Elefante se balanceaba sobre la tela de una araña'\n",
       "\\item '7 Elefante se balanceaba sobre la tela de una araña'\n",
       "\\item '8 Elefante se balanceaba sobre la tela de una araña'\n",
       "\\item '9 Elefante se balanceaba sobre la tela de una araña'\n",
       "\\item '10 Elefante se balanceaba sobre la tela de una araña'\n",
       "\\item '11 Elefante se balanceaba sobre la tela de una araña'\n",
       "\\item '12 Elefante se balanceaba sobre la tela de una araña'\n",
       "\\item '13 Elefante se balanceaba sobre la tela de una araña'\n",
       "\\item '14 Elefante se balanceaba sobre la tela de una araña'\n",
       "\\item '15 Elefante se balanceaba sobre la tela de una araña'\n",
       "\\end{enumerate*}\n"
      ],
      "text/markdown": [
       "1. '1 Elefante se balanceaba sobre la tela de una araña'\n",
       "2. '2 Elefante se balanceaba sobre la tela de una araña'\n",
       "3. '3 Elefante se balanceaba sobre la tela de una araña'\n",
       "4. '4 Elefante se balanceaba sobre la tela de una araña'\n",
       "5. '5 Elefante se balanceaba sobre la tela de una araña'\n",
       "6. '6 Elefante se balanceaba sobre la tela de una araña'\n",
       "7. '7 Elefante se balanceaba sobre la tela de una araña'\n",
       "8. '8 Elefante se balanceaba sobre la tela de una araña'\n",
       "9. '9 Elefante se balanceaba sobre la tela de una araña'\n",
       "10. '10 Elefante se balanceaba sobre la tela de una araña'\n",
       "11. '11 Elefante se balanceaba sobre la tela de una araña'\n",
       "12. '12 Elefante se balanceaba sobre la tela de una araña'\n",
       "13. '13 Elefante se balanceaba sobre la tela de una araña'\n",
       "14. '14 Elefante se balanceaba sobre la tela de una araña'\n",
       "15. '15 Elefante se balanceaba sobre la tela de una araña'\n",
       "\n",
       "\n"
      ],
      "text/plain": [
       " [1] \"1 Elefante se balanceaba sobre la tela de una araña\" \n",
       " [2] \"2 Elefante se balanceaba sobre la tela de una araña\" \n",
       " [3] \"3 Elefante se balanceaba sobre la tela de una araña\" \n",
       " [4] \"4 Elefante se balanceaba sobre la tela de una araña\" \n",
       " [5] \"5 Elefante se balanceaba sobre la tela de una araña\" \n",
       " [6] \"6 Elefante se balanceaba sobre la tela de una araña\" \n",
       " [7] \"7 Elefante se balanceaba sobre la tela de una araña\" \n",
       " [8] \"8 Elefante se balanceaba sobre la tela de una araña\" \n",
       " [9] \"9 Elefante se balanceaba sobre la tela de una araña\" \n",
       "[10] \"10 Elefante se balanceaba sobre la tela de una araña\"\n",
       "[11] \"11 Elefante se balanceaba sobre la tela de una araña\"\n",
       "[12] \"12 Elefante se balanceaba sobre la tela de una araña\"\n",
       "[13] \"13 Elefante se balanceaba sobre la tela de una araña\"\n",
       "[14] \"14 Elefante se balanceaba sobre la tela de una araña\"\n",
       "[15] \"15 Elefante se balanceaba sobre la tela de una araña\""
      ]
     },
     "execution_count": 7,
     "metadata": {},
     "output_type": "execute_result"
    }
   ],
   "source": [
    "# Combinar vectores como caracteres\n",
    "paste(x3, cadena)\n",
    "\n",
    "# Los valores numéricos del vector x3 se convierten internamente en caracteres que se pueden juntar a los caracteres del objeto 'cadena'"
   ]
  },
  {
   "cell_type": "markdown",
   "metadata": {
    "slideshow": {
     "slide_type": "slide"
    }
   },
   "source": [
    "### Objetos y tipos de datos en R\n",
    "Los objetos en R son las variables declaradas mediante cualquiera de los operadores de asignación (*'<-'* o *'='*). Ya habíamos empleado estos operadores para asignar los ejemplos anteriores. Aunque ambos operadores funcionan bien, se ha extendido el uso del operador *'<-'* para evitar confundir con el operador de comparación *'=='* (se comentará al respecto en su tiempo).\n",
    "\n",
    "En R se manejan diferentes tipos de estructuras de datos (Wickham, 2014):\n",
    "\n",
    "|Dimensiones|Homogeneos|Heterogeneos\n",
    "|:-----|:-----|:-----|\n",
    "|1 dim|vector|Lista|\n",
    "|2 dim|Matriz|Data frame|\n",
    "|n dim|Arreglos| |\n",
    "\n",
    "Estas formas básicas de estructuras de datos permiten construir objetos más completos como las *Formulas, Expresiones, Funciones*, y otros más complejos..."
   ]
  },
  {
   "cell_type": "markdown",
   "metadata": {
    "slideshow": {
     "slide_type": "slide"
    }
   },
   "source": [
    "Dentro de las estructuras pueden usar diferentes tipos de datos, por ejemplo:\n",
    "\n",
    "|Tipo de dato|Ejemplo|Vector|Lista|Matriz|Data frame|Arreglo|\n",
    "|:-----|:-----:|:-----:|:-----:|:-----:|:-----:|:-----:|\n",
    "|Números enteros|1, 2, 3|x|x|x|x|x|\n",
    "|Números reales|0.1, 0.5,|x|x|x|x|x|\n",
    "|Números complejos|3+2i|x|x|x|x|x|\n",
    "|Booleanos|TRUE, FALSE|x|x|x|x|x|\n",
    "|Caracteres|'Textos'|x|x||x||\n",
    "|Fecha|2001-04-03|x|x||x||\n",
    "|Fecha y tiempo|'2016-01-01 23:00'|x|x||x||"
   ]
  },
  {
   "cell_type": "code",
   "execution_count": 8,
   "metadata": {
    "collapsed": true,
    "slideshow": {
     "slide_type": "slide"
    }
   },
   "outputs": [],
   "source": [
    "# Vectores se crean con la funcion c(). \n",
    "#Otras funciones también producen como resultado vectores, por ejemplo la función seq()\n",
    "enteros <- c(1L,4L,5L,3L)\n",
    "reales <- c(0,0.5,1.2,1.3)\n",
    "complejos <- c(1+0i, 3+2i, 5+1i, 3+1i)\n",
    "booleanos <- c(TRUE, FALSE, FALSE, T)\n",
    "caracteres <- c('Alex', 'Carlos', 'Manuel','Andrés')\n",
    "fecha <- c(as.Date('2001-04-03','2005-05-01','2016-03-28','2015-12-31', format = '%Y-%m-%d'))\n",
    "fecha_tiempo <- c(seq(as.POSIXct('2016-01-01'), as.POSIXct('2016-01-01 23:00'), by = '6 hour'))"
   ]
  },
  {
   "cell_type": "code",
   "execution_count": 9,
   "metadata": {
    "collapsed": false,
    "slideshow": {
     "slide_type": "slide"
    }
   },
   "outputs": [
    {
     "name": "stdout",
     "output_type": "stream",
     "text": [
      "List of 7\n",
      " $ : int [1:4] 1 4 5 3\n",
      " $ : num [1:4] 0 0.5 1.2 1.3\n",
      " $ : cplx [1:4] 1+0i 3+2i 5+1i ...\n",
      " $ : logi [1:4] TRUE FALSE FALSE TRUE\n",
      " $ : chr [1:4] \"Alex\" \"Carlos\" \"Manuel\" \"Andrés\"\n",
      " $ : Date[1:1], format: \"2001-04-03\"\n",
      " $ : POSIXct[1:4], format: \"2016-01-01 00:00:00\" \"2016-01-01 06:00:00\" ...\n"
     ]
    }
   ],
   "source": [
    "# Listas se crean con la función list()\n",
    "lista <- list(enteros, reales, complejos, booleanos, caracteres, fecha, fecha_tiempo)\n",
    "str(lista) # la función str() permite consultar el tipo de estructura y dato almacenado en un objeto."
   ]
  },
  {
   "cell_type": "code",
   "execution_count": 10,
   "metadata": {
    "collapsed": false,
    "slideshow": {
     "slide_type": "slide"
    }
   },
   "outputs": [
    {
     "data": {
      "text/html": [
       "<ol class=list-inline>\n",
       "\t<li>1</li>\n",
       "\t<li>2</li>\n",
       "\t<li>3</li>\n",
       "\t<li>4</li>\n",
       "\t<li>5</li>\n",
       "\t<li>6</li>\n",
       "\t<li>7</li>\n",
       "\t<li>8</li>\n",
       "\t<li>9</li>\n",
       "\t<li>10</li>\n",
       "\t<li>11</li>\n",
       "\t<li>12</li>\n",
       "\t<li>13</li>\n",
       "\t<li>14</li>\n",
       "\t<li>15</li>\n",
       "\t<li>1</li>\n",
       "\t<li>2</li>\n",
       "\t<li>3</li>\n",
       "</ol>\n"
      ],
      "text/latex": [
       "\\begin{enumerate*}\n",
       "\\item 1\n",
       "\\item 2\n",
       "\\item 3\n",
       "\\item 4\n",
       "\\item 5\n",
       "\\item 6\n",
       "\\item 7\n",
       "\\item 8\n",
       "\\item 9\n",
       "\\item 10\n",
       "\\item 11\n",
       "\\item 12\n",
       "\\item 13\n",
       "\\item 14\n",
       "\\item 15\n",
       "\\item 1\n",
       "\\item 2\n",
       "\\item 3\n",
       "\\end{enumerate*}\n"
      ],
      "text/markdown": [
       "1. 1\n",
       "2. 2\n",
       "3. 3\n",
       "4. 4\n",
       "5. 5\n",
       "6. 6\n",
       "7. 7\n",
       "8. 8\n",
       "9. 9\n",
       "10. 10\n",
       "11. 11\n",
       "12. 12\n",
       "13. 13\n",
       "14. 14\n",
       "15. 15\n",
       "16. 1\n",
       "17. 2\n",
       "18. 3\n",
       "\n",
       "\n"
      ],
      "text/plain": [
       ", , 1\n",
       "\n",
       "     [,1] [,2] [,3]\n",
       "[1,]    1    4    7\n",
       "[2,]    2    5    8\n",
       "[3,]    3    6    9\n",
       "\n",
       ", , 2\n",
       "\n",
       "     [,1] [,2] [,3]\n",
       "[1,]   10   13    1\n",
       "[2,]   11   14    2\n",
       "[3,]   12   15    3\n"
      ]
     },
     "execution_count": 10,
     "metadata": {},
     "output_type": "execute_result"
    }
   ],
   "source": [
    "# Arreglos se crean con al función array()\n",
    "mi_arreglo <- array(x3, dim=c(3,3,2))\n",
    "mi_arreglo"
   ]
  },
  {
   "cell_type": "code",
   "execution_count": 11,
   "metadata": {
    "collapsed": false,
    "slideshow": {
     "slide_type": "slide"
    }
   },
   "outputs": [
    {
     "data": {
      "text/html": [
       "<table>\n",
       "<tbody>\n",
       "\t<tr><td> 1</td><td> 4</td><td> 7</td><td>10</td><td>13</td></tr>\n",
       "\t<tr><td> 2</td><td> 5</td><td> 8</td><td>11</td><td>14</td></tr>\n",
       "\t<tr><td> 3</td><td> 6</td><td> 9</td><td>12</td><td>15</td></tr>\n",
       "</tbody>\n",
       "</table>\n"
      ],
      "text/latex": [
       "\\begin{tabular}{lllll}\n",
       "\t  1 &  4 &  7 & 10 & 13\\\\\n",
       "\t  2 &  5 &  8 & 11 & 14\\\\\n",
       "\t  3 &  6 &  9 & 12 & 15\\\\\n",
       "\\end{tabular}\n"
      ],
      "text/markdown": [
       "1. 1\n",
       "2. 2\n",
       "3. 3\n",
       "4. 4\n",
       "5. 5\n",
       "6. 6\n",
       "7. 7\n",
       "8. 8\n",
       "9. 9\n",
       "10. 10\n",
       "11. 11\n",
       "12. 12\n",
       "13. 13\n",
       "14. 14\n",
       "15. 15\n",
       "\n",
       "\n"
      ],
      "text/plain": [
       "     [,1] [,2] [,3] [,4] [,5]\n",
       "[1,]    1    4    7   10   13\n",
       "[2,]    2    5    8   11   14\n",
       "[3,]    3    6    9   12   15"
      ]
     },
     "execution_count": 11,
     "metadata": {},
     "output_type": "execute_result"
    },
    {
     "data": {
      "text/html": [
       "<table>\n",
       "<tbody>\n",
       "\t<tr><td>1</td><td>2</td><td>3</td><td>4</td><td>5</td></tr>\n",
       "\t<tr><td> 6</td><td> 7</td><td> 8</td><td> 9</td><td>10</td></tr>\n",
       "\t<tr><td>11</td><td>12</td><td>13</td><td>14</td><td>15</td></tr>\n",
       "</tbody>\n",
       "</table>\n"
      ],
      "text/latex": [
       "\\begin{tabular}{lllll}\n",
       "\t 1 & 2 & 3 & 4 & 5\\\\\n",
       "\t  6 &  7 &  8 &  9 & 10\\\\\n",
       "\t 11 & 12 & 13 & 14 & 15\\\\\n",
       "\\end{tabular}\n"
      ],
      "text/markdown": [
       "1. 1\n",
       "2. 6\n",
       "3. 11\n",
       "4. 2\n",
       "5. 7\n",
       "6. 12\n",
       "7. 3\n",
       "8. 8\n",
       "9. 13\n",
       "10. 4\n",
       "11. 9\n",
       "12. 14\n",
       "13. 5\n",
       "14. 10\n",
       "15. 15\n",
       "\n",
       "\n"
      ],
      "text/plain": [
       "     [,1] [,2] [,3] [,4] [,5]\n",
       "[1,]    1    2    3    4    5\n",
       "[2,]    6    7    8    9   10\n",
       "[3,]   11   12   13   14   15"
      ]
     },
     "execution_count": 11,
     "metadata": {},
     "output_type": "execute_result"
    },
    {
     "name": "stderr",
     "output_type": "stream",
     "text": [
      "Warning message:\n",
      "In matrix(1:15, nrow = 4, byrow = T): data length [15] is not a sub-multiple or multiple of the number of rows [4]"
     ]
    },
    {
     "data": {
      "text/html": [
       "<table>\n",
       "<tbody>\n",
       "\t<tr><td>1</td><td>2</td><td>3</td><td>4</td></tr>\n",
       "\t<tr><td>5</td><td>6</td><td>7</td><td>8</td></tr>\n",
       "\t<tr><td> 9</td><td>10</td><td>11</td><td>12</td></tr>\n",
       "\t<tr><td>13</td><td>14</td><td>15</td><td> 1</td></tr>\n",
       "</tbody>\n",
       "</table>\n"
      ],
      "text/latex": [
       "\\begin{tabular}{llll}\n",
       "\t 1 & 2 & 3 & 4\\\\\n",
       "\t 5 & 6 & 7 & 8\\\\\n",
       "\t  9 & 10 & 11 & 12\\\\\n",
       "\t 13 & 14 & 15 &  1\\\\\n",
       "\\end{tabular}\n"
      ],
      "text/markdown": [
       "1. 1\n",
       "2. 5\n",
       "3. 9\n",
       "4. 13\n",
       "5. 2\n",
       "6. 6\n",
       "7. 10\n",
       "8. 14\n",
       "9. 3\n",
       "10. 7\n",
       "11. 11\n",
       "12. 15\n",
       "13. 4\n",
       "14. 8\n",
       "15. 12\n",
       "16. 1\n",
       "\n",
       "\n"
      ],
      "text/plain": [
       "     [,1] [,2] [,3] [,4]\n",
       "[1,]    1    2    3    4\n",
       "[2,]    5    6    7    8\n",
       "[3,]    9   10   11   12\n",
       "[4,]   13   14   15    1"
      ]
     },
     "execution_count": 11,
     "metadata": {},
     "output_type": "execute_result"
    }
   ],
   "source": [
    "# Matrices se crean con la función matrix()\n",
    "matrix(x3, nrow = 3, byrow = F)\n",
    "matrix(x3, nrow = 3, byrow = T)\n",
    "matrix(1:15, nrow = 4, byrow = T) #La secuencia 1:15 no es múltiplo del número de columnas o filas"
   ]
  },
  {
   "cell_type": "code",
   "execution_count": 12,
   "metadata": {
    "collapsed": false,
    "slideshow": {
     "slide_type": "slide"
    }
   },
   "outputs": [
    {
     "name": "stdout",
     "output_type": "stream",
     "text": [
      "'data.frame':\t4 obs. of  7 variables:\n",
      " $ enteros     : int  1 4 5 3\n",
      " $ reales      : num  0 0.5 1.2 1.3\n",
      " $ complejos   : cplx  1+0i 3+2i 5+1i ...\n",
      " $ booleanos   : logi  TRUE FALSE FALSE TRUE\n",
      " $ caracteres  : Factor w/ 4 levels \"Alex\",\"Andrés\",..: 1 3 4 2\n",
      " $ fecha       : Date, format: \"2001-04-03\" \"2001-04-03\" ...\n",
      " $ fecha_tiempo: POSIXct, format: \"2016-01-01 00:00:00\" \"2016-01-01 06:00:00\" ...\n"
     ]
    },
    {
     "data": {
      "text/html": [
       "<table>\n",
       "<thead><tr><th></th><th scope=col>enteros</th><th scope=col>reales</th><th scope=col>complejos</th><th scope=col>booleanos</th><th scope=col>caracteres</th><th scope=col>fecha</th><th scope=col>fecha_tiempo</th></tr></thead>\n",
       "<tbody>\n",
       "\t<tr><th scope=row>1</th><td>1</td><td>0</td><td>1+0i</td><td>TRUE</td><td>Alex</td><td>2001-04-03</td><td>2016-01-01</td></tr>\n",
       "\t<tr><th scope=row>2</th><td>4</td><td>0.5</td><td>3+2i</td><td>FALSE</td><td>Carlos</td><td>2001-04-03</td><td>2016-01-01 06:00:00</td></tr>\n",
       "\t<tr><th scope=row>3</th><td>5</td><td>1.2</td><td>5+1i</td><td>FALSE</td><td>Manuel</td><td>2001-04-03</td><td>2016-01-01 12:00:00</td></tr>\n",
       "\t<tr><th scope=row>4</th><td>3</td><td>1.3</td><td>3+1i</td><td>TRUE</td><td>Andrés</td><td>2001-04-03</td><td>2016-01-01 18:00:00</td></tr>\n",
       "</tbody>\n",
       "</table>\n"
      ],
      "text/latex": [
       "\\begin{tabular}{r|lllllll}\n",
       "  & enteros & reales & complejos & booleanos & caracteres & fecha & fecha_tiempo\\\\\n",
       "\\hline\n",
       "\t1 & 1 & 0 & 1+0i & TRUE & Alex & 2001-04-03 & 2016-01-01\\\\\n",
       "\t2 & 4 & 0.5 & 3+2i & FALSE & Carlos & 2001-04-03 & 2016-01-01 06:00:00\\\\\n",
       "\t3 & 5 & 1.2 & 5+1i & FALSE & Manuel & 2001-04-03 & 2016-01-01 12:00:00\\\\\n",
       "\t4 & 3 & 1.3 & 3+1i & TRUE & Andrés & 2001-04-03 & 2016-01-01 18:00:00\\\\\n",
       "\\end{tabular}\n"
      ],
      "text/plain": [
       "  enteros reales complejos booleanos caracteres      fecha        fecha_tiempo\n",
       "1       1    0.0      1+0i      TRUE       Alex 2001-04-03 2016-01-01 00:00:00\n",
       "2       4    0.5      3+2i     FALSE     Carlos 2001-04-03 2016-01-01 06:00:00\n",
       "3       5    1.2      5+1i     FALSE     Manuel 2001-04-03 2016-01-01 12:00:00\n",
       "4       3    1.3      3+1i      TRUE     Andrés 2001-04-03 2016-01-01 18:00:00"
      ]
     },
     "execution_count": 12,
     "metadata": {},
     "output_type": "execute_result"
    }
   ],
   "source": [
    "# Data frames se crean con la función data.frame()\n",
    "data_frame <- data.frame(enteros, reales, complejos, booleanos, caracteres, fecha, fecha_tiempo)\n",
    "str(data_frame)\n",
    "data_frame"
   ]
  },
  {
   "cell_type": "code",
   "execution_count": 13,
   "metadata": {
    "collapsed": false,
    "slideshow": {
     "slide_type": "slide"
    }
   },
   "outputs": [
    {
     "name": "stdout",
     "output_type": "stream",
     "text": [
      "Class 'formula' length 3 ordenada ~ abcisa^3 + abcisa^2 + abcisa + 0.5\n",
      "  ..- attr(*, \".Environment\")=<environment: R_GlobalEnv> \n"
     ]
    },
    {
     "data": {
      "text/plain": [
       "ordenada ~ abcisa^3 + abcisa^2 + abcisa + 0.5"
      ]
     },
     "execution_count": 13,
     "metadata": {},
     "output_type": "execute_result"
    }
   ],
   "source": [
    "# Formulas se usan como instrucciones de cálculo\n",
    "mi_formula <- formula(ordenada ~ abcisa^3+ abcisa^2 + abcisa + 0.5)\n",
    "str(mi_formula)\n",
    "mi_formula"
   ]
  },
  {
   "cell_type": "code",
   "execution_count": 14,
   "metadata": {
    "collapsed": false,
    "slideshow": {
     "slide_type": "slide"
    }
   },
   "outputs": [
    {
     "name": "stdout",
     "output_type": "stream",
     "text": [
      "\n",
      "Esta es la estructura de la expresión...\n",
      "\n",
      "  expression(abcisa^3 + abcisa^2 + abcisa + 0.5)\n"
     ]
    }
   ],
   "source": [
    "# Expresionesse usan para mostrar el resultado en forma matemática\n",
    "mi_expresion <- expression(abcisa^3+ abcisa^2 + abcisa + 0.5)\n",
    "\n",
    "cat('\\nEsta es la estructura de la expresión...\\n\\n')\n",
    "str(mi_expresion)"
   ]
  },
  {
   "cell_type": "markdown",
   "metadata": {
    "slideshow": {
     "slide_type": "slide"
    }
   },
   "source": [
    "Así es como se muestra el resultado interpretado\n",
    "$$abcisa^3 + abcisa^2 + abcisa + 0.5$$"
   ]
  },
  {
   "cell_type": "code",
   "execution_count": 15,
   "metadata": {
    "collapsed": false,
    "slideshow": {
     "slide_type": "slide"
    }
   },
   "outputs": [
    {
     "data": {
      "text/html": [
       "15"
      ],
      "text/latex": [
       "15"
      ],
      "text/markdown": [
       "15"
      ],
      "text/plain": [
       "[1] 15"
      ]
     },
     "execution_count": 15,
     "metadata": {},
     "output_type": "execute_result"
    }
   ],
   "source": [
    "# R permite programar nuestros propios procedimientos y declararlos como objetos con mediante \"function()\n",
    "\n",
    "my_funcion <- function(base, altura){\n",
    "    #procedimiento para calcular el área de un triángulo\n",
    "    return((base * altura)/2)\n",
    "}\n",
    "\n",
    "my_funcion(5,6) #Usar la función que programamos para calcular el área de un triángulo de base 5 y altura 6"
   ]
  },
  {
   "cell_type": "markdown",
   "metadata": {
    "slideshow": {
     "slide_type": "slide"
    }
   },
   "source": [
    "### Gráficos básicos\n",
    "\n",
    "Una de las fortalezas de R (aparte de la estadística) es la generación de gráficos complejos. Existen muchísimas opciones para mostrar los datos en forma de gráfico. El gráfico más básico muestra una vector numerico en forma de puntos; donde los elementos vector se grafican como la serie ordenada y la posición de cada elemento en el vector se emplea como la abcisa. Veamos con ejemplos:"
   ]
  },
  {
   "cell_type": "code",
   "execution_count": null,
   "metadata": {
    "collapsed": true,
    "slideshow": {
     "slide_type": "slide"
    }
   },
   "outputs": [],
   "source": [
    "options(repr.plot.width = 5) #Esto solo es para hacer más pequeñas las imágenes en el Notebook de Júpiter\n",
    "options(repr.plot.height = 3.5) #Esto solo es para hacer más pequeñas las imágenes en el Notebook de Júpiter\n",
    "\n",
    "#La función plot(), requiere al menos un vector x\n",
    "serie = seq(1,10,by= 0.25) #la función seq() crea un vector ordenado de valores en pasos iguales\n",
    "plot(serie, type = 'o') #type = \"o\", es para indicar que se tracen un gráfico de puntos y líneas"
   ]
  },
  {
   "cell_type": "code",
   "execution_count": null,
   "metadata": {
    "collapsed": true,
    "slideshow": {
     "slide_type": "slide"
    }
   },
   "outputs": [],
   "source": [
    "# Ahora un gráfico indicando la abcisa y la ordenada\n",
    "abcisa = serie\n",
    "ordenada = abcisa^3+ abcisa^2 + abcisa + 0.5\n",
    "plot(abcisa, ordenada, type = 'o')"
   ]
  },
  {
   "cell_type": "code",
   "execution_count": 16,
   "metadata": {
    "collapsed": false,
    "slideshow": {
     "slide_type": "slide"
    }
   },
   "outputs": [
    {
     "data": {
      "image/png": "[encoded data removed]",
      "image/svg+xml": [
       "<?xml version=\"1.0\" encoding=\"UTF-8\"?>\n",
       "<svg xmlns=\"http://www.w3.org/2000/svg\" xmlns:xlink=\"http://www.w3.org/1999/xlink\" width=\"360pt\" height=\"252pt\" viewBox=\"0 0 360 252\" version=\"1.1\">\n",
       "<defs>\n",
       "<g>\n",
       "<symbol overflow=\"visible\" id=\"glyph0-0\">\n",
       "<path style=\"stroke:none;\" d=\"\"/>\n",
       "</symbol>\n",
       "<symbol overflow=\"visible\" id=\"glyph0-1\">\n",
       "<path style=\"stroke:none;\" d=\"M 6.21875 -4.21875 C 6.21875 -7.171875 5.140625 -8.765625 3.296875 -8.765625 C 1.46875 -8.765625 0.375 -7.15625 0.375 -4.296875 C 0.375 -1.421875 1.46875 0.1875 3.296875 0.1875 C 5.09375 0.1875 6.21875 -1.421875 6.21875 -4.21875 Z M 4.859375 -4.3125 C 4.859375 -1.90625 4.453125 -0.953125 3.28125 -0.953125 C 2.15625 -0.953125 1.734375 -1.953125 1.734375 -4.28125 C 1.734375 -6.609375 2.15625 -7.578125 3.296875 -7.578125 C 4.4375 -7.578125 4.859375 -6.59375 4.859375 -4.3125 Z M 4.859375 -4.3125 \"/>\n",
       "</symbol>\n",
       "<symbol overflow=\"visible\" id=\"glyph0-2\">\n",
       "<path style=\"stroke:none;\" d=\"M 6.28125 -2.953125 C 6.28125 -4.625 5.046875 -5.875 3.40625 -5.875 C 2.8125 -5.875 2.21875 -5.671875 2.015625 -5.515625 L 2.28125 -7.28125 L 5.84375 -7.28125 L 5.84375 -8.59375 L 1.203125 -8.59375 L 0.515625 -3.875 L 1.71875 -3.875 C 2.25 -4.5 2.5625 -4.671875 3.21875 -4.671875 C 4.359375 -4.671875 4.9375 -4.0625 4.9375 -2.8125 C 4.9375 -1.578125 4.375 -1.015625 3.21875 -1.015625 C 2.296875 -1.015625 1.859375 -1.359375 1.578125 -2.453125 L 0.25 -2.453125 C 0.625 -0.625 1.734375 0.1875 3.234375 0.1875 C 4.953125 0.1875 6.28125 -1.15625 6.28125 -2.953125 Z M 6.28125 -2.953125 \"/>\n",
       "</symbol>\n",
       "<symbol overflow=\"visible\" id=\"glyph0-3\">\n",
       "<path style=\"stroke:none;\" d=\"M 4.296875 -0.125 L 4.296875 -8.765625 L 3.359375 -8.765625 C 2.953125 -7.328125 2.859375 -7.28125 1.078125 -7.0625 L 1.078125 -6.0625 L 2.96875 -6.0625 L 2.96875 0 L 4.296875 0 Z M 4.296875 -0.125 \"/>\n",
       "</symbol>\n",
       "<symbol overflow=\"visible\" id=\"glyph0-4\">\n",
       "<path style=\"stroke:none;\" d=\"M 6.265625 -6.140625 C 6.265625 -7.578125 5.015625 -8.765625 3.40625 -8.765625 C 1.671875 -8.765625 0.515625 -7.75 0.453125 -5.5625 L 1.78125 -5.5625 C 1.875 -7.109375 2.328125 -7.578125 3.375 -7.578125 C 4.328125 -7.578125 4.90625 -7.03125 4.90625 -6.125 C 4.90625 -5.453125 4.546875 -4.96875 3.796875 -4.53125 L 2.6875 -3.90625 C 0.90625 -2.90625 0.359375 -2 0.25 0 L 6.203125 0 L 6.203125 -1.3125 L 1.75 -1.3125 C 1.84375 -1.875 2.1875 -2.21875 3.234375 -2.828125 L 4.421875 -3.484375 C 5.609375 -4.109375 6.265625 -5.09375 6.265625 -6.140625 Z M 6.265625 -6.140625 \"/>\n",
       "</symbol>\n",
       "<symbol overflow=\"visible\" id=\"glyph0-5\">\n",
       "<path style=\"stroke:none;\" d=\"M 6.203125 -2.609375 C 6.203125 -3.640625 5.65625 -4.375 4.625 -4.71875 L 4.625 -4.453125 C 5.421875 -4.765625 5.953125 -5.453125 5.953125 -6.296875 C 5.953125 -7.765625 4.84375 -8.765625 3.234375 -8.765625 C 1.515625 -8.765625 0.453125 -7.703125 0.421875 -5.765625 L 1.75 -5.765625 C 1.78125 -7.15625 2.15625 -7.578125 3.234375 -7.578125 C 4.171875 -7.578125 4.59375 -7.15625 4.59375 -6.265625 C 4.59375 -5.359375 4.34375 -5.109375 2.515625 -5.109375 L 2.515625 -3.953125 L 3.234375 -3.953125 C 4.390625 -3.953125 4.84375 -3.546875 4.84375 -2.59375 C 4.84375 -1.53125 4.328125 -1.015625 3.234375 -1.015625 C 2.078125 -1.015625 1.640625 -1.46875 1.5625 -2.828125 L 0.234375 -2.828125 C 0.375 -0.796875 1.453125 0.1875 3.1875 0.1875 C 4.9375 0.1875 6.203125 -1 6.203125 -2.609375 Z M 6.203125 -2.609375 \"/>\n",
       "</symbol>\n",
       "<symbol overflow=\"visible\" id=\"glyph0-6\">\n",
       "<path style=\"stroke:none;\" d=\"M 2.453125 -0.125 L 2.453125 -9.015625 L 1.0625 -9.015625 L 1.0625 0 L 2.453125 0 Z M 2.453125 -0.125 \"/>\n",
       "</symbol>\n",
       "<symbol overflow=\"visible\" id=\"glyph0-7\">\n",
       "<path style=\"stroke:none;\" d=\"M 5.96875 -0.125 L 5.96875 -4.890625 C 5.96875 -5.921875 5.0625 -6.734375 3.859375 -6.734375 C 2.921875 -6.734375 2.203125 -6.34375 1.65625 -5.453125 L 1.890625 -5.359375 L 1.890625 -6.546875 L 0.703125 -6.546875 L 0.703125 0 L 1.96875 0 L 1.96875 -3.59375 C 1.96875 -4.890625 2.53125 -5.59375 3.546875 -5.59375 C 4.34375 -5.59375 4.703125 -5.25 4.703125 -4.484375 L 4.703125 0 L 5.96875 0 Z M 5.96875 -0.125 \"/>\n",
       "</symbol>\n",
       "<symbol overflow=\"visible\" id=\"glyph0-8\">\n",
       "<path style=\"stroke:none;\" d=\"M 6.078125 -0.125 L 6.078125 -9.015625 L 4.796875 -9.015625 L 4.796875 -5.625 L 5.046875 -5.71875 C 4.625 -6.359375 3.859375 -6.734375 3.015625 -6.734375 C 1.375 -6.734375 0.171875 -5.34375 0.171875 -3.34375 C 0.171875 -1.21875 1.359375 0.1875 3.046875 0.1875 C 3.90625 0.1875 4.609375 -0.1875 5.140625 -0.953125 L 4.90625 -1.0625 L 4.90625 0 L 6.078125 0 Z M 4.796875 -3.25 C 4.796875 -1.796875 4.25 -1.015625 3.1875 -1.015625 C 2.09375 -1.015625 1.484375 -1.8125 1.484375 -3.28125 C 1.484375 -4.734375 2.09375 -5.53125 3.1875 -5.53125 C 4.265625 -5.53125 4.796875 -4.703125 4.796875 -3.25 Z M 4.796875 -3.25 \"/>\n",
       "</symbol>\n",
       "<symbol overflow=\"visible\" id=\"glyph0-9\">\n",
       "<path style=\"stroke:none;\" d=\"M 6.28125 -2.984375 C 6.28125 -3.90625 6.21875 -4.46875 6.03125 -4.9375 C 5.625 -5.96875 4.53125 -6.734375 3.359375 -6.734375 C 1.609375 -6.734375 0.34375 -5.296875 0.34375 -3.234375 C 0.34375 -1.171875 1.578125 0.1875 3.34375 0.1875 C 4.78125 0.1875 5.90625 -0.765625 6.1875 -2.171875 L 4.921875 -2.171875 C 4.59375 -1.21875 4.171875 -1.015625 3.375 -1.015625 C 2.328125 -1.015625 1.6875 -1.546875 1.65625 -2.859375 L 6.28125 -2.859375 Z M 5.1875 -3.78125 C 5.1875 -3.78125 4.984375 -3.921875 4.984375 -3.9375 L 1.6875 -3.9375 C 1.765625 -4.921875 2.34375 -5.546875 3.34375 -5.546875 C 4.328125 -5.546875 4.9375 -4.859375 4.9375 -3.875 Z M 5.1875 -3.78125 \"/>\n",
       "</symbol>\n",
       "<symbol overflow=\"visible\" id=\"glyph0-10\">\n",
       "<path style=\"stroke:none;\" d=\"M 5.765625 -0.234375 L 3.65625 -3.390625 L 5.875 -6.546875 L 4.421875 -6.546875 L 2.96875 -4.375 L 1.53125 -6.546875 L 0.0625 -6.546875 L 2.25 -3.34375 L -0.0625 0 L 1.40625 0 L 2.921875 -2.296875 L 4.4375 0 L 5.921875 0 Z M 5.765625 -0.234375 \"/>\n",
       "</symbol>\n",
       "<symbol overflow=\"visible\" id=\"glyph1-0\">\n",
       "<path style=\"stroke:none;\" d=\"\"/>\n",
       "</symbol>\n",
       "<symbol overflow=\"visible\" id=\"glyph1-1\">\n",
       "<path style=\"stroke:none;\" d=\"M -6.140625 -6.265625 C -7.578125 -6.265625 -8.765625 -5.015625 -8.765625 -3.40625 C -8.765625 -1.671875 -7.75 -0.515625 -5.5625 -0.453125 L -5.5625 -1.78125 C -7.109375 -1.875 -7.578125 -2.328125 -7.578125 -3.375 C -7.578125 -4.328125 -7.03125 -4.90625 -6.125 -4.90625 C -5.453125 -4.90625 -4.96875 -4.546875 -4.53125 -3.796875 L -3.90625 -2.6875 C -2.90625 -0.90625 -2 -0.359375 0 -0.25 L 0 -6.203125 L -1.3125 -6.203125 L -1.3125 -1.75 C -1.875 -1.84375 -2.21875 -2.1875 -2.828125 -3.234375 L -3.484375 -4.421875 C -4.109375 -5.609375 -5.09375 -6.265625 -6.140625 -6.265625 Z M -6.140625 -6.265625 \"/>\n",
       "</symbol>\n",
       "<symbol overflow=\"visible\" id=\"glyph1-2\">\n",
       "<path style=\"stroke:none;\" d=\"M -2.171875 -6.375 L -3.25 -6.375 L -3.25 -5.109375 L -8.765625 -5.109375 L -8.765625 -4.125 L -3.328125 -0.1875 L -2.046875 -0.1875 L -2.046875 -3.78125 L 0 -3.78125 L 0 -5.109375 L -2.046875 -5.109375 L -2.046875 -6.375 Z M -3.25 -3.921875 L -3.25 -1.515625 L -6.75 -4.015625 L -6.84375 -3.78125 L -3.25 -3.78125 Z M -3.25 -3.921875 \"/>\n",
       "</symbol>\n",
       "<symbol overflow=\"visible\" id=\"glyph1-3\">\n",
       "<path style=\"stroke:none;\" d=\"M -2.765625 -6.28125 C -4.359375 -6.28125 -5.5625 -5.078125 -5.5625 -3.546875 C -5.5625 -2.71875 -5.203125 -1.9375 -4.578125 -1.484375 L -4.46875 -1.734375 C -6.546875 -1.734375 -7.578125 -2.28125 -7.578125 -3.484375 C -7.578125 -4.234375 -7.234375 -4.609375 -6.28125 -4.796875 L -6.28125 -6.125 C -7.8125 -5.90625 -8.765625 -4.859375 -8.765625 -3.5625 C -8.765625 -1.578125 -6.96875 -0.375 -4.015625 -0.375 C -1.359375 -0.375 0.1875 -1.421875 0.1875 -3.375 C 0.1875 -4.984375 -1.109375 -6.28125 -2.765625 -6.28125 Z M -2.6875 -4.9375 C -1.625 -4.9375 -1.015625 -4.359375 -1.015625 -3.390625 C -1.015625 -2.40625 -1.65625 -1.78125 -2.75 -1.78125 C -3.796875 -1.78125 -4.359375 -2.375 -4.359375 -3.421875 C -4.359375 -4.4375 -3.828125 -4.9375 -2.6875 -4.9375 Z M -2.6875 -4.9375 \"/>\n",
       "</symbol>\n",
       "<symbol overflow=\"visible\" id=\"glyph1-4\">\n",
       "<path style=\"stroke:none;\" d=\"M -2.53125 -6.28125 C -3.484375 -6.28125 -4.265625 -5.671875 -4.625 -4.953125 C -5.046875 -5.65625 -5.5625 -5.984375 -6.375 -5.984375 C -7.703125 -5.984375 -8.765625 -4.8125 -8.765625 -3.296875 C -8.765625 -1.796875 -7.703125 -0.59375 -6.375 -0.59375 C -5.578125 -0.59375 -5.046875 -0.921875 -4.625 -1.625 C -4.265625 -0.921875 -3.484375 -0.296875 -2.546875 -0.296875 C -0.984375 -0.296875 0.1875 -1.625 0.1875 -3.296875 C 0.1875 -4.984375 -0.984375 -6.28125 -2.53125 -6.28125 Z M -6.34375 -4.625 C -5.5625 -4.625 -5.15625 -4.1875 -5.15625 -3.296875 C -5.15625 -2.40625 -5.5625 -1.953125 -6.359375 -1.953125 C -7.171875 -1.953125 -7.578125 -2.40625 -7.578125 -3.296875 C -7.578125 -4.203125 -7.171875 -4.625 -6.34375 -4.625 Z M -2.515625 -4.9375 C -1.515625 -4.9375 -1.015625 -4.359375 -1.015625 -3.28125 C -1.015625 -2.25 -1.53125 -1.65625 -2.515625 -1.65625 C -3.515625 -1.65625 -4.015625 -2.25 -4.015625 -3.296875 C -4.015625 -4.359375 -3.515625 -4.9375 -2.515625 -4.9375 Z M -2.515625 -4.9375 \"/>\n",
       "</symbol>\n",
       "<symbol overflow=\"visible\" id=\"glyph1-5\">\n",
       "<path style=\"stroke:none;\" d=\"M -0.125 -4.296875 L -8.765625 -4.296875 L -8.765625 -3.359375 C -7.328125 -2.953125 -7.28125 -2.859375 -7.0625 -1.078125 L -6.0625 -1.078125 L -6.0625 -2.96875 L 0 -2.96875 L 0 -4.296875 Z M -0.125 -4.296875 \"/>\n",
       "</symbol>\n",
       "<symbol overflow=\"visible\" id=\"glyph1-6\">\n",
       "<path style=\"stroke:none;\" d=\"M -4.21875 -6.21875 C -7.171875 -6.21875 -8.765625 -5.140625 -8.765625 -3.296875 C -8.765625 -1.46875 -7.15625 -0.375 -4.296875 -0.375 C -1.421875 -0.375 0.1875 -1.46875 0.1875 -3.296875 C 0.1875 -5.09375 -1.421875 -6.21875 -4.21875 -6.21875 Z M -4.3125 -4.859375 C -1.90625 -4.859375 -0.953125 -4.453125 -0.953125 -3.28125 C -0.953125 -2.15625 -1.953125 -1.734375 -4.28125 -1.734375 C -6.609375 -1.734375 -7.578125 -2.15625 -7.578125 -3.296875 C -7.578125 -4.4375 -6.59375 -4.859375 -4.3125 -4.859375 Z M -4.3125 -4.859375 \"/>\n",
       "</symbol>\n",
       "<symbol overflow=\"visible\" id=\"glyph1-7\">\n",
       "<path style=\"stroke:none;\" d=\"M -1.890625 -5.640625 C -2.828125 -5.640625 -3.4375 -4.984375 -3.734375 -3.734375 L -3.953125 -2.765625 C -4.15625 -1.953125 -4.28125 -1.734375 -4.734375 -1.734375 C -5.296875 -1.734375 -5.546875 -2.125 -5.546875 -2.9375 C -5.546875 -3.75 -5.328125 -4.03125 -4.53125 -4.0625 L -4.53125 -5.390625 C -5.90625 -5.375 -6.734375 -4.421875 -6.734375 -2.96875 C -6.734375 -1.515625 -5.84375 -0.421875 -4.6875 -0.421875 C -3.703125 -0.421875 -3.09375 -1.0625 -2.734375 -2.5625 L -2.515625 -3.484375 C -2.34375 -4.1875 -2.265625 -4.3125 -1.8125 -4.3125 C -1.21875 -4.3125 -1.015625 -3.875 -1.015625 -3 C -1.015625 -2.09375 -1.09375 -1.734375 -2.1875 -1.578125 L -2.1875 -0.265625 C -0.59375 -0.3125 0.1875 -1.265625 0.1875 -2.921875 C 0.1875 -4.5 -0.6875 -5.640625 -1.890625 -5.640625 Z M -1.890625 -5.640625 \"/>\n",
       "</symbol>\n",
       "<symbol overflow=\"visible\" id=\"glyph1-8\">\n",
       "<path style=\"stroke:none;\" d=\"M -2.984375 -6.28125 C -3.90625 -6.28125 -4.46875 -6.21875 -4.9375 -6.03125 C -5.96875 -5.625 -6.734375 -4.53125 -6.734375 -3.359375 C -6.734375 -1.609375 -5.296875 -0.34375 -3.234375 -0.34375 C -1.171875 -0.34375 0.1875 -1.578125 0.1875 -3.34375 C 0.1875 -4.78125 -0.765625 -5.90625 -2.171875 -6.1875 L -2.171875 -4.921875 C -1.21875 -4.59375 -1.015625 -4.171875 -1.015625 -3.375 C -1.015625 -2.328125 -1.546875 -1.6875 -2.859375 -1.65625 L -2.859375 -6.28125 Z M -3.78125 -5.1875 C -3.78125 -5.1875 -3.921875 -4.984375 -3.9375 -4.984375 L -3.9375 -1.6875 C -4.921875 -1.765625 -5.546875 -2.34375 -5.546875 -3.34375 C -5.546875 -4.328125 -4.859375 -4.9375 -3.875 -4.9375 Z M -3.78125 -5.1875 \"/>\n",
       "</symbol>\n",
       "<symbol overflow=\"visible\" id=\"glyph1-9\">\n",
       "<path style=\"stroke:none;\" d=\"M -5.546875 -3.984375 L -6.6875 -3.984375 C -6.71875 -3.6875 -6.734375 -3.59375 -6.734375 -3.46875 C -6.734375 -2.8125 -6.3125 -2.21875 -5.375 -1.640625 L -5.28125 -1.890625 L -6.546875 -1.890625 L -6.546875 -0.703125 L 0 -0.703125 L 0 -1.96875 L -3.390625 -1.96875 C -4.8125 -1.96875 -5.390625 -2.296875 -5.40625 -3.984375 Z M -5.546875 -3.984375 \"/>\n",
       "</symbol>\n",
       "<symbol overflow=\"visible\" id=\"glyph1-10\">\n",
       "<path style=\"stroke:none;\" d=\"M -0.125 -1.96875 L -6.546875 -1.96875 L -6.546875 -0.703125 L 0 -0.703125 L 0 -1.96875 Z M -7.375 -2.09375 L -8.75 -2.09375 L -8.75 -0.578125 L -7.234375 -0.578125 L -7.234375 -2.09375 Z M -7.375 -2.09375 \"/>\n",
       "</symbol>\n",
       "</g>\n",
       "</defs>\n",
       "<g id=\"surface37\">\n",
       "<rect x=\"0\" y=\"0\" width=\"360\" height=\"252\" style=\"fill:rgb(100%,100%,100%);fill-opacity:1;stroke:none;\"/>\n",
       "<path style=\"fill:none;stroke-width:0.75;stroke-linecap:round;stroke-linejoin:round;stroke:rgb(0%,0%,0%);stroke-opacity:1;stroke-miterlimit:10;\" d=\"M 69.066406 174.132812 L 76.03125 171.058594 L 82.992188 167.984375 L 89.957031 164.910156 L 96.917969 161.835938 L 103.882812 158.761719 L 110.84375 155.6875 L 117.808594 152.613281 L 124.769531 149.539062 L 131.734375 146.464844 L 138.695312 143.394531 L 145.660156 140.320312 L 152.621094 137.246094 L 159.585938 134.171875 L 166.546875 131.097656 L 173.511719 128.023438 L 180.472656 124.949219 L 187.4375 121.875 L 194.398438 118.800781 L 201.363281 115.726562 L 208.324219 112.652344 L 215.289062 109.578125 L 222.25 106.503906 L 236.179688 100.355469 L 243.140625 97.28125 L 250.105469 94.207031 L 257.066406 91.132812 L 264.03125 88.058594 L 270.992188 84.984375 L 277.957031 81.910156 L 284.917969 78.835938 L 291.882812 75.761719 L 298.84375 72.6875 L 305.808594 69.613281 L 312.769531 66.539062 L 319.734375 63.464844 \"/>\n",
       "<path style=\"fill:none;stroke-width:0.75;stroke-linecap:round;stroke-linejoin:round;stroke:rgb(0%,0%,0%);stroke-opacity:1;stroke-miterlimit:10;\" d=\"M 71.765625 174.132812 C 71.765625 177.734375 66.367188 177.734375 66.367188 174.132812 C 66.367188 170.535156 71.765625 170.535156 71.765625 174.132812 \"/>\n",
       "<path style=\"fill:none;stroke-width:0.75;stroke-linecap:round;stroke-linejoin:round;stroke:rgb(0%,0%,0%);stroke-opacity:1;stroke-miterlimit:10;\" d=\"M 78.730469 171.058594 C 78.730469 174.660156 73.328125 174.660156 73.328125 171.058594 C 73.328125 167.460938 78.730469 167.460938 78.730469 171.058594 \"/>\n",
       "<path style=\"fill:none;stroke-width:0.75;stroke-linecap:round;stroke-linejoin:round;stroke:rgb(0%,0%,0%);stroke-opacity:1;stroke-miterlimit:10;\" d=\"M 85.691406 167.984375 C 85.691406 171.585938 80.292969 171.585938 80.292969 167.984375 C 80.292969 164.386719 85.691406 164.386719 85.691406 167.984375 \"/>\n",
       "<path style=\"fill:none;stroke-width:0.75;stroke-linecap:round;stroke-linejoin:round;stroke:rgb(0%,0%,0%);stroke-opacity:1;stroke-miterlimit:10;\" d=\"M 92.65625 164.910156 C 92.65625 168.511719 87.253906 168.511719 87.253906 164.910156 C 87.253906 161.3125 92.65625 161.3125 92.65625 164.910156 \"/>\n",
       "<path style=\"fill:none;stroke-width:0.75;stroke-linecap:round;stroke-linejoin:round;stroke:rgb(0%,0%,0%);stroke-opacity:1;stroke-miterlimit:10;\" d=\"M 99.617188 161.835938 C 99.617188 165.4375 94.21875 165.4375 94.21875 161.835938 C 94.21875 158.238281 99.617188 158.238281 99.617188 161.835938 \"/>\n",
       "<path style=\"fill:none;stroke-width:0.75;stroke-linecap:round;stroke-linejoin:round;stroke:rgb(0%,0%,0%);stroke-opacity:1;stroke-miterlimit:10;\" d=\"M 106.582031 158.761719 C 106.582031 162.363281 101.179688 162.363281 101.179688 158.761719 C 101.179688 155.164062 106.582031 155.164062 106.582031 158.761719 \"/>\n",
       "<path style=\"fill:none;stroke-width:0.75;stroke-linecap:round;stroke-linejoin:round;stroke:rgb(0%,0%,0%);stroke-opacity:1;stroke-miterlimit:10;\" d=\"M 113.542969 155.6875 C 113.542969 159.289062 108.144531 159.289062 108.144531 155.6875 C 108.144531 152.089844 113.542969 152.089844 113.542969 155.6875 \"/>\n",
       "<path style=\"fill:none;stroke-width:0.75;stroke-linecap:round;stroke-linejoin:round;stroke:rgb(0%,0%,0%);stroke-opacity:1;stroke-miterlimit:10;\" d=\"M 120.507812 152.613281 C 120.507812 156.214844 115.105469 156.214844 115.105469 152.613281 C 115.105469 149.015625 120.507812 149.015625 120.507812 152.613281 \"/>\n",
       "<path style=\"fill:none;stroke-width:0.75;stroke-linecap:round;stroke-linejoin:round;stroke:rgb(0%,0%,0%);stroke-opacity:1;stroke-miterlimit:10;\" d=\"M 127.46875 149.539062 C 127.46875 153.140625 122.070312 153.140625 122.070312 149.539062 C 122.070312 145.941406 127.46875 145.941406 127.46875 149.539062 \"/>\n",
       "<path style=\"fill:none;stroke-width:0.75;stroke-linecap:round;stroke-linejoin:round;stroke:rgb(0%,0%,0%);stroke-opacity:1;stroke-miterlimit:10;\" d=\"M 134.433594 146.464844 C 134.433594 150.066406 129.035156 150.066406 129.035156 146.464844 C 129.035156 142.867188 134.433594 142.867188 134.433594 146.464844 \"/>\n",
       "<path style=\"fill:none;stroke-width:0.75;stroke-linecap:round;stroke-linejoin:round;stroke:rgb(0%,0%,0%);stroke-opacity:1;stroke-miterlimit:10;\" d=\"M 141.394531 143.394531 C 141.394531 146.992188 135.996094 146.992188 135.996094 143.394531 C 135.996094 139.792969 141.394531 139.792969 141.394531 143.394531 \"/>\n",
       "<path style=\"fill:none;stroke-width:0.75;stroke-linecap:round;stroke-linejoin:round;stroke:rgb(0%,0%,0%);stroke-opacity:1;stroke-miterlimit:10;\" d=\"M 148.359375 140.320312 C 148.359375 143.917969 142.960938 143.917969 142.960938 140.320312 C 142.960938 136.71875 148.359375 136.71875 148.359375 140.320312 \"/>\n",
       "<path style=\"fill:none;stroke-width:0.75;stroke-linecap:round;stroke-linejoin:round;stroke:rgb(0%,0%,0%);stroke-opacity:1;stroke-miterlimit:10;\" d=\"M 155.320312 137.246094 C 155.320312 140.84375 149.921875 140.84375 149.921875 137.246094 C 149.921875 133.644531 155.320312 133.644531 155.320312 137.246094 \"/>\n",
       "<path style=\"fill:none;stroke-width:0.75;stroke-linecap:round;stroke-linejoin:round;stroke:rgb(0%,0%,0%);stroke-opacity:1;stroke-miterlimit:10;\" d=\"M 162.285156 134.171875 C 162.285156 137.769531 156.886719 137.769531 156.886719 134.171875 C 156.886719 130.570312 162.285156 130.570312 162.285156 134.171875 \"/>\n",
       "<path style=\"fill:none;stroke-width:0.75;stroke-linecap:round;stroke-linejoin:round;stroke:rgb(0%,0%,0%);stroke-opacity:1;stroke-miterlimit:10;\" d=\"M 169.25 131.097656 C 169.25 134.695312 163.847656 134.695312 163.847656 131.097656 C 163.847656 127.496094 169.25 127.496094 169.25 131.097656 \"/>\n",
       "<path style=\"fill:none;stroke-width:0.75;stroke-linecap:round;stroke-linejoin:round;stroke:rgb(0%,0%,0%);stroke-opacity:1;stroke-miterlimit:10;\" d=\"M 176.210938 128.023438 C 176.210938 131.621094 170.8125 131.621094 170.8125 128.023438 C 170.8125 124.421875 176.210938 124.421875 176.210938 128.023438 \"/>\n",
       "<path style=\"fill:none;stroke-width:0.75;stroke-linecap:round;stroke-linejoin:round;stroke:rgb(0%,0%,0%);stroke-opacity:1;stroke-miterlimit:10;\" d=\"M 183.175781 124.949219 C 183.175781 128.546875 177.773438 128.546875 177.773438 124.949219 C 177.773438 121.347656 183.175781 121.347656 183.175781 124.949219 \"/>\n",
       "<path style=\"fill:none;stroke-width:0.75;stroke-linecap:round;stroke-linejoin:round;stroke:rgb(0%,0%,0%);stroke-opacity:1;stroke-miterlimit:10;\" d=\"M 190.136719 121.875 C 190.136719 125.472656 184.738281 125.472656 184.738281 121.875 C 184.738281 118.273438 190.136719 118.273438 190.136719 121.875 \"/>\n",
       "<path style=\"fill:none;stroke-width:0.75;stroke-linecap:round;stroke-linejoin:round;stroke:rgb(0%,0%,0%);stroke-opacity:1;stroke-miterlimit:10;\" d=\"M 197.101562 118.800781 C 197.101562 122.398438 191.699219 122.398438 191.699219 118.800781 C 191.699219 115.199219 197.101562 115.199219 197.101562 118.800781 \"/>\n",
       "<path style=\"fill:none;stroke-width:0.75;stroke-linecap:round;stroke-linejoin:round;stroke:rgb(0%,0%,0%);stroke-opacity:1;stroke-miterlimit:10;\" d=\"M 204.0625 115.726562 C 204.0625 119.324219 198.664062 119.324219 198.664062 115.726562 C 198.664062 112.125 204.0625 112.125 204.0625 115.726562 \"/>\n",
       "<path style=\"fill:none;stroke-width:0.75;stroke-linecap:round;stroke-linejoin:round;stroke:rgb(0%,0%,0%);stroke-opacity:1;stroke-miterlimit:10;\" d=\"M 211.027344 112.652344 C 211.027344 116.25 205.625 116.25 205.625 112.652344 C 205.625 109.050781 211.027344 109.050781 211.027344 112.652344 \"/>\n",
       "<path style=\"fill:none;stroke-width:0.75;stroke-linecap:round;stroke-linejoin:round;stroke:rgb(0%,0%,0%);stroke-opacity:1;stroke-miterlimit:10;\" d=\"M 217.988281 109.578125 C 217.988281 113.179688 212.589844 113.179688 212.589844 109.578125 C 212.589844 105.976562 217.988281 105.976562 217.988281 109.578125 \"/>\n",
       "<path style=\"fill:none;stroke-width:0.75;stroke-linecap:round;stroke-linejoin:round;stroke:rgb(0%,0%,0%);stroke-opacity:1;stroke-miterlimit:10;\" d=\"M 224.953125 106.503906 C 224.953125 110.105469 219.550781 110.105469 219.550781 106.503906 C 219.550781 102.902344 224.953125 102.902344 224.953125 106.503906 \"/>\n",
       "<path style=\"fill:none;stroke-width:0.75;stroke-linecap:round;stroke-linejoin:round;stroke:rgb(0%,0%,0%);stroke-opacity:1;stroke-miterlimit:10;\" d=\"M 231.914062 103.429688 C 231.914062 107.03125 226.515625 107.03125 226.515625 103.429688 C 226.515625 99.828125 231.914062 99.828125 231.914062 103.429688 \"/>\n",
       "<path style=\"fill:none;stroke-width:0.75;stroke-linecap:round;stroke-linejoin:round;stroke:rgb(0%,0%,0%);stroke-opacity:1;stroke-miterlimit:10;\" d=\"M 238.878906 100.355469 C 238.878906 103.957031 233.476562 103.957031 233.476562 100.355469 C 233.476562 96.753906 238.878906 96.753906 238.878906 100.355469 \"/>\n",
       "<path style=\"fill:none;stroke-width:0.75;stroke-linecap:round;stroke-linejoin:round;stroke:rgb(0%,0%,0%);stroke-opacity:1;stroke-miterlimit:10;\" d=\"M 245.839844 97.28125 C 245.839844 100.882812 240.441406 100.882812 240.441406 97.28125 C 240.441406 93.679688 245.839844 93.679688 245.839844 97.28125 \"/>\n",
       "<path style=\"fill:none;stroke-width:0.75;stroke-linecap:round;stroke-linejoin:round;stroke:rgb(0%,0%,0%);stroke-opacity:1;stroke-miterlimit:10;\" d=\"M 252.804688 94.207031 C 252.804688 97.808594 247.402344 97.808594 247.402344 94.207031 C 247.402344 90.605469 252.804688 90.605469 252.804688 94.207031 \"/>\n",
       "<path style=\"fill:none;stroke-width:0.75;stroke-linecap:round;stroke-linejoin:round;stroke:rgb(0%,0%,0%);stroke-opacity:1;stroke-miterlimit:10;\" d=\"M 259.765625 91.132812 C 259.765625 94.734375 254.367188 94.734375 254.367188 91.132812 C 254.367188 87.535156 259.765625 87.535156 259.765625 91.132812 \"/>\n",
       "<path style=\"fill:none;stroke-width:0.75;stroke-linecap:round;stroke-linejoin:round;stroke:rgb(0%,0%,0%);stroke-opacity:1;stroke-miterlimit:10;\" d=\"M 266.730469 88.058594 C 266.730469 91.660156 261.328125 91.660156 261.328125 88.058594 C 261.328125 84.460938 266.730469 84.460938 266.730469 88.058594 \"/>\n",
       "<path style=\"fill:none;stroke-width:0.75;stroke-linecap:round;stroke-linejoin:round;stroke:rgb(0%,0%,0%);stroke-opacity:1;stroke-miterlimit:10;\" d=\"M 273.691406 84.984375 C 273.691406 88.585938 268.292969 88.585938 268.292969 84.984375 C 268.292969 81.386719 273.691406 81.386719 273.691406 84.984375 \"/>\n",
       "<path style=\"fill:none;stroke-width:0.75;stroke-linecap:round;stroke-linejoin:round;stroke:rgb(0%,0%,0%);stroke-opacity:1;stroke-miterlimit:10;\" d=\"M 280.65625 81.910156 C 280.65625 85.511719 275.253906 85.511719 275.253906 81.910156 C 275.253906 78.3125 280.65625 78.3125 280.65625 81.910156 \"/>\n",
       "<path style=\"fill:none;stroke-width:0.75;stroke-linecap:round;stroke-linejoin:round;stroke:rgb(0%,0%,0%);stroke-opacity:1;stroke-miterlimit:10;\" d=\"M 287.617188 78.835938 C 287.617188 82.4375 282.21875 82.4375 282.21875 78.835938 C 282.21875 75.238281 287.617188 75.238281 287.617188 78.835938 \"/>\n",
       "<path style=\"fill:none;stroke-width:0.75;stroke-linecap:round;stroke-linejoin:round;stroke:rgb(0%,0%,0%);stroke-opacity:1;stroke-miterlimit:10;\" d=\"M 294.582031 75.761719 C 294.582031 79.363281 289.179688 79.363281 289.179688 75.761719 C 289.179688 72.164062 294.582031 72.164062 294.582031 75.761719 \"/>\n",
       "<path style=\"fill:none;stroke-width:0.75;stroke-linecap:round;stroke-linejoin:round;stroke:rgb(0%,0%,0%);stroke-opacity:1;stroke-miterlimit:10;\" d=\"M 301.542969 72.6875 C 301.542969 76.289062 296.144531 76.289062 296.144531 72.6875 C 296.144531 69.089844 301.542969 69.089844 301.542969 72.6875 \"/>\n",
       "<path style=\"fill:none;stroke-width:0.75;stroke-linecap:round;stroke-linejoin:round;stroke:rgb(0%,0%,0%);stroke-opacity:1;stroke-miterlimit:10;\" d=\"M 308.507812 69.613281 C 308.507812 73.214844 303.105469 73.214844 303.105469 69.613281 C 303.105469 66.015625 308.507812 66.015625 308.507812 69.613281 \"/>\n",
       "<path style=\"fill:none;stroke-width:0.75;stroke-linecap:round;stroke-linejoin:round;stroke:rgb(0%,0%,0%);stroke-opacity:1;stroke-miterlimit:10;\" d=\"M 315.46875 66.539062 C 315.46875 70.140625 310.070312 70.140625 310.070312 66.539062 C 310.070312 62.941406 315.46875 62.941406 315.46875 66.539062 \"/>\n",
       "<path style=\"fill:none;stroke-width:0.75;stroke-linecap:round;stroke-linejoin:round;stroke:rgb(0%,0%,0%);stroke-opacity:1;stroke-miterlimit:10;\" d=\"M 322.433594 63.464844 C 322.433594 67.066406 317.035156 67.066406 317.035156 63.464844 C 317.035156 59.867188 322.433594 59.867188 322.433594 63.464844 \"/>\n",
       "<path style=\"fill:none;stroke-width:0.75;stroke-linecap:round;stroke-linejoin:round;stroke:rgb(0%,0%,0%);stroke-opacity:1;stroke-miterlimit:10;\" d=\"M 62.105469 178.558594 L 305.808594 178.558594 \"/>\n",
       "<path style=\"fill:none;stroke-width:0.75;stroke-linecap:round;stroke-linejoin:round;stroke:rgb(0%,0%,0%);stroke-opacity:1;stroke-miterlimit:10;\" d=\"M 62.105469 178.558594 L 62.105469 185.761719 \"/>\n",
       "<path style=\"fill:none;stroke-width:0.75;stroke-linecap:round;stroke-linejoin:round;stroke:rgb(0%,0%,0%);stroke-opacity:1;stroke-miterlimit:10;\" d=\"M 96.917969 178.558594 L 96.917969 185.761719 \"/>\n",
       "<path style=\"fill:none;stroke-width:0.75;stroke-linecap:round;stroke-linejoin:round;stroke:rgb(0%,0%,0%);stroke-opacity:1;stroke-miterlimit:10;\" d=\"M 131.734375 178.558594 L 131.734375 185.761719 \"/>\n",
       "<path style=\"fill:none;stroke-width:0.75;stroke-linecap:round;stroke-linejoin:round;stroke:rgb(0%,0%,0%);stroke-opacity:1;stroke-miterlimit:10;\" d=\"M 166.546875 178.558594 L 166.546875 185.761719 \"/>\n",
       "<path style=\"fill:none;stroke-width:0.75;stroke-linecap:round;stroke-linejoin:round;stroke:rgb(0%,0%,0%);stroke-opacity:1;stroke-miterlimit:10;\" d=\"M 201.363281 178.558594 L 201.363281 185.761719 \"/>\n",
       "<path style=\"fill:none;stroke-width:0.75;stroke-linecap:round;stroke-linejoin:round;stroke:rgb(0%,0%,0%);stroke-opacity:1;stroke-miterlimit:10;\" d=\"M 236.179688 178.558594 L 236.179688 185.761719 \"/>\n",
       "<path style=\"fill:none;stroke-width:0.75;stroke-linecap:round;stroke-linejoin:round;stroke:rgb(0%,0%,0%);stroke-opacity:1;stroke-miterlimit:10;\" d=\"M 270.992188 178.558594 L 270.992188 185.761719 \"/>\n",
       "<path style=\"fill:none;stroke-width:0.75;stroke-linecap:round;stroke-linejoin:round;stroke:rgb(0%,0%,0%);stroke-opacity:1;stroke-miterlimit:10;\" d=\"M 305.808594 178.558594 L 305.808594 185.761719 \"/>\n",
       "<g style=\"fill:rgb(0%,0%,0%);fill-opacity:1;\">\n",
       "  <use xlink:href=\"#glyph0-1\" x=\"58.605469\" y=\"204.256836\"/>\n",
       "</g>\n",
       "<g style=\"fill:rgb(0%,0%,0%);fill-opacity:1;\">\n",
       "  <use xlink:href=\"#glyph0-2\" x=\"93.417969\" y=\"204.256836\"/>\n",
       "</g>\n",
       "<g style=\"fill:rgb(0%,0%,0%);fill-opacity:1;\">\n",
       "  <use xlink:href=\"#glyph0-3\" x=\"124.734375\" y=\"204.256836\"/>\n",
       "  <use xlink:href=\"#glyph0-1\" x=\"131.40625\" y=\"204.256836\"/>\n",
       "</g>\n",
       "<g style=\"fill:rgb(0%,0%,0%);fill-opacity:1;\">\n",
       "  <use xlink:href=\"#glyph0-3\" x=\"159.546875\" y=\"204.256836\"/>\n",
       "  <use xlink:href=\"#glyph0-2\" x=\"166.21875\" y=\"204.256836\"/>\n",
       "</g>\n",
       "<g style=\"fill:rgb(0%,0%,0%);fill-opacity:1;\">\n",
       "  <use xlink:href=\"#glyph0-4\" x=\"194.363281\" y=\"204.256836\"/>\n",
       "  <use xlink:href=\"#glyph0-1\" x=\"201.035156\" y=\"204.256836\"/>\n",
       "</g>\n",
       "<g style=\"fill:rgb(0%,0%,0%);fill-opacity:1;\">\n",
       "  <use xlink:href=\"#glyph0-4\" x=\"229.179688\" y=\"204.256836\"/>\n",
       "  <use xlink:href=\"#glyph0-2\" x=\"235.851562\" y=\"204.256836\"/>\n",
       "</g>\n",
       "<g style=\"fill:rgb(0%,0%,0%);fill-opacity:1;\">\n",
       "  <use xlink:href=\"#glyph0-5\" x=\"263.992188\" y=\"204.256836\"/>\n",
       "  <use xlink:href=\"#glyph0-1\" x=\"270.664062\" y=\"204.256836\"/>\n",
       "</g>\n",
       "<g style=\"fill:rgb(0%,0%,0%);fill-opacity:1;\">\n",
       "  <use xlink:href=\"#glyph0-5\" x=\"298.808594\" y=\"204.256836\"/>\n",
       "  <use xlink:href=\"#glyph0-2\" x=\"305.480469\" y=\"204.256836\"/>\n",
       "</g>\n",
       "<path style=\"fill:none;stroke-width:0.75;stroke-linecap:round;stroke-linejoin:round;stroke:rgb(0%,0%,0%);stroke-opacity:1;stroke-miterlimit:10;\" d=\"M 59.039062 161.835938 L 59.039062 63.464844 \"/>\n",
       "<path style=\"fill:none;stroke-width:0.75;stroke-linecap:round;stroke-linejoin:round;stroke:rgb(0%,0%,0%);stroke-opacity:1;stroke-miterlimit:10;\" d=\"M 59.039062 161.835938 L 51.839844 161.835938 \"/>\n",
       "<path style=\"fill:none;stroke-width:0.75;stroke-linecap:round;stroke-linejoin:round;stroke:rgb(0%,0%,0%);stroke-opacity:1;stroke-miterlimit:10;\" d=\"M 59.039062 137.246094 L 51.839844 137.246094 \"/>\n",
       "<path style=\"fill:none;stroke-width:0.75;stroke-linecap:round;stroke-linejoin:round;stroke:rgb(0%,0%,0%);stroke-opacity:1;stroke-miterlimit:10;\" d=\"M 59.039062 112.652344 L 51.839844 112.652344 \"/>\n",
       "<path style=\"fill:none;stroke-width:0.75;stroke-linecap:round;stroke-linejoin:round;stroke:rgb(0%,0%,0%);stroke-opacity:1;stroke-miterlimit:10;\" d=\"M 59.039062 88.058594 L 51.839844 88.058594 \"/>\n",
       "<path style=\"fill:none;stroke-width:0.75;stroke-linecap:round;stroke-linejoin:round;stroke:rgb(0%,0%,0%);stroke-opacity:1;stroke-miterlimit:10;\" d=\"M 59.039062 63.464844 L 51.839844 63.464844 \"/>\n",
       "<g style=\"fill:rgb(0%,0%,0%);fill-opacity:1;\">\n",
       "  <use xlink:href=\"#glyph1-1\" x=\"41.538086\" y=\"165.335938\"/>\n",
       "</g>\n",
       "<g style=\"fill:rgb(0%,0%,0%);fill-opacity:1;\">\n",
       "  <use xlink:href=\"#glyph1-2\" x=\"41.538086\" y=\"140.746094\"/>\n",
       "</g>\n",
       "<g style=\"fill:rgb(0%,0%,0%);fill-opacity:1;\">\n",
       "  <use xlink:href=\"#glyph1-3\" x=\"41.538086\" y=\"116.152344\"/>\n",
       "</g>\n",
       "<g style=\"fill:rgb(0%,0%,0%);fill-opacity:1;\">\n",
       "  <use xlink:href=\"#glyph1-4\" x=\"41.538086\" y=\"91.558594\"/>\n",
       "</g>\n",
       "<g style=\"fill:rgb(0%,0%,0%);fill-opacity:1;\">\n",
       "  <use xlink:href=\"#glyph1-5\" x=\"41.538086\" y=\"70.464844\"/>\n",
       "  <use xlink:href=\"#glyph1-6\" x=\"41.538086\" y=\"63.792969\"/>\n",
       "</g>\n",
       "<path style=\"fill:none;stroke-width:0.75;stroke-linecap:round;stroke-linejoin:round;stroke:rgb(0%,0%,0%);stroke-opacity:1;stroke-miterlimit:10;\" d=\"M 59.039062 178.558594 L 329.761719 178.558594 L 329.761719 59.039062 L 59.039062 59.039062 L 59.039062 178.558594 \"/>\n",
       "<g style=\"fill:rgb(0%,0%,0%);fill-opacity:1;\">\n",
       "  <use xlink:href=\"#glyph0-6\" x=\"179.398438\" y=\"233.057617\"/>\n",
       "  <use xlink:href=\"#glyph0-7\" x=\"182.734375\" y=\"233.057617\"/>\n",
       "  <use xlink:href=\"#glyph0-8\" x=\"189.40625\" y=\"233.057617\"/>\n",
       "  <use xlink:href=\"#glyph0-9\" x=\"196.078125\" y=\"233.057617\"/>\n",
       "  <use xlink:href=\"#glyph0-10\" x=\"202.450195\" y=\"233.057617\"/>\n",
       "</g>\n",
       "<g style=\"fill:rgb(0%,0%,0%);fill-opacity:1;\">\n",
       "  <use xlink:href=\"#glyph1-7\" x=\"12.737305\" y=\"132.300781\"/>\n",
       "  <use xlink:href=\"#glyph1-8\" x=\"12.737305\" y=\"126.300781\"/>\n",
       "  <use xlink:href=\"#glyph1-9\" x=\"12.737305\" y=\"119.628906\"/>\n",
       "  <use xlink:href=\"#glyph1-10\" x=\"12.737305\" y=\"115.632812\"/>\n",
       "  <use xlink:href=\"#glyph1-8\" x=\"12.737305\" y=\"112.96875\"/>\n",
       "</g>\n",
       "</g>\n",
       "</svg>\n"
      ],
      "text/plain": [
       "plot without title"
      ]
     },
     "metadata": {
      "image/svg+xml": {
       "isolated": true
      }
     },
     "output_type": "display_data"
    },
    {
     "data": {
      "image/png": "[encoded data removed]",
      "image/svg+xml": [
       "<?xml version=\"1.0\" encoding=\"UTF-8\"?>\n",
       "<svg xmlns=\"http://www.w3.org/2000/svg\" xmlns:xlink=\"http://www.w3.org/1999/xlink\" width=\"360pt\" height=\"252pt\" viewBox=\"0 0 360 252\" version=\"1.1\">\n",
       "<defs>\n",
       "<g>\n",
       "<symbol overflow=\"visible\" id=\"glyph0-0\">\n",
       "<path style=\"stroke:none;\" d=\"\"/>\n",
       "</symbol>\n",
       "<symbol overflow=\"visible\" id=\"glyph0-1\">\n",
       "<path style=\"stroke:none;\" d=\"M 6.265625 -6.140625 C 6.265625 -7.578125 5.015625 -8.765625 3.40625 -8.765625 C 1.671875 -8.765625 0.515625 -7.75 0.453125 -5.5625 L 1.78125 -5.5625 C 1.875 -7.109375 2.328125 -7.578125 3.375 -7.578125 C 4.328125 -7.578125 4.90625 -7.03125 4.90625 -6.125 C 4.90625 -5.453125 4.546875 -4.96875 3.796875 -4.53125 L 2.6875 -3.90625 C 0.90625 -2.90625 0.359375 -2 0.25 0 L 6.203125 0 L 6.203125 -1.3125 L 1.75 -1.3125 C 1.84375 -1.875 2.1875 -2.21875 3.234375 -2.828125 L 4.421875 -3.484375 C 5.609375 -4.109375 6.265625 -5.09375 6.265625 -6.140625 Z M 6.265625 -6.140625 \"/>\n",
       "</symbol>\n",
       "<symbol overflow=\"visible\" id=\"glyph0-2\">\n",
       "<path style=\"stroke:none;\" d=\"M 6.375 -2.171875 L 6.375 -3.25 L 5.109375 -3.25 L 5.109375 -8.765625 L 4.125 -8.765625 L 0.1875 -3.328125 L 0.1875 -2.046875 L 3.78125 -2.046875 L 3.78125 0 L 5.109375 0 L 5.109375 -2.046875 L 6.375 -2.046875 Z M 3.921875 -3.25 L 1.515625 -3.25 L 4.015625 -6.75 L 3.78125 -6.84375 L 3.78125 -3.25 Z M 3.921875 -3.25 \"/>\n",
       "</symbol>\n",
       "<symbol overflow=\"visible\" id=\"glyph0-3\">\n",
       "<path style=\"stroke:none;\" d=\"M 6.28125 -2.765625 C 6.28125 -4.359375 5.078125 -5.5625 3.546875 -5.5625 C 2.71875 -5.5625 1.9375 -5.203125 1.484375 -4.578125 L 1.734375 -4.46875 C 1.734375 -6.546875 2.28125 -7.578125 3.484375 -7.578125 C 4.234375 -7.578125 4.609375 -7.234375 4.796875 -6.28125 L 6.125 -6.28125 C 5.90625 -7.8125 4.859375 -8.765625 3.5625 -8.765625 C 1.578125 -8.765625 0.375 -6.96875 0.375 -4.015625 C 0.375 -1.359375 1.421875 0.1875 3.375 0.1875 C 4.984375 0.1875 6.28125 -1.109375 6.28125 -2.765625 Z M 4.9375 -2.6875 C 4.9375 -1.625 4.359375 -1.015625 3.390625 -1.015625 C 2.40625 -1.015625 1.78125 -1.65625 1.78125 -2.75 C 1.78125 -3.796875 2.375 -4.359375 3.421875 -4.359375 C 4.4375 -4.359375 4.9375 -3.828125 4.9375 -2.6875 Z M 4.9375 -2.6875 \"/>\n",
       "</symbol>\n",
       "<symbol overflow=\"visible\" id=\"glyph0-4\">\n",
       "<path style=\"stroke:none;\" d=\"M 6.28125 -2.53125 C 6.28125 -3.484375 5.671875 -4.265625 4.953125 -4.625 C 5.65625 -5.046875 5.984375 -5.5625 5.984375 -6.375 C 5.984375 -7.703125 4.8125 -8.765625 3.296875 -8.765625 C 1.796875 -8.765625 0.59375 -7.703125 0.59375 -6.375 C 0.59375 -5.578125 0.921875 -5.046875 1.625 -4.625 C 0.921875 -4.265625 0.296875 -3.484375 0.296875 -2.546875 C 0.296875 -0.984375 1.625 0.1875 3.296875 0.1875 C 4.984375 0.1875 6.28125 -0.984375 6.28125 -2.53125 Z M 4.625 -6.34375 C 4.625 -5.5625 4.1875 -5.15625 3.296875 -5.15625 C 2.40625 -5.15625 1.953125 -5.5625 1.953125 -6.359375 C 1.953125 -7.171875 2.40625 -7.578125 3.296875 -7.578125 C 4.203125 -7.578125 4.625 -7.171875 4.625 -6.34375 Z M 4.9375 -2.515625 C 4.9375 -1.515625 4.359375 -1.015625 3.28125 -1.015625 C 2.25 -1.015625 1.65625 -1.53125 1.65625 -2.515625 C 1.65625 -3.515625 2.25 -4.015625 3.296875 -4.015625 C 4.359375 -4.015625 4.9375 -3.515625 4.9375 -2.515625 Z M 4.9375 -2.515625 \"/>\n",
       "</symbol>\n",
       "<symbol overflow=\"visible\" id=\"glyph0-5\">\n",
       "<path style=\"stroke:none;\" d=\"M 4.296875 -0.125 L 4.296875 -8.765625 L 3.359375 -8.765625 C 2.953125 -7.328125 2.859375 -7.28125 1.078125 -7.0625 L 1.078125 -6.0625 L 2.96875 -6.0625 L 2.96875 0 L 4.296875 0 Z M 4.296875 -0.125 \"/>\n",
       "</symbol>\n",
       "<symbol overflow=\"visible\" id=\"glyph0-6\">\n",
       "<path style=\"stroke:none;\" d=\"M 6.21875 -4.21875 C 6.21875 -7.171875 5.140625 -8.765625 3.296875 -8.765625 C 1.46875 -8.765625 0.375 -7.15625 0.375 -4.296875 C 0.375 -1.421875 1.46875 0.1875 3.296875 0.1875 C 5.09375 0.1875 6.21875 -1.421875 6.21875 -4.21875 Z M 4.859375 -4.3125 C 4.859375 -1.90625 4.453125 -0.953125 3.28125 -0.953125 C 2.15625 -0.953125 1.734375 -1.953125 1.734375 -4.28125 C 1.734375 -6.609375 2.15625 -7.578125 3.296875 -7.578125 C 4.4375 -7.578125 4.859375 -6.59375 4.859375 -4.3125 Z M 4.859375 -4.3125 \"/>\n",
       "</symbol>\n",
       "<symbol overflow=\"visible\" id=\"glyph0-7\">\n",
       "<path style=\"stroke:none;\" d=\"M 6.546875 -0.15625 L 6.546875 -1.078125 C 6.3125 -1.015625 6.265625 -1.015625 6.203125 -1.015625 C 5.859375 -1.015625 5.796875 -1.0625 5.796875 -1.375 L 5.796875 -4.890625 C 5.796875 -6 4.84375 -6.734375 3.296875 -6.734375 C 1.78125 -6.734375 0.703125 -6.015625 0.640625 -4.421875 L 1.90625 -4.421875 C 2 -5.328125 2.328125 -5.546875 3.265625 -5.546875 C 4.15625 -5.546875 4.53125 -5.34375 4.53125 -4.734375 L 4.53125 -4.46875 C 4.53125 -4.0625 4.421875 -4.015625 3.625 -3.90625 C 2.203125 -3.734375 1.984375 -3.6875 1.609375 -3.53125 C 0.875 -3.234375 0.359375 -2.53125 0.359375 -1.765625 C 0.359375 -0.625 1.296875 0.1875 2.5625 0.1875 C 3.375 0.1875 4.25 -0.1875 4.625 -0.59375 C 4.671875 -0.390625 5.25 0.078125 5.734375 0.078125 C 5.9375 0.078125 6.09375 0.0625 6.546875 -0.046875 Z M 4.53125 -2.296875 C 4.53125 -1.40625 3.75 -0.953125 2.78125 -0.953125 C 2 -0.953125 1.6875 -1.109375 1.6875 -1.78125 C 1.6875 -2.453125 1.984375 -2.609375 3.0625 -2.765625 C 4.109375 -2.90625 4.328125 -2.953125 4.53125 -3.03125 Z M 4.53125 -2.296875 \"/>\n",
       "</symbol>\n",
       "<symbol overflow=\"visible\" id=\"glyph0-8\">\n",
       "<path style=\"stroke:none;\" d=\"M 6.40625 -3.34375 C 6.40625 -5.390625 5.25 -6.734375 3.59375 -6.734375 C 2.71875 -6.734375 2 -6.375 1.53125 -5.65625 L 1.78125 -5.5625 L 1.78125 -9.015625 L 0.5 -9.015625 L 0.5 0 L 1.6875 0 L 1.6875 -1.03125 L 1.4375 -0.9375 C 1.921875 -0.203125 2.65625 0.1875 3.546875 0.1875 C 5.203125 0.1875 6.40625 -1.3125 6.40625 -3.34375 Z M 5.09375 -3.28125 C 5.09375 -1.859375 4.484375 -1.015625 3.390625 -1.015625 C 2.34375 -1.015625 1.78125 -1.84375 1.78125 -3.28125 C 1.78125 -4.75 2.34375 -5.578125 3.390625 -5.53125 C 4.515625 -5.53125 5.09375 -4.6875 5.09375 -3.28125 Z M 5.09375 -3.28125 \"/>\n",
       "</symbol>\n",
       "<symbol overflow=\"visible\" id=\"glyph0-9\">\n",
       "<path style=\"stroke:none;\" d=\"M 5.71875 -2.421875 L 4.59375 -2.421875 C 4.40625 -1.28125 4.03125 -1.015625 3.1875 -1.015625 C 2.078125 -1.015625 1.546875 -1.734375 1.546875 -3.21875 C 1.546875 -4.78125 2.0625 -5.546875 3.15625 -5.546875 C 4 -5.546875 4.375 -5.1875 4.53125 -4.171875 L 5.796875 -4.171875 C 5.65625 -5.84375 4.578125 -6.734375 3.171875 -6.734375 C 1.46875 -6.734375 0.234375 -5.296875 0.234375 -3.21875 C 0.234375 -1.1875 1.453125 0.1875 3.15625 0.1875 C 4.65625 0.1875 5.734375 -0.859375 5.875 -2.421875 Z M 5.71875 -2.421875 \"/>\n",
       "</symbol>\n",
       "<symbol overflow=\"visible\" id=\"glyph0-10\">\n",
       "<path style=\"stroke:none;\" d=\"M 1.96875 -0.125 L 1.96875 -6.546875 L 0.703125 -6.546875 L 0.703125 0 L 1.96875 0 Z M 2.09375 -7.375 L 2.09375 -8.75 L 0.578125 -8.75 L 0.578125 -7.234375 L 2.09375 -7.234375 Z M 2.09375 -7.375 \"/>\n",
       "</symbol>\n",
       "<symbol overflow=\"visible\" id=\"glyph0-11\">\n",
       "<path style=\"stroke:none;\" d=\"M 5.640625 -1.890625 C 5.640625 -2.828125 4.984375 -3.4375 3.734375 -3.734375 L 2.765625 -3.953125 C 1.953125 -4.15625 1.734375 -4.28125 1.734375 -4.734375 C 1.734375 -5.296875 2.125 -5.546875 2.9375 -5.546875 C 3.75 -5.546875 4.03125 -5.328125 4.0625 -4.53125 L 5.390625 -4.53125 C 5.375 -5.90625 4.421875 -6.734375 2.96875 -6.734375 C 1.515625 -6.734375 0.421875 -5.84375 0.421875 -4.6875 C 0.421875 -3.703125 1.0625 -3.09375 2.5625 -2.734375 L 3.484375 -2.515625 C 4.1875 -2.34375 4.3125 -2.265625 4.3125 -1.8125 C 4.3125 -1.21875 3.875 -1.015625 3 -1.015625 C 2.09375 -1.015625 1.734375 -1.09375 1.578125 -2.1875 L 0.265625 -2.1875 C 0.3125 -0.59375 1.265625 0.1875 2.921875 0.1875 C 4.5 0.1875 5.640625 -0.6875 5.640625 -1.890625 Z M 5.640625 -1.890625 \"/>\n",
       "</symbol>\n",
       "<symbol overflow=\"visible\" id=\"glyph1-0\">\n",
       "<path style=\"stroke:none;\" d=\"\"/>\n",
       "</symbol>\n",
       "<symbol overflow=\"visible\" id=\"glyph1-1\">\n",
       "<path style=\"stroke:none;\" d=\"M -4.21875 -6.21875 C -7.171875 -6.21875 -8.765625 -5.140625 -8.765625 -3.296875 C -8.765625 -1.46875 -7.15625 -0.375 -4.296875 -0.375 C -1.421875 -0.375 0.1875 -1.46875 0.1875 -3.296875 C 0.1875 -5.09375 -1.421875 -6.21875 -4.21875 -6.21875 Z M -4.3125 -4.859375 C -1.90625 -4.859375 -0.953125 -4.453125 -0.953125 -3.28125 C -0.953125 -2.15625 -1.953125 -1.734375 -4.28125 -1.734375 C -6.609375 -1.734375 -7.578125 -2.15625 -7.578125 -3.296875 C -7.578125 -4.4375 -6.59375 -4.859375 -4.3125 -4.859375 Z M -4.3125 -4.859375 \"/>\n",
       "</symbol>\n",
       "<symbol overflow=\"visible\" id=\"glyph1-2\">\n",
       "<path style=\"stroke:none;\" d=\"M -2.171875 -6.375 L -3.25 -6.375 L -3.25 -5.109375 L -8.765625 -5.109375 L -8.765625 -4.125 L -3.328125 -0.1875 L -2.046875 -0.1875 L -2.046875 -3.78125 L 0 -3.78125 L 0 -5.109375 L -2.046875 -5.109375 L -2.046875 -6.375 Z M -3.25 -3.921875 L -3.25 -1.515625 L -6.75 -4.015625 L -6.84375 -3.78125 L -3.25 -3.78125 Z M -3.25 -3.921875 \"/>\n",
       "</symbol>\n",
       "<symbol overflow=\"visible\" id=\"glyph1-3\">\n",
       "<path style=\"stroke:none;\" d=\"M -2.53125 -6.28125 C -3.484375 -6.28125 -4.265625 -5.671875 -4.625 -4.953125 C -5.046875 -5.65625 -5.5625 -5.984375 -6.375 -5.984375 C -7.703125 -5.984375 -8.765625 -4.8125 -8.765625 -3.296875 C -8.765625 -1.796875 -7.703125 -0.59375 -6.375 -0.59375 C -5.578125 -0.59375 -5.046875 -0.921875 -4.625 -1.625 C -4.265625 -0.921875 -3.484375 -0.296875 -2.546875 -0.296875 C -0.984375 -0.296875 0.1875 -1.625 0.1875 -3.296875 C 0.1875 -4.984375 -0.984375 -6.28125 -2.53125 -6.28125 Z M -6.34375 -4.625 C -5.5625 -4.625 -5.15625 -4.1875 -5.15625 -3.296875 C -5.15625 -2.40625 -5.5625 -1.953125 -6.359375 -1.953125 C -7.171875 -1.953125 -7.578125 -2.40625 -7.578125 -3.296875 C -7.578125 -4.203125 -7.171875 -4.625 -6.34375 -4.625 Z M -2.515625 -4.9375 C -1.515625 -4.9375 -1.015625 -4.359375 -1.015625 -3.28125 C -1.015625 -2.25 -1.53125 -1.65625 -2.515625 -1.65625 C -3.515625 -1.65625 -4.015625 -2.25 -4.015625 -3.296875 C -4.015625 -4.359375 -3.515625 -4.9375 -2.515625 -4.9375 Z M -2.515625 -4.9375 \"/>\n",
       "</symbol>\n",
       "<symbol overflow=\"visible\" id=\"glyph1-4\">\n",
       "<path style=\"stroke:none;\" d=\"M -3.234375 -6.25 C -5.40625 -6.25 -6.734375 -5.078125 -6.734375 -3.265625 C -6.734375 -1.5 -5.390625 -0.28125 -3.28125 -0.28125 C -1.15625 -0.28125 0.1875 -1.484375 0.1875 -3.28125 C 0.1875 -5.046875 -1.15625 -6.25 -3.234375 -6.25 Z M -3.234375 -4.9375 C -1.765625 -4.9375 -1.015625 -4.375 -1.015625 -3.28125 C -1.015625 -2.15625 -1.75 -1.609375 -3.28125 -1.609375 C -4.78125 -1.609375 -5.546875 -2.15625 -5.546875 -3.28125 C -5.546875 -4.40625 -4.796875 -4.9375 -3.234375 -4.9375 Z M -3.234375 -4.9375 \"/>\n",
       "</symbol>\n",
       "<symbol overflow=\"visible\" id=\"glyph1-5\">\n",
       "<path style=\"stroke:none;\" d=\"M -5.546875 -3.984375 L -6.6875 -3.984375 C -6.71875 -3.6875 -6.734375 -3.59375 -6.734375 -3.46875 C -6.734375 -2.8125 -6.3125 -2.21875 -5.375 -1.640625 L -5.28125 -1.890625 L -6.546875 -1.890625 L -6.546875 -0.703125 L 0 -0.703125 L 0 -1.96875 L -3.390625 -1.96875 C -4.8125 -1.96875 -5.390625 -2.296875 -5.40625 -3.984375 Z M -5.546875 -3.984375 \"/>\n",
       "</symbol>\n",
       "<symbol overflow=\"visible\" id=\"glyph1-6\">\n",
       "<path style=\"stroke:none;\" d=\"M -0.125 -6.078125 L -9.015625 -6.078125 L -9.015625 -4.796875 L -5.625 -4.796875 L -5.71875 -5.046875 C -6.359375 -4.625 -6.734375 -3.859375 -6.734375 -3.015625 C -6.734375 -1.375 -5.34375 -0.171875 -3.34375 -0.171875 C -1.21875 -0.171875 0.1875 -1.359375 0.1875 -3.046875 C 0.1875 -3.90625 -0.1875 -4.609375 -0.953125 -5.140625 L -1.0625 -4.90625 L 0 -4.90625 L 0 -6.078125 Z M -3.25 -4.796875 C -1.796875 -4.796875 -1.015625 -4.25 -1.015625 -3.1875 C -1.015625 -2.09375 -1.8125 -1.484375 -3.28125 -1.484375 C -4.734375 -1.484375 -5.53125 -2.09375 -5.53125 -3.1875 C -5.53125 -4.265625 -4.703125 -4.796875 -3.25 -4.796875 Z M -3.25 -4.796875 \"/>\n",
       "</symbol>\n",
       "<symbol overflow=\"visible\" id=\"glyph1-7\">\n",
       "<path style=\"stroke:none;\" d=\"M -2.984375 -6.28125 C -3.90625 -6.28125 -4.46875 -6.21875 -4.9375 -6.03125 C -5.96875 -5.625 -6.734375 -4.53125 -6.734375 -3.359375 C -6.734375 -1.609375 -5.296875 -0.34375 -3.234375 -0.34375 C -1.171875 -0.34375 0.1875 -1.578125 0.1875 -3.34375 C 0.1875 -4.78125 -0.765625 -5.90625 -2.171875 -6.1875 L -2.171875 -4.921875 C -1.21875 -4.59375 -1.015625 -4.171875 -1.015625 -3.375 C -1.015625 -2.328125 -1.546875 -1.6875 -2.859375 -1.65625 L -2.859375 -6.28125 Z M -3.78125 -5.1875 C -3.78125 -5.1875 -3.921875 -4.984375 -3.9375 -4.984375 L -3.9375 -1.6875 C -4.921875 -1.765625 -5.546875 -2.34375 -5.546875 -3.34375 C -5.546875 -4.328125 -4.859375 -4.9375 -3.875 -4.9375 Z M -3.78125 -5.1875 \"/>\n",
       "</symbol>\n",
       "<symbol overflow=\"visible\" id=\"glyph1-8\">\n",
       "<path style=\"stroke:none;\" d=\"M -0.125 -5.96875 L -4.890625 -5.96875 C -5.921875 -5.96875 -6.734375 -5.0625 -6.734375 -3.859375 C -6.734375 -2.921875 -6.34375 -2.203125 -5.453125 -1.65625 L -5.359375 -1.890625 L -6.546875 -1.890625 L -6.546875 -0.703125 L 0 -0.703125 L 0 -1.96875 L -3.59375 -1.96875 C -4.890625 -1.96875 -5.59375 -2.53125 -5.59375 -3.546875 C -5.59375 -4.34375 -5.25 -4.703125 -4.484375 -4.703125 L 0 -4.703125 L 0 -5.96875 Z M -0.125 -5.96875 \"/>\n",
       "</symbol>\n",
       "<symbol overflow=\"visible\" id=\"glyph1-9\">\n",
       "<path style=\"stroke:none;\" d=\"M -0.15625 -6.546875 L -1.078125 -6.546875 C -1.015625 -6.3125 -1.015625 -6.265625 -1.015625 -6.203125 C -1.015625 -5.859375 -1.0625 -5.796875 -1.375 -5.796875 L -4.890625 -5.796875 C -6 -5.796875 -6.734375 -4.84375 -6.734375 -3.296875 C -6.734375 -1.78125 -6.015625 -0.703125 -4.421875 -0.640625 L -4.421875 -1.90625 C -5.328125 -2 -5.546875 -2.328125 -5.546875 -3.265625 C -5.546875 -4.15625 -5.34375 -4.53125 -4.734375 -4.53125 L -4.46875 -4.53125 C -4.0625 -4.53125 -4.015625 -4.421875 -3.90625 -3.625 C -3.734375 -2.203125 -3.6875 -1.984375 -3.53125 -1.609375 C -3.234375 -0.875 -2.53125 -0.359375 -1.765625 -0.359375 C -0.625 -0.359375 0.1875 -1.296875 0.1875 -2.5625 C 0.1875 -3.375 -0.1875 -4.25 -0.59375 -4.625 C -0.390625 -4.671875 0.078125 -5.25 0.078125 -5.734375 C 0.078125 -5.9375 0.0625 -6.09375 -0.046875 -6.546875 Z M -2.296875 -4.53125 C -1.40625 -4.53125 -0.953125 -3.75 -0.953125 -2.78125 C -0.953125 -2 -1.109375 -1.6875 -1.78125 -1.6875 C -2.453125 -1.6875 -2.609375 -1.984375 -2.765625 -3.0625 C -2.90625 -4.109375 -2.953125 -4.328125 -3.03125 -4.53125 Z M -2.296875 -4.53125 \"/>\n",
       "</symbol>\n",
       "</g>\n",
       "</defs>\n",
       "<g id=\"surface65\">\n",
       "<rect x=\"0\" y=\"0\" width=\"360\" height=\"252\" style=\"fill:rgb(100%,100%,100%);fill-opacity:1;stroke:none;\"/>\n",
       "<path style=\"fill:none;stroke-width:0.75;stroke-linecap:round;stroke-linejoin:round;stroke:rgb(0%,0%,0%);stroke-opacity:1;stroke-miterlimit:10;\" d=\"M 69.066406 174.132812 L 76.03125 173.957031 L 82.992188 173.722656 L 89.957031 173.417969 L 96.917969 173.035156 L 103.882812 172.5625 L 110.84375 171.996094 L 117.808594 171.324219 L 124.769531 170.535156 L 131.734375 169.621094 L 138.695312 168.574219 L 145.660156 167.378906 L 152.621094 166.035156 L 159.585938 164.527344 L 166.546875 162.847656 L 173.511719 160.988281 L 180.472656 158.9375 L 187.4375 156.6875 L 194.398438 154.226562 L 201.363281 151.546875 L 208.324219 148.640625 L 215.289062 145.496094 L 222.25 142.105469 L 229.214844 138.457031 L 236.179688 134.546875 L 243.140625 130.359375 L 250.105469 125.886719 L 257.066406 121.121094 L 264.03125 116.050781 L 270.992188 110.667969 L 277.957031 104.964844 L 284.917969 98.933594 L 291.882812 92.558594 L 298.84375 85.832031 L 305.808594 78.75 L 312.769531 71.296875 L 319.734375 63.464844 \"/>\n",
       "<path style=\"fill:none;stroke-width:0.75;stroke-linecap:round;stroke-linejoin:round;stroke:rgb(0%,0%,0%);stroke-opacity:1;stroke-miterlimit:10;\" d=\"M 71.765625 174.132812 C 71.765625 177.734375 66.367188 177.734375 66.367188 174.132812 C 66.367188 170.535156 71.765625 170.535156 71.765625 174.132812 \"/>\n",
       "<path style=\"fill:none;stroke-width:0.75;stroke-linecap:round;stroke-linejoin:round;stroke:rgb(0%,0%,0%);stroke-opacity:1;stroke-miterlimit:10;\" d=\"M 78.730469 173.957031 C 78.730469 177.558594 73.328125 177.558594 73.328125 173.957031 C 73.328125 170.355469 78.730469 170.355469 78.730469 173.957031 \"/>\n",
       "<path style=\"fill:none;stroke-width:0.75;stroke-linecap:round;stroke-linejoin:round;stroke:rgb(0%,0%,0%);stroke-opacity:1;stroke-miterlimit:10;\" d=\"M 85.691406 173.722656 C 85.691406 177.320312 80.292969 177.320312 80.292969 173.722656 C 80.292969 170.121094 85.691406 170.121094 85.691406 173.722656 \"/>\n",
       "<path style=\"fill:none;stroke-width:0.75;stroke-linecap:round;stroke-linejoin:round;stroke:rgb(0%,0%,0%);stroke-opacity:1;stroke-miterlimit:10;\" d=\"M 92.65625 173.417969 C 92.65625 177.015625 87.253906 177.015625 87.253906 173.417969 C 87.253906 169.816406 92.65625 169.816406 92.65625 173.417969 \"/>\n",
       "<path style=\"fill:none;stroke-width:0.75;stroke-linecap:round;stroke-linejoin:round;stroke:rgb(0%,0%,0%);stroke-opacity:1;stroke-miterlimit:10;\" d=\"M 99.617188 173.035156 C 99.617188 176.632812 94.21875 176.632812 94.21875 173.035156 C 94.21875 169.433594 99.617188 169.433594 99.617188 173.035156 \"/>\n",
       "<path style=\"fill:none;stroke-width:0.75;stroke-linecap:round;stroke-linejoin:round;stroke:rgb(0%,0%,0%);stroke-opacity:1;stroke-miterlimit:10;\" d=\"M 106.582031 172.5625 C 106.582031 176.164062 101.179688 176.164062 101.179688 172.5625 C 101.179688 168.964844 106.582031 168.964844 106.582031 172.5625 \"/>\n",
       "<path style=\"fill:none;stroke-width:0.75;stroke-linecap:round;stroke-linejoin:round;stroke:rgb(0%,0%,0%);stroke-opacity:1;stroke-miterlimit:10;\" d=\"M 113.542969 171.996094 C 113.542969 175.597656 108.144531 175.597656 108.144531 171.996094 C 108.144531 168.394531 113.542969 168.394531 113.542969 171.996094 \"/>\n",
       "<path style=\"fill:none;stroke-width:0.75;stroke-linecap:round;stroke-linejoin:round;stroke:rgb(0%,0%,0%);stroke-opacity:1;stroke-miterlimit:10;\" d=\"M 120.507812 171.324219 C 120.507812 174.921875 115.105469 174.921875 115.105469 171.324219 C 115.105469 167.722656 120.507812 167.722656 120.507812 171.324219 \"/>\n",
       "<path style=\"fill:none;stroke-width:0.75;stroke-linecap:round;stroke-linejoin:round;stroke:rgb(0%,0%,0%);stroke-opacity:1;stroke-miterlimit:10;\" d=\"M 127.46875 170.535156 C 127.46875 174.132812 122.070312 174.132812 122.070312 170.535156 C 122.070312 166.933594 127.46875 166.933594 127.46875 170.535156 \"/>\n",
       "<path style=\"fill:none;stroke-width:0.75;stroke-linecap:round;stroke-linejoin:round;stroke:rgb(0%,0%,0%);stroke-opacity:1;stroke-miterlimit:10;\" d=\"M 134.433594 169.621094 C 134.433594 173.21875 129.035156 173.21875 129.035156 169.621094 C 129.035156 166.019531 134.433594 166.019531 134.433594 169.621094 \"/>\n",
       "<path style=\"fill:none;stroke-width:0.75;stroke-linecap:round;stroke-linejoin:round;stroke:rgb(0%,0%,0%);stroke-opacity:1;stroke-miterlimit:10;\" d=\"M 141.394531 168.574219 C 141.394531 172.171875 135.996094 172.171875 135.996094 168.574219 C 135.996094 164.972656 141.394531 164.972656 141.394531 168.574219 \"/>\n",
       "<path style=\"fill:none;stroke-width:0.75;stroke-linecap:round;stroke-linejoin:round;stroke:rgb(0%,0%,0%);stroke-opacity:1;stroke-miterlimit:10;\" d=\"M 148.359375 167.378906 C 148.359375 170.980469 142.960938 170.980469 142.960938 167.378906 C 142.960938 163.78125 148.359375 163.78125 148.359375 167.378906 \"/>\n",
       "<path style=\"fill:none;stroke-width:0.75;stroke-linecap:round;stroke-linejoin:round;stroke:rgb(0%,0%,0%);stroke-opacity:1;stroke-miterlimit:10;\" d=\"M 155.320312 166.035156 C 155.320312 169.636719 149.921875 169.636719 149.921875 166.035156 C 149.921875 162.4375 155.320312 162.4375 155.320312 166.035156 \"/>\n",
       "<path style=\"fill:none;stroke-width:0.75;stroke-linecap:round;stroke-linejoin:round;stroke:rgb(0%,0%,0%);stroke-opacity:1;stroke-miterlimit:10;\" d=\"M 162.285156 164.527344 C 162.285156 168.128906 156.886719 168.128906 156.886719 164.527344 C 156.886719 160.929688 162.285156 160.929688 162.285156 164.527344 \"/>\n",
       "<path style=\"fill:none;stroke-width:0.75;stroke-linecap:round;stroke-linejoin:round;stroke:rgb(0%,0%,0%);stroke-opacity:1;stroke-miterlimit:10;\" d=\"M 169.25 162.847656 C 169.25 166.449219 163.847656 166.449219 163.847656 162.847656 C 163.847656 159.25 169.25 159.25 169.25 162.847656 \"/>\n",
       "<path style=\"fill:none;stroke-width:0.75;stroke-linecap:round;stroke-linejoin:round;stroke:rgb(0%,0%,0%);stroke-opacity:1;stroke-miterlimit:10;\" d=\"M 176.210938 160.988281 C 176.210938 164.589844 170.8125 164.589844 170.8125 160.988281 C 170.8125 157.390625 176.210938 157.390625 176.210938 160.988281 \"/>\n",
       "<path style=\"fill:none;stroke-width:0.75;stroke-linecap:round;stroke-linejoin:round;stroke:rgb(0%,0%,0%);stroke-opacity:1;stroke-miterlimit:10;\" d=\"M 183.175781 158.9375 C 183.175781 162.539062 177.773438 162.539062 177.773438 158.9375 C 177.773438 155.339844 183.175781 155.339844 183.175781 158.9375 \"/>\n",
       "<path style=\"fill:none;stroke-width:0.75;stroke-linecap:round;stroke-linejoin:round;stroke:rgb(0%,0%,0%);stroke-opacity:1;stroke-miterlimit:10;\" d=\"M 190.136719 156.6875 C 190.136719 160.285156 184.738281 160.285156 184.738281 156.6875 C 184.738281 153.085938 190.136719 153.085938 190.136719 156.6875 \"/>\n",
       "<path style=\"fill:none;stroke-width:0.75;stroke-linecap:round;stroke-linejoin:round;stroke:rgb(0%,0%,0%);stroke-opacity:1;stroke-miterlimit:10;\" d=\"M 197.101562 154.226562 C 197.101562 157.828125 191.699219 157.828125 191.699219 154.226562 C 191.699219 150.625 197.101562 150.625 197.101562 154.226562 \"/>\n",
       "<path style=\"fill:none;stroke-width:0.75;stroke-linecap:round;stroke-linejoin:round;stroke:rgb(0%,0%,0%);stroke-opacity:1;stroke-miterlimit:10;\" d=\"M 204.0625 151.546875 C 204.0625 155.148438 198.664062 155.148438 198.664062 151.546875 C 198.664062 147.949219 204.0625 147.949219 204.0625 151.546875 \"/>\n",
       "<path style=\"fill:none;stroke-width:0.75;stroke-linecap:round;stroke-linejoin:round;stroke:rgb(0%,0%,0%);stroke-opacity:1;stroke-miterlimit:10;\" d=\"M 211.027344 148.640625 C 211.027344 152.242188 205.625 152.242188 205.625 148.640625 C 205.625 145.039062 211.027344 145.039062 211.027344 148.640625 \"/>\n",
       "<path style=\"fill:none;stroke-width:0.75;stroke-linecap:round;stroke-linejoin:round;stroke:rgb(0%,0%,0%);stroke-opacity:1;stroke-miterlimit:10;\" d=\"M 217.988281 145.496094 C 217.988281 149.097656 212.589844 149.097656 212.589844 145.496094 C 212.589844 141.898438 217.988281 141.898438 217.988281 145.496094 \"/>\n",
       "<path style=\"fill:none;stroke-width:0.75;stroke-linecap:round;stroke-linejoin:round;stroke:rgb(0%,0%,0%);stroke-opacity:1;stroke-miterlimit:10;\" d=\"M 224.953125 142.105469 C 224.953125 145.707031 219.550781 145.707031 219.550781 142.105469 C 219.550781 138.503906 224.953125 138.503906 224.953125 142.105469 \"/>\n",
       "<path style=\"fill:none;stroke-width:0.75;stroke-linecap:round;stroke-linejoin:round;stroke:rgb(0%,0%,0%);stroke-opacity:1;stroke-miterlimit:10;\" d=\"M 231.914062 138.457031 C 231.914062 142.058594 226.515625 142.058594 226.515625 138.457031 C 226.515625 134.859375 231.914062 134.859375 231.914062 138.457031 \"/>\n",
       "<path style=\"fill:none;stroke-width:0.75;stroke-linecap:round;stroke-linejoin:round;stroke:rgb(0%,0%,0%);stroke-opacity:1;stroke-miterlimit:10;\" d=\"M 238.878906 134.546875 C 238.878906 138.144531 233.476562 138.144531 233.476562 134.546875 C 233.476562 130.945312 238.878906 130.945312 238.878906 134.546875 \"/>\n",
       "<path style=\"fill:none;stroke-width:0.75;stroke-linecap:round;stroke-linejoin:round;stroke:rgb(0%,0%,0%);stroke-opacity:1;stroke-miterlimit:10;\" d=\"M 245.839844 130.359375 C 245.839844 133.957031 240.441406 133.957031 240.441406 130.359375 C 240.441406 126.757812 245.839844 126.757812 245.839844 130.359375 \"/>\n",
       "<path style=\"fill:none;stroke-width:0.75;stroke-linecap:round;stroke-linejoin:round;stroke:rgb(0%,0%,0%);stroke-opacity:1;stroke-miterlimit:10;\" d=\"M 252.804688 125.886719 C 252.804688 129.484375 247.402344 129.484375 247.402344 125.886719 C 247.402344 122.285156 252.804688 122.285156 252.804688 125.886719 \"/>\n",
       "<path style=\"fill:none;stroke-width:0.75;stroke-linecap:round;stroke-linejoin:round;stroke:rgb(0%,0%,0%);stroke-opacity:1;stroke-miterlimit:10;\" d=\"M 259.765625 121.121094 C 259.765625 124.71875 254.367188 124.71875 254.367188 121.121094 C 254.367188 117.519531 259.765625 117.519531 259.765625 121.121094 \"/>\n",
       "<path style=\"fill:none;stroke-width:0.75;stroke-linecap:round;stroke-linejoin:round;stroke:rgb(0%,0%,0%);stroke-opacity:1;stroke-miterlimit:10;\" d=\"M 266.730469 116.050781 C 266.730469 119.652344 261.328125 119.652344 261.328125 116.050781 C 261.328125 112.449219 266.730469 112.449219 266.730469 116.050781 \"/>\n",
       "<path style=\"fill:none;stroke-width:0.75;stroke-linecap:round;stroke-linejoin:round;stroke:rgb(0%,0%,0%);stroke-opacity:1;stroke-miterlimit:10;\" d=\"M 273.691406 110.667969 C 273.691406 114.269531 268.292969 114.269531 268.292969 110.667969 C 268.292969 107.070312 273.691406 107.070312 273.691406 110.667969 \"/>\n",
       "<path style=\"fill:none;stroke-width:0.75;stroke-linecap:round;stroke-linejoin:round;stroke:rgb(0%,0%,0%);stroke-opacity:1;stroke-miterlimit:10;\" d=\"M 280.65625 104.964844 C 280.65625 108.566406 275.253906 108.566406 275.253906 104.964844 C 275.253906 101.367188 280.65625 101.367188 280.65625 104.964844 \"/>\n",
       "<path style=\"fill:none;stroke-width:0.75;stroke-linecap:round;stroke-linejoin:round;stroke:rgb(0%,0%,0%);stroke-opacity:1;stroke-miterlimit:10;\" d=\"M 287.617188 98.933594 C 287.617188 102.53125 282.21875 102.53125 282.21875 98.933594 C 282.21875 95.332031 287.617188 95.332031 287.617188 98.933594 \"/>\n",
       "<path style=\"fill:none;stroke-width:0.75;stroke-linecap:round;stroke-linejoin:round;stroke:rgb(0%,0%,0%);stroke-opacity:1;stroke-miterlimit:10;\" d=\"M 294.582031 92.558594 C 294.582031 96.15625 289.179688 96.15625 289.179688 92.558594 C 289.179688 88.957031 294.582031 88.957031 294.582031 92.558594 \"/>\n",
       "<path style=\"fill:none;stroke-width:0.75;stroke-linecap:round;stroke-linejoin:round;stroke:rgb(0%,0%,0%);stroke-opacity:1;stroke-miterlimit:10;\" d=\"M 301.542969 85.832031 C 301.542969 89.433594 296.144531 89.433594 296.144531 85.832031 C 296.144531 82.234375 301.542969 82.234375 301.542969 85.832031 \"/>\n",
       "<path style=\"fill:none;stroke-width:0.75;stroke-linecap:round;stroke-linejoin:round;stroke:rgb(0%,0%,0%);stroke-opacity:1;stroke-miterlimit:10;\" d=\"M 308.507812 78.75 C 308.507812 82.347656 303.105469 82.347656 303.105469 78.75 C 303.105469 75.148438 308.507812 75.148438 308.507812 78.75 \"/>\n",
       "<path style=\"fill:none;stroke-width:0.75;stroke-linecap:round;stroke-linejoin:round;stroke:rgb(0%,0%,0%);stroke-opacity:1;stroke-miterlimit:10;\" d=\"M 315.46875 71.296875 C 315.46875 74.898438 310.070312 74.898438 310.070312 71.296875 C 310.070312 67.695312 315.46875 67.695312 315.46875 71.296875 \"/>\n",
       "<path style=\"fill:none;stroke-width:0.75;stroke-linecap:round;stroke-linejoin:round;stroke:rgb(0%,0%,0%);stroke-opacity:1;stroke-miterlimit:10;\" d=\"M 322.433594 63.464844 C 322.433594 67.066406 317.035156 67.066406 317.035156 63.464844 C 317.035156 59.867188 322.433594 59.867188 322.433594 63.464844 \"/>\n",
       "<path style=\"fill:none;stroke-width:0.75;stroke-linecap:round;stroke-linejoin:round;stroke:rgb(0%,0%,0%);stroke-opacity:1;stroke-miterlimit:10;\" d=\"M 96.917969 178.558594 L 319.734375 178.558594 \"/>\n",
       "<path style=\"fill:none;stroke-width:0.75;stroke-linecap:round;stroke-linejoin:round;stroke:rgb(0%,0%,0%);stroke-opacity:1;stroke-miterlimit:10;\" d=\"M 96.917969 178.558594 L 96.917969 185.761719 \"/>\n",
       "<path style=\"fill:none;stroke-width:0.75;stroke-linecap:round;stroke-linejoin:round;stroke:rgb(0%,0%,0%);stroke-opacity:1;stroke-miterlimit:10;\" d=\"M 152.621094 178.558594 L 152.621094 185.761719 \"/>\n",
       "<path style=\"fill:none;stroke-width:0.75;stroke-linecap:round;stroke-linejoin:round;stroke:rgb(0%,0%,0%);stroke-opacity:1;stroke-miterlimit:10;\" d=\"M 208.324219 178.558594 L 208.324219 185.761719 \"/>\n",
       "<path style=\"fill:none;stroke-width:0.75;stroke-linecap:round;stroke-linejoin:round;stroke:rgb(0%,0%,0%);stroke-opacity:1;stroke-miterlimit:10;\" d=\"M 264.03125 178.558594 L 264.03125 185.761719 \"/>\n",
       "<path style=\"fill:none;stroke-width:0.75;stroke-linecap:round;stroke-linejoin:round;stroke:rgb(0%,0%,0%);stroke-opacity:1;stroke-miterlimit:10;\" d=\"M 319.734375 178.558594 L 319.734375 185.761719 \"/>\n",
       "<g style=\"fill:rgb(0%,0%,0%);fill-opacity:1;\">\n",
       "  <use xlink:href=\"#glyph0-1\" x=\"93.417969\" y=\"204.256836\"/>\n",
       "</g>\n",
       "<g style=\"fill:rgb(0%,0%,0%);fill-opacity:1;\">\n",
       "  <use xlink:href=\"#glyph0-2\" x=\"149.121094\" y=\"204.256836\"/>\n",
       "</g>\n",
       "<g style=\"fill:rgb(0%,0%,0%);fill-opacity:1;\">\n",
       "  <use xlink:href=\"#glyph0-3\" x=\"204.824219\" y=\"204.256836\"/>\n",
       "</g>\n",
       "<g style=\"fill:rgb(0%,0%,0%);fill-opacity:1;\">\n",
       "  <use xlink:href=\"#glyph0-4\" x=\"260.53125\" y=\"204.256836\"/>\n",
       "</g>\n",
       "<g style=\"fill:rgb(0%,0%,0%);fill-opacity:1;\">\n",
       "  <use xlink:href=\"#glyph0-5\" x=\"312.734375\" y=\"204.256836\"/>\n",
       "  <use xlink:href=\"#glyph0-6\" x=\"319.40625\" y=\"204.256836\"/>\n",
       "</g>\n",
       "<path style=\"fill:none;stroke-width:0.75;stroke-linecap:round;stroke-linejoin:round;stroke:rgb(0%,0%,0%);stroke-opacity:1;stroke-miterlimit:10;\" d=\"M 59.039062 174.484375 L 59.039062 74.511719 \"/>\n",
       "<path style=\"fill:none;stroke-width:0.75;stroke-linecap:round;stroke-linejoin:round;stroke:rgb(0%,0%,0%);stroke-opacity:1;stroke-miterlimit:10;\" d=\"M 59.039062 174.484375 L 51.839844 174.484375 \"/>\n",
       "<path style=\"fill:none;stroke-width:0.75;stroke-linecap:round;stroke-linejoin:round;stroke:rgb(0%,0%,0%);stroke-opacity:1;stroke-miterlimit:10;\" d=\"M 59.039062 154.488281 L 51.839844 154.488281 \"/>\n",
       "<path style=\"fill:none;stroke-width:0.75;stroke-linecap:round;stroke-linejoin:round;stroke:rgb(0%,0%,0%);stroke-opacity:1;stroke-miterlimit:10;\" d=\"M 59.039062 134.496094 L 51.839844 134.496094 \"/>\n",
       "<path style=\"fill:none;stroke-width:0.75;stroke-linecap:round;stroke-linejoin:round;stroke:rgb(0%,0%,0%);stroke-opacity:1;stroke-miterlimit:10;\" d=\"M 59.039062 114.5 L 51.839844 114.5 \"/>\n",
       "<path style=\"fill:none;stroke-width:0.75;stroke-linecap:round;stroke-linejoin:round;stroke:rgb(0%,0%,0%);stroke-opacity:1;stroke-miterlimit:10;\" d=\"M 59.039062 94.507812 L 51.839844 94.507812 \"/>\n",
       "<path style=\"fill:none;stroke-width:0.75;stroke-linecap:round;stroke-linejoin:round;stroke:rgb(0%,0%,0%);stroke-opacity:1;stroke-miterlimit:10;\" d=\"M 59.039062 74.511719 L 51.839844 74.511719 \"/>\n",
       "<g style=\"fill:rgb(0%,0%,0%);fill-opacity:1;\">\n",
       "  <use xlink:href=\"#glyph1-1\" x=\"41.538086\" y=\"177.984375\"/>\n",
       "</g>\n",
       "<g style=\"fill:rgb(0%,0%,0%);fill-opacity:1;\">\n",
       "  <use xlink:href=\"#glyph1-2\" x=\"41.538086\" y=\"144.996094\"/>\n",
       "  <use xlink:href=\"#glyph1-1\" x=\"41.538086\" y=\"138.324219\"/>\n",
       "  <use xlink:href=\"#glyph1-1\" x=\"41.538086\" y=\"131.652344\"/>\n",
       "</g>\n",
       "<g style=\"fill:rgb(0%,0%,0%);fill-opacity:1;\">\n",
       "  <use xlink:href=\"#glyph1-3\" x=\"41.538086\" y=\"105.007812\"/>\n",
       "  <use xlink:href=\"#glyph1-1\" x=\"41.538086\" y=\"98.335938\"/>\n",
       "  <use xlink:href=\"#glyph1-1\" x=\"41.538086\" y=\"91.664062\"/>\n",
       "</g>\n",
       "<path style=\"fill:none;stroke-width:0.75;stroke-linecap:round;stroke-linejoin:round;stroke:rgb(0%,0%,0%);stroke-opacity:1;stroke-miterlimit:10;\" d=\"M 59.039062 178.558594 L 329.761719 178.558594 L 329.761719 59.039062 L 59.039062 59.039062 L 59.039062 178.558594 \"/>\n",
       "<g style=\"fill:rgb(0%,0%,0%);fill-opacity:1;\">\n",
       "  <use xlink:href=\"#glyph0-7\" x=\"176.898438\" y=\"233.057617\"/>\n",
       "  <use xlink:href=\"#glyph0-8\" x=\"183.570312\" y=\"233.057617\"/>\n",
       "  <use xlink:href=\"#glyph0-9\" x=\"190.242188\" y=\"233.057617\"/>\n",
       "  <use xlink:href=\"#glyph0-10\" x=\"196.242188\" y=\"233.057617\"/>\n",
       "  <use xlink:href=\"#glyph0-11\" x=\"198.90625\" y=\"233.057617\"/>\n",
       "  <use xlink:href=\"#glyph0-7\" x=\"204.90625\" y=\"233.057617\"/>\n",
       "</g>\n",
       "<g style=\"fill:rgb(0%,0%,0%);fill-opacity:1;\">\n",
       "  <use xlink:href=\"#glyph1-4\" x=\"12.737305\" y=\"144.300781\"/>\n",
       "  <use xlink:href=\"#glyph1-5\" x=\"12.737305\" y=\"137.628906\"/>\n",
       "  <use xlink:href=\"#glyph1-6\" x=\"12.737305\" y=\"133.632812\"/>\n",
       "  <use xlink:href=\"#glyph1-7\" x=\"12.737305\" y=\"126.960938\"/>\n",
       "  <use xlink:href=\"#glyph1-8\" x=\"12.737305\" y=\"120.289062\"/>\n",
       "  <use xlink:href=\"#glyph1-9\" x=\"12.737305\" y=\"113.617188\"/>\n",
       "  <use xlink:href=\"#glyph1-6\" x=\"12.737305\" y=\"106.945312\"/>\n",
       "  <use xlink:href=\"#glyph1-9\" x=\"12.737305\" y=\"100.273438\"/>\n",
       "</g>\n",
       "</g>\n",
       "</svg>\n"
      ],
      "text/plain": [
       "plot without title"
      ]
     },
     "metadata": {
      "image/svg+xml": {
       "isolated": true
      }
     },
     "output_type": "display_data"
    },
    {
     "data": {
      "image/png": "[encoded data removed]",
      "image/svg+xml": [
       "<?xml version=\"1.0\" encoding=\"UTF-8\"?>\n",
       "<svg xmlns=\"http://www.w3.org/2000/svg\" xmlns:xlink=\"http://www.w3.org/1999/xlink\" width=\"360pt\" height=\"252pt\" viewBox=\"0 0 360 252\" version=\"1.1\">\n",
       "<defs>\n",
       "<g>\n",
       "<symbol overflow=\"visible\" id=\"glyph0-0\">\n",
       "<path style=\"stroke:none;\" d=\"\"/>\n",
       "</symbol>\n",
       "<symbol overflow=\"visible\" id=\"glyph0-1\">\n",
       "<path style=\"stroke:none;\" d=\"M 6.21875 -4.21875 C 6.21875 -7.171875 5.140625 -8.765625 3.296875 -8.765625 C 1.46875 -8.765625 0.375 -7.15625 0.375 -4.296875 C 0.375 -1.421875 1.46875 0.1875 3.296875 0.1875 C 5.09375 0.1875 6.21875 -1.421875 6.21875 -4.21875 Z M 4.859375 -4.3125 C 4.859375 -1.90625 4.453125 -0.953125 3.28125 -0.953125 C 2.15625 -0.953125 1.734375 -1.953125 1.734375 -4.28125 C 1.734375 -6.609375 2.15625 -7.578125 3.296875 -7.578125 C 4.4375 -7.578125 4.859375 -6.59375 4.859375 -4.3125 Z M 4.859375 -4.3125 \"/>\n",
       "</symbol>\n",
       "<symbol overflow=\"visible\" id=\"glyph0-2\">\n",
       "<path style=\"stroke:none;\" d=\"M 2.421875 -0.125 L 2.421875 -1.515625 L 0.90625 -1.515625 L 0.90625 0 L 2.421875 0 Z M 2.421875 -0.125 \"/>\n",
       "</symbol>\n",
       "<symbol overflow=\"visible\" id=\"glyph0-3\">\n",
       "<path style=\"stroke:none;\" d=\"M 6.265625 -6.140625 C 6.265625 -7.578125 5.015625 -8.765625 3.40625 -8.765625 C 1.671875 -8.765625 0.515625 -7.75 0.453125 -5.5625 L 1.78125 -5.5625 C 1.875 -7.109375 2.328125 -7.578125 3.375 -7.578125 C 4.328125 -7.578125 4.90625 -7.03125 4.90625 -6.125 C 4.90625 -5.453125 4.546875 -4.96875 3.796875 -4.53125 L 2.6875 -3.90625 C 0.90625 -2.90625 0.359375 -2 0.25 0 L 6.203125 0 L 6.203125 -1.3125 L 1.75 -1.3125 C 1.84375 -1.875 2.1875 -2.21875 3.234375 -2.828125 L 4.421875 -3.484375 C 5.609375 -4.109375 6.265625 -5.09375 6.265625 -6.140625 Z M 6.265625 -6.140625 \"/>\n",
       "</symbol>\n",
       "<symbol overflow=\"visible\" id=\"glyph0-4\">\n",
       "<path style=\"stroke:none;\" d=\"M 6.375 -2.171875 L 6.375 -3.25 L 5.109375 -3.25 L 5.109375 -8.765625 L 4.125 -8.765625 L 0.1875 -3.328125 L 0.1875 -2.046875 L 3.78125 -2.046875 L 3.78125 0 L 5.109375 0 L 5.109375 -2.046875 L 6.375 -2.046875 Z M 3.921875 -3.25 L 1.515625 -3.25 L 4.015625 -6.75 L 3.78125 -6.84375 L 3.78125 -3.25 Z M 3.921875 -3.25 \"/>\n",
       "</symbol>\n",
       "<symbol overflow=\"visible\" id=\"glyph0-5\">\n",
       "<path style=\"stroke:none;\" d=\"M 6.28125 -2.765625 C 6.28125 -4.359375 5.078125 -5.5625 3.546875 -5.5625 C 2.71875 -5.5625 1.9375 -5.203125 1.484375 -4.578125 L 1.734375 -4.46875 C 1.734375 -6.546875 2.28125 -7.578125 3.484375 -7.578125 C 4.234375 -7.578125 4.609375 -7.234375 4.796875 -6.28125 L 6.125 -6.28125 C 5.90625 -7.8125 4.859375 -8.765625 3.5625 -8.765625 C 1.578125 -8.765625 0.375 -6.96875 0.375 -4.015625 C 0.375 -1.359375 1.421875 0.1875 3.375 0.1875 C 4.984375 0.1875 6.28125 -1.109375 6.28125 -2.765625 Z M 4.9375 -2.6875 C 4.9375 -1.625 4.359375 -1.015625 3.390625 -1.015625 C 2.40625 -1.015625 1.78125 -1.65625 1.78125 -2.75 C 1.78125 -3.796875 2.375 -4.359375 3.421875 -4.359375 C 4.4375 -4.359375 4.9375 -3.828125 4.9375 -2.6875 Z M 4.9375 -2.6875 \"/>\n",
       "</symbol>\n",
       "<symbol overflow=\"visible\" id=\"glyph0-6\">\n",
       "<path style=\"stroke:none;\" d=\"M 6.28125 -2.53125 C 6.28125 -3.484375 5.671875 -4.265625 4.953125 -4.625 C 5.65625 -5.046875 5.984375 -5.5625 5.984375 -6.375 C 5.984375 -7.703125 4.8125 -8.765625 3.296875 -8.765625 C 1.796875 -8.765625 0.59375 -7.703125 0.59375 -6.375 C 0.59375 -5.578125 0.921875 -5.046875 1.625 -4.625 C 0.921875 -4.265625 0.296875 -3.484375 0.296875 -2.546875 C 0.296875 -0.984375 1.625 0.1875 3.296875 0.1875 C 4.984375 0.1875 6.28125 -0.984375 6.28125 -2.53125 Z M 4.625 -6.34375 C 4.625 -5.5625 4.1875 -5.15625 3.296875 -5.15625 C 2.40625 -5.15625 1.953125 -5.5625 1.953125 -6.359375 C 1.953125 -7.171875 2.40625 -7.578125 3.296875 -7.578125 C 4.203125 -7.578125 4.625 -7.171875 4.625 -6.34375 Z M 4.9375 -2.515625 C 4.9375 -1.515625 4.359375 -1.015625 3.28125 -1.015625 C 2.25 -1.015625 1.65625 -1.53125 1.65625 -2.515625 C 1.65625 -3.515625 2.25 -4.015625 3.296875 -4.015625 C 4.359375 -4.015625 4.9375 -3.515625 4.9375 -2.515625 Z M 4.9375 -2.515625 \"/>\n",
       "</symbol>\n",
       "<symbol overflow=\"visible\" id=\"glyph0-7\">\n",
       "<path style=\"stroke:none;\" d=\"M 4.296875 -0.125 L 4.296875 -8.765625 L 3.359375 -8.765625 C 2.953125 -7.328125 2.859375 -7.28125 1.078125 -7.0625 L 1.078125 -6.0625 L 2.96875 -6.0625 L 2.96875 0 L 4.296875 0 Z M 4.296875 -0.125 \"/>\n",
       "</symbol>\n",
       "<symbol overflow=\"visible\" id=\"glyph0-8\">\n",
       "<path style=\"stroke:none;\" d=\"M 6.546875 -0.15625 L 6.546875 -1.078125 C 6.3125 -1.015625 6.265625 -1.015625 6.203125 -1.015625 C 5.859375 -1.015625 5.796875 -1.0625 5.796875 -1.375 L 5.796875 -4.890625 C 5.796875 -6 4.84375 -6.734375 3.296875 -6.734375 C 1.78125 -6.734375 0.703125 -6.015625 0.640625 -4.421875 L 1.90625 -4.421875 C 2 -5.328125 2.328125 -5.546875 3.265625 -5.546875 C 4.15625 -5.546875 4.53125 -5.34375 4.53125 -4.734375 L 4.53125 -4.46875 C 4.53125 -4.0625 4.421875 -4.015625 3.625 -3.90625 C 2.203125 -3.734375 1.984375 -3.6875 1.609375 -3.53125 C 0.875 -3.234375 0.359375 -2.53125 0.359375 -1.765625 C 0.359375 -0.625 1.296875 0.1875 2.5625 0.1875 C 3.375 0.1875 4.25 -0.1875 4.625 -0.59375 C 4.671875 -0.390625 5.25 0.078125 5.734375 0.078125 C 5.9375 0.078125 6.09375 0.0625 6.546875 -0.046875 Z M 4.53125 -2.296875 C 4.53125 -1.40625 3.75 -0.953125 2.78125 -0.953125 C 2 -0.953125 1.6875 -1.109375 1.6875 -1.78125 C 1.6875 -2.453125 1.984375 -2.609375 3.0625 -2.765625 C 4.109375 -2.90625 4.328125 -2.953125 4.53125 -3.03125 Z M 4.53125 -2.296875 \"/>\n",
       "</symbol>\n",
       "<symbol overflow=\"visible\" id=\"glyph0-9\">\n",
       "<path style=\"stroke:none;\" d=\"M 6.40625 -3.34375 C 6.40625 -5.390625 5.25 -6.734375 3.59375 -6.734375 C 2.71875 -6.734375 2 -6.375 1.53125 -5.65625 L 1.78125 -5.5625 L 1.78125 -9.015625 L 0.5 -9.015625 L 0.5 0 L 1.6875 0 L 1.6875 -1.03125 L 1.4375 -0.9375 C 1.921875 -0.203125 2.65625 0.1875 3.546875 0.1875 C 5.203125 0.1875 6.40625 -1.3125 6.40625 -3.34375 Z M 5.09375 -3.28125 C 5.09375 -1.859375 4.484375 -1.015625 3.390625 -1.015625 C 2.34375 -1.015625 1.78125 -1.84375 1.78125 -3.28125 C 1.78125 -4.75 2.34375 -5.578125 3.390625 -5.53125 C 4.515625 -5.53125 5.09375 -4.6875 5.09375 -3.28125 Z M 5.09375 -3.28125 \"/>\n",
       "</symbol>\n",
       "<symbol overflow=\"visible\" id=\"glyph0-10\">\n",
       "<path style=\"stroke:none;\" d=\"M 5.71875 -2.421875 L 4.59375 -2.421875 C 4.40625 -1.28125 4.03125 -1.015625 3.1875 -1.015625 C 2.078125 -1.015625 1.546875 -1.734375 1.546875 -3.21875 C 1.546875 -4.78125 2.0625 -5.546875 3.15625 -5.546875 C 4 -5.546875 4.375 -5.1875 4.53125 -4.171875 L 5.796875 -4.171875 C 5.65625 -5.84375 4.578125 -6.734375 3.171875 -6.734375 C 1.46875 -6.734375 0.234375 -5.296875 0.234375 -3.21875 C 0.234375 -1.1875 1.453125 0.1875 3.15625 0.1875 C 4.65625 0.1875 5.734375 -0.859375 5.875 -2.421875 Z M 5.71875 -2.421875 \"/>\n",
       "</symbol>\n",
       "<symbol overflow=\"visible\" id=\"glyph0-11\">\n",
       "<path style=\"stroke:none;\" d=\"M 1.96875 -0.125 L 1.96875 -6.546875 L 0.703125 -6.546875 L 0.703125 0 L 1.96875 0 Z M 2.09375 -7.375 L 2.09375 -8.75 L 0.578125 -8.75 L 0.578125 -7.234375 L 2.09375 -7.234375 Z M 2.09375 -7.375 \"/>\n",
       "</symbol>\n",
       "<symbol overflow=\"visible\" id=\"glyph0-12\">\n",
       "<path style=\"stroke:none;\" d=\"M 5.640625 -1.890625 C 5.640625 -2.828125 4.984375 -3.4375 3.734375 -3.734375 L 2.765625 -3.953125 C 1.953125 -4.15625 1.734375 -4.28125 1.734375 -4.734375 C 1.734375 -5.296875 2.125 -5.546875 2.9375 -5.546875 C 3.75 -5.546875 4.03125 -5.328125 4.0625 -4.53125 L 5.390625 -4.53125 C 5.375 -5.90625 4.421875 -6.734375 2.96875 -6.734375 C 1.515625 -6.734375 0.421875 -5.84375 0.421875 -4.6875 C 0.421875 -3.703125 1.0625 -3.09375 2.5625 -2.734375 L 3.484375 -2.515625 C 4.1875 -2.34375 4.3125 -2.265625 4.3125 -1.8125 C 4.3125 -1.21875 3.875 -1.015625 3 -1.015625 C 2.09375 -1.015625 1.734375 -1.09375 1.578125 -2.1875 L 0.265625 -2.1875 C 0.3125 -0.59375 1.265625 0.1875 2.921875 0.1875 C 4.5 0.1875 5.640625 -0.6875 5.640625 -1.890625 Z M 5.640625 -1.890625 \"/>\n",
       "</symbol>\n",
       "<symbol overflow=\"visible\" id=\"glyph1-0\">\n",
       "<path style=\"stroke:none;\" d=\"\"/>\n",
       "</symbol>\n",
       "<symbol overflow=\"visible\" id=\"glyph1-1\">\n",
       "<path style=\"stroke:none;\" d=\"M -4.21875 -6.21875 C -7.171875 -6.21875 -8.765625 -5.140625 -8.765625 -3.296875 C -8.765625 -1.46875 -7.15625 -0.375 -4.296875 -0.375 C -1.421875 -0.375 0.1875 -1.46875 0.1875 -3.296875 C 0.1875 -5.09375 -1.421875 -6.21875 -4.21875 -6.21875 Z M -4.3125 -4.859375 C -1.90625 -4.859375 -0.953125 -4.453125 -0.953125 -3.28125 C -0.953125 -2.15625 -1.953125 -1.734375 -4.28125 -1.734375 C -6.609375 -1.734375 -7.578125 -2.15625 -7.578125 -3.296875 C -7.578125 -4.4375 -6.59375 -4.859375 -4.3125 -4.859375 Z M -4.3125 -4.859375 \"/>\n",
       "</symbol>\n",
       "<symbol overflow=\"visible\" id=\"glyph1-2\">\n",
       "<path style=\"stroke:none;\" d=\"M -0.125 -2.421875 L -1.515625 -2.421875 L -1.515625 -0.90625 L 0 -0.90625 L 0 -2.421875 Z M -0.125 -2.421875 \"/>\n",
       "</symbol>\n",
       "<symbol overflow=\"visible\" id=\"glyph1-3\">\n",
       "<path style=\"stroke:none;\" d=\"M -2.953125 -6.28125 C -4.625 -6.28125 -5.875 -5.046875 -5.875 -3.40625 C -5.875 -2.8125 -5.671875 -2.21875 -5.515625 -2.015625 L -7.28125 -2.28125 L -7.28125 -5.84375 L -8.59375 -5.84375 L -8.59375 -1.203125 L -3.875 -0.515625 L -3.875 -1.71875 C -4.5 -2.25 -4.671875 -2.5625 -4.671875 -3.21875 C -4.671875 -4.359375 -4.0625 -4.9375 -2.8125 -4.9375 C -1.578125 -4.9375 -1.015625 -4.375 -1.015625 -3.21875 C -1.015625 -2.296875 -1.359375 -1.859375 -2.453125 -1.578125 L -2.453125 -0.25 C -0.625 -0.625 0.1875 -1.734375 0.1875 -3.234375 C 0.1875 -4.953125 -1.15625 -6.28125 -2.953125 -6.28125 Z M -2.953125 -6.28125 \"/>\n",
       "</symbol>\n",
       "<symbol overflow=\"visible\" id=\"glyph1-4\">\n",
       "<path style=\"stroke:none;\" d=\"M -0.125 -4.296875 L -8.765625 -4.296875 L -8.765625 -3.359375 C -7.328125 -2.953125 -7.28125 -2.859375 -7.0625 -1.078125 L -6.0625 -1.078125 L -6.0625 -2.96875 L 0 -2.96875 L 0 -4.296875 Z M -0.125 -4.296875 \"/>\n",
       "</symbol>\n",
       "<symbol overflow=\"visible\" id=\"glyph1-5\">\n",
       "<path style=\"stroke:none;\" d=\"M -6.140625 -6.265625 C -7.578125 -6.265625 -8.765625 -5.015625 -8.765625 -3.40625 C -8.765625 -1.671875 -7.75 -0.515625 -5.5625 -0.453125 L -5.5625 -1.78125 C -7.109375 -1.875 -7.578125 -2.328125 -7.578125 -3.375 C -7.578125 -4.328125 -7.03125 -4.90625 -6.125 -4.90625 C -5.453125 -4.90625 -4.96875 -4.546875 -4.53125 -3.796875 L -3.90625 -2.6875 C -2.90625 -0.90625 -2 -0.359375 0 -0.25 L 0 -6.203125 L -1.3125 -6.203125 L -1.3125 -1.75 C -1.875 -1.84375 -2.21875 -2.1875 -2.828125 -3.234375 L -3.484375 -4.421875 C -4.109375 -5.609375 -5.09375 -6.265625 -6.140625 -6.265625 Z M -6.140625 -6.265625 \"/>\n",
       "</symbol>\n",
       "<symbol overflow=\"visible\" id=\"glyph1-6\">\n",
       "<path style=\"stroke:none;\" d=\"M -2.609375 -6.203125 C -3.640625 -6.203125 -4.375 -5.65625 -4.71875 -4.625 L -4.453125 -4.625 C -4.765625 -5.421875 -5.453125 -5.953125 -6.296875 -5.953125 C -7.765625 -5.953125 -8.765625 -4.84375 -8.765625 -3.234375 C -8.765625 -1.515625 -7.703125 -0.453125 -5.765625 -0.421875 L -5.765625 -1.75 C -7.15625 -1.78125 -7.578125 -2.15625 -7.578125 -3.234375 C -7.578125 -4.171875 -7.15625 -4.59375 -6.265625 -4.59375 C -5.359375 -4.59375 -5.109375 -4.34375 -5.109375 -2.515625 L -3.953125 -2.515625 L -3.953125 -3.234375 C -3.953125 -4.390625 -3.546875 -4.84375 -2.59375 -4.84375 C -1.53125 -4.84375 -1.015625 -4.328125 -1.015625 -3.234375 C -1.015625 -2.078125 -1.46875 -1.640625 -2.828125 -1.5625 L -2.828125 -0.234375 C -0.796875 -0.375 0.1875 -1.453125 0.1875 -3.1875 C 0.1875 -4.9375 -1 -6.203125 -2.609375 -6.203125 Z M -2.609375 -6.203125 \"/>\n",
       "</symbol>\n",
       "<symbol overflow=\"visible\" id=\"glyph1-7\">\n",
       "<path style=\"stroke:none;\" d=\"M -3.234375 -6.25 C -5.40625 -6.25 -6.734375 -5.078125 -6.734375 -3.265625 C -6.734375 -1.5 -5.390625 -0.28125 -3.28125 -0.28125 C -1.15625 -0.28125 0.1875 -1.484375 0.1875 -3.28125 C 0.1875 -5.046875 -1.15625 -6.25 -3.234375 -6.25 Z M -3.234375 -4.9375 C -1.765625 -4.9375 -1.015625 -4.375 -1.015625 -3.28125 C -1.015625 -2.15625 -1.75 -1.609375 -3.28125 -1.609375 C -4.78125 -1.609375 -5.546875 -2.15625 -5.546875 -3.28125 C -5.546875 -4.40625 -4.796875 -4.9375 -3.234375 -4.9375 Z M -3.234375 -4.9375 \"/>\n",
       "</symbol>\n",
       "<symbol overflow=\"visible\" id=\"glyph1-8\">\n",
       "<path style=\"stroke:none;\" d=\"M -5.546875 -3.984375 L -6.6875 -3.984375 C -6.71875 -3.6875 -6.734375 -3.59375 -6.734375 -3.46875 C -6.734375 -2.8125 -6.3125 -2.21875 -5.375 -1.640625 L -5.28125 -1.890625 L -6.546875 -1.890625 L -6.546875 -0.703125 L 0 -0.703125 L 0 -1.96875 L -3.390625 -1.96875 C -4.8125 -1.96875 -5.390625 -2.296875 -5.40625 -3.984375 Z M -5.546875 -3.984375 \"/>\n",
       "</symbol>\n",
       "<symbol overflow=\"visible\" id=\"glyph1-9\">\n",
       "<path style=\"stroke:none;\" d=\"M -0.125 -6.078125 L -9.015625 -6.078125 L -9.015625 -4.796875 L -5.625 -4.796875 L -5.71875 -5.046875 C -6.359375 -4.625 -6.734375 -3.859375 -6.734375 -3.015625 C -6.734375 -1.375 -5.34375 -0.171875 -3.34375 -0.171875 C -1.21875 -0.171875 0.1875 -1.359375 0.1875 -3.046875 C 0.1875 -3.90625 -0.1875 -4.609375 -0.953125 -5.140625 L -1.0625 -4.90625 L 0 -4.90625 L 0 -6.078125 Z M -3.25 -4.796875 C -1.796875 -4.796875 -1.015625 -4.25 -1.015625 -3.1875 C -1.015625 -2.09375 -1.8125 -1.484375 -3.28125 -1.484375 C -4.734375 -1.484375 -5.53125 -2.09375 -5.53125 -3.1875 C -5.53125 -4.265625 -4.703125 -4.796875 -3.25 -4.796875 Z M -3.25 -4.796875 \"/>\n",
       "</symbol>\n",
       "<symbol overflow=\"visible\" id=\"glyph1-10\">\n",
       "<path style=\"stroke:none;\" d=\"M -2.984375 -6.28125 C -3.90625 -6.28125 -4.46875 -6.21875 -4.9375 -6.03125 C -5.96875 -5.625 -6.734375 -4.53125 -6.734375 -3.359375 C -6.734375 -1.609375 -5.296875 -0.34375 -3.234375 -0.34375 C -1.171875 -0.34375 0.1875 -1.578125 0.1875 -3.34375 C 0.1875 -4.78125 -0.765625 -5.90625 -2.171875 -6.1875 L -2.171875 -4.921875 C -1.21875 -4.59375 -1.015625 -4.171875 -1.015625 -3.375 C -1.015625 -2.328125 -1.546875 -1.6875 -2.859375 -1.65625 L -2.859375 -6.28125 Z M -3.78125 -5.1875 C -3.78125 -5.1875 -3.921875 -4.984375 -3.9375 -4.984375 L -3.9375 -1.6875 C -4.921875 -1.765625 -5.546875 -2.34375 -5.546875 -3.34375 C -5.546875 -4.328125 -4.859375 -4.9375 -3.875 -4.9375 Z M -3.78125 -5.1875 \"/>\n",
       "</symbol>\n",
       "<symbol overflow=\"visible\" id=\"glyph1-11\">\n",
       "<path style=\"stroke:none;\" d=\"M -0.125 -5.96875 L -4.890625 -5.96875 C -5.921875 -5.96875 -6.734375 -5.0625 -6.734375 -3.859375 C -6.734375 -2.921875 -6.34375 -2.203125 -5.453125 -1.65625 L -5.359375 -1.890625 L -6.546875 -1.890625 L -6.546875 -0.703125 L 0 -0.703125 L 0 -1.96875 L -3.59375 -1.96875 C -4.890625 -1.96875 -5.59375 -2.53125 -5.59375 -3.546875 C -5.59375 -4.34375 -5.25 -4.703125 -4.484375 -4.703125 L 0 -4.703125 L 0 -5.96875 Z M -0.125 -5.96875 \"/>\n",
       "</symbol>\n",
       "<symbol overflow=\"visible\" id=\"glyph1-12\">\n",
       "<path style=\"stroke:none;\" d=\"M -0.15625 -6.546875 L -1.078125 -6.546875 C -1.015625 -6.3125 -1.015625 -6.265625 -1.015625 -6.203125 C -1.015625 -5.859375 -1.0625 -5.796875 -1.375 -5.796875 L -4.890625 -5.796875 C -6 -5.796875 -6.734375 -4.84375 -6.734375 -3.296875 C -6.734375 -1.78125 -6.015625 -0.703125 -4.421875 -0.640625 L -4.421875 -1.90625 C -5.328125 -2 -5.546875 -2.328125 -5.546875 -3.265625 C -5.546875 -4.15625 -5.34375 -4.53125 -4.734375 -4.53125 L -4.46875 -4.53125 C -4.0625 -4.53125 -4.015625 -4.421875 -3.90625 -3.625 C -3.734375 -2.203125 -3.6875 -1.984375 -3.53125 -1.609375 C -3.234375 -0.875 -2.53125 -0.359375 -1.765625 -0.359375 C -0.625 -0.359375 0.1875 -1.296875 0.1875 -2.5625 C 0.1875 -3.375 -0.1875 -4.25 -0.59375 -4.625 C -0.390625 -4.671875 0.078125 -5.25 0.078125 -5.734375 C 0.078125 -5.9375 0.0625 -6.09375 -0.046875 -6.546875 Z M -2.296875 -4.53125 C -1.40625 -4.53125 -0.953125 -3.75 -0.953125 -2.78125 C -0.953125 -2 -1.109375 -1.6875 -1.78125 -1.6875 C -2.453125 -1.6875 -2.609375 -1.984375 -2.765625 -3.0625 C -2.90625 -4.109375 -2.953125 -4.328125 -3.03125 -4.53125 Z M -2.296875 -4.53125 \"/>\n",
       "</symbol>\n",
       "</g>\n",
       "</defs>\n",
       "<g id=\"surface87\">\n",
       "<rect x=\"0\" y=\"0\" width=\"360\" height=\"252\" style=\"fill:rgb(100%,100%,100%);fill-opacity:1;stroke:none;\"/>\n",
       "<path style=\"fill:none;stroke-width:0.75;stroke-linecap:round;stroke-linejoin:round;stroke:rgb(0%,0%,0%);stroke-opacity:1;stroke-miterlimit:10;\" d=\"M 242.484375 117.9375 L 228.203125 125.574219 L 275.679688 97.40625 L 284.734375 91.082031 L 156.429688 154.601562 L 155.078125 155.015625 L 217.863281 130.679688 L 180.980469 146.269531 L 290.179688 87.121094 L 125.507812 163.109375 L 111.25 166.386719 L 283.820312 91.738281 L 298.742188 80.648438 L 155.285156 154.953125 L 312.828125 69.332031 L 148.027344 157.117188 L 194.09375 141.175781 L 236.902344 121.007812 L 255.800781 110.1875 L 205.765625 136.230469 L 260.597656 107.238281 L 127.425781 162.640625 L 189.234375 143.117188 L 142.140625 158.789062 L 125.25 163.171875 L 177.992188 147.363281 L 188.488281 143.410156 L 116.449219 165.234375 L 232.628906 123.28125 L 151.710938 156.035156 L 319.734375 63.464844 L 69.066406 174.132812 L 272.242188 99.726562 L 307.972656 73.328125 L 111.0625 166.425781 L 112.148438 166.191406 L 269.242188 101.710938 L 90.496094 170.527344 L 136.289062 160.375 L 167.007812 151.195312 L 78.292969 172.65625 L 191.832031 142.085938 L 178.132812 147.3125 L 236.796875 121.0625 L 150.789062 156.308594 L 303.398438 77 L 146.476562 157.566406 L 289.824219 87.386719 L 214.429688 132.304688 L 249.5625 113.898438 L 104.457031 167.820312 L 72.148438 173.652344 L 303.902344 76.601562 L 140.210938 159.316406 L 158.269531 154.027344 L 93.757812 169.921875 L 115.457031 165.457031 L 175.644531 148.210938 L 126.574219 162.847656 L 136.976562 160.191406 L 223.710938 127.832031 L 289.445312 87.664062 L 272.722656 99.40625 L 303.996094 76.527344 L 216.242188 131.449219 L 262.289062 106.179688 L 297.601562 81.53125 L 240.890625 118.824219 L 154.273438 155.261719 L 100.691406 168.578125 L 186.90625 144.023438 L 272.769531 99.371094 L 222.675781 128.347656 L 188.929688 143.238281 L 88.800781 170.835938 L 293.53125 84.628906 L 136.332031 160.363281 L 120.25 164.363281 L 117.109375 165.085938 L 292.898438 85.101562 L 283.859375 91.710938 L 153.023438 155.640625 L 178.078125 147.335938 L 95.972656 169.5 L 153.832031 155.394531 L 170.9375 149.859375 L 127.53125 162.613281 L 273.261719 99.042969 L 148.6875 156.925781 L 105.417969 167.621094 L 220.957031 129.1875 L 219.878906 129.710938 L 94.289062 169.820312 L 105.136719 167.679688 L 87.410156 171.085938 L 105.4375 167.617188 L 120.019531 164.414062 L 110.503906 166.546875 L 222.738281 128.316406 L 249.980469 113.65625 \"/>\n",
       "<path style=\"fill:none;stroke-width:0.75;stroke-linecap:round;stroke-linejoin:round;stroke:rgb(0%,0%,0%);stroke-opacity:1;stroke-miterlimit:10;\" d=\"M 245.1875 117.9375 C 245.1875 121.539062 239.785156 121.539062 239.785156 117.9375 C 239.785156 114.339844 245.1875 114.339844 245.1875 117.9375 \"/>\n",
       "<path style=\"fill:none;stroke-width:0.75;stroke-linecap:round;stroke-linejoin:round;stroke:rgb(0%,0%,0%);stroke-opacity:1;stroke-miterlimit:10;\" d=\"M 230.902344 125.574219 C 230.902344 129.171875 225.503906 129.171875 225.503906 125.574219 C 225.503906 121.972656 230.902344 121.972656 230.902344 125.574219 \"/>\n",
       "<path style=\"fill:none;stroke-width:0.75;stroke-linecap:round;stroke-linejoin:round;stroke:rgb(0%,0%,0%);stroke-opacity:1;stroke-miterlimit:10;\" d=\"M 278.382812 97.40625 C 278.382812 101.007812 272.980469 101.007812 272.980469 97.40625 C 272.980469 93.808594 278.382812 93.808594 278.382812 97.40625 \"/>\n",
       "<path style=\"fill:none;stroke-width:0.75;stroke-linecap:round;stroke-linejoin:round;stroke:rgb(0%,0%,0%);stroke-opacity:1;stroke-miterlimit:10;\" d=\"M 287.4375 91.082031 C 287.4375 94.683594 282.035156 94.683594 282.035156 91.082031 C 282.035156 87.484375 287.4375 87.484375 287.4375 91.082031 \"/>\n",
       "<path style=\"fill:none;stroke-width:0.75;stroke-linecap:round;stroke-linejoin:round;stroke:rgb(0%,0%,0%);stroke-opacity:1;stroke-miterlimit:10;\" d=\"M 159.132812 154.601562 C 159.132812 158.199219 153.730469 158.199219 153.730469 154.601562 C 153.730469 151 159.132812 151 159.132812 154.601562 \"/>\n",
       "<path style=\"fill:none;stroke-width:0.75;stroke-linecap:round;stroke-linejoin:round;stroke:rgb(0%,0%,0%);stroke-opacity:1;stroke-miterlimit:10;\" d=\"M 157.777344 155.015625 C 157.777344 158.617188 152.378906 158.617188 152.378906 155.015625 C 152.378906 151.417969 157.777344 151.417969 157.777344 155.015625 \"/>\n",
       "<path style=\"fill:none;stroke-width:0.75;stroke-linecap:round;stroke-linejoin:round;stroke:rgb(0%,0%,0%);stroke-opacity:1;stroke-miterlimit:10;\" d=\"M 220.5625 130.679688 C 220.5625 134.28125 215.164062 134.28125 215.164062 130.679688 C 215.164062 127.082031 220.5625 127.082031 220.5625 130.679688 \"/>\n",
       "<path style=\"fill:none;stroke-width:0.75;stroke-linecap:round;stroke-linejoin:round;stroke:rgb(0%,0%,0%);stroke-opacity:1;stroke-miterlimit:10;\" d=\"M 183.679688 146.269531 C 183.679688 149.871094 178.28125 149.871094 178.28125 146.269531 C 178.28125 142.667969 183.679688 142.667969 183.679688 146.269531 \"/>\n",
       "<path style=\"fill:none;stroke-width:0.75;stroke-linecap:round;stroke-linejoin:round;stroke:rgb(0%,0%,0%);stroke-opacity:1;stroke-miterlimit:10;\" d=\"M 292.882812 87.121094 C 292.882812 90.722656 287.480469 90.722656 287.480469 87.121094 C 287.480469 83.523438 292.882812 83.523438 292.882812 87.121094 \"/>\n",
       "<path style=\"fill:none;stroke-width:0.75;stroke-linecap:round;stroke-linejoin:round;stroke:rgb(0%,0%,0%);stroke-opacity:1;stroke-miterlimit:10;\" d=\"M 128.207031 163.109375 C 128.207031 166.710938 122.808594 166.710938 122.808594 163.109375 C 122.808594 159.507812 128.207031 159.507812 128.207031 163.109375 \"/>\n",
       "<path style=\"fill:none;stroke-width:0.75;stroke-linecap:round;stroke-linejoin:round;stroke:rgb(0%,0%,0%);stroke-opacity:1;stroke-miterlimit:10;\" d=\"M 113.949219 166.386719 C 113.949219 169.984375 108.550781 169.984375 108.550781 166.386719 C 108.550781 162.785156 113.949219 162.785156 113.949219 166.386719 \"/>\n",
       "<path style=\"fill:none;stroke-width:0.75;stroke-linecap:round;stroke-linejoin:round;stroke:rgb(0%,0%,0%);stroke-opacity:1;stroke-miterlimit:10;\" d=\"M 286.519531 91.738281 C 286.519531 95.335938 281.121094 95.335938 281.121094 91.738281 C 281.121094 88.136719 286.519531 88.136719 286.519531 91.738281 \"/>\n",
       "<path style=\"fill:none;stroke-width:0.75;stroke-linecap:round;stroke-linejoin:round;stroke:rgb(0%,0%,0%);stroke-opacity:1;stroke-miterlimit:10;\" d=\"M 301.445312 80.648438 C 301.445312 84.25 296.042969 84.25 296.042969 80.648438 C 296.042969 77.050781 301.445312 77.050781 301.445312 80.648438 \"/>\n",
       "<path style=\"fill:none;stroke-width:0.75;stroke-linecap:round;stroke-linejoin:round;stroke:rgb(0%,0%,0%);stroke-opacity:1;stroke-miterlimit:10;\" d=\"M 157.984375 154.953125 C 157.984375 158.550781 152.585938 158.550781 152.585938 154.953125 C 152.585938 151.351562 157.984375 151.351562 157.984375 154.953125 \"/>\n",
       "<path style=\"fill:none;stroke-width:0.75;stroke-linecap:round;stroke-linejoin:round;stroke:rgb(0%,0%,0%);stroke-opacity:1;stroke-miterlimit:10;\" d=\"M 315.527344 69.332031 C 315.527344 72.929688 310.128906 72.929688 310.128906 69.332031 C 310.128906 65.730469 315.527344 65.730469 315.527344 69.332031 \"/>\n",
       "<path style=\"fill:none;stroke-width:0.75;stroke-linecap:round;stroke-linejoin:round;stroke:rgb(0%,0%,0%);stroke-opacity:1;stroke-miterlimit:10;\" d=\"M 150.730469 157.117188 C 150.730469 160.71875 145.328125 160.71875 145.328125 157.117188 C 145.328125 153.515625 150.730469 153.515625 150.730469 157.117188 \"/>\n",
       "<path style=\"fill:none;stroke-width:0.75;stroke-linecap:round;stroke-linejoin:round;stroke:rgb(0%,0%,0%);stroke-opacity:1;stroke-miterlimit:10;\" d=\"M 196.792969 141.175781 C 196.792969 144.773438 191.394531 144.773438 191.394531 141.175781 C 191.394531 137.574219 196.792969 137.574219 196.792969 141.175781 \"/>\n",
       "<path style=\"fill:none;stroke-width:0.75;stroke-linecap:round;stroke-linejoin:round;stroke:rgb(0%,0%,0%);stroke-opacity:1;stroke-miterlimit:10;\" d=\"M 239.601562 121.007812 C 239.601562 124.605469 234.199219 124.605469 234.199219 121.007812 C 234.199219 117.40625 239.601562 117.40625 239.601562 121.007812 \"/>\n",
       "<path style=\"fill:none;stroke-width:0.75;stroke-linecap:round;stroke-linejoin:round;stroke:rgb(0%,0%,0%);stroke-opacity:1;stroke-miterlimit:10;\" d=\"M 258.5 110.1875 C 258.5 113.789062 253.101562 113.789062 253.101562 110.1875 C 253.101562 106.585938 258.5 106.585938 258.5 110.1875 \"/>\n",
       "<path style=\"fill:none;stroke-width:0.75;stroke-linecap:round;stroke-linejoin:round;stroke:rgb(0%,0%,0%);stroke-opacity:1;stroke-miterlimit:10;\" d=\"M 208.464844 136.230469 C 208.464844 139.832031 203.066406 139.832031 203.066406 136.230469 C 203.066406 132.632812 208.464844 132.632812 208.464844 136.230469 \"/>\n",
       "<path style=\"fill:none;stroke-width:0.75;stroke-linecap:round;stroke-linejoin:round;stroke:rgb(0%,0%,0%);stroke-opacity:1;stroke-miterlimit:10;\" d=\"M 263.300781 107.238281 C 263.300781 110.839844 257.898438 110.839844 257.898438 107.238281 C 257.898438 103.636719 263.300781 103.636719 263.300781 107.238281 \"/>\n",
       "<path style=\"fill:none;stroke-width:0.75;stroke-linecap:round;stroke-linejoin:round;stroke:rgb(0%,0%,0%);stroke-opacity:1;stroke-miterlimit:10;\" d=\"M 130.125 162.640625 C 130.125 166.238281 124.726562 166.238281 124.726562 162.640625 C 124.726562 159.039062 130.125 159.039062 130.125 162.640625 \"/>\n",
       "<path style=\"fill:none;stroke-width:0.75;stroke-linecap:round;stroke-linejoin:round;stroke:rgb(0%,0%,0%);stroke-opacity:1;stroke-miterlimit:10;\" d=\"M 191.933594 143.117188 C 191.933594 146.71875 186.535156 146.71875 186.535156 143.117188 C 186.535156 139.519531 191.933594 139.519531 191.933594 143.117188 \"/>\n",
       "<path style=\"fill:none;stroke-width:0.75;stroke-linecap:round;stroke-linejoin:round;stroke:rgb(0%,0%,0%);stroke-opacity:1;stroke-miterlimit:10;\" d=\"M 144.839844 158.789062 C 144.839844 162.386719 139.441406 162.386719 139.441406 158.789062 C 139.441406 155.1875 144.839844 155.1875 144.839844 158.789062 \"/>\n",
       "<path style=\"fill:none;stroke-width:0.75;stroke-linecap:round;stroke-linejoin:round;stroke:rgb(0%,0%,0%);stroke-opacity:1;stroke-miterlimit:10;\" d=\"M 127.949219 163.171875 C 127.949219 166.773438 122.550781 166.773438 122.550781 163.171875 C 122.550781 159.574219 127.949219 159.574219 127.949219 163.171875 \"/>\n",
       "<path style=\"fill:none;stroke-width:0.75;stroke-linecap:round;stroke-linejoin:round;stroke:rgb(0%,0%,0%);stroke-opacity:1;stroke-miterlimit:10;\" d=\"M 180.691406 147.363281 C 180.691406 150.964844 175.292969 150.964844 175.292969 147.363281 C 175.292969 143.765625 180.691406 143.765625 180.691406 147.363281 \"/>\n",
       "<path style=\"fill:none;stroke-width:0.75;stroke-linecap:round;stroke-linejoin:round;stroke:rgb(0%,0%,0%);stroke-opacity:1;stroke-miterlimit:10;\" d=\"M 191.1875 143.410156 C 191.1875 147.011719 185.789062 147.011719 185.789062 143.410156 C 185.789062 139.8125 191.1875 139.8125 191.1875 143.410156 \"/>\n",
       "<path style=\"fill:none;stroke-width:0.75;stroke-linecap:round;stroke-linejoin:round;stroke:rgb(0%,0%,0%);stroke-opacity:1;stroke-miterlimit:10;\" d=\"M 119.148438 165.234375 C 119.148438 168.835938 113.75 168.835938 113.75 165.234375 C 113.75 161.632812 119.148438 161.632812 119.148438 165.234375 \"/>\n",
       "<path style=\"fill:none;stroke-width:0.75;stroke-linecap:round;stroke-linejoin:round;stroke:rgb(0%,0%,0%);stroke-opacity:1;stroke-miterlimit:10;\" d=\"M 235.328125 123.28125 C 235.328125 126.878906 229.929688 126.878906 229.929688 123.28125 C 229.929688 119.679688 235.328125 119.679688 235.328125 123.28125 \"/>\n",
       "<path style=\"fill:none;stroke-width:0.75;stroke-linecap:round;stroke-linejoin:round;stroke:rgb(0%,0%,0%);stroke-opacity:1;stroke-miterlimit:10;\" d=\"M 154.410156 156.035156 C 154.410156 159.632812 149.011719 159.632812 149.011719 156.035156 C 149.011719 152.433594 154.410156 152.433594 154.410156 156.035156 \"/>\n",
       "<path style=\"fill:none;stroke-width:0.75;stroke-linecap:round;stroke-linejoin:round;stroke:rgb(0%,0%,0%);stroke-opacity:1;stroke-miterlimit:10;\" d=\"M 322.433594 63.464844 C 322.433594 67.066406 317.035156 67.066406 317.035156 63.464844 C 317.035156 59.867188 322.433594 59.867188 322.433594 63.464844 \"/>\n",
       "<path style=\"fill:none;stroke-width:0.75;stroke-linecap:round;stroke-linejoin:round;stroke:rgb(0%,0%,0%);stroke-opacity:1;stroke-miterlimit:10;\" d=\"M 71.765625 174.132812 C 71.765625 177.734375 66.367188 177.734375 66.367188 174.132812 C 66.367188 170.535156 71.765625 170.535156 71.765625 174.132812 \"/>\n",
       "<path style=\"fill:none;stroke-width:0.75;stroke-linecap:round;stroke-linejoin:round;stroke:rgb(0%,0%,0%);stroke-opacity:1;stroke-miterlimit:10;\" d=\"M 274.941406 99.726562 C 274.941406 103.324219 269.542969 103.324219 269.542969 99.726562 C 269.542969 96.125 274.941406 96.125 274.941406 99.726562 \"/>\n",
       "<path style=\"fill:none;stroke-width:0.75;stroke-linecap:round;stroke-linejoin:round;stroke:rgb(0%,0%,0%);stroke-opacity:1;stroke-miterlimit:10;\" d=\"M 310.671875 73.328125 C 310.671875 76.929688 305.273438 76.929688 305.273438 73.328125 C 305.273438 69.730469 310.671875 69.730469 310.671875 73.328125 \"/>\n",
       "<path style=\"fill:none;stroke-width:0.75;stroke-linecap:round;stroke-linejoin:round;stroke:rgb(0%,0%,0%);stroke-opacity:1;stroke-miterlimit:10;\" d=\"M 113.765625 166.425781 C 113.765625 170.027344 108.363281 170.027344 108.363281 166.425781 C 108.363281 162.824219 113.765625 162.824219 113.765625 166.425781 \"/>\n",
       "<path style=\"fill:none;stroke-width:0.75;stroke-linecap:round;stroke-linejoin:round;stroke:rgb(0%,0%,0%);stroke-opacity:1;stroke-miterlimit:10;\" d=\"M 114.847656 166.191406 C 114.847656 169.789062 109.449219 169.789062 109.449219 166.191406 C 109.449219 162.589844 114.847656 162.589844 114.847656 166.191406 \"/>\n",
       "<path style=\"fill:none;stroke-width:0.75;stroke-linecap:round;stroke-linejoin:round;stroke:rgb(0%,0%,0%);stroke-opacity:1;stroke-miterlimit:10;\" d=\"M 271.941406 101.710938 C 271.941406 105.3125 266.542969 105.3125 266.542969 101.710938 C 266.542969 98.109375 271.941406 98.109375 271.941406 101.710938 \"/>\n",
       "<path style=\"fill:none;stroke-width:0.75;stroke-linecap:round;stroke-linejoin:round;stroke:rgb(0%,0%,0%);stroke-opacity:1;stroke-miterlimit:10;\" d=\"M 93.195312 170.527344 C 93.195312 174.128906 87.792969 174.128906 87.792969 170.527344 C 87.792969 166.925781 93.195312 166.925781 93.195312 170.527344 \"/>\n",
       "<path style=\"fill:none;stroke-width:0.75;stroke-linecap:round;stroke-linejoin:round;stroke:rgb(0%,0%,0%);stroke-opacity:1;stroke-miterlimit:10;\" d=\"M 138.988281 160.375 C 138.988281 163.972656 133.585938 163.972656 133.585938 160.375 C 133.585938 156.773438 138.988281 156.773438 138.988281 160.375 \"/>\n",
       "<path style=\"fill:none;stroke-width:0.75;stroke-linecap:round;stroke-linejoin:round;stroke:rgb(0%,0%,0%);stroke-opacity:1;stroke-miterlimit:10;\" d=\"M 169.707031 151.195312 C 169.707031 154.796875 164.308594 154.796875 164.308594 151.195312 C 164.308594 147.59375 169.707031 147.59375 169.707031 151.195312 \"/>\n",
       "<path style=\"fill:none;stroke-width:0.75;stroke-linecap:round;stroke-linejoin:round;stroke:rgb(0%,0%,0%);stroke-opacity:1;stroke-miterlimit:10;\" d=\"M 80.992188 172.65625 C 80.992188 176.257812 75.59375 176.257812 75.59375 172.65625 C 75.59375 169.054688 80.992188 169.054688 80.992188 172.65625 \"/>\n",
       "<path style=\"fill:none;stroke-width:0.75;stroke-linecap:round;stroke-linejoin:round;stroke:rgb(0%,0%,0%);stroke-opacity:1;stroke-miterlimit:10;\" d=\"M 194.53125 142.085938 C 194.53125 145.6875 189.132812 145.6875 189.132812 142.085938 C 189.132812 138.488281 194.53125 138.488281 194.53125 142.085938 \"/>\n",
       "<path style=\"fill:none;stroke-width:0.75;stroke-linecap:round;stroke-linejoin:round;stroke:rgb(0%,0%,0%);stroke-opacity:1;stroke-miterlimit:10;\" d=\"M 180.832031 147.3125 C 180.832031 150.914062 175.433594 150.914062 175.433594 147.3125 C 175.433594 143.714844 180.832031 143.714844 180.832031 147.3125 \"/>\n",
       "<path style=\"fill:none;stroke-width:0.75;stroke-linecap:round;stroke-linejoin:round;stroke:rgb(0%,0%,0%);stroke-opacity:1;stroke-miterlimit:10;\" d=\"M 239.496094 121.0625 C 239.496094 124.660156 234.097656 124.660156 234.097656 121.0625 C 234.097656 117.460938 239.496094 117.460938 239.496094 121.0625 \"/>\n",
       "<path style=\"fill:none;stroke-width:0.75;stroke-linecap:round;stroke-linejoin:round;stroke:rgb(0%,0%,0%);stroke-opacity:1;stroke-miterlimit:10;\" d=\"M 153.488281 156.308594 C 153.488281 159.910156 148.085938 159.910156 148.085938 156.308594 C 148.085938 152.707031 153.488281 152.707031 153.488281 156.308594 \"/>\n",
       "<path style=\"fill:none;stroke-width:0.75;stroke-linecap:round;stroke-linejoin:round;stroke:rgb(0%,0%,0%);stroke-opacity:1;stroke-miterlimit:10;\" d=\"M 306.101562 77 C 306.101562 80.601562 300.699219 80.601562 300.699219 77 C 300.699219 73.402344 306.101562 73.402344 306.101562 77 \"/>\n",
       "<path style=\"fill:none;stroke-width:0.75;stroke-linecap:round;stroke-linejoin:round;stroke:rgb(0%,0%,0%);stroke-opacity:1;stroke-miterlimit:10;\" d=\"M 149.175781 157.566406 C 149.175781 161.164062 143.777344 161.164062 143.777344 157.566406 C 143.777344 153.964844 149.175781 153.964844 149.175781 157.566406 \"/>\n",
       "<path style=\"fill:none;stroke-width:0.75;stroke-linecap:round;stroke-linejoin:round;stroke:rgb(0%,0%,0%);stroke-opacity:1;stroke-miterlimit:10;\" d=\"M 292.523438 87.386719 C 292.523438 90.984375 287.125 90.984375 287.125 87.386719 C 287.125 83.785156 292.523438 83.785156 292.523438 87.386719 \"/>\n",
       "<path style=\"fill:none;stroke-width:0.75;stroke-linecap:round;stroke-linejoin:round;stroke:rgb(0%,0%,0%);stroke-opacity:1;stroke-miterlimit:10;\" d=\"M 217.128906 132.304688 C 217.128906 135.902344 211.726562 135.902344 211.726562 132.304688 C 211.726562 128.703125 217.128906 128.703125 217.128906 132.304688 \"/>\n",
       "<path style=\"fill:none;stroke-width:0.75;stroke-linecap:round;stroke-linejoin:round;stroke:rgb(0%,0%,0%);stroke-opacity:1;stroke-miterlimit:10;\" d=\"M 252.265625 113.898438 C 252.265625 117.496094 246.863281 117.496094 246.863281 113.898438 C 246.863281 110.296875 252.265625 110.296875 252.265625 113.898438 \"/>\n",
       "<path style=\"fill:none;stroke-width:0.75;stroke-linecap:round;stroke-linejoin:round;stroke:rgb(0%,0%,0%);stroke-opacity:1;stroke-miterlimit:10;\" d=\"M 107.15625 167.820312 C 107.15625 171.417969 101.757812 171.417969 101.757812 167.820312 C 101.757812 164.21875 107.15625 164.21875 107.15625 167.820312 \"/>\n",
       "<path style=\"fill:none;stroke-width:0.75;stroke-linecap:round;stroke-linejoin:round;stroke:rgb(0%,0%,0%);stroke-opacity:1;stroke-miterlimit:10;\" d=\"M 74.847656 173.652344 C 74.847656 177.25 69.449219 177.25 69.449219 173.652344 C 69.449219 170.050781 74.847656 170.050781 74.847656 173.652344 \"/>\n",
       "<path style=\"fill:none;stroke-width:0.75;stroke-linecap:round;stroke-linejoin:round;stroke:rgb(0%,0%,0%);stroke-opacity:1;stroke-miterlimit:10;\" d=\"M 306.601562 76.601562 C 306.601562 80.203125 301.199219 80.203125 301.199219 76.601562 C 301.199219 73.003906 306.601562 73.003906 306.601562 76.601562 \"/>\n",
       "<path style=\"fill:none;stroke-width:0.75;stroke-linecap:round;stroke-linejoin:round;stroke:rgb(0%,0%,0%);stroke-opacity:1;stroke-miterlimit:10;\" d=\"M 142.914062 159.316406 C 142.914062 162.917969 137.511719 162.917969 137.511719 159.316406 C 137.511719 155.71875 142.914062 155.71875 142.914062 159.316406 \"/>\n",
       "<path style=\"fill:none;stroke-width:0.75;stroke-linecap:round;stroke-linejoin:round;stroke:rgb(0%,0%,0%);stroke-opacity:1;stroke-miterlimit:10;\" d=\"M 160.96875 154.027344 C 160.96875 157.628906 155.570312 157.628906 155.570312 154.027344 C 155.570312 150.425781 160.96875 150.425781 160.96875 154.027344 \"/>\n",
       "<path style=\"fill:none;stroke-width:0.75;stroke-linecap:round;stroke-linejoin:round;stroke:rgb(0%,0%,0%);stroke-opacity:1;stroke-miterlimit:10;\" d=\"M 96.457031 169.921875 C 96.457031 173.523438 91.054688 173.523438 91.054688 169.921875 C 91.054688 166.320312 96.457031 166.320312 96.457031 169.921875 \"/>\n",
       "<path style=\"fill:none;stroke-width:0.75;stroke-linecap:round;stroke-linejoin:round;stroke:rgb(0%,0%,0%);stroke-opacity:1;stroke-miterlimit:10;\" d=\"M 118.15625 165.457031 C 118.15625 169.058594 112.757812 169.058594 112.757812 165.457031 C 112.757812 161.859375 118.15625 161.859375 118.15625 165.457031 \"/>\n",
       "<path style=\"fill:none;stroke-width:0.75;stroke-linecap:round;stroke-linejoin:round;stroke:rgb(0%,0%,0%);stroke-opacity:1;stroke-miterlimit:10;\" d=\"M 178.347656 148.210938 C 178.347656 151.808594 172.945312 151.808594 172.945312 148.210938 C 172.945312 144.609375 178.347656 144.609375 178.347656 148.210938 \"/>\n",
       "<path style=\"fill:none;stroke-width:0.75;stroke-linecap:round;stroke-linejoin:round;stroke:rgb(0%,0%,0%);stroke-opacity:1;stroke-miterlimit:10;\" d=\"M 129.277344 162.847656 C 129.277344 166.449219 123.875 166.449219 123.875 162.847656 C 123.875 159.25 129.277344 159.25 129.277344 162.847656 \"/>\n",
       "<path style=\"fill:none;stroke-width:0.75;stroke-linecap:round;stroke-linejoin:round;stroke:rgb(0%,0%,0%);stroke-opacity:1;stroke-miterlimit:10;\" d=\"M 139.679688 160.191406 C 139.679688 163.789062 134.277344 163.789062 134.277344 160.191406 C 134.277344 156.589844 139.679688 156.589844 139.679688 160.191406 \"/>\n",
       "<path style=\"fill:none;stroke-width:0.75;stroke-linecap:round;stroke-linejoin:round;stroke:rgb(0%,0%,0%);stroke-opacity:1;stroke-miterlimit:10;\" d=\"M 226.414062 127.832031 C 226.414062 131.433594 221.011719 131.433594 221.011719 127.832031 C 221.011719 124.234375 226.414062 124.234375 226.414062 127.832031 \"/>\n",
       "<path style=\"fill:none;stroke-width:0.75;stroke-linecap:round;stroke-linejoin:round;stroke:rgb(0%,0%,0%);stroke-opacity:1;stroke-miterlimit:10;\" d=\"M 292.144531 87.664062 C 292.144531 91.265625 286.746094 91.265625 286.746094 87.664062 C 286.746094 84.066406 292.144531 84.066406 292.144531 87.664062 \"/>\n",
       "<path style=\"fill:none;stroke-width:0.75;stroke-linecap:round;stroke-linejoin:round;stroke:rgb(0%,0%,0%);stroke-opacity:1;stroke-miterlimit:10;\" d=\"M 275.421875 99.40625 C 275.421875 103.003906 270.019531 103.003906 270.019531 99.40625 C 270.019531 95.804688 275.421875 95.804688 275.421875 99.40625 \"/>\n",
       "<path style=\"fill:none;stroke-width:0.75;stroke-linecap:round;stroke-linejoin:round;stroke:rgb(0%,0%,0%);stroke-opacity:1;stroke-miterlimit:10;\" d=\"M 306.695312 76.527344 C 306.695312 80.128906 301.292969 80.128906 301.292969 76.527344 C 301.292969 72.929688 306.695312 72.929688 306.695312 76.527344 \"/>\n",
       "<path style=\"fill:none;stroke-width:0.75;stroke-linecap:round;stroke-linejoin:round;stroke:rgb(0%,0%,0%);stroke-opacity:1;stroke-miterlimit:10;\" d=\"M 218.945312 131.449219 C 218.945312 135.050781 213.542969 135.050781 213.542969 131.449219 C 213.542969 127.851562 218.945312 127.851562 218.945312 131.449219 \"/>\n",
       "<path style=\"fill:none;stroke-width:0.75;stroke-linecap:round;stroke-linejoin:round;stroke:rgb(0%,0%,0%);stroke-opacity:1;stroke-miterlimit:10;\" d=\"M 264.988281 106.179688 C 264.988281 109.777344 259.589844 109.777344 259.589844 106.179688 C 259.589844 102.578125 264.988281 102.578125 264.988281 106.179688 \"/>\n",
       "<path style=\"fill:none;stroke-width:0.75;stroke-linecap:round;stroke-linejoin:round;stroke:rgb(0%,0%,0%);stroke-opacity:1;stroke-miterlimit:10;\" d=\"M 300.300781 81.53125 C 300.300781 85.132812 294.902344 85.132812 294.902344 81.53125 C 294.902344 77.933594 300.300781 77.933594 300.300781 81.53125 \"/>\n",
       "<path style=\"fill:none;stroke-width:0.75;stroke-linecap:round;stroke-linejoin:round;stroke:rgb(0%,0%,0%);stroke-opacity:1;stroke-miterlimit:10;\" d=\"M 243.59375 118.824219 C 243.59375 122.425781 238.191406 122.425781 238.191406 118.824219 C 238.191406 115.226562 243.59375 115.226562 243.59375 118.824219 \"/>\n",
       "<path style=\"fill:none;stroke-width:0.75;stroke-linecap:round;stroke-linejoin:round;stroke:rgb(0%,0%,0%);stroke-opacity:1;stroke-miterlimit:10;\" d=\"M 156.972656 155.261719 C 156.972656 158.863281 151.574219 158.863281 151.574219 155.261719 C 151.574219 151.660156 156.972656 151.660156 156.972656 155.261719 \"/>\n",
       "<path style=\"fill:none;stroke-width:0.75;stroke-linecap:round;stroke-linejoin:round;stroke:rgb(0%,0%,0%);stroke-opacity:1;stroke-miterlimit:10;\" d=\"M 103.390625 168.578125 C 103.390625 172.179688 97.992188 172.179688 97.992188 168.578125 C 97.992188 164.980469 103.390625 164.980469 103.390625 168.578125 \"/>\n",
       "<path style=\"fill:none;stroke-width:0.75;stroke-linecap:round;stroke-linejoin:round;stroke:rgb(0%,0%,0%);stroke-opacity:1;stroke-miterlimit:10;\" d=\"M 189.605469 144.023438 C 189.605469 147.625 184.207031 147.625 184.207031 144.023438 C 184.207031 140.425781 189.605469 140.425781 189.605469 144.023438 \"/>\n",
       "<path style=\"fill:none;stroke-width:0.75;stroke-linecap:round;stroke-linejoin:round;stroke:rgb(0%,0%,0%);stroke-opacity:1;stroke-miterlimit:10;\" d=\"M 275.46875 99.371094 C 275.46875 102.972656 270.070312 102.972656 270.070312 99.371094 C 270.070312 95.773438 275.46875 95.773438 275.46875 99.371094 \"/>\n",
       "<path style=\"fill:none;stroke-width:0.75;stroke-linecap:round;stroke-linejoin:round;stroke:rgb(0%,0%,0%);stroke-opacity:1;stroke-miterlimit:10;\" d=\"M 225.375 128.347656 C 225.375 131.945312 219.976562 131.945312 219.976562 128.347656 C 219.976562 124.746094 225.375 124.746094 225.375 128.347656 \"/>\n",
       "<path style=\"fill:none;stroke-width:0.75;stroke-linecap:round;stroke-linejoin:round;stroke:rgb(0%,0%,0%);stroke-opacity:1;stroke-miterlimit:10;\" d=\"M 191.628906 143.238281 C 191.628906 146.835938 186.230469 146.835938 186.230469 143.238281 C 186.230469 139.636719 191.628906 139.636719 191.628906 143.238281 \"/>\n",
       "<path style=\"fill:none;stroke-width:0.75;stroke-linecap:round;stroke-linejoin:round;stroke:rgb(0%,0%,0%);stroke-opacity:1;stroke-miterlimit:10;\" d=\"M 91.5 170.835938 C 91.5 174.433594 86.101562 174.433594 86.101562 170.835938 C 86.101562 167.234375 91.5 167.234375 91.5 170.835938 \"/>\n",
       "<path style=\"fill:none;stroke-width:0.75;stroke-linecap:round;stroke-linejoin:round;stroke:rgb(0%,0%,0%);stroke-opacity:1;stroke-miterlimit:10;\" d=\"M 296.230469 84.628906 C 296.230469 88.226562 290.832031 88.226562 290.832031 84.628906 C 290.832031 81.027344 296.230469 81.027344 296.230469 84.628906 \"/>\n",
       "<path style=\"fill:none;stroke-width:0.75;stroke-linecap:round;stroke-linejoin:round;stroke:rgb(0%,0%,0%);stroke-opacity:1;stroke-miterlimit:10;\" d=\"M 139.03125 160.363281 C 139.03125 163.960938 133.632812 163.960938 133.632812 160.363281 C 133.632812 156.761719 139.03125 156.761719 139.03125 160.363281 \"/>\n",
       "<path style=\"fill:none;stroke-width:0.75;stroke-linecap:round;stroke-linejoin:round;stroke:rgb(0%,0%,0%);stroke-opacity:1;stroke-miterlimit:10;\" d=\"M 122.949219 164.363281 C 122.949219 167.960938 117.546875 167.960938 117.546875 164.363281 C 117.546875 160.761719 122.949219 160.761719 122.949219 164.363281 \"/>\n",
       "<path style=\"fill:none;stroke-width:0.75;stroke-linecap:round;stroke-linejoin:round;stroke:rgb(0%,0%,0%);stroke-opacity:1;stroke-miterlimit:10;\" d=\"M 119.8125 165.085938 C 119.8125 168.683594 114.410156 168.683594 114.410156 165.085938 C 114.410156 161.484375 119.8125 161.484375 119.8125 165.085938 \"/>\n",
       "<path style=\"fill:none;stroke-width:0.75;stroke-linecap:round;stroke-linejoin:round;stroke:rgb(0%,0%,0%);stroke-opacity:1;stroke-miterlimit:10;\" d=\"M 295.597656 85.101562 C 295.597656 88.703125 290.199219 88.703125 290.199219 85.101562 C 290.199219 81.5 295.597656 81.5 295.597656 85.101562 \"/>\n",
       "<path style=\"fill:none;stroke-width:0.75;stroke-linecap:round;stroke-linejoin:round;stroke:rgb(0%,0%,0%);stroke-opacity:1;stroke-miterlimit:10;\" d=\"M 286.558594 91.710938 C 286.558594 95.308594 281.160156 95.308594 281.160156 91.710938 C 281.160156 88.109375 286.558594 88.109375 286.558594 91.710938 \"/>\n",
       "<path style=\"fill:none;stroke-width:0.75;stroke-linecap:round;stroke-linejoin:round;stroke:rgb(0%,0%,0%);stroke-opacity:1;stroke-miterlimit:10;\" d=\"M 155.722656 155.640625 C 155.722656 159.242188 150.320312 159.242188 150.320312 155.640625 C 150.320312 152.039062 155.722656 152.039062 155.722656 155.640625 \"/>\n",
       "<path style=\"fill:none;stroke-width:0.75;stroke-linecap:round;stroke-linejoin:round;stroke:rgb(0%,0%,0%);stroke-opacity:1;stroke-miterlimit:10;\" d=\"M 180.777344 147.335938 C 180.777344 150.933594 175.378906 150.933594 175.378906 147.335938 C 175.378906 143.734375 180.777344 143.734375 180.777344 147.335938 \"/>\n",
       "<path style=\"fill:none;stroke-width:0.75;stroke-linecap:round;stroke-linejoin:round;stroke:rgb(0%,0%,0%);stroke-opacity:1;stroke-miterlimit:10;\" d=\"M 98.671875 169.5 C 98.671875 173.101562 93.273438 173.101562 93.273438 169.5 C 93.273438 165.902344 98.671875 165.902344 98.671875 169.5 \"/>\n",
       "<path style=\"fill:none;stroke-width:0.75;stroke-linecap:round;stroke-linejoin:round;stroke:rgb(0%,0%,0%);stroke-opacity:1;stroke-miterlimit:10;\" d=\"M 156.53125 155.394531 C 156.53125 158.996094 151.132812 158.996094 151.132812 155.394531 C 151.132812 151.796875 156.53125 151.796875 156.53125 155.394531 \"/>\n",
       "<path style=\"fill:none;stroke-width:0.75;stroke-linecap:round;stroke-linejoin:round;stroke:rgb(0%,0%,0%);stroke-opacity:1;stroke-miterlimit:10;\" d=\"M 173.636719 149.859375 C 173.636719 153.460938 168.234375 153.460938 168.234375 149.859375 C 168.234375 146.261719 173.636719 146.261719 173.636719 149.859375 \"/>\n",
       "<path style=\"fill:none;stroke-width:0.75;stroke-linecap:round;stroke-linejoin:round;stroke:rgb(0%,0%,0%);stroke-opacity:1;stroke-miterlimit:10;\" d=\"M 130.234375 162.613281 C 130.234375 166.214844 124.832031 166.214844 124.832031 162.613281 C 124.832031 159.011719 130.234375 159.011719 130.234375 162.613281 \"/>\n",
       "<path style=\"fill:none;stroke-width:0.75;stroke-linecap:round;stroke-linejoin:round;stroke:rgb(0%,0%,0%);stroke-opacity:1;stroke-miterlimit:10;\" d=\"M 275.964844 99.042969 C 275.964844 102.640625 270.5625 102.640625 270.5625 99.042969 C 270.5625 95.441406 275.964844 95.441406 275.964844 99.042969 \"/>\n",
       "<path style=\"fill:none;stroke-width:0.75;stroke-linecap:round;stroke-linejoin:round;stroke:rgb(0%,0%,0%);stroke-opacity:1;stroke-miterlimit:10;\" d=\"M 151.386719 156.925781 C 151.386719 160.527344 145.988281 160.527344 145.988281 156.925781 C 145.988281 153.324219 151.386719 153.324219 151.386719 156.925781 \"/>\n",
       "<path style=\"fill:none;stroke-width:0.75;stroke-linecap:round;stroke-linejoin:round;stroke:rgb(0%,0%,0%);stroke-opacity:1;stroke-miterlimit:10;\" d=\"M 108.117188 167.621094 C 108.117188 171.222656 102.71875 171.222656 102.71875 167.621094 C 102.71875 164.019531 108.117188 164.019531 108.117188 167.621094 \"/>\n",
       "<path style=\"fill:none;stroke-width:0.75;stroke-linecap:round;stroke-linejoin:round;stroke:rgb(0%,0%,0%);stroke-opacity:1;stroke-miterlimit:10;\" d=\"M 223.65625 129.1875 C 223.65625 132.789062 218.257812 132.789062 218.257812 129.1875 C 218.257812 125.589844 223.65625 125.589844 223.65625 129.1875 \"/>\n",
       "<path style=\"fill:none;stroke-width:0.75;stroke-linecap:round;stroke-linejoin:round;stroke:rgb(0%,0%,0%);stroke-opacity:1;stroke-miterlimit:10;\" d=\"M 222.578125 129.710938 C 222.578125 133.3125 217.179688 133.3125 217.179688 129.710938 C 217.179688 126.113281 222.578125 126.113281 222.578125 129.710938 \"/>\n",
       "<path style=\"fill:none;stroke-width:0.75;stroke-linecap:round;stroke-linejoin:round;stroke:rgb(0%,0%,0%);stroke-opacity:1;stroke-miterlimit:10;\" d=\"M 96.988281 169.820312 C 96.988281 173.421875 91.589844 173.421875 91.589844 169.820312 C 91.589844 166.222656 96.988281 166.222656 96.988281 169.820312 \"/>\n",
       "<path style=\"fill:none;stroke-width:0.75;stroke-linecap:round;stroke-linejoin:round;stroke:rgb(0%,0%,0%);stroke-opacity:1;stroke-miterlimit:10;\" d=\"M 107.835938 167.679688 C 107.835938 171.277344 102.433594 171.277344 102.433594 167.679688 C 102.433594 164.078125 107.835938 164.078125 107.835938 167.679688 \"/>\n",
       "<path style=\"fill:none;stroke-width:0.75;stroke-linecap:round;stroke-linejoin:round;stroke:rgb(0%,0%,0%);stroke-opacity:1;stroke-miterlimit:10;\" d=\"M 90.109375 171.085938 C 90.109375 174.683594 84.710938 174.683594 84.710938 171.085938 C 84.710938 167.484375 90.109375 167.484375 90.109375 171.085938 \"/>\n",
       "<path style=\"fill:none;stroke-width:0.75;stroke-linecap:round;stroke-linejoin:round;stroke:rgb(0%,0%,0%);stroke-opacity:1;stroke-miterlimit:10;\" d=\"M 108.140625 167.617188 C 108.140625 171.214844 102.738281 171.214844 102.738281 167.617188 C 102.738281 164.015625 108.140625 164.015625 108.140625 167.617188 \"/>\n",
       "<path style=\"fill:none;stroke-width:0.75;stroke-linecap:round;stroke-linejoin:round;stroke:rgb(0%,0%,0%);stroke-opacity:1;stroke-miterlimit:10;\" d=\"M 122.71875 164.414062 C 122.71875 168.015625 117.320312 168.015625 117.320312 164.414062 C 117.320312 160.816406 122.71875 160.816406 122.71875 164.414062 \"/>\n",
       "<path style=\"fill:none;stroke-width:0.75;stroke-linecap:round;stroke-linejoin:round;stroke:rgb(0%,0%,0%);stroke-opacity:1;stroke-miterlimit:10;\" d=\"M 113.203125 166.546875 C 113.203125 170.148438 107.804688 170.148438 107.804688 166.546875 C 107.804688 162.945312 113.203125 162.945312 113.203125 166.546875 \"/>\n",
       "<path style=\"fill:none;stroke-width:0.75;stroke-linecap:round;stroke-linejoin:round;stroke:rgb(0%,0%,0%);stroke-opacity:1;stroke-miterlimit:10;\" d=\"M 225.4375 128.316406 C 225.4375 131.917969 220.035156 131.917969 220.035156 128.316406 C 220.035156 124.714844 225.4375 124.714844 225.4375 128.316406 \"/>\n",
       "<path style=\"fill:none;stroke-width:0.75;stroke-linecap:round;stroke-linejoin:round;stroke:rgb(0%,0%,0%);stroke-opacity:1;stroke-miterlimit:10;\" d=\"M 252.679688 113.65625 C 252.679688 117.253906 247.277344 117.253906 247.277344 113.65625 C 247.277344 110.054688 252.679688 110.054688 252.679688 113.65625 \"/>\n",
       "<path style=\"fill:none;stroke-width:0.75;stroke-linecap:round;stroke-linejoin:round;stroke:rgb(0%,0%,0%);stroke-opacity:1;stroke-miterlimit:10;\" d=\"M 63.09375 178.558594 L 324.160156 178.558594 \"/>\n",
       "<path style=\"fill:none;stroke-width:0.75;stroke-linecap:round;stroke-linejoin:round;stroke:rgb(0%,0%,0%);stroke-opacity:1;stroke-miterlimit:10;\" d=\"M 63.09375 178.558594 L 63.09375 185.761719 \"/>\n",
       "<path style=\"fill:none;stroke-width:0.75;stroke-linecap:round;stroke-linejoin:round;stroke:rgb(0%,0%,0%);stroke-opacity:1;stroke-miterlimit:10;\" d=\"M 115.308594 178.558594 L 115.308594 185.761719 \"/>\n",
       "<path style=\"fill:none;stroke-width:0.75;stroke-linecap:round;stroke-linejoin:round;stroke:rgb(0%,0%,0%);stroke-opacity:1;stroke-miterlimit:10;\" d=\"M 167.519531 178.558594 L 167.519531 185.761719 \"/>\n",
       "<path style=\"fill:none;stroke-width:0.75;stroke-linecap:round;stroke-linejoin:round;stroke:rgb(0%,0%,0%);stroke-opacity:1;stroke-miterlimit:10;\" d=\"M 219.734375 178.558594 L 219.734375 185.761719 \"/>\n",
       "<path style=\"fill:none;stroke-width:0.75;stroke-linecap:round;stroke-linejoin:round;stroke:rgb(0%,0%,0%);stroke-opacity:1;stroke-miterlimit:10;\" d=\"M 271.945312 178.558594 L 271.945312 185.761719 \"/>\n",
       "<path style=\"fill:none;stroke-width:0.75;stroke-linecap:round;stroke-linejoin:round;stroke:rgb(0%,0%,0%);stroke-opacity:1;stroke-miterlimit:10;\" d=\"M 324.160156 178.558594 L 324.160156 185.761719 \"/>\n",
       "<g style=\"fill:rgb(0%,0%,0%);fill-opacity:1;\">\n",
       "  <use xlink:href=\"#glyph0-1\" x=\"54.59375\" y=\"204.256836\"/>\n",
       "  <use xlink:href=\"#glyph0-2\" x=\"61.265625\" y=\"204.256836\"/>\n",
       "  <use xlink:href=\"#glyph0-1\" x=\"64.601562\" y=\"204.256836\"/>\n",
       "</g>\n",
       "<g style=\"fill:rgb(0%,0%,0%);fill-opacity:1;\">\n",
       "  <use xlink:href=\"#glyph0-1\" x=\"106.808594\" y=\"204.256836\"/>\n",
       "  <use xlink:href=\"#glyph0-2\" x=\"113.480469\" y=\"204.256836\"/>\n",
       "  <use xlink:href=\"#glyph0-3\" x=\"116.816406\" y=\"204.256836\"/>\n",
       "</g>\n",
       "<g style=\"fill:rgb(0%,0%,0%);fill-opacity:1;\">\n",
       "  <use xlink:href=\"#glyph0-1\" x=\"159.019531\" y=\"204.256836\"/>\n",
       "  <use xlink:href=\"#glyph0-2\" x=\"165.691406\" y=\"204.256836\"/>\n",
       "  <use xlink:href=\"#glyph0-4\" x=\"169.027344\" y=\"204.256836\"/>\n",
       "</g>\n",
       "<g style=\"fill:rgb(0%,0%,0%);fill-opacity:1;\">\n",
       "  <use xlink:href=\"#glyph0-1\" x=\"211.234375\" y=\"204.256836\"/>\n",
       "  <use xlink:href=\"#glyph0-2\" x=\"217.90625\" y=\"204.256836\"/>\n",
       "  <use xlink:href=\"#glyph0-5\" x=\"221.242188\" y=\"204.256836\"/>\n",
       "</g>\n",
       "<g style=\"fill:rgb(0%,0%,0%);fill-opacity:1;\">\n",
       "  <use xlink:href=\"#glyph0-1\" x=\"263.445312\" y=\"204.256836\"/>\n",
       "  <use xlink:href=\"#glyph0-2\" x=\"270.117188\" y=\"204.256836\"/>\n",
       "  <use xlink:href=\"#glyph0-6\" x=\"273.453125\" y=\"204.256836\"/>\n",
       "</g>\n",
       "<g style=\"fill:rgb(0%,0%,0%);fill-opacity:1;\">\n",
       "  <use xlink:href=\"#glyph0-7\" x=\"315.660156\" y=\"204.256836\"/>\n",
       "  <use xlink:href=\"#glyph0-2\" x=\"322.332031\" y=\"204.256836\"/>\n",
       "  <use xlink:href=\"#glyph0-1\" x=\"325.667969\" y=\"204.256836\"/>\n",
       "</g>\n",
       "<path style=\"fill:none;stroke-width:0.75;stroke-linecap:round;stroke-linejoin:round;stroke:rgb(0%,0%,0%);stroke-opacity:1;stroke-miterlimit:10;\" d=\"M 59.039062 175.035156 L 59.039062 59.597656 \"/>\n",
       "<path style=\"fill:none;stroke-width:0.75;stroke-linecap:round;stroke-linejoin:round;stroke:rgb(0%,0%,0%);stroke-opacity:1;stroke-miterlimit:10;\" d=\"M 59.039062 175.035156 L 51.839844 175.035156 \"/>\n",
       "<path style=\"fill:none;stroke-width:0.75;stroke-linecap:round;stroke-linejoin:round;stroke:rgb(0%,0%,0%);stroke-opacity:1;stroke-miterlimit:10;\" d=\"M 59.039062 155.792969 L 51.839844 155.792969 \"/>\n",
       "<path style=\"fill:none;stroke-width:0.75;stroke-linecap:round;stroke-linejoin:round;stroke:rgb(0%,0%,0%);stroke-opacity:1;stroke-miterlimit:10;\" d=\"M 59.039062 136.554688 L 51.839844 136.554688 \"/>\n",
       "<path style=\"fill:none;stroke-width:0.75;stroke-linecap:round;stroke-linejoin:round;stroke:rgb(0%,0%,0%);stroke-opacity:1;stroke-miterlimit:10;\" d=\"M 59.039062 117.316406 L 51.839844 117.316406 \"/>\n",
       "<path style=\"fill:none;stroke-width:0.75;stroke-linecap:round;stroke-linejoin:round;stroke:rgb(0%,0%,0%);stroke-opacity:1;stroke-miterlimit:10;\" d=\"M 59.039062 98.074219 L 51.839844 98.074219 \"/>\n",
       "<path style=\"fill:none;stroke-width:0.75;stroke-linecap:round;stroke-linejoin:round;stroke:rgb(0%,0%,0%);stroke-opacity:1;stroke-miterlimit:10;\" d=\"M 59.039062 78.835938 L 51.839844 78.835938 \"/>\n",
       "<path style=\"fill:none;stroke-width:0.75;stroke-linecap:round;stroke-linejoin:round;stroke:rgb(0%,0%,0%);stroke-opacity:1;stroke-miterlimit:10;\" d=\"M 59.039062 59.597656 L 51.839844 59.597656 \"/>\n",
       "<g style=\"fill:rgb(0%,0%,0%);fill-opacity:1;\">\n",
       "  <use xlink:href=\"#glyph1-1\" x=\"41.538086\" y=\"183.535156\"/>\n",
       "  <use xlink:href=\"#glyph1-2\" x=\"41.538086\" y=\"176.863281\"/>\n",
       "  <use xlink:href=\"#glyph1-3\" x=\"41.538086\" y=\"173.527344\"/>\n",
       "</g>\n",
       "<g style=\"fill:rgb(0%,0%,0%);fill-opacity:1;\">\n",
       "  <use xlink:href=\"#glyph1-4\" x=\"41.538086\" y=\"145.054688\"/>\n",
       "  <use xlink:href=\"#glyph1-2\" x=\"41.538086\" y=\"138.382812\"/>\n",
       "  <use xlink:href=\"#glyph1-3\" x=\"41.538086\" y=\"135.046875\"/>\n",
       "</g>\n",
       "<g style=\"fill:rgb(0%,0%,0%);fill-opacity:1;\">\n",
       "  <use xlink:href=\"#glyph1-5\" x=\"41.538086\" y=\"106.574219\"/>\n",
       "  <use xlink:href=\"#glyph1-2\" x=\"41.538086\" y=\"99.902344\"/>\n",
       "  <use xlink:href=\"#glyph1-3\" x=\"41.538086\" y=\"96.566406\"/>\n",
       "</g>\n",
       "<g style=\"fill:rgb(0%,0%,0%);fill-opacity:1;\">\n",
       "  <use xlink:href=\"#glyph1-6\" x=\"41.538086\" y=\"68.097656\"/>\n",
       "  <use xlink:href=\"#glyph1-2\" x=\"41.538086\" y=\"61.425781\"/>\n",
       "  <use xlink:href=\"#glyph1-3\" x=\"41.538086\" y=\"58.089844\"/>\n",
       "</g>\n",
       "<path style=\"fill:none;stroke-width:0.75;stroke-linecap:round;stroke-linejoin:round;stroke:rgb(0%,0%,0%);stroke-opacity:1;stroke-miterlimit:10;\" d=\"M 59.039062 178.558594 L 329.761719 178.558594 L 329.761719 59.039062 L 59.039062 59.039062 L 59.039062 178.558594 \"/>\n",
       "<g style=\"fill:rgb(0%,0%,0%);fill-opacity:1;\">\n",
       "  <use xlink:href=\"#glyph0-8\" x=\"173.398438\" y=\"233.057617\"/>\n",
       "  <use xlink:href=\"#glyph0-9\" x=\"180.070312\" y=\"233.057617\"/>\n",
       "  <use xlink:href=\"#glyph0-10\" x=\"186.742188\" y=\"233.057617\"/>\n",
       "  <use xlink:href=\"#glyph0-11\" x=\"192.742188\" y=\"233.057617\"/>\n",
       "  <use xlink:href=\"#glyph0-12\" x=\"195.40625\" y=\"233.057617\"/>\n",
       "  <use xlink:href=\"#glyph0-8\" x=\"201.40625\" y=\"233.057617\"/>\n",
       "  <use xlink:href=\"#glyph0-3\" x=\"208.078125\" y=\"233.057617\"/>\n",
       "</g>\n",
       "<g style=\"fill:rgb(0%,0%,0%);fill-opacity:1;\">\n",
       "  <use xlink:href=\"#glyph1-7\" x=\"12.737305\" y=\"147.800781\"/>\n",
       "  <use xlink:href=\"#glyph1-8\" x=\"12.737305\" y=\"141.128906\"/>\n",
       "  <use xlink:href=\"#glyph1-9\" x=\"12.737305\" y=\"137.132812\"/>\n",
       "  <use xlink:href=\"#glyph1-10\" x=\"12.737305\" y=\"130.460938\"/>\n",
       "  <use xlink:href=\"#glyph1-11\" x=\"12.737305\" y=\"123.789062\"/>\n",
       "  <use xlink:href=\"#glyph1-12\" x=\"12.737305\" y=\"117.117188\"/>\n",
       "  <use xlink:href=\"#glyph1-9\" x=\"12.737305\" y=\"110.445312\"/>\n",
       "  <use xlink:href=\"#glyph1-12\" x=\"12.737305\" y=\"103.773438\"/>\n",
       "  <use xlink:href=\"#glyph1-5\" x=\"12.737305\" y=\"97.101562\"/>\n",
       "</g>\n",
       "</g>\n",
       "</svg>\n"
      ],
      "text/plain": [
       "plot without title"
      ]
     },
     "metadata": {
      "image/svg+xml": {
       "isolated": true
      }
     },
     "output_type": "display_data"
    }
   ],
   "source": [
    "abcisa2 = runif(100) #la función runif() crea vectores numéricos aleatorios\n",
    "ordenada2 = abcisa2^3+ abcisa2^2 + abcisa2 + 0.5\n",
    "plot(abcisa2, ordenada2, type = 'o')"
   ]
  },
  {
   "cell_type": "code",
   "execution_count": null,
   "metadata": {
    "collapsed": true,
    "slideshow": {
     "slide_type": "slide"
    }
   },
   "outputs": [],
   "source": [
    "options(repr.plot.width = 5) #Esto solo es para hacer más pequeñas las imágenes en el Notebook de Júpiter\n",
    "options(repr.plot.height = 3.5) #Esto solo es para hacer más pequeñas las imágenes en el Notebook de Júpiter\n",
    "\n",
    "#la función curve() permite graficar una ecuación en función de una serie de valores x\n",
    "\n",
    "curve(sin(x), from = 0, to = 10)\n",
    "curve(cos(x), from = 0, to = 10, add = TRUE, col='blue')"
   ]
  },
  {
   "cell_type": "code",
   "execution_count": 17,
   "metadata": {
    "collapsed": false,
    "slideshow": {
     "slide_type": "slide"
    }
   },
   "outputs": [
    {
     "data": {
      "image/png": "[encoded data removed]",
      "image/svg+xml": [
       "<?xml version=\"1.0\" encoding=\"UTF-8\"?>\n",
       "<svg xmlns=\"http://www.w3.org/2000/svg\" xmlns:xlink=\"http://www.w3.org/1999/xlink\" width=\"360pt\" height=\"252pt\" viewBox=\"0 0 360 252\" version=\"1.1\">\n",
       "<defs>\n",
       "<g>\n",
       "<symbol overflow=\"visible\" id=\"glyph0-0\">\n",
       "<path style=\"stroke:none;\" d=\"\"/>\n",
       "</symbol>\n",
       "<symbol overflow=\"visible\" id=\"glyph0-1\">\n",
       "<path style=\"stroke:none;\" d=\"M 6.21875 -4.21875 C 6.21875 -7.171875 5.140625 -8.765625 3.296875 -8.765625 C 1.46875 -8.765625 0.375 -7.15625 0.375 -4.296875 C 0.375 -1.421875 1.46875 0.1875 3.296875 0.1875 C 5.09375 0.1875 6.21875 -1.421875 6.21875 -4.21875 Z M 4.859375 -4.3125 C 4.859375 -1.90625 4.453125 -0.953125 3.28125 -0.953125 C 2.15625 -0.953125 1.734375 -1.953125 1.734375 -4.28125 C 1.734375 -6.609375 2.15625 -7.578125 3.296875 -7.578125 C 4.4375 -7.578125 4.859375 -6.59375 4.859375 -4.3125 Z M 4.859375 -4.3125 \"/>\n",
       "</symbol>\n",
       "<symbol overflow=\"visible\" id=\"glyph0-2\">\n",
       "<path style=\"stroke:none;\" d=\"M 6.265625 -6.140625 C 6.265625 -7.578125 5.015625 -8.765625 3.40625 -8.765625 C 1.671875 -8.765625 0.515625 -7.75 0.453125 -5.5625 L 1.78125 -5.5625 C 1.875 -7.109375 2.328125 -7.578125 3.375 -7.578125 C 4.328125 -7.578125 4.90625 -7.03125 4.90625 -6.125 C 4.90625 -5.453125 4.546875 -4.96875 3.796875 -4.53125 L 2.6875 -3.90625 C 0.90625 -2.90625 0.359375 -2 0.25 0 L 6.203125 0 L 6.203125 -1.3125 L 1.75 -1.3125 C 1.84375 -1.875 2.1875 -2.21875 3.234375 -2.828125 L 4.421875 -3.484375 C 5.609375 -4.109375 6.265625 -5.09375 6.265625 -6.140625 Z M 6.265625 -6.140625 \"/>\n",
       "</symbol>\n",
       "<symbol overflow=\"visible\" id=\"glyph0-3\">\n",
       "<path style=\"stroke:none;\" d=\"M 6.375 -2.171875 L 6.375 -3.25 L 5.109375 -3.25 L 5.109375 -8.765625 L 4.125 -8.765625 L 0.1875 -3.328125 L 0.1875 -2.046875 L 3.78125 -2.046875 L 3.78125 0 L 5.109375 0 L 5.109375 -2.046875 L 6.375 -2.046875 Z M 3.921875 -3.25 L 1.515625 -3.25 L 4.015625 -6.75 L 3.78125 -6.84375 L 3.78125 -3.25 Z M 3.921875 -3.25 \"/>\n",
       "</symbol>\n",
       "<symbol overflow=\"visible\" id=\"glyph0-4\">\n",
       "<path style=\"stroke:none;\" d=\"M 6.28125 -2.765625 C 6.28125 -4.359375 5.078125 -5.5625 3.546875 -5.5625 C 2.71875 -5.5625 1.9375 -5.203125 1.484375 -4.578125 L 1.734375 -4.46875 C 1.734375 -6.546875 2.28125 -7.578125 3.484375 -7.578125 C 4.234375 -7.578125 4.609375 -7.234375 4.796875 -6.28125 L 6.125 -6.28125 C 5.90625 -7.8125 4.859375 -8.765625 3.5625 -8.765625 C 1.578125 -8.765625 0.375 -6.96875 0.375 -4.015625 C 0.375 -1.359375 1.421875 0.1875 3.375 0.1875 C 4.984375 0.1875 6.28125 -1.109375 6.28125 -2.765625 Z M 4.9375 -2.6875 C 4.9375 -1.625 4.359375 -1.015625 3.390625 -1.015625 C 2.40625 -1.015625 1.78125 -1.65625 1.78125 -2.75 C 1.78125 -3.796875 2.375 -4.359375 3.421875 -4.359375 C 4.4375 -4.359375 4.9375 -3.828125 4.9375 -2.6875 Z M 4.9375 -2.6875 \"/>\n",
       "</symbol>\n",
       "<symbol overflow=\"visible\" id=\"glyph0-5\">\n",
       "<path style=\"stroke:none;\" d=\"M 6.28125 -2.53125 C 6.28125 -3.484375 5.671875 -4.265625 4.953125 -4.625 C 5.65625 -5.046875 5.984375 -5.5625 5.984375 -6.375 C 5.984375 -7.703125 4.8125 -8.765625 3.296875 -8.765625 C 1.796875 -8.765625 0.59375 -7.703125 0.59375 -6.375 C 0.59375 -5.578125 0.921875 -5.046875 1.625 -4.625 C 0.921875 -4.265625 0.296875 -3.484375 0.296875 -2.546875 C 0.296875 -0.984375 1.625 0.1875 3.296875 0.1875 C 4.984375 0.1875 6.28125 -0.984375 6.28125 -2.53125 Z M 4.625 -6.34375 C 4.625 -5.5625 4.1875 -5.15625 3.296875 -5.15625 C 2.40625 -5.15625 1.953125 -5.5625 1.953125 -6.359375 C 1.953125 -7.171875 2.40625 -7.578125 3.296875 -7.578125 C 4.203125 -7.578125 4.625 -7.171875 4.625 -6.34375 Z M 4.9375 -2.515625 C 4.9375 -1.515625 4.359375 -1.015625 3.28125 -1.015625 C 2.25 -1.015625 1.65625 -1.53125 1.65625 -2.515625 C 1.65625 -3.515625 2.25 -4.015625 3.296875 -4.015625 C 4.359375 -4.015625 4.9375 -3.515625 4.9375 -2.515625 Z M 4.9375 -2.515625 \"/>\n",
       "</symbol>\n",
       "<symbol overflow=\"visible\" id=\"glyph0-6\">\n",
       "<path style=\"stroke:none;\" d=\"M 4.296875 -0.125 L 4.296875 -8.765625 L 3.359375 -8.765625 C 2.953125 -7.328125 2.859375 -7.28125 1.078125 -7.0625 L 1.078125 -6.0625 L 2.96875 -6.0625 L 2.96875 0 L 4.296875 0 Z M 4.296875 -0.125 \"/>\n",
       "</symbol>\n",
       "<symbol overflow=\"visible\" id=\"glyph0-7\">\n",
       "<path style=\"stroke:none;\" d=\"M 5.765625 -0.234375 L 3.65625 -3.390625 L 5.875 -6.546875 L 4.421875 -6.546875 L 2.96875 -4.375 L 1.53125 -6.546875 L 0.0625 -6.546875 L 2.25 -3.34375 L -0.0625 0 L 1.40625 0 L 2.921875 -2.296875 L 4.4375 0 L 5.921875 0 Z M 5.765625 -0.234375 \"/>\n",
       "</symbol>\n",
       "<symbol overflow=\"visible\" id=\"glyph1-0\">\n",
       "<path style=\"stroke:none;\" d=\"\"/>\n",
       "</symbol>\n",
       "<symbol overflow=\"visible\" id=\"glyph1-1\">\n",
       "<path style=\"stroke:none;\" d=\"M -3.015625 -3.546875 L -4.015625 -3.546875 L -4.015625 -0.40625 L -2.875 -0.40625 L -2.875 -3.546875 Z M -3.015625 -3.546875 \"/>\n",
       "</symbol>\n",
       "<symbol overflow=\"visible\" id=\"glyph1-2\">\n",
       "<path style=\"stroke:none;\" d=\"M -0.125 -4.296875 L -8.765625 -4.296875 L -8.765625 -3.359375 C -7.328125 -2.953125 -7.28125 -2.859375 -7.0625 -1.078125 L -6.0625 -1.078125 L -6.0625 -2.96875 L 0 -2.96875 L 0 -4.296875 Z M -0.125 -4.296875 \"/>\n",
       "</symbol>\n",
       "<symbol overflow=\"visible\" id=\"glyph1-3\">\n",
       "<path style=\"stroke:none;\" d=\"M -0.125 -2.421875 L -1.515625 -2.421875 L -1.515625 -0.90625 L 0 -0.90625 L 0 -2.421875 Z M -0.125 -2.421875 \"/>\n",
       "</symbol>\n",
       "<symbol overflow=\"visible\" id=\"glyph1-4\">\n",
       "<path style=\"stroke:none;\" d=\"M -4.21875 -6.21875 C -7.171875 -6.21875 -8.765625 -5.140625 -8.765625 -3.296875 C -8.765625 -1.46875 -7.15625 -0.375 -4.296875 -0.375 C -1.421875 -0.375 0.1875 -1.46875 0.1875 -3.296875 C 0.1875 -5.09375 -1.421875 -6.21875 -4.21875 -6.21875 Z M -4.3125 -4.859375 C -1.90625 -4.859375 -0.953125 -4.453125 -0.953125 -3.28125 C -0.953125 -2.15625 -1.953125 -1.734375 -4.28125 -1.734375 C -6.609375 -1.734375 -7.578125 -2.15625 -7.578125 -3.296875 C -7.578125 -4.4375 -6.59375 -4.859375 -4.3125 -4.859375 Z M -4.3125 -4.859375 \"/>\n",
       "</symbol>\n",
       "<symbol overflow=\"visible\" id=\"glyph1-5\">\n",
       "<path style=\"stroke:none;\" d=\"M -2.953125 -6.28125 C -4.625 -6.28125 -5.875 -5.046875 -5.875 -3.40625 C -5.875 -2.8125 -5.671875 -2.21875 -5.515625 -2.015625 L -7.28125 -2.28125 L -7.28125 -5.84375 L -8.59375 -5.84375 L -8.59375 -1.203125 L -3.875 -0.515625 L -3.875 -1.71875 C -4.5 -2.25 -4.671875 -2.5625 -4.671875 -3.21875 C -4.671875 -4.359375 -4.0625 -4.9375 -2.8125 -4.9375 C -1.578125 -4.9375 -1.015625 -4.375 -1.015625 -3.21875 C -1.015625 -2.296875 -1.359375 -1.859375 -2.453125 -1.578125 L -2.453125 -0.25 C -0.625 -0.625 0.1875 -1.734375 0.1875 -3.234375 C 0.1875 -4.953125 -1.15625 -6.28125 -2.953125 -6.28125 Z M -2.953125 -6.28125 \"/>\n",
       "</symbol>\n",
       "<symbol overflow=\"visible\" id=\"glyph1-6\">\n",
       "<path style=\"stroke:none;\" d=\"M -1.890625 -5.640625 C -2.828125 -5.640625 -3.4375 -4.984375 -3.734375 -3.734375 L -3.953125 -2.765625 C -4.15625 -1.953125 -4.28125 -1.734375 -4.734375 -1.734375 C -5.296875 -1.734375 -5.546875 -2.125 -5.546875 -2.9375 C -5.546875 -3.75 -5.328125 -4.03125 -4.53125 -4.0625 L -4.53125 -5.390625 C -5.90625 -5.375 -6.734375 -4.421875 -6.734375 -2.96875 C -6.734375 -1.515625 -5.84375 -0.421875 -4.6875 -0.421875 C -3.703125 -0.421875 -3.09375 -1.0625 -2.734375 -2.5625 L -2.515625 -3.484375 C -2.34375 -4.1875 -2.265625 -4.3125 -1.8125 -4.3125 C -1.21875 -4.3125 -1.015625 -3.875 -1.015625 -3 C -1.015625 -2.09375 -1.09375 -1.734375 -2.1875 -1.578125 L -2.1875 -0.265625 C -0.59375 -0.3125 0.1875 -1.265625 0.1875 -2.921875 C 0.1875 -4.5 -0.6875 -5.640625 -1.890625 -5.640625 Z M -1.890625 -5.640625 \"/>\n",
       "</symbol>\n",
       "<symbol overflow=\"visible\" id=\"glyph1-7\">\n",
       "<path style=\"stroke:none;\" d=\"M -0.125 -1.96875 L -6.546875 -1.96875 L -6.546875 -0.703125 L 0 -0.703125 L 0 -1.96875 Z M -7.375 -2.09375 L -8.75 -2.09375 L -8.75 -0.578125 L -7.234375 -0.578125 L -7.234375 -2.09375 Z M -7.375 -2.09375 \"/>\n",
       "</symbol>\n",
       "<symbol overflow=\"visible\" id=\"glyph1-8\">\n",
       "<path style=\"stroke:none;\" d=\"M -0.125 -5.96875 L -4.890625 -5.96875 C -5.921875 -5.96875 -6.734375 -5.0625 -6.734375 -3.859375 C -6.734375 -2.921875 -6.34375 -2.203125 -5.453125 -1.65625 L -5.359375 -1.890625 L -6.546875 -1.890625 L -6.546875 -0.703125 L 0 -0.703125 L 0 -1.96875 L -3.59375 -1.96875 C -4.890625 -1.96875 -5.59375 -2.53125 -5.59375 -3.546875 C -5.59375 -4.34375 -5.25 -4.703125 -4.484375 -4.703125 L 0 -4.703125 L 0 -5.96875 Z M -0.125 -5.96875 \"/>\n",
       "</symbol>\n",
       "<symbol overflow=\"visible\" id=\"glyph1-9\">\n",
       "<path style=\"stroke:none;\" d=\"M 2.3125 -3.59375 C 0.59375 -2.53125 -1.3125 -1.984375 -3.234375 -1.984375 C -5.140625 -1.984375 -7.078125 -2.53125 -9.015625 -3.734375 L -9.015625 -2.765625 C -7.40625 -1.53125 -5.125 -0.734375 -3.234375 -0.734375 C -1.34375 -0.734375 0.9375 -1.53125 2.546875 -2.765625 L 2.546875 -3.734375 Z M 2.3125 -3.59375 \"/>\n",
       "</symbol>\n",
       "<symbol overflow=\"visible\" id=\"glyph1-10\">\n",
       "<path style=\"stroke:none;\" d=\"M -0.234375 -5.765625 L -3.390625 -3.65625 L -6.546875 -5.875 L -6.546875 -4.421875 L -4.375 -2.96875 L -6.546875 -1.53125 L -6.546875 -0.0625 L -3.34375 -2.25 L 0 0.0625 L 0 -1.40625 L -2.296875 -2.921875 L 0 -4.4375 L 0 -5.921875 Z M -0.234375 -5.765625 \"/>\n",
       "</symbol>\n",
       "<symbol overflow=\"visible\" id=\"glyph1-11\">\n",
       "<path style=\"stroke:none;\" d=\"M -3.234375 -3.203125 C -5.125 -3.203125 -7.40625 -2.40625 -9.015625 -1.171875 L -9.015625 -0.203125 C -7.0625 -1.40625 -5.140625 -1.953125 -3.234375 -1.953125 C -1.3125 -1.953125 0.609375 -1.40625 2.546875 -0.203125 L 2.546875 -1.171875 C 0.9375 -2.40625 -1.34375 -3.203125 -3.234375 -3.203125 Z M -3.234375 -3.203125 \"/>\n",
       "</symbol>\n",
       "</g>\n",
       "</defs>\n",
       "<g id=\"surface109\">\n",
       "<rect x=\"0\" y=\"0\" width=\"360\" height=\"252\" style=\"fill:rgb(100%,100%,100%);fill-opacity:1;stroke:none;\"/>\n",
       "<path style=\"fill:none;stroke-width:0.75;stroke-linecap:round;stroke-linejoin:round;stroke:rgb(0%,0%,0%);stroke-opacity:1;stroke-miterlimit:10;\" d=\"M 69.066406 118.789062 L 71.574219 113.265625 L 74.078125 107.792969 L 76.585938 102.433594 L 79.09375 97.238281 L 81.601562 92.253906 L 84.105469 87.539062 L 86.613281 83.132812 L 89.121094 79.085938 L 91.625 75.433594 L 94.132812 72.21875 L 96.640625 69.464844 L 99.148438 67.203125 L 101.652344 65.460938 L 104.160156 64.25 L 106.667969 63.582031 L 109.171875 63.464844 L 111.679688 63.90625 L 114.1875 64.890625 L 116.691406 66.414062 L 119.199219 68.464844 L 121.707031 71.015625 L 124.214844 74.042969 L 126.71875 77.519531 L 129.226562 81.40625 L 131.734375 85.667969 L 134.238281 90.257812 L 136.746094 95.136719 L 139.253906 100.25 L 141.761719 105.546875 L 144.265625 110.980469 L 146.773438 116.488281 L 149.28125 122.019531 L 151.785156 127.519531 L 154.292969 132.933594 L 156.800781 138.207031 L 159.308594 143.28125 L 161.8125 148.117188 L 164.320312 152.65625 L 166.828125 156.855469 L 169.332031 160.675781 L 171.839844 164.078125 L 174.347656 167.03125 L 176.851562 169.496094 L 179.359375 171.457031 L 181.867188 172.894531 L 184.375 173.789062 L 186.878906 174.132812 L 189.386719 173.925781 L 191.894531 173.167969 L 194.398438 171.863281 L 196.90625 170.03125 L 199.414062 167.6875 L 201.921875 164.855469 L 204.425781 161.5625 L 206.933594 157.839844 L 209.441406 153.730469 L 211.945312 149.269531 L 214.453125 144.503906 L 216.960938 139.484375 L 219.464844 134.253906 L 221.972656 128.871094 L 224.480469 123.390625 L 226.988281 117.859375 L 229.492188 112.339844 L 232 106.882812 L 234.507812 101.546875 L 237.011719 96.382812 L 239.519531 91.441406 L 242.027344 86.773438 L 244.535156 82.429688 L 247.039062 78.445312 L 249.546875 74.863281 L 252.054688 71.722656 L 254.558594 69.050781 L 257.066406 66.875 L 259.574219 65.21875 L 262.078125 64.097656 L 264.585938 63.523438 L 267.09375 63.5 L 269.601562 64.03125 L 272.105469 65.109375 L 274.613281 66.722656 L 277.121094 68.859375 L 279.625 71.492188 L 282.132812 74.597656 L 284.640625 78.144531 L 287.148438 82.097656 L 289.652344 86.417969 L 292.160156 91.058594 L 294.667969 95.980469 L 297.171875 101.128906 L 299.679688 106.453125 L 302.1875 111.902344 L 304.691406 117.417969 L 307.199219 122.949219 L 309.707031 128.4375 L 312.214844 133.832031 L 314.71875 139.074219 L 317.226562 144.113281 L 319.734375 148.902344 \"/>\n",
       "<path style=\"fill:none;stroke-width:0.75;stroke-linecap:round;stroke-linejoin:round;stroke:rgb(0%,0%,0%);stroke-opacity:1;stroke-miterlimit:10;\" d=\"M 69.066406 178.558594 L 319.734375 178.558594 \"/>\n",
       "<path style=\"fill:none;stroke-width:0.75;stroke-linecap:round;stroke-linejoin:round;stroke:rgb(0%,0%,0%);stroke-opacity:1;stroke-miterlimit:10;\" d=\"M 69.066406 178.558594 L 69.066406 185.761719 \"/>\n",
       "<path style=\"fill:none;stroke-width:0.75;stroke-linecap:round;stroke-linejoin:round;stroke:rgb(0%,0%,0%);stroke-opacity:1;stroke-miterlimit:10;\" d=\"M 119.199219 178.558594 L 119.199219 185.761719 \"/>\n",
       "<path style=\"fill:none;stroke-width:0.75;stroke-linecap:round;stroke-linejoin:round;stroke:rgb(0%,0%,0%);stroke-opacity:1;stroke-miterlimit:10;\" d=\"M 169.332031 178.558594 L 169.332031 185.761719 \"/>\n",
       "<path style=\"fill:none;stroke-width:0.75;stroke-linecap:round;stroke-linejoin:round;stroke:rgb(0%,0%,0%);stroke-opacity:1;stroke-miterlimit:10;\" d=\"M 219.464844 178.558594 L 219.464844 185.761719 \"/>\n",
       "<path style=\"fill:none;stroke-width:0.75;stroke-linecap:round;stroke-linejoin:round;stroke:rgb(0%,0%,0%);stroke-opacity:1;stroke-miterlimit:10;\" d=\"M 269.601562 178.558594 L 269.601562 185.761719 \"/>\n",
       "<path style=\"fill:none;stroke-width:0.75;stroke-linecap:round;stroke-linejoin:round;stroke:rgb(0%,0%,0%);stroke-opacity:1;stroke-miterlimit:10;\" d=\"M 319.734375 178.558594 L 319.734375 185.761719 \"/>\n",
       "<g style=\"fill:rgb(0%,0%,0%);fill-opacity:1;\">\n",
       "  <use xlink:href=\"#glyph0-1\" x=\"65.566406\" y=\"204.256836\"/>\n",
       "</g>\n",
       "<g style=\"fill:rgb(0%,0%,0%);fill-opacity:1;\">\n",
       "  <use xlink:href=\"#glyph0-2\" x=\"115.699219\" y=\"204.256836\"/>\n",
       "</g>\n",
       "<g style=\"fill:rgb(0%,0%,0%);fill-opacity:1;\">\n",
       "  <use xlink:href=\"#glyph0-3\" x=\"165.832031\" y=\"204.256836\"/>\n",
       "</g>\n",
       "<g style=\"fill:rgb(0%,0%,0%);fill-opacity:1;\">\n",
       "  <use xlink:href=\"#glyph0-4\" x=\"215.964844\" y=\"204.256836\"/>\n",
       "</g>\n",
       "<g style=\"fill:rgb(0%,0%,0%);fill-opacity:1;\">\n",
       "  <use xlink:href=\"#glyph0-5\" x=\"266.101562\" y=\"204.256836\"/>\n",
       "</g>\n",
       "<g style=\"fill:rgb(0%,0%,0%);fill-opacity:1;\">\n",
       "  <use xlink:href=\"#glyph0-6\" x=\"312.734375\" y=\"204.256836\"/>\n",
       "  <use xlink:href=\"#glyph0-1\" x=\"319.40625\" y=\"204.256836\"/>\n",
       "</g>\n",
       "<path style=\"fill:none;stroke-width:0.75;stroke-linecap:round;stroke-linejoin:round;stroke:rgb(0%,0%,0%);stroke-opacity:1;stroke-miterlimit:10;\" d=\"M 59.039062 174.136719 L 59.039062 63.441406 \"/>\n",
       "<path style=\"fill:none;stroke-width:0.75;stroke-linecap:round;stroke-linejoin:round;stroke:rgb(0%,0%,0%);stroke-opacity:1;stroke-miterlimit:10;\" d=\"M 59.039062 174.136719 L 51.839844 174.136719 \"/>\n",
       "<path style=\"fill:none;stroke-width:0.75;stroke-linecap:round;stroke-linejoin:round;stroke:rgb(0%,0%,0%);stroke-opacity:1;stroke-miterlimit:10;\" d=\"M 59.039062 146.464844 L 51.839844 146.464844 \"/>\n",
       "<path style=\"fill:none;stroke-width:0.75;stroke-linecap:round;stroke-linejoin:round;stroke:rgb(0%,0%,0%);stroke-opacity:1;stroke-miterlimit:10;\" d=\"M 59.039062 118.789062 L 51.839844 118.789062 \"/>\n",
       "<path style=\"fill:none;stroke-width:0.75;stroke-linecap:round;stroke-linejoin:round;stroke:rgb(0%,0%,0%);stroke-opacity:1;stroke-miterlimit:10;\" d=\"M 59.039062 91.117188 L 51.839844 91.117188 \"/>\n",
       "<path style=\"fill:none;stroke-width:0.75;stroke-linecap:round;stroke-linejoin:round;stroke:rgb(0%,0%,0%);stroke-opacity:1;stroke-miterlimit:10;\" d=\"M 59.039062 63.441406 L 51.839844 63.441406 \"/>\n",
       "<g style=\"fill:rgb(0%,0%,0%);fill-opacity:1;\">\n",
       "  <use xlink:href=\"#glyph1-1\" x=\"41.538086\" y=\"184.636719\"/>\n",
       "  <use xlink:href=\"#glyph1-2\" x=\"41.538086\" y=\"180.640625\"/>\n",
       "  <use xlink:href=\"#glyph1-3\" x=\"41.538086\" y=\"173.96875\"/>\n",
       "  <use xlink:href=\"#glyph1-4\" x=\"41.538086\" y=\"170.632812\"/>\n",
       "</g>\n",
       "<g style=\"fill:rgb(0%,0%,0%);fill-opacity:1;\">\n",
       "  <use xlink:href=\"#glyph1-4\" x=\"41.538086\" y=\"127.289062\"/>\n",
       "  <use xlink:href=\"#glyph1-3\" x=\"41.538086\" y=\"120.617188\"/>\n",
       "  <use xlink:href=\"#glyph1-4\" x=\"41.538086\" y=\"117.28125\"/>\n",
       "</g>\n",
       "<g style=\"fill:rgb(0%,0%,0%);fill-opacity:1;\">\n",
       "  <use xlink:href=\"#glyph1-4\" x=\"41.538086\" y=\"99.617188\"/>\n",
       "  <use xlink:href=\"#glyph1-3\" x=\"41.538086\" y=\"92.945312\"/>\n",
       "  <use xlink:href=\"#glyph1-5\" x=\"41.538086\" y=\"89.609375\"/>\n",
       "</g>\n",
       "<g style=\"fill:rgb(0%,0%,0%);fill-opacity:1;\">\n",
       "  <use xlink:href=\"#glyph1-2\" x=\"41.538086\" y=\"71.941406\"/>\n",
       "  <use xlink:href=\"#glyph1-3\" x=\"41.538086\" y=\"65.269531\"/>\n",
       "  <use xlink:href=\"#glyph1-4\" x=\"41.538086\" y=\"61.933594\"/>\n",
       "</g>\n",
       "<path style=\"fill:none;stroke-width:0.75;stroke-linecap:round;stroke-linejoin:round;stroke:rgb(0%,0%,0%);stroke-opacity:1;stroke-miterlimit:10;\" d=\"M 59.039062 178.558594 L 329.761719 178.558594 L 329.761719 59.039062 L 59.039062 59.039062 L 59.039062 178.558594 \"/>\n",
       "<g style=\"fill:rgb(0%,0%,0%);fill-opacity:1;\">\n",
       "  <use xlink:href=\"#glyph0-7\" x=\"191.398438\" y=\"233.057617\"/>\n",
       "</g>\n",
       "<g style=\"fill:rgb(0%,0%,0%);fill-opacity:1;\">\n",
       "  <use xlink:href=\"#glyph1-6\" x=\"12.737305\" y=\"133.800781\"/>\n",
       "  <use xlink:href=\"#glyph1-7\" x=\"12.737305\" y=\"127.800781\"/>\n",
       "  <use xlink:href=\"#glyph1-8\" x=\"12.737305\" y=\"125.136719\"/>\n",
       "  <use xlink:href=\"#glyph1-9\" x=\"12.737305\" y=\"118.464844\"/>\n",
       "  <use xlink:href=\"#glyph1-10\" x=\"12.737305\" y=\"114.46875\"/>\n",
       "  <use xlink:href=\"#glyph1-11\" x=\"12.737305\" y=\"108.46875\"/>\n",
       "</g>\n",
       "<path style=\"fill:none;stroke-width:0.75;stroke-linecap:round;stroke-linejoin:round;stroke:rgb(0%,0%,100%);stroke-opacity:1;stroke-miterlimit:10;\" d=\"M 69.066406 63.441406 L 71.574219 63.71875 L 74.078125 64.546875 L 76.585938 65.914062 L 79.09375 67.8125 L 81.601562 70.21875 L 84.105469 73.109375 L 86.613281 76.457031 L 89.121094 80.230469 L 91.625 84.386719 L 94.132812 88.886719 L 96.640625 93.683594 L 99.148438 98.734375 L 101.652344 103.984375 L 104.160156 109.382812 L 106.667969 114.875 L 109.171875 120.40625 L 111.679688 125.921875 L 114.1875 131.367188 L 116.691406 136.683594 L 119.199219 141.824219 L 121.707031 146.730469 L 124.214844 151.363281 L 126.71875 155.667969 L 129.226562 159.601562 L 131.734375 163.132812 L 134.238281 166.214844 L 136.746094 168.828125 L 139.253906 170.941406 L 141.761719 172.53125 L 144.265625 173.582031 L 146.773438 174.089844 L 149.28125 174.042969 L 151.785156 173.445312 L 154.292969 172.300781 L 156.800781 170.621094 L 159.308594 168.421875 L 161.8125 165.730469 L 164.320312 162.566406 L 166.828125 158.96875 L 169.332031 154.96875 L 171.839844 150.605469 L 174.347656 145.925781 L 176.851562 140.972656 L 179.359375 135.800781 L 181.867188 130.457031 L 184.375 124.996094 L 186.878906 119.476562 L 189.386719 113.949219 L 191.894531 108.46875 L 194.398438 103.089844 L 196.90625 97.871094 L 199.414062 92.859375 L 201.921875 88.105469 L 204.425781 83.660156 L 206.933594 79.566406 L 209.441406 75.863281 L 211.945312 72.589844 L 214.453125 69.777344 L 216.960938 67.457031 L 219.464844 65.648438 L 221.972656 64.367188 L 224.480469 63.632812 L 226.988281 63.449219 L 229.492188 63.820312 L 232 64.738281 L 234.507812 66.199219 L 237.011719 68.183594 L 239.519531 70.671875 L 242.027344 73.640625 L 244.535156 77.0625 L 247.039062 80.902344 L 249.546875 85.121094 L 252.054688 89.671875 L 254.558594 94.519531 L 257.066406 99.605469 L 259.574219 104.882812 L 262.078125 110.300781 L 264.585938 115.804688 L 267.09375 121.335938 L 269.601562 126.84375 L 272.105469 132.269531 L 274.613281 137.5625 L 277.121094 142.664062 L 279.625 147.53125 L 282.132812 152.109375 L 284.640625 156.355469 L 287.148438 160.226562 L 289.652344 163.683594 L 292.160156 166.691406 L 294.667969 169.21875 L 297.171875 171.242188 L 299.679688 172.746094 L 302.1875 173.707031 L 304.691406 174.121094 L 307.199219 173.980469 L 309.707031 173.289062 L 312.214844 172.054688 L 314.71875 170.285156 L 317.226562 168.003906 L 319.734375 165.230469 \"/>\n",
       "</g>\n",
       "</svg>\n"
      ],
      "text/plain": [
       "plot without title"
      ]
     },
     "metadata": {
      "image/svg+xml": {
       "isolated": true
      }
     },
     "output_type": "display_data"
    },
    {
     "data": {
      "image/png": "[encoded data removed]",
      "image/svg+xml": [
       "<?xml version=\"1.0\" encoding=\"UTF-8\"?>\n",
       "<svg xmlns=\"http://www.w3.org/2000/svg\" xmlns:xlink=\"http://www.w3.org/1999/xlink\" width=\"360pt\" height=\"252pt\" viewBox=\"0 0 360 252\" version=\"1.1\">\n",
       "<defs>\n",
       "<g>\n",
       "<symbol overflow=\"visible\" id=\"glyph0-0\">\n",
       "<path style=\"stroke:none;\" d=\"\"/>\n",
       "</symbol>\n",
       "<symbol overflow=\"visible\" id=\"glyph0-1\">\n",
       "<path style=\"stroke:none;\" d=\"M 3.546875 -3.015625 L 3.546875 -4.015625 L 0.40625 -4.015625 L 0.40625 -2.875 L 3.546875 -2.875 Z M 3.546875 -3.015625 \"/>\n",
       "</symbol>\n",
       "<symbol overflow=\"visible\" id=\"glyph0-2\">\n",
       "<path style=\"stroke:none;\" d=\"M 6.265625 -6.140625 C 6.265625 -7.578125 5.015625 -8.765625 3.40625 -8.765625 C 1.671875 -8.765625 0.515625 -7.75 0.453125 -5.5625 L 1.78125 -5.5625 C 1.875 -7.109375 2.328125 -7.578125 3.375 -7.578125 C 4.328125 -7.578125 4.90625 -7.03125 4.90625 -6.125 C 4.90625 -5.453125 4.546875 -4.96875 3.796875 -4.53125 L 2.6875 -3.90625 C 0.90625 -2.90625 0.359375 -2 0.25 0 L 6.203125 0 L 6.203125 -1.3125 L 1.75 -1.3125 C 1.84375 -1.875 2.1875 -2.21875 3.234375 -2.828125 L 4.421875 -3.484375 C 5.609375 -4.109375 6.265625 -5.09375 6.265625 -6.140625 Z M 6.265625 -6.140625 \"/>\n",
       "</symbol>\n",
       "<symbol overflow=\"visible\" id=\"glyph0-3\">\n",
       "<path style=\"stroke:none;\" d=\"M 4.296875 -0.125 L 4.296875 -8.765625 L 3.359375 -8.765625 C 2.953125 -7.328125 2.859375 -7.28125 1.078125 -7.0625 L 1.078125 -6.0625 L 2.96875 -6.0625 L 2.96875 0 L 4.296875 0 Z M 4.296875 -0.125 \"/>\n",
       "</symbol>\n",
       "<symbol overflow=\"visible\" id=\"glyph0-4\">\n",
       "<path style=\"stroke:none;\" d=\"M 6.21875 -4.21875 C 6.21875 -7.171875 5.140625 -8.765625 3.296875 -8.765625 C 1.46875 -8.765625 0.375 -7.15625 0.375 -4.296875 C 0.375 -1.421875 1.46875 0.1875 3.296875 0.1875 C 5.09375 0.1875 6.21875 -1.421875 6.21875 -4.21875 Z M 4.859375 -4.3125 C 4.859375 -1.90625 4.453125 -0.953125 3.28125 -0.953125 C 2.15625 -0.953125 1.734375 -1.953125 1.734375 -4.28125 C 1.734375 -6.609375 2.15625 -7.578125 3.296875 -7.578125 C 4.4375 -7.578125 4.859375 -6.59375 4.859375 -4.3125 Z M 4.859375 -4.3125 \"/>\n",
       "</symbol>\n",
       "<symbol overflow=\"visible\" id=\"glyph0-5\">\n",
       "<path style=\"stroke:none;\" d=\"M 5.765625 -0.234375 L 3.65625 -3.390625 L 5.875 -6.546875 L 4.421875 -6.546875 L 2.96875 -4.375 L 1.53125 -6.546875 L 0.0625 -6.546875 L 2.25 -3.34375 L -0.0625 0 L 1.40625 0 L 2.921875 -2.296875 L 4.4375 0 L 5.921875 0 Z M 5.765625 -0.234375 \"/>\n",
       "</symbol>\n",
       "<symbol overflow=\"visible\" id=\"glyph1-0\">\n",
       "<path style=\"stroke:none;\" d=\"\"/>\n",
       "</symbol>\n",
       "<symbol overflow=\"visible\" id=\"glyph1-1\">\n",
       "<path style=\"stroke:none;\" d=\"M -3.015625 -3.546875 L -4.015625 -3.546875 L -4.015625 -0.40625 L -2.875 -0.40625 L -2.875 -3.546875 Z M -3.015625 -3.546875 \"/>\n",
       "</symbol>\n",
       "<symbol overflow=\"visible\" id=\"glyph1-2\">\n",
       "<path style=\"stroke:none;\" d=\"M -0.125 -4.296875 L -8.765625 -4.296875 L -8.765625 -3.359375 C -7.328125 -2.953125 -7.28125 -2.859375 -7.0625 -1.078125 L -6.0625 -1.078125 L -6.0625 -2.96875 L 0 -2.96875 L 0 -4.296875 Z M -0.125 -4.296875 \"/>\n",
       "</symbol>\n",
       "<symbol overflow=\"visible\" id=\"glyph1-3\">\n",
       "<path style=\"stroke:none;\" d=\"M -0.125 -2.421875 L -1.515625 -2.421875 L -1.515625 -0.90625 L 0 -0.90625 L 0 -2.421875 Z M -0.125 -2.421875 \"/>\n",
       "</symbol>\n",
       "<symbol overflow=\"visible\" id=\"glyph1-4\">\n",
       "<path style=\"stroke:none;\" d=\"M -2.953125 -6.28125 C -4.625 -6.28125 -5.875 -5.046875 -5.875 -3.40625 C -5.875 -2.8125 -5.671875 -2.21875 -5.515625 -2.015625 L -7.28125 -2.28125 L -7.28125 -5.84375 L -8.59375 -5.84375 L -8.59375 -1.203125 L -3.875 -0.515625 L -3.875 -1.71875 C -4.5 -2.25 -4.671875 -2.5625 -4.671875 -3.21875 C -4.671875 -4.359375 -4.0625 -4.9375 -2.8125 -4.9375 C -1.578125 -4.9375 -1.015625 -4.375 -1.015625 -3.21875 C -1.015625 -2.296875 -1.359375 -1.859375 -2.453125 -1.578125 L -2.453125 -0.25 C -0.625 -0.625 0.1875 -1.734375 0.1875 -3.234375 C 0.1875 -4.953125 -1.15625 -6.28125 -2.953125 -6.28125 Z M -2.953125 -6.28125 \"/>\n",
       "</symbol>\n",
       "<symbol overflow=\"visible\" id=\"glyph1-5\">\n",
       "<path style=\"stroke:none;\" d=\"M -4.21875 -6.21875 C -7.171875 -6.21875 -8.765625 -5.140625 -8.765625 -3.296875 C -8.765625 -1.46875 -7.15625 -0.375 -4.296875 -0.375 C -1.421875 -0.375 0.1875 -1.46875 0.1875 -3.296875 C 0.1875 -5.09375 -1.421875 -6.21875 -4.21875 -6.21875 Z M -4.3125 -4.859375 C -1.90625 -4.859375 -0.953125 -4.453125 -0.953125 -3.28125 C -0.953125 -2.15625 -1.953125 -1.734375 -4.28125 -1.734375 C -6.609375 -1.734375 -7.578125 -2.15625 -7.578125 -3.296875 C -7.578125 -4.4375 -6.59375 -4.859375 -4.3125 -4.859375 Z M -4.3125 -4.859375 \"/>\n",
       "</symbol>\n",
       "<symbol overflow=\"visible\" id=\"glyph1-6\">\n",
       "<path style=\"stroke:none;\" d=\"M -0.234375 -5.765625 L -3.390625 -3.65625 L -6.546875 -5.875 L -6.546875 -4.421875 L -4.375 -2.96875 L -6.546875 -1.53125 L -6.546875 -0.0625 L -3.34375 -2.25 L 0 0.0625 L 0 -1.40625 L -2.296875 -2.921875 L 0 -4.4375 L 0 -5.921875 Z M -0.234375 -5.765625 \"/>\n",
       "</symbol>\n",
       "<symbol overflow=\"visible\" id=\"glyph1-7\">\n",
       "<path style=\"stroke:none;\" d=\"M -4.078125 -5.234375 L -8.765625 -3.3125 L -8.765625 -2.28125 L -3.953125 -0.328125 L -3.953125 -1.421875 L -7.6875 -2.9375 L -7.6875 -2.65625 L -3.953125 -4.1875 L -3.953125 -5.296875 Z M -4.078125 -5.234375 \"/>\n",
       "</symbol>\n",
       "<symbol overflow=\"visible\" id=\"glyph1-8\">\n",
       "<path style=\"stroke:none;\" d=\"M -2.609375 -6.203125 C -3.640625 -6.203125 -4.375 -5.65625 -4.71875 -4.625 L -4.453125 -4.625 C -4.765625 -5.421875 -5.453125 -5.953125 -6.296875 -5.953125 C -7.765625 -5.953125 -8.765625 -4.84375 -8.765625 -3.234375 C -8.765625 -1.515625 -7.703125 -0.453125 -5.765625 -0.421875 L -5.765625 -1.75 C -7.15625 -1.78125 -7.578125 -2.15625 -7.578125 -3.234375 C -7.578125 -4.171875 -7.15625 -4.59375 -6.265625 -4.59375 C -5.359375 -4.59375 -5.109375 -4.34375 -5.109375 -2.515625 L -3.953125 -2.515625 L -3.953125 -3.234375 C -3.953125 -4.390625 -3.546875 -4.84375 -2.59375 -4.84375 C -1.53125 -4.84375 -1.015625 -4.328125 -1.015625 -3.234375 C -1.015625 -2.078125 -1.46875 -1.640625 -2.828125 -1.5625 L -2.828125 -0.234375 C -0.796875 -0.375 0.1875 -1.453125 0.1875 -3.1875 C 0.1875 -4.9375 -1 -6.203125 -2.609375 -6.203125 Z M -2.609375 -6.203125 \"/>\n",
       "</symbol>\n",
       "<symbol overflow=\"visible\" id=\"glyph1-9\">\n",
       "<path style=\"stroke:none;\" d=\"M -9.015625 -3.40625 L -9.015625 -2.65625 L 0.234375 0.28125 L 0.234375 -0.640625 L -9.015625 -3.59375 Z M -9.015625 -3.40625 \"/>\n",
       "</symbol>\n",
       "<symbol overflow=\"visible\" id=\"glyph1-10\">\n",
       "<path style=\"stroke:none;\" d=\"M 2.3125 -3.59375 C 0.59375 -2.53125 -1.3125 -1.984375 -3.234375 -1.984375 C -5.140625 -1.984375 -7.078125 -2.53125 -9.015625 -3.734375 L -9.015625 -2.765625 C -7.40625 -1.53125 -5.125 -0.734375 -3.234375 -0.734375 C -1.34375 -0.734375 0.9375 -1.53125 2.546875 -2.765625 L 2.546875 -3.734375 Z M 2.3125 -3.59375 \"/>\n",
       "</symbol>\n",
       "<symbol overflow=\"visible\" id=\"glyph1-11\">\n",
       "<path style=\"stroke:none;\" d=\"M -6.140625 -6.265625 C -7.578125 -6.265625 -8.765625 -5.015625 -8.765625 -3.40625 C -8.765625 -1.671875 -7.75 -0.515625 -5.5625 -0.453125 L -5.5625 -1.78125 C -7.109375 -1.875 -7.578125 -2.328125 -7.578125 -3.375 C -7.578125 -4.328125 -7.03125 -4.90625 -6.125 -4.90625 C -5.453125 -4.90625 -4.96875 -4.546875 -4.53125 -3.796875 L -3.90625 -2.6875 C -2.90625 -0.90625 -2 -0.359375 0 -0.25 L 0 -6.203125 L -1.3125 -6.203125 L -1.3125 -1.75 C -1.875 -1.84375 -2.21875 -2.1875 -2.828125 -3.234375 L -3.484375 -4.421875 C -4.109375 -5.609375 -5.09375 -6.265625 -6.140625 -6.265625 Z M -6.140625 -6.265625 \"/>\n",
       "</symbol>\n",
       "<symbol overflow=\"visible\" id=\"glyph1-12\">\n",
       "<path style=\"stroke:none;\" d=\"\"/>\n",
       "</symbol>\n",
       "<symbol overflow=\"visible\" id=\"glyph1-13\">\n",
       "<path style=\"stroke:none;\" d=\"M -2.71875 -6.328125 L -3.671875 -6.328125 L -3.671875 -4.046875 L -5.953125 -4.046875 L -5.953125 -2.953125 L -3.671875 -2.953125 L -3.671875 -0.671875 L -2.59375 -0.671875 L -2.59375 -2.953125 L -0.3125 -2.953125 L -0.3125 -4.046875 L -2.59375 -4.046875 L -2.59375 -6.328125 Z M -2.71875 -6.328125 \"/>\n",
       "</symbol>\n",
       "<symbol overflow=\"visible\" id=\"glyph1-14\">\n",
       "<path style=\"stroke:none;\" d=\"M -3.234375 -3.203125 C -5.125 -3.203125 -7.40625 -2.40625 -9.015625 -1.171875 L -9.015625 -0.203125 C -7.0625 -1.40625 -5.140625 -1.953125 -3.234375 -1.953125 C -1.3125 -1.953125 0.609375 -1.40625 2.546875 -0.203125 L 2.546875 -1.171875 C 0.9375 -2.40625 -1.34375 -3.203125 -3.234375 -3.203125 Z M -3.234375 -3.203125 \"/>\n",
       "</symbol>\n",
       "</g>\n",
       "</defs>\n",
       "<g id=\"surface131\">\n",
       "<rect x=\"0\" y=\"0\" width=\"360\" height=\"252\" style=\"fill:rgb(100%,100%,100%);fill-opacity:1;stroke:none;\"/>\n",
       "<path style=\"fill:none;stroke-width:0.75;stroke-linecap:round;stroke-linejoin:round;stroke:rgb(0%,0%,100%);stroke-opacity:1;stroke-miterlimit:10;\" d=\"M 69.066406 174.132812 L 71.574219 172.582031 L 74.078125 171.03125 L 81.601562 166.367188 L 84.105469 164.8125 L 86.613281 163.257812 L 89.121094 161.699219 L 91.625 160.144531 L 94.132812 158.589844 L 99.148438 155.488281 L 101.652344 153.941406 L 104.160156 152.398438 L 106.667969 150.859375 L 109.171875 149.328125 L 111.679688 147.804688 L 114.1875 146.289062 L 116.691406 144.785156 L 119.199219 143.292969 L 121.707031 141.8125 L 124.214844 140.351562 L 126.71875 138.910156 L 129.226562 137.488281 L 131.734375 136.089844 L 134.238281 134.722656 L 136.746094 133.386719 L 139.253906 132.082031 L 141.761719 130.816406 L 144.265625 129.597656 L 146.773438 128.421875 L 149.28125 127.300781 L 151.785156 126.234375 L 154.292969 125.230469 L 156.800781 124.292969 L 159.308594 123.421875 L 161.8125 122.628906 L 164.320312 121.910156 L 166.828125 121.269531 L 169.332031 120.707031 L 171.839844 120.226562 L 174.347656 119.828125 L 176.851562 119.503906 L 179.359375 119.253906 L 181.867188 119.066406 L 184.375 118.9375 L 186.878906 118.859375 L 189.386719 118.816406 L 191.894531 118.800781 L 194.398438 118.800781 L 196.90625 118.796875 L 199.414062 118.78125 L 201.921875 118.742188 L 204.425781 118.660156 L 206.933594 118.535156 L 209.441406 118.347656 L 211.945312 118.097656 L 214.453125 117.773438 L 216.960938 117.371094 L 219.464844 116.890625 L 221.972656 116.332031 L 224.480469 115.691406 L 226.988281 114.972656 L 229.492188 114.175781 L 232 113.308594 L 234.507812 112.367188 L 237.011719 111.363281 L 239.519531 110.300781 L 242.027344 109.175781 L 244.535156 108.003906 L 247.039062 106.78125 L 249.546875 105.519531 L 252.054688 104.214844 L 254.558594 102.878906 L 257.066406 101.507812 L 259.574219 100.113281 L 262.078125 98.691406 L 264.585938 97.246094 L 267.09375 95.785156 L 269.601562 94.308594 L 272.105469 92.816406 L 274.613281 91.3125 L 277.121094 89.796875 L 279.625 88.273438 L 282.132812 86.742188 L 284.640625 85.203125 L 287.148438 83.660156 L 289.652344 82.113281 L 292.160156 80.5625 L 294.667969 79.007812 L 297.171875 77.457031 L 299.679688 75.898438 L 302.1875 74.34375 L 304.691406 72.789062 L 307.199219 71.230469 L 312.214844 68.121094 L 314.71875 66.570312 L 317.226562 65.015625 L 319.734375 63.464844 \"/>\n",
       "<path style=\"fill:none;stroke-width:0.75;stroke-linecap:round;stroke-linejoin:round;stroke:rgb(0%,0%,0%);stroke-opacity:1;stroke-miterlimit:10;\" d=\"M 69.066406 178.558594 L 319.734375 178.558594 \"/>\n",
       "<path style=\"fill:none;stroke-width:0.75;stroke-linecap:round;stroke-linejoin:round;stroke:rgb(0%,0%,0%);stroke-opacity:1;stroke-miterlimit:10;\" d=\"M 69.066406 178.558594 L 69.066406 185.761719 \"/>\n",
       "<path style=\"fill:none;stroke-width:0.75;stroke-linecap:round;stroke-linejoin:round;stroke:rgb(0%,0%,0%);stroke-opacity:1;stroke-miterlimit:10;\" d=\"M 131.734375 178.558594 L 131.734375 185.761719 \"/>\n",
       "<path style=\"fill:none;stroke-width:0.75;stroke-linecap:round;stroke-linejoin:round;stroke:rgb(0%,0%,0%);stroke-opacity:1;stroke-miterlimit:10;\" d=\"M 194.398438 178.558594 L 194.398438 185.761719 \"/>\n",
       "<path style=\"fill:none;stroke-width:0.75;stroke-linecap:round;stroke-linejoin:round;stroke:rgb(0%,0%,0%);stroke-opacity:1;stroke-miterlimit:10;\" d=\"M 257.066406 178.558594 L 257.066406 185.761719 \"/>\n",
       "<path style=\"fill:none;stroke-width:0.75;stroke-linecap:round;stroke-linejoin:round;stroke:rgb(0%,0%,0%);stroke-opacity:1;stroke-miterlimit:10;\" d=\"M 319.734375 178.558594 L 319.734375 185.761719 \"/>\n",
       "<g style=\"fill:rgb(0%,0%,0%);fill-opacity:1;\">\n",
       "  <use xlink:href=\"#glyph0-1\" x=\"63.566406\" y=\"204.256836\"/>\n",
       "  <use xlink:href=\"#glyph0-2\" x=\"67.5625\" y=\"204.256836\"/>\n",
       "</g>\n",
       "<g style=\"fill:rgb(0%,0%,0%);fill-opacity:1;\">\n",
       "  <use xlink:href=\"#glyph0-1\" x=\"126.234375\" y=\"204.256836\"/>\n",
       "  <use xlink:href=\"#glyph0-3\" x=\"130.230469\" y=\"204.256836\"/>\n",
       "</g>\n",
       "<g style=\"fill:rgb(0%,0%,0%);fill-opacity:1;\">\n",
       "  <use xlink:href=\"#glyph0-4\" x=\"190.898438\" y=\"204.256836\"/>\n",
       "</g>\n",
       "<g style=\"fill:rgb(0%,0%,0%);fill-opacity:1;\">\n",
       "  <use xlink:href=\"#glyph0-3\" x=\"253.566406\" y=\"204.256836\"/>\n",
       "</g>\n",
       "<g style=\"fill:rgb(0%,0%,0%);fill-opacity:1;\">\n",
       "  <use xlink:href=\"#glyph0-2\" x=\"316.234375\" y=\"204.256836\"/>\n",
       "</g>\n",
       "<path style=\"fill:none;stroke-width:0.75;stroke-linecap:round;stroke-linejoin:round;stroke:rgb(0%,0%,0%);stroke-opacity:1;stroke-miterlimit:10;\" d=\"M 59.039062 170.675781 L 59.039062 66.925781 \"/>\n",
       "<path style=\"fill:none;stroke-width:0.75;stroke-linecap:round;stroke-linejoin:round;stroke:rgb(0%,0%,0%);stroke-opacity:1;stroke-miterlimit:10;\" d=\"M 59.039062 170.675781 L 51.839844 170.675781 \"/>\n",
       "<path style=\"fill:none;stroke-width:0.75;stroke-linecap:round;stroke-linejoin:round;stroke:rgb(0%,0%,0%);stroke-opacity:1;stroke-miterlimit:10;\" d=\"M 59.039062 153.382812 L 51.839844 153.382812 \"/>\n",
       "<path style=\"fill:none;stroke-width:0.75;stroke-linecap:round;stroke-linejoin:round;stroke:rgb(0%,0%,0%);stroke-opacity:1;stroke-miterlimit:10;\" d=\"M 59.039062 136.089844 L 51.839844 136.089844 \"/>\n",
       "<path style=\"fill:none;stroke-width:0.75;stroke-linecap:round;stroke-linejoin:round;stroke:rgb(0%,0%,0%);stroke-opacity:1;stroke-miterlimit:10;\" d=\"M 59.039062 118.800781 L 51.839844 118.800781 \"/>\n",
       "<path style=\"fill:none;stroke-width:0.75;stroke-linecap:round;stroke-linejoin:round;stroke:rgb(0%,0%,0%);stroke-opacity:1;stroke-miterlimit:10;\" d=\"M 59.039062 101.507812 L 51.839844 101.507812 \"/>\n",
       "<path style=\"fill:none;stroke-width:0.75;stroke-linecap:round;stroke-linejoin:round;stroke:rgb(0%,0%,0%);stroke-opacity:1;stroke-miterlimit:10;\" d=\"M 59.039062 84.214844 L 51.839844 84.214844 \"/>\n",
       "<path style=\"fill:none;stroke-width:0.75;stroke-linecap:round;stroke-linejoin:round;stroke:rgb(0%,0%,0%);stroke-opacity:1;stroke-miterlimit:10;\" d=\"M 59.039062 66.925781 L 51.839844 66.925781 \"/>\n",
       "<g style=\"fill:rgb(0%,0%,0%);fill-opacity:1;\">\n",
       "  <use xlink:href=\"#glyph1-1\" x=\"41.538086\" y=\"181.175781\"/>\n",
       "  <use xlink:href=\"#glyph1-2\" x=\"41.538086\" y=\"177.179688\"/>\n",
       "  <use xlink:href=\"#glyph1-3\" x=\"41.538086\" y=\"170.507812\"/>\n",
       "  <use xlink:href=\"#glyph1-4\" x=\"41.538086\" y=\"167.171875\"/>\n",
       "</g>\n",
       "<g style=\"fill:rgb(0%,0%,0%);fill-opacity:1;\">\n",
       "  <use xlink:href=\"#glyph1-1\" x=\"41.538086\" y=\"146.589844\"/>\n",
       "  <use xlink:href=\"#glyph1-5\" x=\"41.538086\" y=\"142.59375\"/>\n",
       "  <use xlink:href=\"#glyph1-3\" x=\"41.538086\" y=\"135.921875\"/>\n",
       "  <use xlink:href=\"#glyph1-4\" x=\"41.538086\" y=\"132.585938\"/>\n",
       "</g>\n",
       "<g style=\"fill:rgb(0%,0%,0%);fill-opacity:1;\">\n",
       "  <use xlink:href=\"#glyph1-5\" x=\"41.538086\" y=\"110.007812\"/>\n",
       "  <use xlink:href=\"#glyph1-3\" x=\"41.538086\" y=\"103.335938\"/>\n",
       "  <use xlink:href=\"#glyph1-4\" x=\"41.538086\" y=\"100\"/>\n",
       "</g>\n",
       "<g style=\"fill:rgb(0%,0%,0%);fill-opacity:1;\">\n",
       "  <use xlink:href=\"#glyph1-2\" x=\"41.538086\" y=\"75.425781\"/>\n",
       "  <use xlink:href=\"#glyph1-3\" x=\"41.538086\" y=\"68.753906\"/>\n",
       "  <use xlink:href=\"#glyph1-4\" x=\"41.538086\" y=\"65.417969\"/>\n",
       "</g>\n",
       "<path style=\"fill:none;stroke-width:0.75;stroke-linecap:round;stroke-linejoin:round;stroke:rgb(0%,0%,0%);stroke-opacity:1;stroke-miterlimit:10;\" d=\"M 59.039062 178.558594 L 329.761719 178.558594 L 329.761719 59.039062 L 59.039062 59.039062 L 59.039062 178.558594 \"/>\n",
       "<g style=\"fill:rgb(0%,0%,0%);fill-opacity:1;\">\n",
       "  <use xlink:href=\"#glyph0-5\" x=\"191.398438\" y=\"233.057617\"/>\n",
       "</g>\n",
       "<g style=\"fill:rgb(0%,0%,0%);fill-opacity:1;\">\n",
       "  <use xlink:href=\"#glyph1-6\" x=\"12.737305\" y=\"153.300781\"/>\n",
       "  <use xlink:href=\"#glyph1-7\" x=\"12.737305\" y=\"147.300781\"/>\n",
       "  <use xlink:href=\"#glyph1-8\" x=\"12.737305\" y=\"141.672852\"/>\n",
       "  <use xlink:href=\"#glyph1-9\" x=\"12.737305\" y=\"135.000977\"/>\n",
       "  <use xlink:href=\"#glyph1-10\" x=\"12.737305\" y=\"131.665039\"/>\n",
       "  <use xlink:href=\"#glyph1-6\" x=\"12.737305\" y=\"127.668945\"/>\n",
       "  <use xlink:href=\"#glyph1-7\" x=\"12.737305\" y=\"121.668945\"/>\n",
       "  <use xlink:href=\"#glyph1-11\" x=\"12.737305\" y=\"116.041016\"/>\n",
       "  <use xlink:href=\"#glyph1-12\" x=\"12.737305\" y=\"109.369141\"/>\n",
       "  <use xlink:href=\"#glyph1-13\" x=\"12.737305\" y=\"106.033203\"/>\n",
       "  <use xlink:href=\"#glyph1-12\" x=\"12.737305\" y=\"99.025391\"/>\n",
       "  <use xlink:href=\"#glyph1-2\" x=\"12.737305\" y=\"95.689453\"/>\n",
       "  <use xlink:href=\"#glyph1-14\" x=\"12.737305\" y=\"89.017578\"/>\n",
       "</g>\n",
       "</g>\n",
       "</svg>\n"
      ],
      "text/plain": [
       "plot without title"
      ]
     },
     "metadata": {
      "image/svg+xml": {
       "isolated": true
      }
     },
     "output_type": "display_data"
    }
   ],
   "source": [
    "curve(x^3/(x^2 + 1), -2, 2, add = F, col='blue')"
   ]
  },
  {
   "cell_type": "markdown",
   "metadata": {
    "slideshow": {
     "slide_type": "slide"
    }
   },
   "source": [
    "### Gráficos avanzados\n",
    "\n",
    "Otras librerías se permiten crear agregar funciones nuevas para el trazado de gráficos. Se requiere instalar ciertas librerías nuevas, como por ejemplo *'lattice', 'ggplot2', etc...*. Para instalar necesitamos la función *install.packages('nombre_de_paquete')*. Los paqueres a instalar serán lattice, ggplot2 y plotly"
   ]
  },
  {
   "cell_type": "code",
   "execution_count": null,
   "metadata": {
    "collapsed": true,
    "slideshow": {
     "slide_type": "slide"
    }
   },
   "outputs": [],
   "source": [
    "options(repr.plot.width = 5) #Esto solo es para hacer más pequeñas las imágenes en el Notebook de Júpiter\n",
    "options(repr.plot.height = 4) #Esto solo es para hacer más pequeñas las imágenes en el Notebook de Júpiter\n",
    "\n",
    "# Gráficos con lattice tomado de Kabacoff R. (2014) \n",
    "\n",
    "library(lattice) # Con la función library() se cargan los paquetes adicionales\n",
    "\n",
    "attach(mtcars)\n",
    "\n",
    "par(mfrow = c(3,3))\n",
    "\n",
    "# Crear factores\n",
    "gear.f<-factor(gear,levels=c(3,4,5),\n",
    "   labels=c(\"3gears\",\"4gears\",\"5gears\"))\n",
    "cyl.f <-factor(cyl,levels=c(4,6,8),\n",
    "   labels=c(\"4cyl\",\"6cyl\",\"8cyl\"))"
   ]
  },
  {
   "cell_type": "code",
   "execution_count": 20,
   "metadata": {
    "collapsed": false,
    "slideshow": {
     "slide_type": "slide"
    }
   },
   "outputs": [
    {
     "data": {
      "image/png": "[encoded data removed]",
      "image/svg+xml": [
       "<?xml version=\"1.0\" encoding=\"UTF-8\"?>\n",
       "<svg xmlns=\"http://www.w3.org/2000/svg\" xmlns:xlink=\"http://www.w3.org/1999/xlink\" width=\"360pt\" height=\"288pt\" viewBox=\"0 0 360 288\" version=\"1.1\">\n",
       "<defs>\n",
       "<g>\n",
       "<symbol overflow=\"visible\" id=\"glyph0-0\">\n",
       "<path style=\"stroke:none;\" d=\"\"/>\n",
       "</symbol>\n",
       "<symbol overflow=\"visible\" id=\"glyph0-1\">\n",
       "<path style=\"stroke:none;\" d=\"M 7.5 -3.265625 C 7.5 -4.46875 6.921875 -5.28125 6 -5.734375 C 6.75 -6.1875 7.171875 -6.84375 7.171875 -7.78125 C 7.171875 -9.484375 5.828125 -10.703125 3.859375 -10.703125 C 1.890625 -10.703125 0.46875 -9.515625 0.46875 -7.296875 L 0.46875 -7 L 2.5 -7 C 2.5 -8.40625 2.828125 -8.796875 3.8125 -8.796875 C 4.625 -8.796875 5 -8.4375 5 -7.59375 C 5 -6.5625 4.5 -6.296875 3.296875 -6.296875 L 3.046875 -6.296875 L 3.046875 -4.671875 C 4.640625 -4.671875 5.328125 -4.359375 5.328125 -3.265625 C 5.328125 -2.375 4.78125 -1.875 3.90625 -1.875 C 2.953125 -1.875 2.453125 -2.28125 2.453125 -3.46875 L 0.328125 -3.46875 C 0.328125 -1.28125 1.765625 0.125 3.859375 0.125 C 6.03125 0.125 7.5 -1.28125 7.5 -3.265625 Z M 7.5 -3.265625 \"/>\n",
       "</symbol>\n",
       "<symbol overflow=\"visible\" id=\"glyph0-2\">\n",
       "<path style=\"stroke:none;\" d=\"M 9.875 -5.390625 C 9.875 -7 9.40625 -8.53125 8.578125 -9.515625 C 7.859375 -10.375 6.828125 -10.78125 5.21875 -10.78125 L 1.015625 -10.78125 L 1.015625 0 L 5.21875 0 C 6.8125 0 7.84375 -0.40625 8.578125 -1.25 C 9.390625 -2.234375 9.875 -3.765625 9.875 -5.390625 Z M 7.5625 -5.375 C 7.5625 -3.0625 6.84375 -2.078125 5.21875 -2.078125 L 3.34375 -2.078125 L 3.34375 -8.703125 L 5.21875 -8.703125 C 6.84375 -8.703125 7.5625 -7.6875 7.5625 -5.375 Z M 7.5625 -5.375 \"/>\n",
       "</symbol>\n",
       "<symbol overflow=\"visible\" id=\"glyph0-3\">\n",
       "<path style=\"stroke:none;\" d=\"\"/>\n",
       "</symbol>\n",
       "<symbol overflow=\"visible\" id=\"glyph0-4\">\n",
       "<path style=\"stroke:none;\" d=\"M 9.1875 -3.28125 C 9.1875 -4.9375 8.28125 -5.859375 6.34375 -6.234375 L 4.703125 -6.5625 C 3.15625 -6.859375 2.78125 -7.015625 2.78125 -7.78125 C 2.78125 -8.578125 3.421875 -8.953125 4.53125 -8.953125 C 5.890625 -8.953125 6.640625 -8.5 6.640625 -7.296875 L 8.8125 -7.296875 C 8.8125 -9.65625 7.1875 -10.953125 4.625 -10.953125 C 2.109375 -10.953125 0.5625 -9.625 0.5625 -7.578125 C 0.5625 -5.9375 1.46875 -5.046875 3.59375 -4.625 L 5.078125 -4.34375 C 6.515625 -4.046875 6.953125 -3.875 6.953125 -3.03125 C 6.953125 -2.140625 6.234375 -1.828125 4.921875 -1.828125 C 3.453125 -1.828125 2.640625 -2.3125 2.640625 -3.578125 L 0.375 -3.578125 C 0.375 -1.1875 2.125 0.171875 4.8125 0.171875 C 7.515625 0.171875 9.1875 -1.15625 9.1875 -3.28125 Z M 9.1875 -3.28125 \"/>\n",
       "</symbol>\n",
       "<symbol overflow=\"visible\" id=\"glyph0-5\">\n",
       "<path style=\"stroke:none;\" d=\"M 7.515625 -2.96875 L 5.578125 -2.96875 C 5.25 -1.953125 4.921875 -1.765625 4.15625 -1.765625 C 3.125 -1.765625 2.578125 -2.453125 2.578125 -3.96875 C 2.578125 -5.390625 2.875 -6.28125 4.15625 -6.28125 C 4.96875 -6.28125 5.265625 -6.015625 5.53125 -4.875 L 7.609375 -4.875 C 7.453125 -6.90625 6.109375 -8.1875 4.15625 -8.1875 C 1.84375 -8.1875 0.40625 -6.609375 0.40625 -3.96875 C 0.40625 -1.390625 1.828125 0.125 4.140625 0.125 C 6.015625 0.125 7.40625 -1.171875 7.609375 -2.96875 Z M 7.515625 -2.96875 \"/>\n",
       "</symbol>\n",
       "<symbol overflow=\"visible\" id=\"glyph0-6\">\n",
       "<path style=\"stroke:none;\" d=\"M 7.625 -0.125 L 7.625 -0.46875 C 7.234375 -0.8125 7.15625 -0.921875 7.15625 -1.328125 L 7.15625 -5.640625 C 7.15625 -7.234375 6 -8.1875 3.90625 -8.1875 C 1.796875 -8.1875 0.625 -7.09375 0.484375 -5.21875 L 2.578125 -5.21875 C 2.6875 -6.15625 2.953125 -6.28125 3.953125 -6.28125 C 4.71875 -6.28125 5.03125 -6.15625 5.03125 -5.640625 C 5.03125 -4.8125 4.515625 -5.046875 3.5 -4.875 L 2.6875 -4.71875 C 1.15625 -4.453125 0.3125 -3.640625 0.3125 -2.234375 C 0.3125 -0.71875 1.46875 0.125 2.765625 0.125 C 3.625 0.125 4.46875 -0.28125 5.046875 -0.875 C 5.046875 -0.703125 5.109375 -0.265625 5.328125 0 L 7.625 0 Z M 5.03125 -3.453125 C 5.03125 -2.296875 4.53125 -1.765625 3.515625 -1.765625 C 2.84375 -1.765625 2.5 -1.890625 2.5 -2.46875 C 2.5 -3.046875 2.734375 -3.140625 3.578125 -3.296875 L 4.265625 -3.421875 C 4.796875 -3.53125 4.921875 -3.59375 5.03125 -3.640625 Z M 5.03125 -3.453125 \"/>\n",
       "</symbol>\n",
       "<symbol overflow=\"visible\" id=\"glyph0-7\">\n",
       "<path style=\"stroke:none;\" d=\"M 4.40625 -0.125 L 4.40625 -1.703125 C 4.140625 -1.65625 4.015625 -1.640625 3.875 -1.640625 C 3.34375 -1.640625 3.28125 -1.65625 3.28125 -2.34375 L 3.28125 -6.28125 L 4.40625 -6.28125 L 4.40625 -7.890625 L 3.28125 -7.890625 L 3.28125 -9.984375 L 1.109375 -9.984375 L 1.109375 -7.890625 L 0.109375 -7.890625 L 0.109375 -6.28125 L 1.109375 -6.28125 L 1.109375 -1.796875 C 1.109375 -0.578125 1.84375 0.0625 3.171875 0.0625 C 3.609375 0.0625 3.96875 0.015625 4.40625 0 Z M 4.40625 -0.125 \"/>\n",
       "</symbol>\n",
       "<symbol overflow=\"visible\" id=\"glyph0-8\">\n",
       "<path style=\"stroke:none;\" d=\"M 7.640625 -3.734375 C 7.640625 -6.40625 6.203125 -8.1875 3.921875 -8.1875 C 1.6875 -8.1875 0.234375 -6.53125 0.234375 -3.921875 C 0.234375 -1.421875 1.671875 0.125 3.875 0.125 C 5.625 0.125 7.109375 -0.796875 7.59375 -2.46875 L 5.453125 -2.46875 C 5.234375 -1.703125 4.6875 -1.6875 3.953125 -1.6875 C 3 -1.6875 2.46875 -1.96875 2.40625 -3.359375 L 7.609375 -3.359375 Z M 5.453125 -4.96875 L 2.453125 -4.96875 C 2.5625 -5.90625 3 -6.375 3.890625 -6.375 C 4.75 -6.375 5.265625 -5.9375 5.359375 -4.96875 Z M 5.453125 -4.96875 \"/>\n",
       "</symbol>\n",
       "<symbol overflow=\"visible\" id=\"glyph0-9\">\n",
       "<path style=\"stroke:none;\" d=\"M 5.40625 -5.984375 L 5.40625 -8.15625 C 5.21875 -8.1875 5.140625 -8.1875 5.078125 -8.1875 C 4.15625 -8.1875 3.265625 -7.375 2.84375 -6.328125 L 3 -6.375 L 3 -8.046875 L 0.828125 -8.046875 L 0.828125 0 L 3 0 L 3 -4.265625 C 3 -5.453125 3.515625 -5.90625 4.703125 -5.90625 C 4.90625 -5.90625 5.0625 -5.890625 5.40625 -5.828125 Z M 5.40625 -5.984375 \"/>\n",
       "</symbol>\n",
       "<symbol overflow=\"visible\" id=\"glyph0-10\">\n",
       "<path style=\"stroke:none;\" d=\"M 8.34375 -4.015625 C 8.34375 -6.328125 7.046875 -8.1875 5.015625 -8.1875 C 4.03125 -8.1875 3.28125 -7.71875 2.796875 -6.859375 L 2.921875 -6.75 L 2.921875 -8.046875 L 0.75 -8.046875 L 0.75 3.140625 L 2.921875 3.140625 L 2.921875 -1.171875 L 2.796875 -1.0625 C 3.28125 -0.203125 4.03125 0.125 5.015625 0.125 C 6.890625 0.125 8.34375 -1.65625 8.34375 -4.015625 Z M 6.171875 -3.984375 C 6.171875 -2.578125 5.546875 -1.828125 4.546875 -1.828125 C 3.546875 -1.828125 2.921875 -2.5625 2.921875 -4.015625 C 2.921875 -5.46875 3.546875 -6.21875 4.546875 -6.21875 C 5.578125 -6.21875 6.171875 -5.46875 6.171875 -3.984375 Z M 6.171875 -3.984375 \"/>\n",
       "</symbol>\n",
       "<symbol overflow=\"visible\" id=\"glyph0-11\">\n",
       "<path style=\"stroke:none;\" d=\"M 3.046875 -0.125 L 3.046875 -10.78125 L 0.875 -10.78125 L 0.875 0 L 3.046875 0 Z M 3.046875 -0.125 \"/>\n",
       "</symbol>\n",
       "<symbol overflow=\"visible\" id=\"glyph0-12\">\n",
       "<path style=\"stroke:none;\" d=\"M 8.265625 -3.96875 C 8.265625 -6.59375 6.765625 -8.1875 4.34375 -8.1875 C 1.953125 -8.1875 0.421875 -6.5625 0.421875 -4.015625 C 0.421875 -1.453125 1.953125 0.125 4.34375 0.125 C 6.71875 0.125 8.265625 -1.46875 8.265625 -3.96875 Z M 6.09375 -3.984375 C 6.09375 -2.53125 5.4375 -1.765625 4.34375 -1.765625 C 3.25 -1.765625 2.59375 -2.53125 2.59375 -4.015625 C 2.59375 -5.5 3.25 -6.28125 4.34375 -6.28125 C 5.453125 -6.28125 6.09375 -5.515625 6.09375 -3.984375 Z M 6.09375 -3.984375 \"/>\n",
       "</symbol>\n",
       "<symbol overflow=\"visible\" id=\"glyph0-13\">\n",
       "<path style=\"stroke:none;\" d=\"M 8.359375 -3.921875 C 8.359375 -6.125 7.0625 -8.1875 5.015625 -8.1875 C 4.046875 -8.1875 3.296875 -7.78125 2.9375 -7.21875 L 2.9375 -10.78125 L 0.765625 -10.78125 L 0.765625 0 L 2.9375 0 L 2.9375 -0.75 C 3.296875 -0.265625 4.03125 0.125 5.015625 0.125 C 6.875 0.125 8.359375 -1.5625 8.359375 -3.921875 Z M 6.1875 -4 C 6.1875 -2.59375 5.5625 -1.828125 4.5625 -1.828125 C 3.546875 -1.828125 2.9375 -2.5625 2.9375 -4.046875 C 2.9375 -5.453125 3.5625 -6.21875 4.5625 -6.21875 C 5.5625 -6.21875 6.1875 -5.453125 6.1875 -4 Z M 6.1875 -4 \"/>\n",
       "</symbol>\n",
       "<symbol overflow=\"visible\" id=\"glyph0-14\">\n",
       "<path style=\"stroke:none;\" d=\"M 7.75 -8.046875 L 5.640625 -8.046875 L 4.0625 -2.5 L 2.375 -8.046875 L -0.015625 -8.046875 L 2.9375 0.203125 L 2.9375 0.25 C 2.9375 0.984375 2.484375 1.390625 1.765625 1.390625 C 1.609375 1.390625 1.5 1.390625 1.15625 1.28125 L 1.15625 3.09375 C 1.546875 3.140625 1.71875 3.15625 1.953125 3.15625 C 3.3125 3.15625 4.09375 2.78125 4.625 1.296875 L 7.859375 -8.046875 Z M 7.75 -8.046875 \"/>\n",
       "</symbol>\n",
       "<symbol overflow=\"visible\" id=\"glyph0-15\">\n",
       "<path style=\"stroke:none;\" d=\"M 9.875 -3.859375 L 7.6875 -3.859375 C 7.546875 -2.3125 6.78125 -1.921875 5.453125 -1.921875 C 3.78125 -1.921875 2.859375 -3.046875 2.859375 -5.34375 C 2.859375 -7.671875 3.8125 -8.828125 5.515625 -8.828125 C 6.6875 -8.828125 7.359375 -8.421875 7.703125 -6.9375 L 9.90625 -6.9375 C 9.703125 -9.5 7.8125 -10.953125 5.453125 -10.953125 C 2.484375 -10.953125 0.546875 -8.765625 0.546875 -5.375 C 0.546875 -2 2.46875 0.171875 5.390625 0.171875 C 8 0.171875 9.8125 -1.3125 9.953125 -3.859375 Z M 9.875 -3.859375 \"/>\n",
       "</symbol>\n",
       "<symbol overflow=\"visible\" id=\"glyph0-16\">\n",
       "<path style=\"stroke:none;\" d=\"M 3.046875 -0.125 L 3.046875 -8.046875 L 0.875 -8.046875 L 0.875 0 L 3.046875 0 Z M 3.078125 -8.84375 L 3.078125 -11 L 0.90625 -11 L 0.90625 -8.71875 L 3.078125 -8.71875 Z M 3.078125 -8.84375 \"/>\n",
       "</symbol>\n",
       "<symbol overflow=\"visible\" id=\"glyph0-17\">\n",
       "<path style=\"stroke:none;\" d=\"M 7.9375 -0.125 L 7.9375 -5.34375 C 7.9375 -7.0625 6.921875 -8.1875 5.265625 -8.1875 C 4.203125 -8.1875 3.4375 -7.75 3 -7.09375 L 3 -8.046875 L 0.828125 -8.046875 L 0.828125 0 L 3 0 L 3 -4.796875 C 3 -5.71875 3.578125 -6.1875 4.546875 -6.1875 C 5.421875 -6.1875 5.765625 -5.84375 5.765625 -4.921875 L 5.765625 0 L 7.9375 0 Z M 7.9375 -0.125 \"/>\n",
       "</symbol>\n",
       "<symbol overflow=\"visible\" id=\"glyph0-18\">\n",
       "<path style=\"stroke:none;\" d=\"M 7.921875 -0.125 L 7.921875 -10.78125 L 5.75 -10.78125 L 5.75 -7.21875 C 5.375 -7.78125 4.65625 -8.1875 3.6875 -8.1875 C 1.828125 -8.1875 0.328125 -6.359375 0.328125 -4 C 0.328125 -1.796875 1.625 0.125 3.6875 0.125 C 4.65625 0.125 5.375 -0.265625 5.75 -0.75 L 5.75 0 L 7.921875 0 Z M 5.75 -3.96875 C 5.75 -2.5625 5.140625 -1.828125 4.140625 -1.828125 C 3.125 -1.828125 2.5 -2.578125 2.5 -4 C 2.5 -5.453125 3.125 -6.21875 4.140625 -6.21875 C 5.15625 -6.21875 5.75 -5.453125 5.75 -3.96875 Z M 5.75 -3.96875 \"/>\n",
       "</symbol>\n",
       "<symbol overflow=\"visible\" id=\"glyph0-19\">\n",
       "<path style=\"stroke:none;\" d=\"M 7.5625 -2.4375 L 7.5625 -2.53125 C 7.5625 -3.421875 6.984375 -4.234375 5.96875 -4.53125 L 3.421875 -5.265625 C 2.859375 -5.4375 2.78125 -5.421875 2.78125 -5.734375 C 2.78125 -6.171875 3.171875 -6.328125 3.875 -6.328125 C 4.84375 -6.328125 5.234375 -6.109375 5.25 -5.265625 L 7.34375 -5.265625 C 7.3125 -7.046875 5.984375 -8.1875 3.890625 -8.1875 C 1.921875 -8.1875 0.609375 -7.046875 0.609375 -5.453125 C 0.609375 -4.5 0.953125 -3.84375 2.390625 -3.40625 L 4.796875 -2.65625 C 5.296875 -2.5 5.390625 -2.46875 5.390625 -2.25 C 5.390625 -1.765625 4.90625 -1.734375 3.96875 -1.734375 C 3.046875 -1.734375 2.640625 -1.75 2.4375 -2.734375 L 0.328125 -2.734375 C 0.390625 -0.890625 1.734375 0.125 4.09375 0.125 C 6.28125 0.125 7.5625 -0.859375 7.5625 -2.4375 Z M 7.5625 -2.4375 \"/>\n",
       "</symbol>\n",
       "<symbol overflow=\"visible\" id=\"glyph1-0\">\n",
       "<path style=\"stroke:none;\" d=\"\"/>\n",
       "</symbol>\n",
       "<symbol overflow=\"visible\" id=\"glyph1-1\">\n",
       "<path style=\"stroke:none;\" d=\"M 8.5 -6.546875 L 7.265625 -6.546875 L 5.96875 -1.53125 L 6.25 -1.53125 L 4.984375 -6.546875 L 3.546875 -6.546875 L 2.3125 -1.53125 L 2.59375 -1.53125 L 1.265625 -6.546875 L -0.109375 -6.546875 L 1.78125 0 L 3.125 0 L 4.375 -5.0625 L 4.09375 -5.0625 L 5.40625 0 L 6.75 0 L 8.65625 -6.546875 Z M 8.5 -6.546875 \"/>\n",
       "</symbol>\n",
       "<symbol overflow=\"visible\" id=\"glyph1-2\">\n",
       "<path style=\"stroke:none;\" d=\"M 3.1875 -0.125 L 3.1875 -1.15625 C 2.921875 -1.0625 2.765625 -1.0625 2.5625 -1.0625 C 2.140625 -1.0625 2.140625 -1.046875 2.140625 -1.484375 L 2.140625 -5.46875 L 3.1875 -5.46875 L 3.1875 -6.546875 L 2.140625 -6.546875 L 2.140625 -8.28125 L 0.875 -8.28125 L 0.875 -6.546875 L 0.03125 -6.546875 L 0.03125 -5.46875 L 0.875 -5.46875 L 0.875 -1.046875 C 0.875 -0.40625 1.453125 0.078125 2.234375 0.078125 C 2.46875 0.078125 2.71875 0.0625 3.1875 -0.03125 Z M 3.1875 -0.125 \"/>\n",
       "</symbol>\n",
       "<symbol overflow=\"visible\" id=\"glyph1-3\">\n",
       "<path style=\"stroke:none;\" d=\"M 6.078125 2.484375 L 6.078125 -6.546875 L 4.90625 -6.546875 L 4.90625 -5.578125 L 5.140625 -5.671875 C 4.6875 -6.34375 3.875 -6.734375 3.046875 -6.734375 C 1.390625 -6.734375 0.171875 -5.296875 0.171875 -3.203125 C 0.171875 -1.15625 1.34375 0.1875 3 0.1875 C 3.875 0.1875 4.578125 -0.171875 5.046875 -0.859375 L 4.796875 -0.953125 L 4.796875 2.609375 L 6.078125 2.609375 Z M 4.796875 -3.234375 C 4.796875 -1.796875 4.25 -1.015625 3.1875 -1.015625 C 2.09375 -1.015625 1.484375 -1.8125 1.484375 -3.28125 C 1.484375 -4.734375 2.09375 -5.53125 3.1875 -5.53125 C 4.265625 -5.53125 4.796875 -4.703125 4.796875 -3.234375 Z M 4.796875 -3.234375 \"/>\n",
       "</symbol>\n",
       "<symbol overflow=\"visible\" id=\"glyph1-4\">\n",
       "<path style=\"stroke:none;\" d=\"M 5.640625 -1.890625 C 5.640625 -2.828125 4.984375 -3.4375 3.734375 -3.734375 L 2.765625 -3.953125 C 1.953125 -4.15625 1.734375 -4.28125 1.734375 -4.734375 C 1.734375 -5.296875 2.125 -5.546875 2.9375 -5.546875 C 3.75 -5.546875 4.03125 -5.328125 4.0625 -4.53125 L 5.390625 -4.53125 C 5.375 -5.90625 4.421875 -6.734375 2.96875 -6.734375 C 1.515625 -6.734375 0.421875 -5.84375 0.421875 -4.6875 C 0.421875 -3.703125 1.0625 -3.09375 2.5625 -2.734375 L 3.484375 -2.515625 C 4.1875 -2.34375 4.3125 -2.265625 4.3125 -1.8125 C 4.3125 -1.21875 3.875 -1.015625 3 -1.015625 C 2.09375 -1.015625 1.734375 -1.09375 1.578125 -2.1875 L 0.265625 -2.1875 C 0.3125 -0.59375 1.265625 0.1875 2.921875 0.1875 C 4.5 0.1875 5.640625 -0.6875 5.640625 -1.890625 Z M 5.640625 -1.890625 \"/>\n",
       "</symbol>\n",
       "<symbol overflow=\"visible\" id=\"glyph1-5\">\n",
       "<path style=\"stroke:none;\" d=\"M 6.28125 -2.984375 C 6.28125 -3.90625 6.21875 -4.46875 6.03125 -4.9375 C 5.625 -5.96875 4.53125 -6.734375 3.359375 -6.734375 C 1.609375 -6.734375 0.34375 -5.296875 0.34375 -3.234375 C 0.34375 -1.171875 1.578125 0.1875 3.34375 0.1875 C 4.78125 0.1875 5.90625 -0.765625 6.1875 -2.171875 L 4.921875 -2.171875 C 4.59375 -1.21875 4.171875 -1.015625 3.375 -1.015625 C 2.328125 -1.015625 1.6875 -1.546875 1.65625 -2.859375 L 6.28125 -2.859375 Z M 5.1875 -3.78125 C 5.1875 -3.78125 4.984375 -3.921875 4.984375 -3.9375 L 1.6875 -3.9375 C 1.765625 -4.921875 2.34375 -5.546875 3.34375 -5.546875 C 4.328125 -5.546875 4.9375 -4.859375 4.9375 -3.875 Z M 5.1875 -3.78125 \"/>\n",
       "</symbol>\n",
       "<symbol overflow=\"visible\" id=\"glyph1-6\">\n",
       "<path style=\"stroke:none;\" d=\"M 5.71875 -2.421875 L 4.59375 -2.421875 C 4.40625 -1.28125 4.03125 -1.015625 3.1875 -1.015625 C 2.078125 -1.015625 1.546875 -1.734375 1.546875 -3.21875 C 1.546875 -4.78125 2.0625 -5.546875 3.15625 -5.546875 C 4 -5.546875 4.375 -5.1875 4.53125 -4.171875 L 5.796875 -4.171875 C 5.65625 -5.84375 4.578125 -6.734375 3.171875 -6.734375 C 1.46875 -6.734375 0.234375 -5.296875 0.234375 -3.21875 C 0.234375 -1.1875 1.453125 0.1875 3.15625 0.1875 C 4.65625 0.1875 5.734375 -0.859375 5.875 -2.421875 Z M 5.71875 -2.421875 \"/>\n",
       "</symbol>\n",
       "<symbol overflow=\"visible\" id=\"glyph1-7\">\n",
       "<path style=\"stroke:none;\" d=\"M 9.25 -0.125 L 9.25 -4.84375 C 9.25 -5.96875 8.5 -6.734375 7.3125 -6.734375 C 6.484375 -6.734375 5.875 -6.4375 5.40625 -5.875 C 5.109375 -6.40625 4.515625 -6.734375 3.703125 -6.734375 C 2.859375 -6.734375 2.203125 -6.390625 1.65625 -5.625 L 1.890625 -5.53125 L 1.890625 -6.546875 L 0.703125 -6.546875 L 0.703125 0 L 1.984375 0 L 1.984375 -4.078125 C 1.984375 -4.984375 2.515625 -5.59375 3.328125 -5.59375 C 4.0625 -5.59375 4.34375 -5.265625 4.34375 -4.46875 L 4.34375 0 L 5.609375 0 L 5.609375 -4.078125 C 5.609375 -4.984375 6.15625 -5.59375 6.96875 -5.59375 C 7.703125 -5.59375 7.984375 -5.25 7.984375 -4.46875 L 7.984375 0 L 9.25 0 Z M 9.25 -0.125 \"/>\n",
       "</symbol>\n",
       "<symbol overflow=\"visible\" id=\"glyph1-8\">\n",
       "<path style=\"stroke:none;\" d=\"M 6.40625 -3.21875 C 6.40625 -5.328125 5.25 -6.734375 3.578125 -6.734375 C 2.71875 -6.734375 1.9375 -6.3125 1.46875 -5.5625 L 1.703125 -5.46875 L 1.703125 -6.546875 L 0.515625 -6.546875 L 0.515625 2.609375 L 1.78125 2.609375 L 1.78125 -0.890625 L 1.546875 -0.796875 C 2.078125 -0.140625 2.765625 0.1875 3.59375 0.1875 C 5.203125 0.1875 6.40625 -1.21875 6.40625 -3.21875 Z M 5.09375 -3.234375 C 5.09375 -1.8125 4.5 -1.015625 3.40625 -1.015625 C 2.359375 -1.015625 1.78125 -1.75 1.78125 -3.234375 C 1.78125 -4.703125 2.359375 -5.53125 3.40625 -5.53125 C 4.515625 -5.53125 5.09375 -4.734375 5.09375 -3.234375 Z M 5.09375 -3.234375 \"/>\n",
       "</symbol>\n",
       "<symbol overflow=\"visible\" id=\"glyph1-9\">\n",
       "<path style=\"stroke:none;\" d=\"M 6 -1.15625 L 6 -6.546875 L 4.796875 -6.546875 L 4.796875 -5.515625 L 5.046875 -5.609375 C 4.53125 -6.34375 3.828125 -6.734375 3.03125 -6.734375 C 1.421875 -6.734375 0.203125 -5.25 0.203125 -3.21875 C 0.203125 -1.234375 1.46875 0.1875 2.9375 0.1875 C 3.734375 0.1875 4.375 -0.1875 5.046875 -0.984375 L 4.796875 -1.078125 L 4.796875 -0.65625 C 4.796875 1.015625 4.265625 1.515625 3.09375 1.515625 C 2.296875 1.515625 1.828125 1.359375 1.6875 0.453125 L 0.390625 0.453125 C 0.515625 1.78125 1.578125 2.609375 3.0625 2.609375 C 5.03125 2.609375 6 1.609375 6 -1.15625 Z M 4.703125 -3.234375 C 4.703125 -1.734375 4.203125 -1.015625 3.140625 -1.015625 C 2.046875 -1.015625 1.53125 -1.75 1.53125 -3.28125 C 1.53125 -4.78125 2.0625 -5.546875 3.125 -5.546875 C 4.21875 -5.546875 4.703125 -4.765625 4.703125 -3.234375 Z M 4.703125 -3.234375 \"/>\n",
       "</symbol>\n",
       "<symbol overflow=\"visible\" id=\"glyph1-10\">\n",
       "<path style=\"stroke:none;\" d=\"M 6.375 -2.171875 L 6.375 -3.25 L 5.109375 -3.25 L 5.109375 -8.765625 L 4.125 -8.765625 L 0.1875 -3.328125 L 0.1875 -2.046875 L 3.78125 -2.046875 L 3.78125 0 L 5.109375 0 L 5.109375 -2.046875 L 6.375 -2.046875 Z M 3.921875 -3.25 L 1.515625 -3.25 L 4.015625 -6.75 L 3.78125 -6.84375 L 3.78125 -3.25 Z M 3.921875 -3.25 \"/>\n",
       "</symbol>\n",
       "<symbol overflow=\"visible\" id=\"glyph1-11\">\n",
       "<path style=\"stroke:none;\" d=\"M 5.734375 -6.546875 L 4.5625 -6.546875 L 2.765625 -1.53125 L 3.046875 -1.53125 L 1.390625 -6.546875 L 0.046875 -6.546875 L 2.21875 -0.109375 L 1.84375 0.890625 C 1.671875 1.328125 1.609375 1.375 1.171875 1.375 C 1.03125 1.375 0.859375 1.34375 0.5 1.265625 L 0.5 2.40625 C 0.75 2.53125 1.0625 2.609375 1.3125 2.609375 C 2.03125 2.609375 2.734375 2.09375 3.078125 1.1875 L 5.921875 -6.546875 Z M 5.734375 -6.546875 \"/>\n",
       "</symbol>\n",
       "<symbol overflow=\"visible\" id=\"glyph1-12\">\n",
       "<path style=\"stroke:none;\" d=\"M 1.9375 -0.125 L 1.9375 -9.015625 L 0.671875 -9.015625 L 0.671875 0 L 1.9375 0 Z M 1.9375 -0.125 \"/>\n",
       "</symbol>\n",
       "<symbol overflow=\"visible\" id=\"glyph1-13\">\n",
       "<path style=\"stroke:none;\" d=\"M 6.28125 -2.765625 C 6.28125 -4.359375 5.078125 -5.5625 3.546875 -5.5625 C 2.71875 -5.5625 1.9375 -5.203125 1.484375 -4.578125 L 1.734375 -4.46875 C 1.734375 -6.546875 2.28125 -7.578125 3.484375 -7.578125 C 4.234375 -7.578125 4.609375 -7.234375 4.796875 -6.28125 L 6.125 -6.28125 C 5.90625 -7.8125 4.859375 -8.765625 3.5625 -8.765625 C 1.578125 -8.765625 0.375 -6.96875 0.375 -4.015625 C 0.375 -1.359375 1.421875 0.1875 3.375 0.1875 C 4.984375 0.1875 6.28125 -1.109375 6.28125 -2.765625 Z M 4.9375 -2.6875 C 4.9375 -1.625 4.359375 -1.015625 3.390625 -1.015625 C 2.40625 -1.015625 1.78125 -1.65625 1.78125 -2.75 C 1.78125 -3.796875 2.375 -4.359375 3.421875 -4.359375 C 4.4375 -4.359375 4.9375 -3.828125 4.9375 -2.6875 Z M 4.9375 -2.6875 \"/>\n",
       "</symbol>\n",
       "<symbol overflow=\"visible\" id=\"glyph1-14\">\n",
       "<path style=\"stroke:none;\" d=\"M 6.28125 -2.53125 C 6.28125 -3.484375 5.671875 -4.265625 4.953125 -4.625 C 5.65625 -5.046875 5.984375 -5.5625 5.984375 -6.375 C 5.984375 -7.703125 4.8125 -8.765625 3.296875 -8.765625 C 1.796875 -8.765625 0.59375 -7.703125 0.59375 -6.375 C 0.59375 -5.578125 0.921875 -5.046875 1.625 -4.625 C 0.921875 -4.265625 0.296875 -3.484375 0.296875 -2.546875 C 0.296875 -0.984375 1.625 0.1875 3.296875 0.1875 C 4.984375 0.1875 6.28125 -0.984375 6.28125 -2.53125 Z M 4.625 -6.34375 C 4.625 -5.5625 4.1875 -5.15625 3.296875 -5.15625 C 2.40625 -5.15625 1.953125 -5.5625 1.953125 -6.359375 C 1.953125 -7.171875 2.40625 -7.578125 3.296875 -7.578125 C 4.203125 -7.578125 4.625 -7.171875 4.625 -6.34375 Z M 4.9375 -2.515625 C 4.9375 -1.515625 4.359375 -1.015625 3.28125 -1.015625 C 2.25 -1.015625 1.65625 -1.53125 1.65625 -2.515625 C 1.65625 -3.515625 2.25 -4.015625 3.296875 -4.015625 C 4.359375 -4.015625 4.9375 -3.515625 4.9375 -2.515625 Z M 4.9375 -2.515625 \"/>\n",
       "</symbol>\n",
       "</g>\n",
       "<clipPath id=\"clip1\">\n",
       "  <path d=\"M 73.898438 209 L 94 209 L 94 220 L 73.898438 220 Z M 73.898438 209 \"/>\n",
       "</clipPath>\n",
       "<clipPath id=\"clip2\">\n",
       "  <path d=\"M 73.898438 149.5 L 180 149.5 L 180 164 L 73.898438 164 Z M 73.898438 149.5 \"/>\n",
       "</clipPath>\n",
       "<clipPath id=\"clip3\">\n",
       "  <path d=\"M 73.898438 149.5 L 181 149.5 L 181 164.898438 L 73.898438 164.898438 Z M 73.898438 149.5 \"/>\n",
       "</clipPath>\n",
       "<clipPath id=\"clip4\">\n",
       "  <path d=\"M 116 152 L 137 152 L 137 164.898438 L 116 164.898438 Z M 116 152 \"/>\n",
       "</clipPath>\n",
       "<clipPath id=\"clip5\">\n",
       "  <path d=\"M 180 209 L 200 209 L 200 220 L 180 220 Z M 180 209 \"/>\n",
       "</clipPath>\n",
       "<clipPath id=\"clip6\">\n",
       "  <path d=\"M 180 149.5 L 287 149.5 L 287 164 L 180 164 Z M 180 149.5 \"/>\n",
       "</clipPath>\n",
       "<clipPath id=\"clip7\">\n",
       "  <path d=\"M 180 149.5 L 287 149.5 L 287 164.898438 L 180 164.898438 Z M 180 149.5 \"/>\n",
       "</clipPath>\n",
       "<clipPath id=\"clip8\">\n",
       "  <path d=\"M 222 152 L 243 152 L 243 164.898438 L 222 164.898438 Z M 222 152 \"/>\n",
       "</clipPath>\n",
       "<clipPath id=\"clip9\">\n",
       "  <path d=\"M 73.898438 89 L 94 89 L 94 99 L 73.898438 99 Z M 73.898438 89 \"/>\n",
       "</clipPath>\n",
       "<clipPath id=\"clip10\">\n",
       "  <path d=\"M 73.898438 29 L 180 29 L 180 44 L 73.898438 44 Z M 73.898438 29 \"/>\n",
       "</clipPath>\n",
       "<clipPath id=\"clip11\">\n",
       "  <path d=\"M 73.898438 29 L 181 29 L 181 44 L 73.898438 44 Z M 73.898438 29 \"/>\n",
       "</clipPath>\n",
       "</defs>\n",
       "<g id=\"surface181\">\n",
       "<rect x=\"0\" y=\"0\" width=\"360\" height=\"288\" style=\"fill:rgb(100%,100%,100%);fill-opacity:1;stroke:none;\"/>\n",
       "<g style=\"fill:rgb(0%,0%,0%);fill-opacity:1;\">\n",
       "  <use xlink:href=\"#glyph0-1\" x=\"86\" y=\"16.199219\"/>\n",
       "  <use xlink:href=\"#glyph0-2\" x=\"94.009766\" y=\"16.199219\"/>\n",
       "  <use xlink:href=\"#glyph0-3\" x=\"104.411133\" y=\"16.199219\"/>\n",
       "  <use xlink:href=\"#glyph0-4\" x=\"108.416016\" y=\"16.199219\"/>\n",
       "  <use xlink:href=\"#glyph0-5\" x=\"118.025391\" y=\"16.199219\"/>\n",
       "  <use xlink:href=\"#glyph0-6\" x=\"126.035156\" y=\"16.199219\"/>\n",
       "  <use xlink:href=\"#glyph0-7\" x=\"134.044922\" y=\"16.199219\"/>\n",
       "  <use xlink:href=\"#glyph0-7\" x=\"138.841797\" y=\"16.199219\"/>\n",
       "  <use xlink:href=\"#glyph0-8\" x=\"143.567383\" y=\"16.199219\"/>\n",
       "  <use xlink:href=\"#glyph0-9\" x=\"151.577148\" y=\"16.199219\"/>\n",
       "  <use xlink:href=\"#glyph0-10\" x=\"157.181641\" y=\"16.199219\"/>\n",
       "  <use xlink:href=\"#glyph0-11\" x=\"165.983398\" y=\"16.199219\"/>\n",
       "  <use xlink:href=\"#glyph0-12\" x=\"169.988281\" y=\"16.199219\"/>\n",
       "  <use xlink:href=\"#glyph0-7\" x=\"178.646484\" y=\"16.199219\"/>\n",
       "  <use xlink:href=\"#glyph0-3\" x=\"183.443359\" y=\"16.199219\"/>\n",
       "  <use xlink:href=\"#glyph0-13\" x=\"187.448242\" y=\"16.199219\"/>\n",
       "  <use xlink:href=\"#glyph0-14\" x=\"195.961914\" y=\"16.199219\"/>\n",
       "  <use xlink:href=\"#glyph0-3\" x=\"203.97168\" y=\"16.199219\"/>\n",
       "  <use xlink:href=\"#glyph0-15\" x=\"207.976562\" y=\"16.199219\"/>\n",
       "  <use xlink:href=\"#glyph0-14\" x=\"218.37793\" y=\"16.199219\"/>\n",
       "  <use xlink:href=\"#glyph0-11\" x=\"226.316406\" y=\"16.199219\"/>\n",
       "  <use xlink:href=\"#glyph0-16\" x=\"230.321289\" y=\"16.199219\"/>\n",
       "  <use xlink:href=\"#glyph0-17\" x=\"234.326172\" y=\"16.199219\"/>\n",
       "  <use xlink:href=\"#glyph0-18\" x=\"243.12793\" y=\"16.199219\"/>\n",
       "  <use xlink:href=\"#glyph0-8\" x=\"251.929688\" y=\"16.199219\"/>\n",
       "  <use xlink:href=\"#glyph0-9\" x=\"259.939453\" y=\"16.199219\"/>\n",
       "  <use xlink:href=\"#glyph0-19\" x=\"265.615234\" y=\"16.199219\"/>\n",
       "</g>\n",
       "<path style=\"fill:none;stroke-width:0.75;stroke-linecap:round;stroke-linejoin:round;stroke:rgb(0%,0%,0%);stroke-opacity:1;stroke-dasharray:3,3;stroke-miterlimit:10;\" d=\"M 158.425781 234.648438 L 128.9375 216.851562 \"/>\n",
       "<path style=\"fill:none;stroke-width:0.75;stroke-linecap:round;stroke-linejoin:round;stroke:rgb(0%,0%,0%);stroke-opacity:1;stroke-dasharray:3,3;stroke-miterlimit:10;\" d=\"M 95.136719 231.484375 L 128.9375 216.851562 \"/>\n",
       "<path style=\"fill:none;stroke-width:0.75;stroke-linecap:round;stroke-linejoin:round;stroke:rgb(0%,0%,0%);stroke-opacity:1;stroke-dasharray:3,3;stroke-miterlimit:10;\" d=\"M 128.9375 216.851562 L 129.171875 179.050781 \"/>\n",
       "<path style=\"fill:none;stroke-width:0.75;stroke-linecap:round;stroke-linejoin:round;stroke:rgb(0%,50.196078%,100%);stroke-opacity:1;stroke-miterlimit:10;\" d=\"M 108.714844 205.347656 L 109.871094 204.917969 \"/>\n",
       "<path style=\"fill:none;stroke-width:0.75;stroke-linecap:round;stroke-linejoin:round;stroke:rgb(0%,50.196078%,100%);stroke-opacity:1;stroke-miterlimit:10;\" d=\"M 109.71875 205.390625 L 108.867188 204.875 \"/>\n",
       "<path style=\"fill:none;stroke-width:0.75;stroke-linecap:round;stroke-linejoin:round;stroke:rgb(0%,50.196078%,100%);stroke-opacity:1;stroke-miterlimit:10;\" d=\"M 109.320312 205.765625 L 109.265625 204.5 \"/>\n",
       "<path style=\"fill:none;stroke-width:0.75;stroke-linecap:round;stroke-linejoin:round;stroke:rgb(0%,50.196078%,100%);stroke-opacity:1;stroke-miterlimit:10;\" d=\"M 118.625 208.222656 L 119.804688 207.757812 \"/>\n",
       "<path style=\"fill:none;stroke-width:0.75;stroke-linecap:round;stroke-linejoin:round;stroke:rgb(0%,50.196078%,100%);stroke-opacity:1;stroke-miterlimit:10;\" d=\"M 119.683594 208.265625 L 118.75 207.714844 \"/>\n",
       "<path style=\"fill:none;stroke-width:0.75;stroke-linecap:round;stroke-linejoin:round;stroke:rgb(0%,50.196078%,100%);stroke-opacity:1;stroke-miterlimit:10;\" d=\"M 119.226562 208.648438 L 119.203125 207.328125 \"/>\n",
       "<path style=\"fill:none;stroke-width:0.75;stroke-linecap:round;stroke-linejoin:round;stroke:rgb(0%,50.196078%,100%);stroke-opacity:1;stroke-miterlimit:10;\" d=\"M 111.78125 216.058594 L 112.992188 215.566406 \"/>\n",
       "<path style=\"fill:none;stroke-width:0.75;stroke-linecap:round;stroke-linejoin:round;stroke:rgb(0%,50.196078%,100%);stroke-opacity:1;stroke-miterlimit:10;\" d=\"M 112.847656 216.109375 L 111.933594 215.519531 \"/>\n",
       "<path style=\"fill:none;stroke-width:0.75;stroke-linecap:round;stroke-linejoin:round;stroke:rgb(0%,50.196078%,100%);stroke-opacity:1;stroke-miterlimit:10;\" d=\"M 112.410156 216.464844 L 112.367188 215.15625 \"/>\n",
       "<path style=\"fill:none;stroke-width:0.75;stroke-linecap:round;stroke-linejoin:round;stroke:rgb(0%,50.196078%,100%);stroke-opacity:1;stroke-miterlimit:10;\" d=\"M 119.75 218.117188 L 120.949219 217.609375 \"/>\n",
       "<path style=\"fill:none;stroke-width:0.75;stroke-linecap:round;stroke-linejoin:round;stroke:rgb(0%,50.196078%,100%);stroke-opacity:1;stroke-miterlimit:10;\" d=\"M 120.832031 218.167969 L 119.871094 217.558594 \"/>\n",
       "<path style=\"fill:none;stroke-width:0.75;stroke-linecap:round;stroke-linejoin:round;stroke:rgb(0%,50.196078%,100%);stroke-opacity:1;stroke-miterlimit:10;\" d=\"M 120.359375 218.519531 L 120.339844 217.203125 \"/>\n",
       "<path style=\"fill:none;stroke-width:0.75;stroke-linecap:round;stroke-linejoin:round;stroke:rgb(0%,50.196078%,100%);stroke-opacity:1;stroke-miterlimit:10;\" d=\"M 115.160156 217.507812 L 116.398438 216.992188 \"/>\n",
       "<path style=\"fill:none;stroke-width:0.75;stroke-linecap:round;stroke-linejoin:round;stroke:rgb(0%,50.196078%,100%);stroke-opacity:1;stroke-miterlimit:10;\" d=\"M 116.261719 217.558594 L 115.300781 216.941406 \"/>\n",
       "<path style=\"fill:none;stroke-width:0.75;stroke-linecap:round;stroke-linejoin:round;stroke:rgb(0%,50.196078%,100%);stroke-opacity:1;stroke-miterlimit:10;\" d=\"M 115.796875 217.921875 L 115.761719 216.574219 \"/>\n",
       "<path style=\"fill:none;stroke-width:0.75;stroke-linecap:round;stroke-linejoin:round;stroke:rgb(0%,50.196078%,100%);stroke-opacity:1;stroke-miterlimit:10;\" d=\"M 109.929688 210.183594 L 111.222656 209.679688 \"/>\n",
       "<path style=\"fill:none;stroke-width:0.75;stroke-linecap:round;stroke-linejoin:round;stroke:rgb(0%,50.196078%,100%);stroke-opacity:1;stroke-miterlimit:10;\" d=\"M 111.0625 210.234375 L 110.097656 209.632812 \"/>\n",
       "<path style=\"fill:none;stroke-width:0.75;stroke-linecap:round;stroke-linejoin:round;stroke:rgb(0%,50.196078%,100%);stroke-opacity:1;stroke-miterlimit:10;\" d=\"M 110.605469 210.632812 L 110.550781 209.226562 \"/>\n",
       "<path style=\"fill:none;stroke-width:0.75;stroke-linecap:round;stroke-linejoin:round;stroke:rgb(0%,50.196078%,100%);stroke-opacity:1;stroke-miterlimit:10;\" d=\"M 110.257812 198.21875 L 111.558594 197.757812 \"/>\n",
       "<path style=\"fill:none;stroke-width:0.75;stroke-linecap:round;stroke-linejoin:round;stroke:rgb(0%,50.196078%,100%);stroke-opacity:1;stroke-miterlimit:10;\" d=\"M 111.394531 198.265625 L 110.425781 197.714844 \"/>\n",
       "<path style=\"fill:none;stroke-width:0.75;stroke-linecap:round;stroke-linejoin:round;stroke:rgb(0%,50.196078%,100%);stroke-opacity:1;stroke-miterlimit:10;\" d=\"M 110.9375 198.714844 L 110.882812 197.261719 \"/>\n",
       "<path style=\"fill:none;stroke-width:0.75;stroke-linecap:round;stroke-linejoin:round;stroke:rgb(0%,50.196078%,100%);stroke-opacity:1;stroke-miterlimit:10;\" d=\"M 104.734375 195.753906 L 106.070312 195.296875 \"/>\n",
       "<path style=\"fill:none;stroke-width:0.75;stroke-linecap:round;stroke-linejoin:round;stroke:rgb(0%,50.196078%,100%);stroke-opacity:1;stroke-miterlimit:10;\" d=\"M 105.882812 195.796875 L 104.929688 195.253906 \"/>\n",
       "<path style=\"fill:none;stroke-width:0.75;stroke-linecap:round;stroke-linejoin:round;stroke:rgb(0%,50.196078%,100%);stroke-opacity:1;stroke-miterlimit:10;\" d=\"M 105.441406 196.261719 L 105.367188 194.785156 \"/>\n",
       "<path style=\"fill:none;stroke-width:0.75;stroke-linecap:round;stroke-linejoin:round;stroke:rgb(0%,50.196078%,100%);stroke-opacity:1;stroke-miterlimit:10;\" d=\"M 120.285156 216.886719 L 121.570312 216.347656 \"/>\n",
       "<path style=\"fill:none;stroke-width:0.75;stroke-linecap:round;stroke-linejoin:round;stroke:rgb(0%,50.196078%,100%);stroke-opacity:1;stroke-miterlimit:10;\" d=\"M 121.449219 216.941406 L 120.414062 216.292969 \"/>\n",
       "<path style=\"fill:none;stroke-width:0.75;stroke-linecap:round;stroke-linejoin:round;stroke:rgb(0%,50.196078%,100%);stroke-opacity:1;stroke-miterlimit:10;\" d=\"M 120.941406 217.324219 L 120.921875 215.90625 \"/>\n",
       "<path style=\"fill:none;stroke-width:0.75;stroke-linecap:round;stroke-linejoin:round;stroke:rgb(0%,50.196078%,100%);stroke-opacity:1;stroke-miterlimit:10;\" d=\"M 107.667969 206.40625 L 109.011719 205.902344 \"/>\n",
       "<path style=\"fill:none;stroke-width:0.75;stroke-linecap:round;stroke-linejoin:round;stroke:rgb(0%,50.196078%,100%);stroke-opacity:1;stroke-miterlimit:10;\" d=\"M 108.835938 206.457031 L 107.851562 205.855469 \"/>\n",
       "<path style=\"fill:none;stroke-width:0.75;stroke-linecap:round;stroke-linejoin:round;stroke:rgb(0%,50.196078%,100%);stroke-opacity:1;stroke-miterlimit:10;\" d=\"M 108.375 206.886719 L 108.308594 205.421875 \"/>\n",
       "<path style=\"fill:none;stroke-width:0.75;stroke-linecap:round;stroke-linejoin:round;stroke:rgb(0%,50.196078%,100%);stroke-opacity:1;stroke-miterlimit:10;\" d=\"M 112.640625 210.589844 L 114.003906 210.050781 \"/>\n",
       "<path style=\"fill:none;stroke-width:0.75;stroke-linecap:round;stroke-linejoin:round;stroke:rgb(0%,50.196078%,100%);stroke-opacity:1;stroke-miterlimit:10;\" d=\"M 113.84375 210.640625 L 112.804688 210 \"/>\n",
       "<path style=\"fill:none;stroke-width:0.75;stroke-linecap:round;stroke-linejoin:round;stroke:rgb(0%,50.196078%,100%);stroke-opacity:1;stroke-miterlimit:10;\" d=\"M 113.347656 211.066406 L 113.300781 209.570312 \"/>\n",
       "<path style=\"fill:none;stroke-width:0.75;stroke-linecap:round;stroke-linejoin:round;stroke:rgb(0%,0%,0%);stroke-opacity:1;stroke-miterlimit:10;\" d=\"M 123.328125 253.507812 L 158.425781 234.648438 \"/>\n",
       "<path style=\"fill:none;stroke-width:0.75;stroke-linecap:round;stroke-linejoin:round;stroke:rgb(0%,0%,0%);stroke-opacity:1;stroke-miterlimit:10;\" d=\"M 158.425781 234.648438 L 161.828125 193.402344 \"/>\n",
       "<path style=\"fill:none;stroke-width:0.75;stroke-linecap:round;stroke-linejoin:round;stroke:rgb(0%,0%,0%);stroke-opacity:1;stroke-miterlimit:10;\" d=\"M 122.949219 208.996094 L 161.828125 193.402344 \"/>\n",
       "<path style=\"fill:none;stroke-width:0.75;stroke-linecap:round;stroke-linejoin:round;stroke:rgb(0%,0%,0%);stroke-opacity:1;stroke-miterlimit:10;\" d=\"M 123.328125 253.507812 L 122.949219 208.996094 \"/>\n",
       "<path style=\"fill:none;stroke-width:0.75;stroke-linecap:round;stroke-linejoin:round;stroke:rgb(0%,0%,0%);stroke-opacity:1;stroke-miterlimit:10;\" d=\"M 161.828125 193.402344 L 129.171875 179.050781 \"/>\n",
       "<path style=\"fill:none;stroke-width:0.75;stroke-linecap:round;stroke-linejoin:round;stroke:rgb(0%,0%,0%);stroke-opacity:1;stroke-miterlimit:10;\" d=\"M 122.949219 208.996094 L 91.875 190.828125 \"/>\n",
       "<path style=\"fill:none;stroke-width:0.75;stroke-linecap:round;stroke-linejoin:round;stroke:rgb(0%,0%,0%);stroke-opacity:1;stroke-miterlimit:10;\" d=\"M 123.328125 253.507812 L 95.136719 231.484375 \"/>\n",
       "<path style=\"fill:none;stroke-width:0.75;stroke-linecap:round;stroke-linejoin:round;stroke:rgb(0%,0%,0%);stroke-opacity:1;stroke-miterlimit:10;\" d=\"M 91.875 190.828125 L 129.171875 179.050781 \"/>\n",
       "<path style=\"fill:none;stroke-width:0.75;stroke-linecap:round;stroke-linejoin:round;stroke:rgb(0%,0%,0%);stroke-opacity:1;stroke-miterlimit:10;\" d=\"M 95.136719 231.484375 L 91.875 190.828125 \"/>\n",
       "<path style=\"fill:none;stroke-width:0.75;stroke-linecap:round;stroke-linejoin:round;stroke:rgb(0%,0%,0%);stroke-opacity:1;stroke-miterlimit:10;\" d=\"M 131.484375 253.167969 L 154.53125 240.492188 \"/>\n",
       "<path style=\"fill:none;stroke-width:0.75;stroke-linecap:round;stroke-linejoin:round;stroke:rgb(0%,0%,0%);stroke-opacity:1;stroke-miterlimit:10;\" d=\"M 153.429688 242.308594 L 154.53125 240.492188 L 152.40625 240.449219 \"/>\n",
       "<path style=\"fill:none;stroke-width:0.75;stroke-linecap:round;stroke-linejoin:round;stroke:rgb(0%,0%,0%);stroke-opacity:1;stroke-miterlimit:10;\" d=\"M 116.070312 252.300781 L 97.664062 237.542969 \"/>\n",
       "<path style=\"fill:none;stroke-width:0.75;stroke-linecap:round;stroke-linejoin:round;stroke:rgb(0%,0%,0%);stroke-opacity:1;stroke-miterlimit:10;\" d=\"M 99.761719 237.863281 L 97.664062 237.542969 L 98.433594 239.519531 \"/>\n",
       "<path style=\"fill:none;stroke-width:0.75;stroke-linecap:round;stroke-linejoin:round;stroke:rgb(0%,0%,0%);stroke-opacity:1;stroke-miterlimit:10;\" d=\"M 91.476562 224.972656 L 89.117188 198.195312 \"/>\n",
       "<path style=\"fill:none;stroke-width:0.75;stroke-linecap:round;stroke-linejoin:round;stroke:rgb(0%,0%,0%);stroke-opacity:1;stroke-miterlimit:10;\" d=\"M 90.335938 199.929688 L 89.117188 198.195312 L 88.222656 200.117188 \"/>\n",
       "<g style=\"fill:rgb(0%,0%,0%);fill-opacity:1;\">\n",
       "  <use xlink:href=\"#glyph1-1\" x=\"141.121094\" y=\"258.526367\"/>\n",
       "  <use xlink:href=\"#glyph1-2\" x=\"149.785156\" y=\"258.526367\"/>\n",
       "</g>\n",
       "<g style=\"fill:rgb(0%,0%,0%);fill-opacity:1;\">\n",
       "  <use xlink:href=\"#glyph1-3\" x=\"89.1875\" y=\"255.995117\"/>\n",
       "  <use xlink:href=\"#glyph1-4\" x=\"95.859375\" y=\"255.995117\"/>\n",
       "  <use xlink:href=\"#glyph1-5\" x=\"101.859375\" y=\"255.995117\"/>\n",
       "  <use xlink:href=\"#glyph1-6\" x=\"108.53125\" y=\"255.995117\"/>\n",
       "</g>\n",
       "<g clip-path=\"url(#clip1)\" clip-rule=\"nonzero\">\n",
       "<g style=\"fill:rgb(0%,0%,0%);fill-opacity:1;\">\n",
       "  <use xlink:href=\"#glyph1-7\" x=\"70.78125\" y=\"216.463867\"/>\n",
       "  <use xlink:href=\"#glyph1-8\" x=\"80.836914\" y=\"216.463867\"/>\n",
       "  <use xlink:href=\"#glyph1-9\" x=\"87.508789\" y=\"216.463867\"/>\n",
       "</g>\n",
       "</g>\n",
       "<path style=\"fill:none;stroke-width:0.75;stroke-linecap:round;stroke-linejoin:round;stroke:rgb(0%,0%,0%);stroke-opacity:1;stroke-miterlimit:10;\" d=\"M 73.898438 270 L 180 270 L 180 163.898438 L 73.898438 163.898438 Z M 73.898438 270 \"/>\n",
       "<g clip-path=\"url(#clip2)\" clip-rule=\"nonzero\">\n",
       "<path style=\" stroke:none;fill-rule:nonzero;fill:rgb(100%,89.803922%,80%);fill-opacity:1;\" d=\"M 73.898438 163.898438 L 180 163.898438 L 180 149.5 L 73.898438 149.5 Z M 73.898438 163.898438 \"/>\n",
       "</g>\n",
       "<g clip-path=\"url(#clip3)\" clip-rule=\"nonzero\">\n",
       "<path style=\"fill:none;stroke-width:0.75;stroke-linecap:round;stroke-linejoin:round;stroke:rgb(100%,89.803922%,80%);stroke-opacity:1;stroke-miterlimit:10;\" d=\"M 73.898438 163.898438 L 180 163.898438 L 180 149.5 L 73.898438 149.5 Z M 73.898438 163.898438 \"/>\n",
       "</g>\n",
       "<g clip-path=\"url(#clip4)\" clip-rule=\"nonzero\">\n",
       "<g style=\"fill:rgb(0%,0%,0%);fill-opacity:1;\">\n",
       "  <use xlink:href=\"#glyph1-10\" x=\"115.949219\" y=\"161.475586\"/>\n",
       "  <use xlink:href=\"#glyph1-6\" x=\"122.621094\" y=\"161.475586\"/>\n",
       "  <use xlink:href=\"#glyph1-11\" x=\"128.621094\" y=\"161.475586\"/>\n",
       "  <use xlink:href=\"#glyph1-12\" x=\"134.561523\" y=\"161.475586\"/>\n",
       "</g>\n",
       "</g>\n",
       "<path style=\"fill:none;stroke-width:0.75;stroke-linecap:round;stroke-linejoin:round;stroke:rgb(0%,0%,0%);stroke-opacity:1;stroke-miterlimit:10;\" d=\"M 73.898438 163.898438 L 180 163.898438 L 180 149.5 L 73.898438 149.5 Z M 73.898438 163.898438 \"/>\n",
       "<path style=\"fill:none;stroke-width:0.75;stroke-linecap:round;stroke-linejoin:round;stroke:rgb(0%,0%,0%);stroke-opacity:1;stroke-dasharray:3,3;stroke-miterlimit:10;\" d=\"M 264.527344 234.648438 L 235.039062 216.851562 \"/>\n",
       "<path style=\"fill:none;stroke-width:0.75;stroke-linecap:round;stroke-linejoin:round;stroke:rgb(0%,0%,0%);stroke-opacity:1;stroke-dasharray:3,3;stroke-miterlimit:10;\" d=\"M 201.234375 231.484375 L 235.039062 216.851562 \"/>\n",
       "<path style=\"fill:none;stroke-width:0.75;stroke-linecap:round;stroke-linejoin:round;stroke:rgb(0%,0%,0%);stroke-opacity:1;stroke-dasharray:3,3;stroke-miterlimit:10;\" d=\"M 235.039062 216.851562 L 235.269531 179.050781 \"/>\n",
       "<path style=\"fill:none;stroke-width:0.75;stroke-linecap:round;stroke-linejoin:round;stroke:rgb(0%,50.196078%,100%);stroke-opacity:1;stroke-miterlimit:10;\" d=\"M 226.648438 217.492188 L 227.777344 217.015625 \"/>\n",
       "<path style=\"fill:none;stroke-width:0.75;stroke-linecap:round;stroke-linejoin:round;stroke:rgb(0%,50.196078%,100%);stroke-opacity:1;stroke-miterlimit:10;\" d=\"M 227.667969 217.539062 L 226.757812 216.96875 \"/>\n",
       "<path style=\"fill:none;stroke-width:0.75;stroke-linecap:round;stroke-linejoin:round;stroke:rgb(0%,50.196078%,100%);stroke-opacity:1;stroke-miterlimit:10;\" d=\"M 227.222656 217.875 L 227.207031 216.628906 \"/>\n",
       "<path style=\"fill:none;stroke-width:0.75;stroke-linecap:round;stroke-linejoin:round;stroke:rgb(0%,50.196078%,100%);stroke-opacity:1;stroke-miterlimit:10;\" d=\"M 231.023438 220.941406 L 232.160156 220.441406 \"/>\n",
       "<path style=\"fill:none;stroke-width:0.75;stroke-linecap:round;stroke-linejoin:round;stroke:rgb(0%,50.196078%,100%);stroke-opacity:1;stroke-miterlimit:10;\" d=\"M 232.066406 220.992188 L 231.121094 220.394531 \"/>\n",
       "<path style=\"fill:none;stroke-width:0.75;stroke-linecap:round;stroke-linejoin:round;stroke:rgb(0%,50.196078%,100%);stroke-opacity:1;stroke-miterlimit:10;\" d=\"M 231.59375 221.320312 L 231.59375 220.0625 \"/>\n",
       "<path style=\"fill:none;stroke-width:0.75;stroke-linecap:round;stroke-linejoin:round;stroke:rgb(0%,50.196078%,100%);stroke-opacity:1;stroke-miterlimit:10;\" d=\"M 227 214.53125 L 228.164062 214.046875 \"/>\n",
       "<path style=\"fill:none;stroke-width:0.75;stroke-linecap:round;stroke-linejoin:round;stroke:rgb(0%,50.196078%,100%);stroke-opacity:1;stroke-miterlimit:10;\" d=\"M 228.054688 214.578125 L 227.113281 214 \"/>\n",
       "<path style=\"fill:none;stroke-width:0.75;stroke-linecap:round;stroke-linejoin:round;stroke:rgb(0%,50.196078%,100%);stroke-opacity:1;stroke-miterlimit:10;\" d=\"M 227.59375 214.933594 L 227.578125 213.640625 \"/>\n",
       "<path style=\"fill:none;stroke-width:0.75;stroke-linecap:round;stroke-linejoin:round;stroke:rgb(0%,50.196078%,100%);stroke-opacity:1;stroke-miterlimit:10;\" d=\"M 233.160156 219.917969 L 234.304688 219.414062 \"/>\n",
       "<path style=\"fill:none;stroke-width:0.75;stroke-linecap:round;stroke-linejoin:round;stroke:rgb(0%,50.196078%,100%);stroke-opacity:1;stroke-miterlimit:10;\" d=\"M 234.21875 219.964844 L 233.25 219.363281 \"/>\n",
       "<path style=\"fill:none;stroke-width:0.75;stroke-linecap:round;stroke-linejoin:round;stroke:rgb(0%,50.196078%,100%);stroke-opacity:1;stroke-miterlimit:10;\" d=\"M 233.730469 220.304688 L 233.734375 219.023438 \"/>\n",
       "<path style=\"fill:none;stroke-width:0.75;stroke-linecap:round;stroke-linejoin:round;stroke:rgb(0%,50.196078%,100%);stroke-opacity:1;stroke-miterlimit:10;\" d=\"M 232.5625 222.097656 L 233.761719 221.5625 \"/>\n",
       "<path style=\"fill:none;stroke-width:0.75;stroke-linecap:round;stroke-linejoin:round;stroke:rgb(0%,50.196078%,100%);stroke-opacity:1;stroke-miterlimit:10;\" d=\"M 233.667969 222.148438 L 232.65625 221.511719 \"/>\n",
       "<path style=\"fill:none;stroke-width:0.75;stroke-linecap:round;stroke-linejoin:round;stroke:rgb(0%,50.196078%,100%);stroke-opacity:1;stroke-miterlimit:10;\" d=\"M 233.160156 222.492188 L 233.164062 221.160156 \"/>\n",
       "<path style=\"fill:none;stroke-width:0.75;stroke-linecap:round;stroke-linejoin:round;stroke:rgb(0%,50.196078%,100%);stroke-opacity:1;stroke-miterlimit:10;\" d=\"M 232.207031 224.566406 L 233.429688 224.011719 \"/>\n",
       "<path style=\"fill:none;stroke-width:0.75;stroke-linecap:round;stroke-linejoin:round;stroke:rgb(0%,50.196078%,100%);stroke-opacity:1;stroke-miterlimit:10;\" d=\"M 233.332031 224.617188 L 232.304688 223.960938 \"/>\n",
       "<path style=\"fill:none;stroke-width:0.75;stroke-linecap:round;stroke-linejoin:round;stroke:rgb(0%,50.196078%,100%);stroke-opacity:1;stroke-miterlimit:10;\" d=\"M 232.820312 224.960938 L 232.820312 223.613281 \"/>\n",
       "<path style=\"fill:none;stroke-width:0.75;stroke-linecap:round;stroke-linejoin:round;stroke:rgb(0%,50.196078%,100%);stroke-opacity:1;stroke-miterlimit:10;\" d=\"M 237.375 228.617188 L 238.585938 228.046875 \"/>\n",
       "<path style=\"fill:none;stroke-width:0.75;stroke-linecap:round;stroke-linejoin:round;stroke:rgb(0%,50.196078%,100%);stroke-opacity:1;stroke-miterlimit:10;\" d=\"M 238.511719 228.671875 L 237.453125 227.992188 \"/>\n",
       "<path style=\"fill:none;stroke-width:0.75;stroke-linecap:round;stroke-linejoin:round;stroke:rgb(0%,50.196078%,100%);stroke-opacity:1;stroke-miterlimit:10;\" d=\"M 237.972656 229 L 237.988281 227.660156 \"/>\n",
       "<path style=\"fill:none;stroke-width:0.75;stroke-linecap:round;stroke-linejoin:round;stroke:rgb(0%,0%,0%);stroke-opacity:1;stroke-miterlimit:10;\" d=\"M 229.425781 253.507812 L 264.527344 234.648438 \"/>\n",
       "<path style=\"fill:none;stroke-width:0.75;stroke-linecap:round;stroke-linejoin:round;stroke:rgb(0%,0%,0%);stroke-opacity:1;stroke-miterlimit:10;\" d=\"M 264.527344 234.648438 L 267.929688 193.402344 \"/>\n",
       "<path style=\"fill:none;stroke-width:0.75;stroke-linecap:round;stroke-linejoin:round;stroke:rgb(0%,0%,0%);stroke-opacity:1;stroke-miterlimit:10;\" d=\"M 229.046875 208.996094 L 267.929688 193.402344 \"/>\n",
       "<path style=\"fill:none;stroke-width:0.75;stroke-linecap:round;stroke-linejoin:round;stroke:rgb(0%,0%,0%);stroke-opacity:1;stroke-miterlimit:10;\" d=\"M 229.425781 253.507812 L 229.046875 208.996094 \"/>\n",
       "<path style=\"fill:none;stroke-width:0.75;stroke-linecap:round;stroke-linejoin:round;stroke:rgb(0%,0%,0%);stroke-opacity:1;stroke-miterlimit:10;\" d=\"M 267.929688 193.402344 L 235.269531 179.050781 \"/>\n",
       "<path style=\"fill:none;stroke-width:0.75;stroke-linecap:round;stroke-linejoin:round;stroke:rgb(0%,0%,0%);stroke-opacity:1;stroke-miterlimit:10;\" d=\"M 229.046875 208.996094 L 197.976562 190.828125 \"/>\n",
       "<path style=\"fill:none;stroke-width:0.75;stroke-linecap:round;stroke-linejoin:round;stroke:rgb(0%,0%,0%);stroke-opacity:1;stroke-miterlimit:10;\" d=\"M 229.425781 253.507812 L 201.234375 231.484375 \"/>\n",
       "<path style=\"fill:none;stroke-width:0.75;stroke-linecap:round;stroke-linejoin:round;stroke:rgb(0%,0%,0%);stroke-opacity:1;stroke-miterlimit:10;\" d=\"M 197.976562 190.828125 L 235.269531 179.050781 \"/>\n",
       "<path style=\"fill:none;stroke-width:0.75;stroke-linecap:round;stroke-linejoin:round;stroke:rgb(0%,0%,0%);stroke-opacity:1;stroke-miterlimit:10;\" d=\"M 201.234375 231.484375 L 197.976562 190.828125 \"/>\n",
       "<path style=\"fill:none;stroke-width:0.75;stroke-linecap:round;stroke-linejoin:round;stroke:rgb(0%,0%,0%);stroke-opacity:1;stroke-miterlimit:10;\" d=\"M 237.585938 253.167969 L 260.628906 240.492188 \"/>\n",
       "<path style=\"fill:none;stroke-width:0.75;stroke-linecap:round;stroke-linejoin:round;stroke:rgb(0%,0%,0%);stroke-opacity:1;stroke-miterlimit:10;\" d=\"M 259.53125 242.308594 L 260.628906 240.492188 L 258.507812 240.449219 \"/>\n",
       "<path style=\"fill:none;stroke-width:0.75;stroke-linecap:round;stroke-linejoin:round;stroke:rgb(0%,0%,0%);stroke-opacity:1;stroke-miterlimit:10;\" d=\"M 222.171875 252.300781 L 203.761719 237.542969 \"/>\n",
       "<path style=\"fill:none;stroke-width:0.75;stroke-linecap:round;stroke-linejoin:round;stroke:rgb(0%,0%,0%);stroke-opacity:1;stroke-miterlimit:10;\" d=\"M 205.859375 237.863281 L 203.761719 237.542969 L 204.535156 239.519531 \"/>\n",
       "<path style=\"fill:none;stroke-width:0.75;stroke-linecap:round;stroke-linejoin:round;stroke:rgb(0%,0%,0%);stroke-opacity:1;stroke-miterlimit:10;\" d=\"M 197.578125 224.972656 L 195.21875 198.195312 \"/>\n",
       "<path style=\"fill:none;stroke-width:0.75;stroke-linecap:round;stroke-linejoin:round;stroke:rgb(0%,0%,0%);stroke-opacity:1;stroke-miterlimit:10;\" d=\"M 196.4375 199.929688 L 195.21875 198.195312 L 194.324219 200.117188 \"/>\n",
       "<g style=\"fill:rgb(0%,0%,0%);fill-opacity:1;\">\n",
       "  <use xlink:href=\"#glyph1-1\" x=\"247.21875\" y=\"258.526367\"/>\n",
       "  <use xlink:href=\"#glyph1-2\" x=\"255.882812\" y=\"258.526367\"/>\n",
       "</g>\n",
       "<g style=\"fill:rgb(0%,0%,0%);fill-opacity:1;\">\n",
       "  <use xlink:href=\"#glyph1-3\" x=\"195.289062\" y=\"255.995117\"/>\n",
       "  <use xlink:href=\"#glyph1-4\" x=\"201.960938\" y=\"255.995117\"/>\n",
       "  <use xlink:href=\"#glyph1-5\" x=\"207.960938\" y=\"255.995117\"/>\n",
       "  <use xlink:href=\"#glyph1-6\" x=\"214.632812\" y=\"255.995117\"/>\n",
       "</g>\n",
       "<g clip-path=\"url(#clip5)\" clip-rule=\"nonzero\">\n",
       "<g style=\"fill:rgb(0%,0%,0%);fill-opacity:1;\">\n",
       "  <use xlink:href=\"#glyph1-7\" x=\"176.882812\" y=\"216.463867\"/>\n",
       "  <use xlink:href=\"#glyph1-8\" x=\"186.938477\" y=\"216.463867\"/>\n",
       "  <use xlink:href=\"#glyph1-9\" x=\"193.610352\" y=\"216.463867\"/>\n",
       "</g>\n",
       "</g>\n",
       "<path style=\"fill:none;stroke-width:0.75;stroke-linecap:round;stroke-linejoin:round;stroke:rgb(0%,0%,0%);stroke-opacity:1;stroke-miterlimit:10;\" d=\"M 180 270 L 286.101562 270 L 286.101562 163.898438 L 180 163.898438 Z M 180 270 \"/>\n",
       "<g clip-path=\"url(#clip6)\" clip-rule=\"nonzero\">\n",
       "<path style=\" stroke:none;fill-rule:nonzero;fill:rgb(100%,89.803922%,80%);fill-opacity:1;\" d=\"M 180 163.898438 L 286.101562 163.898438 L 286.101562 149.5 L 180 149.5 Z M 180 163.898438 \"/>\n",
       "</g>\n",
       "<g clip-path=\"url(#clip7)\" clip-rule=\"nonzero\">\n",
       "<path style=\"fill:none;stroke-width:0.75;stroke-linecap:round;stroke-linejoin:round;stroke:rgb(100%,89.803922%,80%);stroke-opacity:1;stroke-miterlimit:10;\" d=\"M 180 163.898438 L 286.101562 163.898438 L 286.101562 149.5 L 180 149.5 Z M 180 163.898438 \"/>\n",
       "</g>\n",
       "<g clip-path=\"url(#clip8)\" clip-rule=\"nonzero\">\n",
       "<g style=\"fill:rgb(0%,0%,0%);fill-opacity:1;\">\n",
       "  <use xlink:href=\"#glyph1-13\" x=\"222.050781\" y=\"161.475586\"/>\n",
       "  <use xlink:href=\"#glyph1-6\" x=\"228.722656\" y=\"161.475586\"/>\n",
       "  <use xlink:href=\"#glyph1-11\" x=\"234.722656\" y=\"161.475586\"/>\n",
       "  <use xlink:href=\"#glyph1-12\" x=\"240.663086\" y=\"161.475586\"/>\n",
       "</g>\n",
       "</g>\n",
       "<path style=\"fill:none;stroke-width:0.75;stroke-linecap:round;stroke-linejoin:round;stroke:rgb(0%,0%,0%);stroke-opacity:1;stroke-miterlimit:10;\" d=\"M 180 163.898438 L 286.101562 163.898438 L 286.101562 149.5 L 180 149.5 Z M 180 163.898438 \"/>\n",
       "<path style=\"fill:none;stroke-width:0.75;stroke-linecap:round;stroke-linejoin:round;stroke:rgb(0%,0%,0%);stroke-opacity:1;stroke-dasharray:3,3;stroke-miterlimit:10;\" d=\"M 158.425781 114.148438 L 128.9375 96.351562 \"/>\n",
       "<path style=\"fill:none;stroke-width:0.75;stroke-linecap:round;stroke-linejoin:round;stroke:rgb(0%,0%,0%);stroke-opacity:1;stroke-dasharray:3,3;stroke-miterlimit:10;\" d=\"M 95.136719 110.984375 L 128.9375 96.351562 \"/>\n",
       "<path style=\"fill:none;stroke-width:0.75;stroke-linecap:round;stroke-linejoin:round;stroke:rgb(0%,0%,0%);stroke-opacity:1;stroke-dasharray:3,3;stroke-miterlimit:10;\" d=\"M 128.9375 96.351562 L 129.171875 58.550781 \"/>\n",
       "<path style=\"fill:none;stroke-width:0.75;stroke-linecap:round;stroke-linejoin:round;stroke:rgb(0%,50.196078%,100%);stroke-opacity:1;stroke-miterlimit:10;\" d=\"M 145.417969 106.839844 L 146.410156 106.351562 \"/>\n",
       "<path style=\"fill:none;stroke-width:0.75;stroke-linecap:round;stroke-linejoin:round;stroke:rgb(0%,50.196078%,100%);stroke-opacity:1;stroke-miterlimit:10;\" d=\"M 146.398438 106.886719 L 145.433594 106.304688 \"/>\n",
       "<path style=\"fill:none;stroke-width:0.75;stroke-linecap:round;stroke-linejoin:round;stroke:rgb(0%,50.196078%,100%);stroke-opacity:1;stroke-miterlimit:10;\" d=\"M 145.886719 107.175781 L 145.941406 106.015625 \"/>\n",
       "<path style=\"fill:none;stroke-width:0.75;stroke-linecap:round;stroke-linejoin:round;stroke:rgb(0%,50.196078%,100%);stroke-opacity:1;stroke-miterlimit:10;\" d=\"M 143.449219 107.175781 L 144.453125 106.683594 \"/>\n",
       "<path style=\"fill:none;stroke-width:0.75;stroke-linecap:round;stroke-linejoin:round;stroke:rgb(0%,50.196078%,100%);stroke-opacity:1;stroke-miterlimit:10;\" d=\"M 144.433594 107.222656 L 143.472656 106.636719 \"/>\n",
       "<path style=\"fill:none;stroke-width:0.75;stroke-linecap:round;stroke-linejoin:round;stroke:rgb(0%,50.196078%,100%);stroke-opacity:1;stroke-miterlimit:10;\" d=\"M 143.925781 107.507812 L 143.976562 106.347656 \"/>\n",
       "<path style=\"fill:none;stroke-width:0.75;stroke-linecap:round;stroke-linejoin:round;stroke:rgb(0%,50.196078%,100%);stroke-opacity:1;stroke-miterlimit:10;\" d=\"M 146.566406 101.253906 L 147.582031 100.773438 \"/>\n",
       "<path style=\"fill:none;stroke-width:0.75;stroke-linecap:round;stroke-linejoin:round;stroke:rgb(0%,50.196078%,100%);stroke-opacity:1;stroke-miterlimit:10;\" d=\"M 147.574219 101.300781 L 146.582031 100.726562 \"/>\n",
       "<path style=\"fill:none;stroke-width:0.75;stroke-linecap:round;stroke-linejoin:round;stroke:rgb(0%,50.196078%,100%);stroke-opacity:1;stroke-miterlimit:10;\" d=\"M 147.046875 101.613281 L 147.105469 100.410156 \"/>\n",
       "<path style=\"fill:none;stroke-width:0.75;stroke-linecap:round;stroke-linejoin:round;stroke:rgb(0%,50.196078%,100%);stroke-opacity:1;stroke-miterlimit:10;\" d=\"M 131.164062 105.40625 L 132.269531 104.890625 \"/>\n",
       "<path style=\"fill:none;stroke-width:0.75;stroke-linecap:round;stroke-linejoin:round;stroke:rgb(0%,50.196078%,100%);stroke-opacity:1;stroke-miterlimit:10;\" d=\"M 132.203125 105.453125 L 131.238281 104.839844 \"/>\n",
       "<path style=\"fill:none;stroke-width:0.75;stroke-linecap:round;stroke-linejoin:round;stroke:rgb(0%,50.196078%,100%);stroke-opacity:1;stroke-miterlimit:10;\" d=\"M 131.710938 105.765625 L 131.726562 104.527344 \"/>\n",
       "<path style=\"fill:none;stroke-width:0.75;stroke-linecap:round;stroke-linejoin:round;stroke:rgb(0%,50.196078%,100%);stroke-opacity:1;stroke-miterlimit:10;\" d=\"M 135.945312 103.597656 L 137.042969 103.085938 \"/>\n",
       "<path style=\"fill:none;stroke-width:0.75;stroke-linecap:round;stroke-linejoin:round;stroke:rgb(0%,50.196078%,100%);stroke-opacity:1;stroke-miterlimit:10;\" d=\"M 136.992188 103.648438 L 136 103.039062 \"/>\n",
       "<path style=\"fill:none;stroke-width:0.75;stroke-linecap:round;stroke-linejoin:round;stroke:rgb(0%,50.196078%,100%);stroke-opacity:1;stroke-miterlimit:10;\" d=\"M 136.480469 103.964844 L 136.511719 102.71875 \"/>\n",
       "<path style=\"fill:none;stroke-width:0.75;stroke-linecap:round;stroke-linejoin:round;stroke:rgb(0%,50.196078%,100%);stroke-opacity:1;stroke-miterlimit:10;\" d=\"M 132.214844 103.035156 L 133.335938 102.519531 \"/>\n",
       "<path style=\"fill:none;stroke-width:0.75;stroke-linecap:round;stroke-linejoin:round;stroke:rgb(0%,50.196078%,100%);stroke-opacity:1;stroke-miterlimit:10;\" d=\"M 133.269531 103.085938 L 132.285156 102.472656 \"/>\n",
       "<path style=\"fill:none;stroke-width:0.75;stroke-linecap:round;stroke-linejoin:round;stroke:rgb(0%,50.196078%,100%);stroke-opacity:1;stroke-miterlimit:10;\" d=\"M 132.765625 103.40625 L 132.785156 102.144531 \"/>\n",
       "<path style=\"fill:none;stroke-width:0.75;stroke-linecap:round;stroke-linejoin:round;stroke:rgb(0%,50.196078%,100%);stroke-opacity:1;stroke-miterlimit:10;\" d=\"M 130.605469 108.488281 L 131.738281 107.953125 \"/>\n",
       "<path style=\"fill:none;stroke-width:0.75;stroke-linecap:round;stroke-linejoin:round;stroke:rgb(0%,50.196078%,100%);stroke-opacity:1;stroke-miterlimit:10;\" d=\"M 131.664062 108.542969 L 130.679688 107.902344 \"/>\n",
       "<path style=\"fill:none;stroke-width:0.75;stroke-linecap:round;stroke-linejoin:round;stroke:rgb(0%,50.196078%,100%);stroke-opacity:1;stroke-miterlimit:10;\" d=\"M 131.164062 108.847656 L 131.179688 107.59375 \"/>\n",
       "<path style=\"fill:none;stroke-width:0.75;stroke-linecap:round;stroke-linejoin:round;stroke:rgb(0%,50.196078%,100%);stroke-opacity:1;stroke-miterlimit:10;\" d=\"M 132.96875 108.652344 L 134.097656 108.113281 \"/>\n",
       "<path style=\"fill:none;stroke-width:0.75;stroke-linecap:round;stroke-linejoin:round;stroke:rgb(0%,50.196078%,100%);stroke-opacity:1;stroke-miterlimit:10;\" d=\"M 134.035156 108.703125 L 133.035156 108.058594 \"/>\n",
       "<path style=\"fill:none;stroke-width:0.75;stroke-linecap:round;stroke-linejoin:round;stroke:rgb(0%,50.196078%,100%);stroke-opacity:1;stroke-miterlimit:10;\" d=\"M 133.523438 109.007812 L 133.542969 107.75 \"/>\n",
       "<path style=\"fill:none;stroke-width:0.75;stroke-linecap:round;stroke-linejoin:round;stroke:rgb(0%,50.196078%,100%);stroke-opacity:1;stroke-miterlimit:10;\" d=\"M 135.355469 100.59375 L 136.480469 100.082031 \"/>\n",
       "<path style=\"fill:none;stroke-width:0.75;stroke-linecap:round;stroke-linejoin:round;stroke:rgb(0%,50.196078%,100%);stroke-opacity:1;stroke-miterlimit:10;\" d=\"M 136.425781 100.640625 L 135.414062 100.03125 \"/>\n",
       "<path style=\"fill:none;stroke-width:0.75;stroke-linecap:round;stroke-linejoin:round;stroke:rgb(0%,50.196078%,100%);stroke-opacity:1;stroke-miterlimit:10;\" d=\"M 135.902344 100.980469 L 135.933594 99.691406 \"/>\n",
       "<path style=\"fill:none;stroke-width:0.75;stroke-linecap:round;stroke-linejoin:round;stroke:rgb(0%,50.196078%,100%);stroke-opacity:1;stroke-miterlimit:10;\" d=\"M 141.269531 114.476562 L 142.375 113.914062 \"/>\n",
       "<path style=\"fill:none;stroke-width:0.75;stroke-linecap:round;stroke-linejoin:round;stroke:rgb(0%,50.196078%,100%);stroke-opacity:1;stroke-miterlimit:10;\" d=\"M 142.34375 114.53125 L 141.304688 113.863281 \"/>\n",
       "<path style=\"fill:none;stroke-width:0.75;stroke-linecap:round;stroke-linejoin:round;stroke:rgb(0%,50.196078%,100%);stroke-opacity:1;stroke-miterlimit:10;\" d=\"M 141.796875 114.816406 L 141.847656 113.574219 \"/>\n",
       "<path style=\"fill:none;stroke-width:0.75;stroke-linecap:round;stroke-linejoin:round;stroke:rgb(0%,50.196078%,100%);stroke-opacity:1;stroke-miterlimit:10;\" d=\"M 137.253906 112.957031 L 138.382812 112.394531 \"/>\n",
       "<path style=\"fill:none;stroke-width:0.75;stroke-linecap:round;stroke-linejoin:round;stroke:rgb(0%,50.196078%,100%);stroke-opacity:1;stroke-miterlimit:10;\" d=\"M 138.335938 113.007812 L 137.308594 112.34375 \"/>\n",
       "<path style=\"fill:none;stroke-width:0.75;stroke-linecap:round;stroke-linejoin:round;stroke:rgb(0%,50.196078%,100%);stroke-opacity:1;stroke-miterlimit:10;\" d=\"M 137.800781 113.300781 L 137.839844 112.046875 \"/>\n",
       "<path style=\"fill:none;stroke-width:0.75;stroke-linecap:round;stroke-linejoin:round;stroke:rgb(0%,50.196078%,100%);stroke-opacity:1;stroke-miterlimit:10;\" d=\"M 131.757812 103.207031 L 132.90625 102.679688 \"/>\n",
       "<path style=\"fill:none;stroke-width:0.75;stroke-linecap:round;stroke-linejoin:round;stroke:rgb(0%,50.196078%,100%);stroke-opacity:1;stroke-miterlimit:10;\" d=\"M 132.839844 103.257812 L 131.832031 102.628906 \"/>\n",
       "<path style=\"fill:none;stroke-width:0.75;stroke-linecap:round;stroke-linejoin:round;stroke:rgb(0%,50.196078%,100%);stroke-opacity:1;stroke-miterlimit:10;\" d=\"M 132.324219 103.589844 L 132.34375 102.296875 \"/>\n",
       "<path style=\"fill:none;stroke-width:0.75;stroke-linecap:round;stroke-linejoin:round;stroke:rgb(0%,50.196078%,100%);stroke-opacity:1;stroke-miterlimit:10;\" d=\"M 142.136719 114.917969 L 143.269531 114.339844 \"/>\n",
       "<path style=\"fill:none;stroke-width:0.75;stroke-linecap:round;stroke-linejoin:round;stroke:rgb(0%,50.196078%,100%);stroke-opacity:1;stroke-miterlimit:10;\" d=\"M 143.242188 114.972656 L 142.167969 114.28125 \"/>\n",
       "<path style=\"fill:none;stroke-width:0.75;stroke-linecap:round;stroke-linejoin:round;stroke:rgb(0%,50.196078%,100%);stroke-opacity:1;stroke-miterlimit:10;\" d=\"M 142.679688 115.265625 L 142.730469 113.988281 \"/>\n",
       "<path style=\"fill:none;stroke-width:0.75;stroke-linecap:round;stroke-linejoin:round;stroke:rgb(0%,50.196078%,100%);stroke-opacity:1;stroke-miterlimit:10;\" d=\"M 138.898438 115.6875 L 140.0625 115.097656 \"/>\n",
       "<path style=\"fill:none;stroke-width:0.75;stroke-linecap:round;stroke-linejoin:round;stroke:rgb(0%,50.196078%,100%);stroke-opacity:1;stroke-miterlimit:10;\" d=\"M 140.023438 115.746094 L 138.945312 115.039062 \"/>\n",
       "<path style=\"fill:none;stroke-width:0.75;stroke-linecap:round;stroke-linejoin:round;stroke:rgb(0%,50.196078%,100%);stroke-opacity:1;stroke-miterlimit:10;\" d=\"M 139.460938 116.039062 L 139.503906 114.742188 \"/>\n",
       "<path style=\"fill:none;stroke-width:0.75;stroke-linecap:round;stroke-linejoin:round;stroke:rgb(0%,0%,0%);stroke-opacity:1;stroke-miterlimit:10;\" d=\"M 123.328125 133.007812 L 158.425781 114.148438 \"/>\n",
       "<path style=\"fill:none;stroke-width:0.75;stroke-linecap:round;stroke-linejoin:round;stroke:rgb(0%,0%,0%);stroke-opacity:1;stroke-miterlimit:10;\" d=\"M 158.425781 114.148438 L 161.828125 72.902344 \"/>\n",
       "<path style=\"fill:none;stroke-width:0.75;stroke-linecap:round;stroke-linejoin:round;stroke:rgb(0%,0%,0%);stroke-opacity:1;stroke-miterlimit:10;\" d=\"M 122.949219 88.496094 L 161.828125 72.902344 \"/>\n",
       "<path style=\"fill:none;stroke-width:0.75;stroke-linecap:round;stroke-linejoin:round;stroke:rgb(0%,0%,0%);stroke-opacity:1;stroke-miterlimit:10;\" d=\"M 123.328125 133.007812 L 122.949219 88.496094 \"/>\n",
       "<path style=\"fill:none;stroke-width:0.75;stroke-linecap:round;stroke-linejoin:round;stroke:rgb(0%,0%,0%);stroke-opacity:1;stroke-miterlimit:10;\" d=\"M 161.828125 72.902344 L 129.171875 58.550781 \"/>\n",
       "<path style=\"fill:none;stroke-width:0.75;stroke-linecap:round;stroke-linejoin:round;stroke:rgb(0%,0%,0%);stroke-opacity:1;stroke-miterlimit:10;\" d=\"M 122.949219 88.496094 L 91.875 70.328125 \"/>\n",
       "<path style=\"fill:none;stroke-width:0.75;stroke-linecap:round;stroke-linejoin:round;stroke:rgb(0%,0%,0%);stroke-opacity:1;stroke-miterlimit:10;\" d=\"M 123.328125 133.007812 L 95.136719 110.984375 \"/>\n",
       "<path style=\"fill:none;stroke-width:0.75;stroke-linecap:round;stroke-linejoin:round;stroke:rgb(0%,0%,0%);stroke-opacity:1;stroke-miterlimit:10;\" d=\"M 91.875 70.328125 L 129.171875 58.550781 \"/>\n",
       "<path style=\"fill:none;stroke-width:0.75;stroke-linecap:round;stroke-linejoin:round;stroke:rgb(0%,0%,0%);stroke-opacity:1;stroke-miterlimit:10;\" d=\"M 95.136719 110.984375 L 91.875 70.328125 \"/>\n",
       "<path style=\"fill:none;stroke-width:0.75;stroke-linecap:round;stroke-linejoin:round;stroke:rgb(0%,0%,0%);stroke-opacity:1;stroke-miterlimit:10;\" d=\"M 131.484375 132.667969 L 154.53125 119.992188 \"/>\n",
       "<path style=\"fill:none;stroke-width:0.75;stroke-linecap:round;stroke-linejoin:round;stroke:rgb(0%,0%,0%);stroke-opacity:1;stroke-miterlimit:10;\" d=\"M 153.429688 121.808594 L 154.53125 119.992188 L 152.40625 119.949219 \"/>\n",
       "<path style=\"fill:none;stroke-width:0.75;stroke-linecap:round;stroke-linejoin:round;stroke:rgb(0%,0%,0%);stroke-opacity:1;stroke-miterlimit:10;\" d=\"M 116.070312 131.800781 L 97.664062 117.042969 \"/>\n",
       "<path style=\"fill:none;stroke-width:0.75;stroke-linecap:round;stroke-linejoin:round;stroke:rgb(0%,0%,0%);stroke-opacity:1;stroke-miterlimit:10;\" d=\"M 99.761719 117.363281 L 97.664062 117.042969 L 98.433594 119.019531 \"/>\n",
       "<path style=\"fill:none;stroke-width:0.75;stroke-linecap:round;stroke-linejoin:round;stroke:rgb(0%,0%,0%);stroke-opacity:1;stroke-miterlimit:10;\" d=\"M 91.476562 104.472656 L 89.117188 77.695312 \"/>\n",
       "<path style=\"fill:none;stroke-width:0.75;stroke-linecap:round;stroke-linejoin:round;stroke:rgb(0%,0%,0%);stroke-opacity:1;stroke-miterlimit:10;\" d=\"M 90.335938 79.429688 L 89.117188 77.695312 L 88.222656 79.617188 \"/>\n",
       "<g style=\"fill:rgb(0%,0%,0%);fill-opacity:1;\">\n",
       "  <use xlink:href=\"#glyph1-1\" x=\"141.121094\" y=\"138.026367\"/>\n",
       "  <use xlink:href=\"#glyph1-2\" x=\"149.785156\" y=\"138.026367\"/>\n",
       "</g>\n",
       "<g style=\"fill:rgb(0%,0%,0%);fill-opacity:1;\">\n",
       "  <use xlink:href=\"#glyph1-3\" x=\"89.1875\" y=\"135.495117\"/>\n",
       "  <use xlink:href=\"#glyph1-4\" x=\"95.859375\" y=\"135.495117\"/>\n",
       "  <use xlink:href=\"#glyph1-5\" x=\"101.859375\" y=\"135.495117\"/>\n",
       "  <use xlink:href=\"#glyph1-6\" x=\"108.53125\" y=\"135.495117\"/>\n",
       "</g>\n",
       "<g clip-path=\"url(#clip9)\" clip-rule=\"nonzero\">\n",
       "<g style=\"fill:rgb(0%,0%,0%);fill-opacity:1;\">\n",
       "  <use xlink:href=\"#glyph1-7\" x=\"70.78125\" y=\"95.963867\"/>\n",
       "  <use xlink:href=\"#glyph1-8\" x=\"80.836914\" y=\"95.963867\"/>\n",
       "  <use xlink:href=\"#glyph1-9\" x=\"87.508789\" y=\"95.963867\"/>\n",
       "</g>\n",
       "</g>\n",
       "<path style=\"fill:none;stroke-width:0.75;stroke-linecap:round;stroke-linejoin:round;stroke:rgb(0%,0%,0%);stroke-opacity:1;stroke-miterlimit:10;\" d=\"M 73.898438 149.5 L 180 149.5 L 180 43.398438 L 73.898438 43.398438 Z M 73.898438 149.5 \"/>\n",
       "<g clip-path=\"url(#clip10)\" clip-rule=\"nonzero\">\n",
       "<path style=\" stroke:none;fill-rule:nonzero;fill:rgb(100%,89.803922%,80%);fill-opacity:1;\" d=\"M 73.898438 43.398438 L 180 43.398438 L 180 29 L 73.898438 29 Z M 73.898438 43.398438 \"/>\n",
       "</g>\n",
       "<g clip-path=\"url(#clip11)\" clip-rule=\"nonzero\">\n",
       "<path style=\"fill:none;stroke-width:0.75;stroke-linecap:round;stroke-linejoin:round;stroke:rgb(100%,89.803922%,80%);stroke-opacity:1;stroke-miterlimit:10;\" d=\"M 73.898438 43.398438 L 180 43.398438 L 180 29 L 73.898438 29 Z M 73.898438 43.398438 \"/>\n",
       "</g>\n",
       "<g style=\"fill:rgb(0%,0%,0%);fill-opacity:1;\">\n",
       "  <use xlink:href=\"#glyph1-14\" x=\"115.949219\" y=\"40.975586\"/>\n",
       "  <use xlink:href=\"#glyph1-6\" x=\"122.621094\" y=\"40.975586\"/>\n",
       "  <use xlink:href=\"#glyph1-11\" x=\"128.621094\" y=\"40.975586\"/>\n",
       "  <use xlink:href=\"#glyph1-12\" x=\"134.561523\" y=\"40.975586\"/>\n",
       "</g>\n",
       "<path style=\"fill:none;stroke-width:0.75;stroke-linecap:round;stroke-linejoin:round;stroke:rgb(0%,0%,0%);stroke-opacity:1;stroke-miterlimit:10;\" d=\"M 73.898438 43.398438 L 180 43.398438 L 180 29 L 73.898438 29 Z M 73.898438 43.398438 \"/>\n",
       "</g>\n",
       "</svg>\n"
      ],
      "text/plain": [
       "plot without title"
      ]
     },
     "metadata": {
      "image/svg+xml": {
       "isolated": true
      }
     },
     "output_type": "display_data"
    }
   ],
   "source": [
    "# Llamamos la función *cloud()* para crear un 3d scatterplot por cada nivel de factores\n",
    "cloud(mpg~wt*qsec|cyl.f, main=\"3D Scatterplot by Cylinders\")"
   ]
  },
  {
   "cell_type": "code",
   "execution_count": null,
   "metadata": {
    "collapsed": false,
    "scrolled": true,
    "slideshow": {
     "slide_type": "slide"
    }
   },
   "outputs": [],
   "source": []
  },
  {
   "cell_type": "code",
   "execution_count": 22,
   "metadata": {
    "collapsed": false,
    "slideshow": {
     "slide_type": "slide"
    }
   },
   "outputs": [
    {
     "data": {
      "image/png": "[encoded data removed]",
      "image/svg+xml": [
       "<?xml version=\"1.0\" encoding=\"UTF-8\"?>\n",
       "<svg xmlns=\"http://www.w3.org/2000/svg\" xmlns:xlink=\"http://www.w3.org/1999/xlink\" width=\"360pt\" height=\"252pt\" viewBox=\"0 0 360 252\" version=\"1.1\">\n",
       "<defs>\n",
       "<g>\n",
       "<symbol overflow=\"visible\" id=\"glyph0-0\">\n",
       "<path style=\"stroke:none;\" d=\"\"/>\n",
       "</symbol>\n",
       "<symbol overflow=\"visible\" id=\"glyph0-1\">\n",
       "<path style=\"stroke:none;\" d=\"M 2.859375 -2.421875 L 2.859375 -3.25 L 0.296875 -3.25 L 0.296875 -2.296875 L 2.859375 -2.296875 Z M 2.859375 -2.421875 \"/>\n",
       "</symbol>\n",
       "<symbol overflow=\"visible\" id=\"glyph0-2\">\n",
       "<path style=\"stroke:none;\" d=\"M 5 -3.390625 C 5 -5.75 4.109375 -7.0625 2.640625 -7.0625 C 1.171875 -7.0625 0.265625 -5.734375 0.265625 -3.453125 C 0.265625 -1.15625 1.1875 0.140625 2.640625 0.140625 C 4.078125 0.140625 5 -1.15625 5 -3.390625 Z M 3.859375 -3.46875 C 3.859375 -1.546875 3.5625 -0.8125 2.625 -0.8125 C 1.734375 -0.8125 1.40625 -1.578125 1.40625 -3.4375 C 1.40625 -5.3125 1.734375 -6.046875 2.640625 -6.046875 C 3.546875 -6.046875 3.859375 -5.296875 3.859375 -3.46875 Z M 3.859375 -3.46875 \"/>\n",
       "</symbol>\n",
       "<symbol overflow=\"visible\" id=\"glyph0-3\">\n",
       "<path style=\"stroke:none;\" d=\"M 1.96875 -0.125 L 1.96875 -1.25 L 0.6875 -1.25 L 0.6875 0 L 1.96875 0 Z M 1.96875 -0.125 \"/>\n",
       "</symbol>\n",
       "<symbol overflow=\"visible\" id=\"glyph0-4\">\n",
       "<path style=\"stroke:none;\" d=\"M 5.125 -1.75 L 5.125 -2.640625 L 4.109375 -2.640625 L 4.109375 -7.0625 L 3.28125 -7.0625 L 0.125 -2.6875 L 0.125 -1.625 L 3 -1.625 L 3 0 L 4.109375 0 L 4.109375 -1.625 L 5.125 -1.625 Z M 3.140625 -2.640625 L 1.25 -2.640625 L 3.234375 -5.40625 L 3 -5.484375 L 3 -2.640625 Z M 3.140625 -2.640625 \"/>\n",
       "</symbol>\n",
       "<symbol overflow=\"visible\" id=\"glyph0-5\">\n",
       "<path style=\"stroke:none;\" d=\"M 5.03125 -4.9375 C 5.03125 -6.078125 4.015625 -7.0625 2.71875 -7.0625 C 1.328125 -7.0625 0.390625 -6.21875 0.328125 -4.4375 L 1.453125 -4.4375 C 1.53125 -5.703125 1.859375 -6.0625 2.703125 -6.0625 C 3.46875 -6.0625 3.890625 -5.640625 3.890625 -4.90625 C 3.890625 -4.375 3.609375 -4.015625 3.015625 -3.671875 L 2.125 -3.171875 C 0.703125 -2.359375 0.265625 -1.625 0.171875 0 L 4.984375 0 L 4.984375 -1.09375 L 1.421875 -1.09375 C 1.5 -1.515625 1.765625 -1.78125 2.59375 -2.28125 L 3.5625 -2.796875 C 4.515625 -3.296875 5.03125 -4.09375 5.03125 -4.9375 Z M 5.03125 -4.9375 \"/>\n",
       "</symbol>\n",
       "<symbol overflow=\"visible\" id=\"glyph0-6\">\n",
       "<path style=\"stroke:none;\" d=\"M 4.984375 -2.09375 C 4.984375 -2.921875 4.515625 -3.546875 3.703125 -3.8125 L 3.703125 -3.5625 C 4.34375 -3.8125 4.78125 -4.375 4.78125 -5.0625 C 4.78125 -6.21875 3.875 -7.0625 2.578125 -7.0625 C 1.203125 -7.0625 0.328125 -6.1875 0.3125 -4.609375 L 1.421875 -4.609375 C 1.453125 -5.734375 1.734375 -6.0625 2.59375 -6.0625 C 3.34375 -6.0625 3.640625 -5.75 3.640625 -5.03125 C 3.640625 -4.296875 3.46875 -4.140625 1.96875 -4.140625 L 1.96875 -3.171875 L 2.578125 -3.171875 C 3.515625 -3.171875 3.84375 -2.84375 3.84375 -2.09375 C 3.84375 -1.234375 3.46875 -0.859375 2.578125 -0.859375 C 1.65625 -0.859375 1.34375 -1.1875 1.28125 -2.3125 L 0.15625 -2.3125 C 0.265625 -0.65625 1.15625 0.140625 2.546875 0.140625 C 3.953125 0.140625 4.984375 -0.8125 4.984375 -2.09375 Z M 4.984375 -2.09375 \"/>\n",
       "</symbol>\n",
       "<symbol overflow=\"visible\" id=\"glyph0-7\">\n",
       "<path style=\"stroke:none;\" d=\"M 5.0625 -2.234375 C 5.0625 -3.5 4.0625 -4.484375 2.84375 -4.484375 C 2.171875 -4.484375 1.53125 -4.1875 1.171875 -3.6875 L 1.40625 -3.59375 C 1.421875 -5.25 1.828125 -6.046875 2.796875 -6.046875 C 3.390625 -6.046875 3.65625 -5.796875 3.8125 -5.03125 L 4.9375 -5.03125 C 4.75 -6.265625 3.890625 -7.0625 2.84375 -7.0625 C 1.265625 -7.0625 0.265625 -5.59375 0.265625 -3.21875 C 0.265625 -1.109375 1.140625 0.140625 2.703125 0.140625 C 3.984375 0.140625 5.0625 -0.90625 5.0625 -2.234375 Z M 3.921875 -2.171875 C 3.921875 -1.3125 3.484375 -0.859375 2.703125 -0.859375 C 1.921875 -0.859375 1.453125 -1.34375 1.453125 -2.21875 C 1.453125 -3.0625 1.90625 -3.484375 2.734375 -3.484375 C 3.546875 -3.484375 3.921875 -3.078125 3.921875 -2.171875 Z M 3.921875 -2.171875 \"/>\n",
       "</symbol>\n",
       "<symbol overflow=\"visible\" id=\"glyph0-8\">\n",
       "<path style=\"stroke:none;\" d=\"M 5.015625 -3.6875 C 5.015625 -5.8125 4.140625 -7.0625 2.59375 -7.0625 C 1.296875 -7.0625 0.21875 -6 0.21875 -4.671875 C 0.21875 -3.40625 1.234375 -2.421875 2.453125 -2.421875 C 3.09375 -2.421875 3.671875 -2.703125 4.109375 -3.21875 L 3.859375 -3.3125 C 3.859375 -1.65625 3.46875 -0.859375 2.5 -0.859375 C 1.90625 -0.859375 1.625 -1.109375 1.453125 -1.890625 L 0.34375 -1.890625 C 0.53125 -0.640625 1.40625 0.140625 2.4375 0.140625 C 4.03125 0.140625 5.015625 -1.328125 5.015625 -3.6875 Z M 3.8125 -4.6875 C 3.8125 -3.859375 3.375 -3.4375 2.546875 -3.4375 C 1.734375 -3.4375 1.359375 -3.828125 1.359375 -4.734375 C 1.359375 -5.609375 1.796875 -6.0625 2.578125 -6.0625 C 3.375 -6.0625 3.8125 -5.578125 3.8125 -4.6875 Z M 3.8125 -4.6875 \"/>\n",
       "</symbol>\n",
       "<symbol overflow=\"visible\" id=\"glyph1-0\">\n",
       "<path style=\"stroke:none;\" d=\"\"/>\n",
       "</symbol>\n",
       "<symbol overflow=\"visible\" id=\"glyph1-1\">\n",
       "<path style=\"stroke:none;\" d=\"M 5.765625 -0.234375 L 3.65625 -3.390625 L 5.875 -6.546875 L 4.421875 -6.546875 L 2.96875 -4.375 L 1.53125 -6.546875 L 0.0625 -6.546875 L 2.25 -3.34375 L -0.0625 0 L 1.40625 0 L 2.921875 -2.296875 L 4.4375 0 L 5.921875 0 Z M 5.765625 -0.234375 \"/>\n",
       "</symbol>\n",
       "<symbol overflow=\"visible\" id=\"glyph2-0\">\n",
       "<path style=\"stroke:none;\" d=\"\"/>\n",
       "</symbol>\n",
       "<symbol overflow=\"visible\" id=\"glyph2-1\">\n",
       "<path style=\"stroke:none;\" d=\"M -5.609375 -3.234375 L -6.546875 -3.234375 L -6.546875 -2.1875 L -7.40625 -2.1875 C -7.828125 -2.1875 -7.90625 -2.296875 -7.90625 -2.75 C -7.90625 -2.828125 -7.90625 -2.875 -7.890625 -3.234375 L -8.96875 -3.234375 C -9.03125 -2.875 -9.046875 -2.734375 -9.046875 -2.53125 C -9.046875 -1.609375 -8.390625 -0.90625 -7.484375 -0.90625 L -6.546875 -0.90625 L -6.546875 -0.078125 L -5.46875 -0.078125 L -5.46875 -0.90625 L 0 -0.90625 L 0 -2.1875 L -5.46875 -2.1875 L -5.46875 -3.234375 Z M -5.609375 -3.234375 \"/>\n",
       "</symbol>\n",
       "<symbol overflow=\"visible\" id=\"glyph2-2\">\n",
       "<path style=\"stroke:none;\" d=\"M -0.234375 -5.765625 L -3.390625 -3.65625 L -6.546875 -5.875 L -6.546875 -4.421875 L -4.375 -2.96875 L -6.546875 -1.53125 L -6.546875 -0.0625 L -3.34375 -2.25 L 0 0.0625 L 0 -1.40625 L -2.296875 -2.921875 L 0 -4.4375 L 0 -5.921875 Z M -0.234375 -5.765625 \"/>\n",
       "</symbol>\n",
       "<symbol overflow=\"visible\" id=\"glyph2-3\">\n",
       "<path style=\"stroke:none;\" d=\"M -3.8125 -6.328125 L -4.765625 -6.328125 L -4.765625 -0.671875 L -3.6875 -0.671875 L -3.6875 -6.328125 Z M -1.625 -6.328125 L -2.578125 -6.328125 L -2.578125 -0.671875 L -1.5 -0.671875 L -1.5 -6.328125 Z M -1.625 -6.328125 \"/>\n",
       "</symbol>\n",
       "<symbol overflow=\"visible\" id=\"glyph2-4\">\n",
       "<path style=\"stroke:none;\" d=\"M -2.984375 -6.28125 C -3.90625 -6.28125 -4.46875 -6.21875 -4.9375 -6.03125 C -5.96875 -5.625 -6.734375 -4.53125 -6.734375 -3.359375 C -6.734375 -1.609375 -5.296875 -0.34375 -3.234375 -0.34375 C -1.171875 -0.34375 0.1875 -1.578125 0.1875 -3.34375 C 0.1875 -4.78125 -0.765625 -5.90625 -2.171875 -6.1875 L -2.171875 -4.921875 C -1.21875 -4.59375 -1.015625 -4.171875 -1.015625 -3.375 C -1.015625 -2.328125 -1.546875 -1.6875 -2.859375 -1.65625 L -2.859375 -6.28125 Z M -3.78125 -5.1875 C -3.78125 -5.1875 -3.921875 -4.984375 -3.9375 -4.984375 L -3.9375 -1.6875 C -4.921875 -1.765625 -5.546875 -2.34375 -5.546875 -3.34375 C -5.546875 -4.328125 -4.859375 -4.9375 -3.875 -4.9375 Z M -3.78125 -5.1875 \"/>\n",
       "</symbol>\n",
       "<symbol overflow=\"visible\" id=\"glyph2-5\">\n",
       "<path style=\"stroke:none;\" d=\"M -1.890625 -5.640625 C -2.828125 -5.640625 -3.4375 -4.984375 -3.734375 -3.734375 L -3.953125 -2.765625 C -4.15625 -1.953125 -4.28125 -1.734375 -4.734375 -1.734375 C -5.296875 -1.734375 -5.546875 -2.125 -5.546875 -2.9375 C -5.546875 -3.75 -5.328125 -4.03125 -4.53125 -4.0625 L -4.53125 -5.390625 C -5.90625 -5.375 -6.734375 -4.421875 -6.734375 -2.96875 C -6.734375 -1.515625 -5.84375 -0.421875 -4.6875 -0.421875 C -3.703125 -0.421875 -3.09375 -1.0625 -2.734375 -2.5625 L -2.515625 -3.484375 C -2.34375 -4.1875 -2.265625 -4.3125 -1.8125 -4.3125 C -1.21875 -4.3125 -1.015625 -3.875 -1.015625 -3 C -1.015625 -2.09375 -1.09375 -1.734375 -2.1875 -1.578125 L -2.1875 -0.265625 C -0.59375 -0.3125 0.1875 -1.265625 0.1875 -2.921875 C 0.1875 -4.5 -0.6875 -5.640625 -1.890625 -5.640625 Z M -1.890625 -5.640625 \"/>\n",
       "</symbol>\n",
       "<symbol overflow=\"visible\" id=\"glyph2-6\">\n",
       "<path style=\"stroke:none;\" d=\"M -0.125 -1.96875 L -6.546875 -1.96875 L -6.546875 -0.703125 L 0 -0.703125 L 0 -1.96875 Z M -7.375 -2.09375 L -8.75 -2.09375 L -8.75 -0.578125 L -7.234375 -0.578125 L -7.234375 -2.09375 Z M -7.375 -2.09375 \"/>\n",
       "</symbol>\n",
       "<symbol overflow=\"visible\" id=\"glyph2-7\">\n",
       "<path style=\"stroke:none;\" d=\"M -0.125 -5.96875 L -4.890625 -5.96875 C -5.921875 -5.96875 -6.734375 -5.0625 -6.734375 -3.859375 C -6.734375 -2.921875 -6.34375 -2.203125 -5.453125 -1.65625 L -5.359375 -1.890625 L -6.546875 -1.890625 L -6.546875 -0.703125 L 0 -0.703125 L 0 -1.96875 L -3.59375 -1.96875 C -4.890625 -1.96875 -5.59375 -2.53125 -5.59375 -3.546875 C -5.59375 -4.34375 -5.25 -4.703125 -4.484375 -4.703125 L 0 -4.703125 L 0 -5.96875 Z M -0.125 -5.96875 \"/>\n",
       "</symbol>\n",
       "<symbol overflow=\"visible\" id=\"glyph2-8\">\n",
       "<path style=\"stroke:none;\" d=\"M -6.140625 -6.265625 C -7.578125 -6.265625 -8.765625 -5.015625 -8.765625 -3.40625 C -8.765625 -1.671875 -7.75 -0.515625 -5.5625 -0.453125 L -5.5625 -1.78125 C -7.109375 -1.875 -7.578125 -2.328125 -7.578125 -3.375 C -7.578125 -4.328125 -7.03125 -4.90625 -6.125 -4.90625 C -5.453125 -4.90625 -4.96875 -4.546875 -4.53125 -3.796875 L -3.90625 -2.6875 C -2.90625 -0.90625 -2 -0.359375 0 -0.25 L 0 -6.203125 L -1.3125 -6.203125 L -1.3125 -1.75 C -1.875 -1.84375 -2.21875 -2.1875 -2.828125 -3.234375 L -3.484375 -4.421875 C -4.109375 -5.609375 -5.09375 -6.265625 -6.140625 -6.265625 Z M -6.140625 -6.265625 \"/>\n",
       "</symbol>\n",
       "<symbol overflow=\"visible\" id=\"glyph2-9\">\n",
       "<path style=\"stroke:none;\" d=\"M -2.609375 -6.203125 C -3.640625 -6.203125 -4.375 -5.65625 -4.71875 -4.625 L -4.453125 -4.625 C -4.765625 -5.421875 -5.453125 -5.953125 -6.296875 -5.953125 C -7.765625 -5.953125 -8.765625 -4.84375 -8.765625 -3.234375 C -8.765625 -1.515625 -7.703125 -0.453125 -5.765625 -0.421875 L -5.765625 -1.75 C -7.15625 -1.78125 -7.578125 -2.15625 -7.578125 -3.234375 C -7.578125 -4.171875 -7.15625 -4.59375 -6.265625 -4.59375 C -5.359375 -4.59375 -5.109375 -4.34375 -5.109375 -2.515625 L -3.953125 -2.515625 L -3.953125 -3.234375 C -3.953125 -4.390625 -3.546875 -4.84375 -2.59375 -4.84375 C -1.53125 -4.84375 -1.015625 -4.328125 -1.015625 -3.234375 C -1.015625 -2.078125 -1.46875 -1.640625 -2.828125 -1.5625 L -2.828125 -0.234375 C -0.796875 -0.375 0.1875 -1.453125 0.1875 -3.1875 C 0.1875 -4.9375 -1 -6.203125 -2.609375 -6.203125 Z M -2.609375 -6.203125 \"/>\n",
       "</symbol>\n",
       "<symbol overflow=\"visible\" id=\"glyph3-0\">\n",
       "<path style=\"stroke:none;\" d=\"\"/>\n",
       "</symbol>\n",
       "<symbol overflow=\"visible\" id=\"glyph3-1\">\n",
       "<path style=\"stroke:none;\" d=\"M 2.328125 -4.5 C 1.984375 -3.984375 1.75 -3.75 1.359375 -3.453125 C 0.28125 -2.640625 -1.59375 -2.171875 -3.8125 -2.171875 C -5.828125 -2.171875 -7.640625 -2.5625 -8.71875 -3.25 C -9.21875 -3.578125 -9.515625 -3.875 -9.9375 -4.5 L -10.203125 -4.3125 C -9.84375 -3.609375 -9.625 -3.3125 -9.265625 -2.921875 C -8.03125 -1.578125 -6 -0.796875 -3.8125 -0.796875 C -1.75 -0.796875 0.140625 -1.46875 1.390625 -2.6875 C 1.890625 -3.140625 2.140625 -3.5 2.578125 -4.3125 Z M 2.328125 -4.5 \"/>\n",
       "</symbol>\n",
       "<symbol overflow=\"visible\" id=\"glyph3-2\">\n",
       "<path style=\"stroke:none;\" d=\"M 2.578125 -0.640625 C 2.203125 -1.328125 2.015625 -1.640625 1.65625 -2.03125 C 0.40625 -3.359375 -1.625 -4.15625 -3.8125 -4.15625 C -5.859375 -4.15625 -7.75 -3.46875 -9.03125 -2.265625 C -9.515625 -1.8125 -9.78125 -1.453125 -10.203125 -0.640625 L -9.9375 -0.453125 C -9.578125 -0.96875 -9.375 -1.203125 -8.984375 -1.5 C -7.90625 -2.3125 -6.03125 -2.78125 -3.8125 -2.78125 C -1.78125 -2.78125 0 -2.390625 1.078125 -1.6875 C 1.609375 -1.34375 1.90625 -1.0625 2.328125 -0.453125 Z M 2.578125 -0.640625 \"/>\n",
       "</symbol>\n",
       "<symbol overflow=\"visible\" id=\"glyph4-0\">\n",
       "<path style=\"stroke:none;\" d=\"\"/>\n",
       "</symbol>\n",
       "<symbol overflow=\"visible\" id=\"glyph4-1\">\n",
       "<path style=\"stroke:none;\" d=\"M -2.46875 -0.09375 L -2.015625 -0.09375 L -2.015625 -4.5 L -2.46875 -4.5 Z M -2.46875 -0.09375 \"/>\n",
       "</symbol>\n",
       "<symbol overflow=\"visible\" id=\"glyph5-0\">\n",
       "<path style=\"stroke:none;\" d=\"\"/>\n",
       "</symbol>\n",
       "<symbol overflow=\"visible\" id=\"glyph5-1\">\n",
       "<path style=\"stroke:none;\" d=\"M -0.265625 -4.09375 L -2.421875 -2.640625 L -4.71875 -4.25 L -4.71875 -3.046875 L -3.265625 -2.078125 L -4.71875 -1.125 L -4.71875 0.078125 L -2.40625 -1.5 L 0 0.171875 L 0 -1.03125 L -1.546875 -2.046875 L 0 -3.0625 L 0 -4.28125 Z M -0.265625 -4.09375 \"/>\n",
       "</symbol>\n",
       "<symbol overflow=\"visible\" id=\"glyph6-0\">\n",
       "<path style=\"stroke:none;\" d=\"\"/>\n",
       "</symbol>\n",
       "<symbol overflow=\"visible\" id=\"glyph6-1\">\n",
       "<path style=\"stroke:none;\" d=\"M -6.390625 -3.625 L -6.390625 -2.96875 L -3.53125 -2.96875 L -3.53125 -0.125 L -2.875 -0.125 L -2.875 -2.96875 L 0 -2.96875 L 0 -3.625 L -2.875 -3.625 L -2.875 -6.46875 L -3.53125 -6.46875 L -3.53125 -3.625 Z M -6.390625 -3.625 \"/>\n",
       "</symbol>\n",
       "</g>\n",
       "<clipPath id=\"clip1\">\n",
       "  <path d=\"M 50.179688 5.976562 L 355 5.976562 L 355 216 L 50.179688 216 Z M 50.179688 5.976562 \"/>\n",
       "</clipPath>\n",
       "<clipPath id=\"clip2\">\n",
       "  <path d=\"M 50.179688 212 L 355 212 L 355 213 L 50.179688 213 Z M 50.179688 212 \"/>\n",
       "</clipPath>\n",
       "<clipPath id=\"clip3\">\n",
       "  <path d=\"M 50.179688 151 L 355 151 L 355 152 L 50.179688 152 Z M 50.179688 151 \"/>\n",
       "</clipPath>\n",
       "<clipPath id=\"clip4\">\n",
       "  <path d=\"M 50.179688 89 L 355 89 L 355 90 L 50.179688 90 Z M 50.179688 89 \"/>\n",
       "</clipPath>\n",
       "<clipPath id=\"clip5\">\n",
       "  <path d=\"M 50.179688 28 L 355 28 L 355 29 L 50.179688 29 Z M 50.179688 28 \"/>\n",
       "</clipPath>\n",
       "<clipPath id=\"clip6\">\n",
       "  <path d=\"M 101 5.976562 L 102 5.976562 L 102 216 L 101 216 Z M 101 5.976562 \"/>\n",
       "</clipPath>\n",
       "<clipPath id=\"clip7\">\n",
       "  <path d=\"M 176 5.976562 L 178 5.976562 L 178 216 L 176 216 Z M 176 5.976562 \"/>\n",
       "</clipPath>\n",
       "<clipPath id=\"clip8\">\n",
       "  <path d=\"M 252 5.976562 L 253 5.976562 L 253 216 L 252 216 Z M 252 5.976562 \"/>\n",
       "</clipPath>\n",
       "<clipPath id=\"clip9\">\n",
       "  <path d=\"M 327 5.976562 L 328 5.976562 L 328 216 L 327 216 Z M 327 5.976562 \"/>\n",
       "</clipPath>\n",
       "<clipPath id=\"clip10\">\n",
       "  <path d=\"M 50.179688 182 L 355 182 L 355 183 L 50.179688 183 Z M 50.179688 182 \"/>\n",
       "</clipPath>\n",
       "<clipPath id=\"clip11\">\n",
       "  <path d=\"M 50.179688 120 L 355 120 L 355 121 L 50.179688 121 Z M 50.179688 120 \"/>\n",
       "</clipPath>\n",
       "<clipPath id=\"clip12\">\n",
       "  <path d=\"M 50.179688 58 L 355 58 L 355 59 L 50.179688 59 Z M 50.179688 58 \"/>\n",
       "</clipPath>\n",
       "<clipPath id=\"clip13\">\n",
       "  <path d=\"M 63 5.976562 L 65 5.976562 L 65 216 L 63 216 Z M 63 5.976562 \"/>\n",
       "</clipPath>\n",
       "<clipPath id=\"clip14\">\n",
       "  <path d=\"M 139 5.976562 L 140 5.976562 L 140 216 L 139 216 Z M 139 5.976562 \"/>\n",
       "</clipPath>\n",
       "<clipPath id=\"clip15\">\n",
       "  <path d=\"M 214 5.976562 L 215 5.976562 L 215 216 L 214 216 Z M 214 5.976562 \"/>\n",
       "</clipPath>\n",
       "<clipPath id=\"clip16\">\n",
       "  <path d=\"M 289 5.976562 L 291 5.976562 L 291 216 L 289 216 Z M 289 5.976562 \"/>\n",
       "</clipPath>\n",
       "<clipPath id=\"clip17\">\n",
       "  <path d=\"M 50.179688 5.976562 L 355 5.976562 L 355 216.46875 L 50.179688 216.46875 Z M 50.179688 5.976562 \"/>\n",
       "</clipPath>\n",
       "</defs>\n",
       "<g id=\"surface225\">\n",
       "<rect x=\"0\" y=\"0\" width=\"360\" height=\"252\" style=\"fill:rgb(100%,100%,100%);fill-opacity:1;stroke:none;\"/>\n",
       "<rect x=\"0\" y=\"0\" width=\"360\" height=\"252\" style=\"fill:rgb(100%,100%,100%);fill-opacity:1;stroke:none;\"/>\n",
       "<path style=\"fill:none;stroke-width:1.066978;stroke-linecap:round;stroke-linejoin:round;stroke:rgb(100%,100%,100%);stroke-opacity:1;stroke-miterlimit:10;\" d=\"M 0 252 L 360 252 L 360 0 L 0 0 Z M 0 252 \"/>\n",
       "<g clip-path=\"url(#clip1)\" clip-rule=\"nonzero\">\n",
       "<path style=\" stroke:none;fill-rule:nonzero;fill:rgb(100%,100%,100%);fill-opacity:1;\" d=\"M 50.179688 215.46875 L 354.023438 215.46875 L 354.023438 5.976562 L 50.179688 5.976562 Z M 50.179688 215.46875 \"/>\n",
       "</g>\n",
       "<g clip-path=\"url(#clip2)\" clip-rule=\"nonzero\">\n",
       "<path style=\"fill:none;stroke-width:0.0213396;stroke-linecap:butt;stroke-linejoin:round;stroke:rgb(0%,0%,0%);stroke-opacity:1;stroke-miterlimit:10;\" d=\"M 50.179688 212.851562 L 354.023438 212.851562 \"/>\n",
       "</g>\n",
       "<g clip-path=\"url(#clip3)\" clip-rule=\"nonzero\">\n",
       "<path style=\"fill:none;stroke-width:0.0213396;stroke-linecap:butt;stroke-linejoin:round;stroke:rgb(0%,0%,0%);stroke-opacity:1;stroke-miterlimit:10;\" d=\"M 50.179688 151.285156 L 354.023438 151.285156 \"/>\n",
       "</g>\n",
       "<g clip-path=\"url(#clip4)\" clip-rule=\"nonzero\">\n",
       "<path style=\"fill:none;stroke-width:0.0213396;stroke-linecap:butt;stroke-linejoin:round;stroke:rgb(0%,0%,0%);stroke-opacity:1;stroke-miterlimit:10;\" d=\"M 50.179688 89.722656 L 354.023438 89.722656 \"/>\n",
       "</g>\n",
       "<g clip-path=\"url(#clip5)\" clip-rule=\"nonzero\">\n",
       "<path style=\"fill:none;stroke-width:0.0213396;stroke-linecap:butt;stroke-linejoin:round;stroke:rgb(0%,0%,0%);stroke-opacity:1;stroke-miterlimit:10;\" d=\"M 50.179688 28.15625 L 354.023438 28.15625 \"/>\n",
       "</g>\n",
       "<g clip-path=\"url(#clip6)\" clip-rule=\"nonzero\">\n",
       "<path style=\"fill:none;stroke-width:0.0213396;stroke-linecap:butt;stroke-linejoin:round;stroke:rgb(0%,0%,0%);stroke-opacity:1;stroke-miterlimit:10;\" d=\"M 101.65625 215.46875 L 101.65625 5.976562 \"/>\n",
       "</g>\n",
       "<g clip-path=\"url(#clip7)\" clip-rule=\"nonzero\">\n",
       "<path style=\"fill:none;stroke-width:0.0213396;stroke-linecap:butt;stroke-linejoin:round;stroke:rgb(0%,0%,0%);stroke-opacity:1;stroke-miterlimit:10;\" d=\"M 176.992188 215.46875 L 176.992188 5.976562 \"/>\n",
       "</g>\n",
       "<g clip-path=\"url(#clip8)\" clip-rule=\"nonzero\">\n",
       "<path style=\"fill:none;stroke-width:0.0213396;stroke-linecap:butt;stroke-linejoin:round;stroke:rgb(0%,0%,0%);stroke-opacity:1;stroke-miterlimit:10;\" d=\"M 252.324219 215.46875 L 252.324219 5.976562 \"/>\n",
       "</g>\n",
       "<g clip-path=\"url(#clip9)\" clip-rule=\"nonzero\">\n",
       "<path style=\"fill:none;stroke-width:0.0213396;stroke-linecap:butt;stroke-linejoin:round;stroke:rgb(0%,0%,0%);stroke-opacity:1;stroke-miterlimit:10;\" d=\"M 327.65625 215.46875 L 327.65625 5.976562 \"/>\n",
       "</g>\n",
       "<g clip-path=\"url(#clip10)\" clip-rule=\"nonzero\">\n",
       "<path style=\"fill:none;stroke-width:0.106698;stroke-linecap:butt;stroke-linejoin:round;stroke:rgb(0%,0%,0%);stroke-opacity:1;stroke-miterlimit:10;\" d=\"M 50.179688 182.070312 L 354.023438 182.070312 \"/>\n",
       "</g>\n",
       "<g clip-path=\"url(#clip11)\" clip-rule=\"nonzero\">\n",
       "<path style=\"fill:none;stroke-width:0.106698;stroke-linecap:butt;stroke-linejoin:round;stroke:rgb(0%,0%,0%);stroke-opacity:1;stroke-miterlimit:10;\" d=\"M 50.179688 120.503906 L 354.023438 120.503906 \"/>\n",
       "</g>\n",
       "<g clip-path=\"url(#clip12)\" clip-rule=\"nonzero\">\n",
       "<path style=\"fill:none;stroke-width:0.106698;stroke-linecap:butt;stroke-linejoin:round;stroke:rgb(0%,0%,0%);stroke-opacity:1;stroke-miterlimit:10;\" d=\"M 50.179688 58.941406 L 354.023438 58.941406 \"/>\n",
       "</g>\n",
       "<g clip-path=\"url(#clip13)\" clip-rule=\"nonzero\">\n",
       "<path style=\"fill:none;stroke-width:0.106698;stroke-linecap:butt;stroke-linejoin:round;stroke:rgb(0%,0%,0%);stroke-opacity:1;stroke-miterlimit:10;\" d=\"M 63.992188 215.46875 L 63.992188 5.976562 \"/>\n",
       "</g>\n",
       "<g clip-path=\"url(#clip14)\" clip-rule=\"nonzero\">\n",
       "<path style=\"fill:none;stroke-width:0.106698;stroke-linecap:butt;stroke-linejoin:round;stroke:rgb(0%,0%,0%);stroke-opacity:1;stroke-miterlimit:10;\" d=\"M 139.324219 215.46875 L 139.324219 5.976562 \"/>\n",
       "</g>\n",
       "<g clip-path=\"url(#clip15)\" clip-rule=\"nonzero\">\n",
       "<path style=\"fill:none;stroke-width:0.106698;stroke-linecap:butt;stroke-linejoin:round;stroke:rgb(0%,0%,0%);stroke-opacity:1;stroke-miterlimit:10;\" d=\"M 214.65625 215.46875 L 214.65625 5.976562 \"/>\n",
       "</g>\n",
       "<g clip-path=\"url(#clip16)\" clip-rule=\"nonzero\">\n",
       "<path style=\"fill:none;stroke-width:0.106698;stroke-linecap:butt;stroke-linejoin:round;stroke:rgb(0%,0%,0%);stroke-opacity:1;stroke-miterlimit:10;\" d=\"M 289.988281 215.46875 L 289.988281 5.976562 \"/>\n",
       "</g>\n",
       "<path style=\"fill-rule:nonzero;fill:rgb(47.843137%,57.254902%,64.313725%);fill-opacity:0.301961;stroke-width:1.066978;stroke-linecap:round;stroke-linejoin:round;stroke:rgb(0%,0%,100%);stroke-opacity:0.301961;stroke-miterlimit:10;\" d=\"M 63.992188 15.5 L 66.753906 80.539062 L 69.515625 131.566406 L 72.277344 168.59375 L 75.039062 192.382812 L 77.800781 204.265625 L 80.566406 205.945312 L 83.328125 199.355469 L 86.089844 186.476562 L 88.851562 169.25 L 91.613281 149.464844 L 94.375 128.695312 L 97.136719 108.257812 L 99.898438 89.191406 L 102.664062 72.257812 L 105.425781 57.945312 L 108.1875 46.515625 L 110.949219 38.011719 L 113.710938 32.320312 L 116.472656 29.191406 L 119.234375 28.285156 L 121.996094 29.21875 L 124.761719 31.570312 L 127.523438 34.9375 L 130.285156 38.9375 L 133.046875 43.226562 L 135.808594 47.519531 L 138.570312 51.582031 L 141.332031 55.238281 L 144.09375 58.371094 L 146.859375 60.917969 L 149.621094 62.855469 L 152.382812 64.199219 L 155.144531 64.992188 L 157.90625 65.300781 L 160.667969 65.207031 L 163.429688 64.792969 L 166.191406 64.140625 L 168.953125 63.339844 L 171.71875 62.457031 L 174.480469 61.5625 L 177.242188 60.699219 L 180.003906 59.914062 L 182.765625 59.226562 L 185.527344 58.664062 L 188.289062 58.226562 L 191.050781 57.914062 L 193.816406 57.71875 L 196.578125 57.625 L 199.339844 57.625 L 202.101562 57.695312 L 204.863281 57.816406 L 207.625 57.976562 L 210.386719 58.15625 L 213.148438 58.34375 L 215.914062 58.527344 L 218.675781 58.695312 L 221.4375 58.84375 L 224.199219 58.96875 L 226.960938 59.066406 L 229.722656 59.136719 L 232.484375 59.183594 L 235.246094 59.210938 L 238.011719 59.214844 L 240.773438 59.203125 L 243.535156 59.179688 L 246.296875 59.148438 L 249.058594 59.113281 L 254.582031 59.035156 L 257.34375 59 L 260.109375 58.96875 L 262.871094 58.941406 L 265.632812 58.917969 L 268.394531 58.902344 L 271.15625 58.890625 L 276.679688 58.882812 L 279.441406 58.882812 L 282.207031 58.886719 L 298.777344 58.933594 L 301.539062 58.9375 L 304.304688 58.941406 L 309.828125 58.949219 L 312.589844 58.949219 L 315.351562 58.953125 L 318.113281 58.953125 L 320.875 58.949219 L 326.402344 58.949219 L 329.164062 58.945312 L 334.6875 58.945312 L 337.449219 58.941406 L 340.210938 58.941406 L 63.992188 58.941406 Z M 63.992188 15.5 \"/>\n",
       "<g clip-path=\"url(#clip17)\" clip-rule=\"nonzero\">\n",
       "<path style=\"fill:none;stroke-width:1.066978;stroke-linecap:round;stroke-linejoin:round;stroke:rgb(0%,0%,0%);stroke-opacity:1;stroke-miterlimit:10;\" d=\"M 50.179688 215.46875 L 354.023438 215.46875 L 354.023438 5.976562 L 50.179688 5.976562 Z M 50.179688 215.46875 \"/>\n",
       "</g>\n",
       "<g style=\"fill:rgb(0%,0%,0%);fill-opacity:1;\">\n",
       "  <use xlink:href=\"#glyph0-1\" x=\"27.800781\" y=\"185.089844\"/>\n",
       "  <use xlink:href=\"#glyph0-2\" x=\"30.995117\" y=\"185.089844\"/>\n",
       "  <use xlink:href=\"#glyph0-3\" x=\"36.329102\" y=\"185.089844\"/>\n",
       "  <use xlink:href=\"#glyph0-4\" x=\"38.996094\" y=\"185.089844\"/>\n",
       "</g>\n",
       "<g style=\"fill:rgb(0%,0%,0%);fill-opacity:1;\">\n",
       "  <use xlink:href=\"#glyph0-1\" x=\"27.800781\" y=\"123.523438\"/>\n",
       "  <use xlink:href=\"#glyph0-2\" x=\"30.995117\" y=\"123.523438\"/>\n",
       "  <use xlink:href=\"#glyph0-3\" x=\"36.329102\" y=\"123.523438\"/>\n",
       "  <use xlink:href=\"#glyph0-5\" x=\"38.996094\" y=\"123.523438\"/>\n",
       "</g>\n",
       "<g style=\"fill:rgb(0%,0%,0%);fill-opacity:1;\">\n",
       "  <use xlink:href=\"#glyph0-2\" x=\"30.800781\" y=\"61.960938\"/>\n",
       "  <use xlink:href=\"#glyph0-3\" x=\"36.134766\" y=\"61.960938\"/>\n",
       "  <use xlink:href=\"#glyph0-2\" x=\"38.801758\" y=\"61.960938\"/>\n",
       "</g>\n",
       "<path style=\"fill:none;stroke-width:0.533489;stroke-linecap:butt;stroke-linejoin:round;stroke:rgb(0%,0%,0%);stroke-opacity:1;stroke-miterlimit:10;\" d=\"M 47.191406 182.070312 L 50.179688 182.070312 \"/>\n",
       "<path style=\"fill:none;stroke-width:0.533489;stroke-linecap:butt;stroke-linejoin:round;stroke:rgb(0%,0%,0%);stroke-opacity:1;stroke-miterlimit:10;\" d=\"M 47.191406 120.503906 L 50.179688 120.503906 \"/>\n",
       "<path style=\"fill:none;stroke-width:0.533489;stroke-linecap:butt;stroke-linejoin:round;stroke:rgb(0%,0%,0%);stroke-opacity:1;stroke-miterlimit:10;\" d=\"M 47.191406 58.941406 L 50.179688 58.941406 \"/>\n",
       "<path style=\"fill:none;stroke-width:0.533489;stroke-linecap:butt;stroke-linejoin:round;stroke:rgb(0%,0%,0%);stroke-opacity:1;stroke-miterlimit:10;\" d=\"M 63.992188 218.457031 L 63.992188 215.46875 \"/>\n",
       "<path style=\"fill:none;stroke-width:0.533489;stroke-linecap:butt;stroke-linejoin:round;stroke:rgb(0%,0%,0%);stroke-opacity:1;stroke-miterlimit:10;\" d=\"M 139.324219 218.457031 L 139.324219 215.46875 \"/>\n",
       "<path style=\"fill:none;stroke-width:0.533489;stroke-linecap:butt;stroke-linejoin:round;stroke:rgb(0%,0%,0%);stroke-opacity:1;stroke-miterlimit:10;\" d=\"M 214.65625 218.457031 L 214.65625 215.46875 \"/>\n",
       "<path style=\"fill:none;stroke-width:0.533489;stroke-linecap:butt;stroke-linejoin:round;stroke:rgb(0%,0%,0%);stroke-opacity:1;stroke-miterlimit:10;\" d=\"M 289.988281 218.457031 L 289.988281 215.46875 \"/>\n",
       "<g style=\"fill:rgb(0%,0%,0%);fill-opacity:1;\">\n",
       "  <use xlink:href=\"#glyph0-2\" x=\"60.992188\" y=\"227.867188\"/>\n",
       "</g>\n",
       "<g style=\"fill:rgb(0%,0%,0%);fill-opacity:1;\">\n",
       "  <use xlink:href=\"#glyph0-6\" x=\"136.324219\" y=\"227.867188\"/>\n",
       "</g>\n",
       "<g style=\"fill:rgb(0%,0%,0%);fill-opacity:1;\">\n",
       "  <use xlink:href=\"#glyph0-7\" x=\"211.65625\" y=\"227.867188\"/>\n",
       "</g>\n",
       "<g style=\"fill:rgb(0%,0%,0%);fill-opacity:1;\">\n",
       "  <use xlink:href=\"#glyph0-8\" x=\"286.988281\" y=\"227.867188\"/>\n",
       "</g>\n",
       "<g style=\"fill:rgb(0%,0%,0%);fill-opacity:1;\">\n",
       "  <use xlink:href=\"#glyph1-1\" x=\"199.101562\" y=\"243.40918\"/>\n",
       "</g>\n",
       "<g style=\"fill:rgb(0%,0%,0%);fill-opacity:1;\">\n",
       "  <use xlink:href=\"#glyph2-1\" x=\"19.795898\" y=\"161.945312\"/>\n",
       "</g>\n",
       "<g style=\"fill:rgb(0%,0%,0%);fill-opacity:1;\">\n",
       "  <use xlink:href=\"#glyph3-1\" x=\"19.169922\" y=\"157.945312\"/>\n",
       "</g>\n",
       "<g style=\"fill:rgb(0%,0%,0%);fill-opacity:1;\">\n",
       "  <use xlink:href=\"#glyph2-2\" x=\"19.795898\" y=\"152.945312\"/>\n",
       "</g>\n",
       "<g style=\"fill:rgb(0%,0%,0%);fill-opacity:1;\">\n",
       "  <use xlink:href=\"#glyph3-2\" x=\"19.169922\" y=\"146.945312\"/>\n",
       "</g>\n",
       "<g style=\"fill:rgb(0%,0%,0%);fill-opacity:1;\">\n",
       "  <use xlink:href=\"#glyph2-3\" x=\"19.795898\" y=\"141.945312\"/>\n",
       "</g>\n",
       "<g style=\"fill:rgb(0%,0%,0%);fill-opacity:1;\">\n",
       "  <use xlink:href=\"#glyph2-4\" x=\"19.795898\" y=\"133.945312\"/>\n",
       "</g>\n",
       "<g style=\"fill:rgb(0%,0%,0%);fill-opacity:1;\">\n",
       "  <use xlink:href=\"#glyph4-1\" x=\"12.850586\" y=\"126.945312\"/>\n",
       "</g>\n",
       "<g style=\"fill:rgb(0%,0%,0%);fill-opacity:1;\">\n",
       "  <use xlink:href=\"#glyph5-1\" x=\"13.009766\" y=\"121.945312\"/>\n",
       "</g>\n",
       "<g style=\"fill:rgb(0%,0%,0%);fill-opacity:1;\">\n",
       "  <use xlink:href=\"#glyph2-5\" x=\"19.795898\" y=\"116.945312\"/>\n",
       "  <use xlink:href=\"#glyph2-6\" x=\"19.795898\" y=\"110.945312\"/>\n",
       "  <use xlink:href=\"#glyph2-7\" x=\"19.795898\" y=\"108.28125\"/>\n",
       "</g>\n",
       "<g style=\"fill:rgb(0%,0%,0%);fill-opacity:1;\">\n",
       "  <use xlink:href=\"#glyph3-1\" x=\"19.169922\" y=\"100.945312\"/>\n",
       "</g>\n",
       "<g style=\"fill:rgb(0%,0%,0%);fill-opacity:1;\">\n",
       "  <use xlink:href=\"#glyph2-8\" x=\"19.795898\" y=\"95.945312\"/>\n",
       "</g>\n",
       "<g style=\"fill:rgb(0%,0%,0%);fill-opacity:1;\">\n",
       "  <use xlink:href=\"#glyph2-2\" x=\"19.795898\" y=\"88.945312\"/>\n",
       "</g>\n",
       "<g style=\"fill:rgb(0%,0%,0%);fill-opacity:1;\">\n",
       "  <use xlink:href=\"#glyph6-1\" x=\"19.139648\" y=\"80.722656\"/>\n",
       "</g>\n",
       "<g style=\"fill:rgb(0%,0%,0%);fill-opacity:1;\">\n",
       "  <use xlink:href=\"#glyph2-9\" x=\"19.795898\" y=\"71.5\"/>\n",
       "</g>\n",
       "<g style=\"fill:rgb(0%,0%,0%);fill-opacity:1;\">\n",
       "  <use xlink:href=\"#glyph3-2\" x=\"19.169922\" y=\"64.5\"/>\n",
       "</g>\n",
       "</g>\n",
       "</svg>\n"
      ],
      "text/plain": [
       "plot without title"
      ]
     },
     "metadata": {
      "image/svg+xml": {
       "isolated": true
      }
     },
     "output_type": "display_data"
    }
   ],
   "source": [
    "options(repr.plot.width = 5) #Esto solo es para hacer más pequeñas las imágenes en el Notebook de Júpiter\n",
    "options(repr.plot.height = 3.5) #Esto solo es para hacer más pequeñas las imágenes en el Notebook de Júpiter\n",
    "\n",
    "# Gráficos con ggplot2\n",
    "\n",
    "library(ggplot2) # Con la función library() se cargan los paquetes adicionales\n",
    "library(ggthemes) #ggthemes es una librería complementaria a ggplot que tiene preformateados temas de gráficos\n",
    "\n",
    "# Crearemos el mismo gráfico obtenido con la función plot(), personalizando colores\n",
    "ggplot(data.frame(x=c(0, 11)), aes(x)) + \n",
    "    stat_function(fun=function(x) (exp(-x)*sin(2*x + 3)), aes(ymin=0,ymax=..y..),\n",
    "        geom = 'ribbon', fill = '#7a92a4', color = 'blue', alpha = 0.3) +\n",
    "    labs(x = 'x', y = expression(paste(f(x),'=', e^-x*sin(2*x + 3)))) + \n",
    "    theme_linedraw()"
   ]
  },
  {
   "cell_type": "markdown",
   "metadata": {
    "slideshow": {
     "slide_type": "slide"
    }
   },
   "source": [
    "## References\n",
    "\n",
    "- Wickham, H. (2014). Advanced R. CRC Press.\n",
    "- Kabacoff, R. I. (2014). Lattice Graphs. Quick-R accessing the power of R. On-line at http://www.statmethods.net/advgraphs/trellis.html. accessed: 2016-04-03"
   ]
  }
 ],
 "metadata": {
  "celltoolbar": "Slideshow",
  "kernelspec": {
   "display_name": "R",
   "language": "R",
   "name": "ir"
  },
  "language_info": {
   "codemirror_mode": "r",
   "file_extension": ".r",
   "mimetype": "text/x-r-source",
   "name": "R",
   "pygments_lexer": "r",
   "version": "3.2.5"
  }
 },
 "nbformat": 4,
 "nbformat_minor": 0
}
